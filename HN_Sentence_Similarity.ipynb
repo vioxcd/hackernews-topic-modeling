{
  "cells": [
    {
      "cell_type": "markdown",
      "metadata": {
        "id": "DGLunsQyxPPd"
      },
      "source": [
        "#### Setup"
      ]
    },
    {
      "cell_type": "markdown",
      "metadata": {
        "id": "UhZaCt0Up52G"
      },
      "source": [
        "##### Install Packages"
      ]
    },
    {
      "cell_type": "code",
      "execution_count": null,
      "metadata": {
        "colab": {
          "base_uri": "https://localhost:8080/"
        },
        "id": "ykDU3vOpriQy",
        "outputId": "a636fb4c-6420-4a6c-e58d-487475909360"
      },
      "outputs": [
        {
          "output_type": "stream",
          "name": "stdout",
          "text": [
            "  Installing build dependencies ... \u001b[?25l\u001b[?25hdone\n",
            "  Getting requirements to build wheel ... \u001b[?25l\u001b[?25hdone\n",
            "    Preparing wheel metadata ... \u001b[?25l\u001b[?25hdone\n",
            "  Building wheel for hdbscan (PEP 517) ... \u001b[?25l\u001b[?25hdone\n"
          ]
        }
      ],
      "source": [
        "!pip install --quiet -U git+https://github.com/scikit-learn-contrib/hdbscan.git@ccd8535d3db241398afa9299cd279c4cd85133f5"
      ]
    },
    {
      "cell_type": "code",
      "source": [
        "!pip install --quiet -U transformers==4.20.1"
      ],
      "metadata": {
        "colab": {
          "base_uri": "https://localhost:8080/"
        },
        "id": "LVdPe2aJSH2i",
        "outputId": "d2cb5fce-0459-4cb2-e7fc-8c01588d54a8"
      },
      "execution_count": null,
      "outputs": [
        {
          "output_type": "stream",
          "name": "stdout",
          "text": [
            "\u001b[K     |████████████████████████████████| 4.4 MB 24.0 MB/s \n",
            "\u001b[K     |████████████████████████████████| 6.6 MB 55.1 MB/s \n",
            "\u001b[K     |████████████████████████████████| 163 kB 73.6 MB/s \n",
            "\u001b[?25h"
          ]
        }
      ]
    },
    {
      "cell_type": "code",
      "execution_count": null,
      "metadata": {
        "colab": {
          "base_uri": "https://localhost:8080/"
        },
        "id": "WK0yh2m7oP5Y",
        "outputId": "dd2193b8-ebeb-4c76-cf75-f99c2f555c4b"
      },
      "outputs": [
        {
          "output_type": "stream",
          "name": "stdout",
          "text": [
            "\u001b[K     |████████████████████████████████| 90 kB 1.8 MB/s \n",
            "\u001b[K     |████████████████████████████████| 85 kB 4.1 MB/s \n",
            "\u001b[K     |████████████████████████████████| 636 kB 53.3 MB/s \n",
            "\u001b[K     |████████████████████████████████| 88 kB 6.8 MB/s \n",
            "\u001b[K     |████████████████████████████████| 1.3 MB 25.4 MB/s \n",
            "\u001b[K     |████████████████████████████████| 1.1 MB 54.8 MB/s \n",
            "\u001b[?25h  Building wheel for sentence-transformers (setup.py) ... \u001b[?25l\u001b[?25hdone\n",
            "  Building wheel for umap-learn (setup.py) ... \u001b[?25l\u001b[?25hdone\n",
            "  Building wheel for pynndescent (setup.py) ... \u001b[?25l\u001b[?25hdone\n"
          ]
        }
      ],
      "source": [
        "!pip install --upgrade --upgrade-strategy only-if-needed --quiet -U bertopic"
      ]
    },
    {
      "cell_type": "code",
      "source": [
        "!pip list | grep transformers"
      ],
      "metadata": {
        "colab": {
          "base_uri": "https://localhost:8080/"
        },
        "id": "ndvMPotdSlSP",
        "outputId": "0c4d2a4b-f826-44f1-9ce9-c3140862cd83"
      },
      "execution_count": null,
      "outputs": [
        {
          "output_type": "stream",
          "name": "stdout",
          "text": [
            "sentence-transformers         2.2.2\n",
            "transformers                  4.20.1\n"
          ]
        }
      ]
    },
    {
      "cell_type": "markdown",
      "metadata": {
        "id": "ZTYsF1gxSpIo"
      },
      "source": [
        "##### Imports"
      ]
    },
    {
      "cell_type": "code",
      "execution_count": null,
      "metadata": {
        "id": "rKr11xsRSrP0"
      },
      "outputs": [],
      "source": [
        "import os\n",
        "import re\n",
        "import time\n",
        "import json\n",
        "\n",
        "import numpy as np\n",
        "import pandas as pd\n",
        "import matplotlib.pyplot as plt\n",
        "import seaborn as sns"
      ]
    },
    {
      "cell_type": "code",
      "execution_count": null,
      "metadata": {
        "id": "MX9iaDyrQTjv",
        "colab": {
          "base_uri": "https://localhost:8080/"
        },
        "outputId": "1c16c912-8071-4fcf-ae6c-85b4ff011415"
      },
      "outputs": [
        {
          "output_type": "stream",
          "name": "stderr",
          "text": [
            "/usr/local/lib/python3.7/dist-packages/ipykernel_launcher.py:2: TqdmExperimentalWarning: Using `tqdm.autonotebook.tqdm` in notebook mode. Use `tqdm.tqdm` instead to force console mode (e.g. in jupyter console)\n",
            "  \n"
          ]
        }
      ],
      "source": [
        "# Progress bar for pandas\n",
        "from tqdm.autonotebook import tqdm\n",
        "tqdm.pandas()"
      ]
    },
    {
      "cell_type": "code",
      "execution_count": null,
      "metadata": {
        "id": "5_nwkJX-huwa"
      },
      "outputs": [],
      "source": [
        "# Interactive cell for pandas\n",
        "# https://youtu.be/rNgswRZ2C1Y\n",
        "from google.colab import data_table\n",
        "\n",
        "data_table.enable_dataframe_formatter()"
      ]
    },
    {
      "cell_type": "markdown",
      "metadata": {
        "id": "Dbex2Ht4mdYB"
      },
      "source": [
        "##### Download Full Dataset"
      ]
    },
    {
      "cell_type": "code",
      "source": [
        "# !gdown https://drive.google.com/uc?id=1pXY7Tp6hArE6j7C0M7E-OXUXAkzevotG\n",
        "import gdown\n",
        "gdown.download_folder(id=\"1pXY7Tp6hArE6j7C0M7E-OXUXAkzevotG\", quiet=True, use_cookies=False)"
      ],
      "metadata": {
        "colab": {
          "base_uri": "https://localhost:8080/"
        },
        "id": "0QgzzOtvx8kJ",
        "outputId": "e8d28aae-ece5-4713-b965-eff8b46656eb"
      },
      "execution_count": 1,
      "outputs": [
        {
          "output_type": "execute_result",
          "data": {
            "text/plain": [
              "['/content/hackernews/hackernews-2019-2022-sessions.csv',\n",
              " '/content/hackernews/hackernews-data-from-phone.json',\n",
              " '/content/hackernews/hackernews-since-20221016.json',\n",
              " '/content/hackernews/hackernews-stories-since-2018.csv',\n",
              " '/content/hackernews/hackernews-stories-since-2022-10-14.csv',\n",
              " '/content/hackernews/hackernews-urls-from-browser-deduplicated.csv',\n",
              " '/content/hackernews/models/20221028',\n",
              " '/content/hackernews/tests/test_data_with_topics.csv',\n",
              " '/content/hackernews/tests/test_data.csv',\n",
              " '/content/hackernews/tests/test_set_with_topics.csv',\n",
              " '/content/hackernews/tests/test_set.csv',\n",
              " '/content/hackernews/tests/validation_set_with_topics.csv',\n",
              " '/content/hackernews/tests/validation_set.csv']"
            ]
          },
          "metadata": {},
          "execution_count": 1
        }
      ]
    },
    {
      "cell_type": "code",
      "source": [
        "\"\"\" Careful!\n",
        "One weird aspect of Colab's env is that it somehow has different folder structure\n",
        "for the CPU and GPU runtime when downloading via gdown. The CPU runtime flatten\n",
        "your folder, while the GPU runtime preserves the folder.\n",
        "\n",
        "If there's ever error when loading from path, that might the cause\n",
        "\"\"\""
      ],
      "metadata": {
        "colab": {
          "base_uri": "https://localhost:8080/",
          "height": 69
        },
        "id": "PWTv6VgUx9DH",
        "outputId": "3845e423-2f92-4545-af2b-4bee27fb750b"
      },
      "execution_count": 2,
      "outputs": [
        {
          "output_type": "execute_result",
          "data": {
            "text/plain": [
              "\" Careful!\\nOne weird aspect of Colab's env is that it somehow has different folder structure\\nfor the CPU and GPU runtime when downloading via gdown. The CPU runtime flatten\\nyour folder, while the GPU runtime preserves the folder.\\n\\nIf there's ever error when loading from path, that might the cause\\n\""
            ],
            "application/vnd.google.colaboratory.intrinsic+json": {
              "type": "string"
            }
          },
          "metadata": {},
          "execution_count": 2
        }
      ]
    },
    {
      "cell_type": "code",
      "source": [
        "# raw data\n",
        "browser = '/content/hackernews/hackernews-urls-from-browser-deduplicated.csv'\n",
        "phone = '/content/hackernews/hackernews-data-from-phone.json'\n",
        "stories_2018 = '/content/hackernews/hackernews-stories-since-2018.csv'\n",
        "stories_20221014 = '/content/hackernews/hackernews-stories-since-2022-10-14.csv'\n",
        "session_since_2019 = '/content/hackernews/hackernews-2019-2022-sessions.csv'\n",
        "session_since_20221016 = '/content/hackernews/hackernews-since-20221016.json'"
      ],
      "metadata": {
        "id": "QTrNrkhZ2O-0"
      },
      "execution_count": 3,
      "outputs": []
    },
    {
      "cell_type": "code",
      "source": [
        "# dataset\n",
        "validation_set_path = '/content/hackernews/tests/validation_set.csv'\n",
        "test_set_path = '/content/hackernews/tests/test_set.csv'\n",
        "test_data_path = '/content/hackernews/tests/test_data.csv'\n",
        "model_path = '/content/hackernews/models/20221028'"
      ],
      "metadata": {
        "id": "Whicbcwr2Q4a"
      },
      "execution_count": 4,
      "outputs": []
    },
    {
      "cell_type": "code",
      "source": [
        "# dataset + feature\n",
        "validation_set_with_topics_path = '/content/hackernews/tests/validation_set_with_topics.csv'\n",
        "test_set_with_topics_path = '/content/hackernews/tests/test_set_with_topics.csv'\n",
        "test_data_with_topics_path = '/content/hackernews/tests/test_data_with_topics.csv'"
      ],
      "metadata": {
        "id": "JI6jVLmJ2Rmq"
      },
      "execution_count": 5,
      "outputs": []
    },
    {
      "cell_type": "markdown",
      "metadata": {
        "id": "2WhqADYQxSGC"
      },
      "source": [
        "#### Data"
      ]
    },
    {
      "cell_type": "markdown",
      "metadata": {
        "id": "5O-Is_SBmuMt"
      },
      "source": [
        "##### Sample Data"
      ]
    },
    {
      "cell_type": "code",
      "execution_count": null,
      "metadata": {
        "id": "f1IowescaOVU"
      },
      "outputs": [],
      "source": [
        "# Sample HN titles\n",
        "samples = [\n",
        "    \"I would like a job writing Haskell\",\n",
        "    \"Hybrid recommender systems to improve recommendations for sparse datasets\",\n",
        "    \"How poverty changes your mindset\",\n",
        "    \"Rust in 2022\",\n",
        "    \"PostgreSQL 14\",\n",
        "    \"Improved distributed algorithms for fundamental graph problems (2017)\",\n",
        "    \"Ask HN: What bits of fundamental knowledge are productivity multipliers?\",\n",
        "    \"A first lesson in meta-rationality\",\n",
        "    \"Django Newbie Mistakes\",\n",
        "    \"Ask HN: Which are the best Go repositories to read to learn the language?\",\n",
        "    \"Postgres full-text search: A search engine in a database (2021)\",\n",
        "    \"Citybound – A city building game using actor-based distributed simulation\",\n",
        "    \"BERTopic: The Future of Topic Modeling\",\n",
        "    \"When to use memory safe languages\",\n",
        "    \"Being OK with not being extraordinary\",\n",
        "    \"TikTok reveals details of how its algorithm works\",\n",
        "    \"A general overview of what happens before main() (2019)\",\n",
        "    \"Becoming a Centaur\",\n",
        "    \"Query serving systems: An emerging category of data systems\",\n",
        "    \"Rust – A hard decision pays off \",\n",
        "    \"It's now your fault they don't know about it\",\n",
        "    \"Deconstructing the Postgres planner to find indexing opportunities\",\n",
        "    \"Ask HN: Why should I use Django?\",\n",
        "    \"Common Infrastructure Errors I've Made\",\n",
        "    \"Discover the best developer blogs on any tech stack\",\n",
        "    \"Ask HN: Good C++ code bases to read?\",\n",
        "    \"Ask HN: What is the SQLite of nosql databases?\",\n",
        "    \"Building Fast Interpreters in Rust\",\n",
        "    \"Ask HN: I suck at math, where to start?\",\n",
        "    \"What Every Programmer Absolutely, Positively Needs To Know About Encodings (2011)\",\n",
        "    \"Ask HN: Tools to visualize data in SQL databases?\",\n",
        "    \"Ask HN: Mind bending books to read and never be the same as before?\",\n",
        "    \"Ask HN: Does anybody still use bookmarking services?\",\n",
        "    \"Patent Trolls Inbound: Our First Lawsuit\",\n",
        "    \"Command line tools for productive programmers\",\n",
        "    \"Ask HN: Have you ever switched cloud?\",\n",
        "    \"Reliably Send an HTTP Request as a User Leaves a Page\",\n",
        "    \"Fly.io: The reclaimer of Heroku's magic\",\n",
        "    \"Ethereum Energy Consumption\",\n",
        "    \"The Unreasonable Effectiveness of Makefiles\",\n",
        "    \"The new silent majority: People who don't tweet\",\n",
        "    \"On YouTube’s recommendation system\",\n",
        "    \"I think I know why you can't hire engineers right now\",\n",
        "    \"Wealth Inequality Is Even Worse in Reputation Economies\",\n",
        "    \"Wealth isn’t created at the top, it is merely devoured there\",\n",
        "    \"What ORMs have taught me: just learn SQL (2014)\",\n",
        "    \"Bits of advice I wish I had known\",\n",
        "    \"Show HN: I made a book with a hundred UI/UX tips\",\n",
        "    \"Implementing a toy version of TLS 1.3\",\n",
        "    \"How to take credit for someone else's work on GitHub\",\n",
        "    \"I analyzed 20k recommendations made by Jim Cramer during the last 5 years\",\n",
        "    \"In Defense of OpenStreetMap's Data Model\",\n",
        "    \"Aging programmer\",\n",
        "    \"GitHub Actions: Organization secrets\",\n",
        "    \"Ask HN: How to improve as a struggling junior software engineer?\",\n",
        "    \"Excel is pretty dang cool\",\n",
        "    \"Choose Boring Technology\",\n",
        "    \"Ask HN: What are you working on?\",\n",
        "    \"Non-Obvious Docker Uses\",\n",
        "]\n",
        "\n",
        "samples_new = [\n",
        "    \"Curl doesn't add libproxy due to its quality issues\",\n",
        "    \"Eglot has landed on master: Emacs now has a built-in LSP client\",\n",
        "    \"Space-based solar power is getting serious\",\n",
        "    \"Is Anyone Else Tired of the Self Enforced Limits on AI Tech?\",\n",
        "    \"A chill driving game with procedurally generate scenic landscapes\",\n",
        "    \"Google has most of my email because it has all of yours\",\n",
        "    \"I made a CMS that uses Git to store your data\",\n",
        "    \"On Bruno Latour (1947–2022): The world was his laboratory\",\n",
        "    \"Pocket Casts goes open source\",\n",
        "    \"Pouring the 200 inch disk at Corning Glass Works\",\n",
        "    \"C2Rust Transpiler\",\n",
        "    \"On finally learning to program at the age of 40\",\n",
        "    \"A Quantum Computer by Blasting It with the Fibonacci Sequence\",\n",
        "    \"Epoll is fundamentally broken\",\n",
        "    \"Remote working is exacerbating the urban-rural divide in the digital market\",\n",
        "    \"Pure Data as a plugin, with a new GUI\",\n",
        "    \"Oidbs: An Open Source MQTT Driven Benchmark Suite for IoT Data\",\n",
        "    \"A History of Palomar Observatory\",\n",
        "    \"I've Built a DHT Torrent Sniffer and Search Engine. Should I Release?\",\n",
        "    \"The Wire retracts its Meta stories\",\n",
        "    \"Differential mosquito attraction to humans is associated with skin acid levels\",\n",
        "    \"The Mysterious Patient in Room 23: The Hermit Baroness\",\n",
        "    \"A 'screenless smartphone'\",\n",
        "    \"H.D.’S Art of Failure\",\n",
        "    \"Eureka Finding the key to ancient Egypt\",\n",
        "    \"News Music Search Archive\",\n",
        "    \"A Firewall for Internet of Things\",\n",
        "    \"I was tired of being a perfectionist so I built an app within 24 hours\",\n",
        "    \"What happened when my wife died\",\n",
        "]"
      ]
    },
    {
      "cell_type": "markdown",
      "metadata": {
        "id": "kp4X9qS_c8Ab"
      },
      "source": [
        "##### Actual Data"
      ]
    },
    {
      "cell_type": "code",
      "execution_count": null,
      "metadata": {
        "id": "pRUoV7Phc-f6"
      },
      "outputs": [],
      "source": [
        "df_2018 = pd.read_csv(stories_2018,\n",
        "                      usecols=['title', 'url', 'id', 'timestamp_formatted'],\n",
        "                      parse_dates=['timestamp_formatted'])\n",
        "df_2018 = df_2018.rename(columns={\"timestamp_formatted\": \"ts\"})\n",
        "df_2018.info()"
      ]
    },
    {
      "cell_type": "markdown",
      "metadata": {
        "id": "0s00Ipi6Sjwm"
      },
      "source": [
        "#### Exploration & Cleaning"
      ]
    },
    {
      "cell_type": "code",
      "execution_count": null,
      "metadata": {
        "id": "eyahV8iYzrEq"
      },
      "outputs": [],
      "source": [
        "\"\"\" Notes for future me\n",
        "(1) Exploration are done using method chaining for fast iteration on the data\n",
        "    (data are transformed and displayed without actually stored, signal options)\n",
        "\n",
        "(2) Several approach I've just discovered might look weird, but somehow works:\n",
        "    - Using `.head(n)` makes sure I'm operating on the same sample of the data\n",
        "    - Chaining `apply` happens because I can't preserve values as columns\n",
        "      (I wonder if this indicate the need to just create a function?\n",
        "       but, what if it's an apply to avoid errors?)\n",
        "    - The logic inside the `lambda` are frequently \"swapped\" based on whether I'm\n",
        "      operating on dirty or clean data. For example, when exploring dirty data,\n",
        "      I use \"True if\" to filter correct values and drop them with `dropna` because I\n",
        "      want to see my transformation on the dirty columns. But when I finished\n",
        "      cleaning, I have to \"swap\" the logic back to \"else True\" so that dirty data\n",
        "      are the ones that is actually dropped (in this case I preserve the indexes)\n",
        "      Variations of these patterns arise in the arithmetic comparison too\n",
        "\n",
        "      example when cleaning one-word title:\n",
        "        exploring dirty data: `True if len(sentence) == 1 else None`  # True and None\n",
        "        keeping clean data  : `None if len(sentence) == 1 else True`  # is swapped\n",
        "\n",
        "(3) Anyway, this data is MUCH. MORE DIRTY than I'd expected. Seriously didn't expect\n",
        "    to spend this much time wrangling :/ really, bless community upvotes I guess\n",
        "    (now that I thought about it, maybe the \"dirty\" patterns arises in the number\n",
        "     of upvotes, kids, or empty urls? now I regret didn't get all the data hmm)\n",
        "\"\"\""
      ]
    },
    {
      "cell_type": "markdown",
      "metadata": {
        "id": "DSUww7u6-bCR"
      },
      "source": [
        "##### Duplicate Titles :)"
      ]
    },
    {
      "cell_type": "code",
      "execution_count": null,
      "metadata": {
        "colab": {
          "base_uri": "https://localhost:8080/"
        },
        "id": "dPLmYRQIHg33",
        "outputId": "0b6909b3-14f0-4636-83a8-82807b018d84"
      },
      "outputs": [
        {
          "data": {
            "text/plain": [
              "(1726813, 4)"
            ]
          },
          "execution_count": 5,
          "metadata": {},
          "output_type": "execute_result"
        }
      ],
      "source": [
        "df_2018.shape"
      ]
    },
    {
      "cell_type": "code",
      "execution_count": null,
      "metadata": {
        "colab": {
          "base_uri": "https://localhost:8080/"
        },
        "id": "zSo-RI_sGPwh",
        "outputId": "864de4bc-0cec-4348-af38-c2923d670b6b"
      },
      "outputs": [
        {
          "data": {
            "text/plain": [
              "Y Combinator: Bookmarklet                                                 1558\n",
              "Books for kids (death and bullying)                                        262\n",
              "Test                                                                       119\n",
              "WP Paint – WordPress Image Editor Free Version                             105\n",
              "Abortion Is Murder (Available on Spotify and iTunes  By, Evon Latrail)      98\n",
              "ghost                                                                       97\n",
              "Keybase                                                                     83\n",
              "Referral URL                                                                74\n",
              "GraphQL with NodeJs: From Beginner to Advanced Concepts                     67\n",
              "React Native Debug Tool                                                     60\n",
              "Super Affiliate System                                                      59\n",
              "Stowaway – Multi-hop Proxy Tool for pentesters                              58\n",
              "Check Out 'One Punch Man – Home Workout'                                    55\n",
              "Popcorn Time                                                                54\n",
              "Simple WiFi Profits                                                         51\n",
              "Buy Trustpilot Reviews – Positive Reviews ( 5 Star Reviews)                 50\n",
              "Hello                                                                       48\n",
              "React-native-easy-app – React Native One-stop solution                      46\n",
              "Credit Repair                                                               44\n",
              "Eyes Only                                                                   43\n",
              "Hi                                                                          43\n",
              "How to Become a Better Developer                                            43\n",
              "Buy Google Reviews                                                          42\n",
              "Popcorn Time – Watch Free Movies and TV Shows Instantly Online              42\n",
              "Books for Kids (Death and Bullying)                                         39\n",
              "When a parent loses a child. (Death of a child)                             38\n",
              "Ask HN                                                                      38\n",
              "Reddit Is Down                                                              38\n",
              "Free Software                                                               37\n",
              "Dash Cam King                                                               36\n",
              "Name: title, dtype: int64"
            ]
          },
          "execution_count": 6,
          "metadata": {},
          "output_type": "execute_result"
        }
      ],
      "source": [
        "(\n",
        "    df_2018[\"title\"].value_counts()[:30]\n",
        ")"
      ]
    },
    {
      "cell_type": "code",
      "execution_count": null,
      "metadata": {
        "id": "y6ozQS5vGZUY"
      },
      "outputs": [],
      "source": [
        "df_2018 = (\n",
        "            df_2018.drop_duplicates(subset=['title'])\n",
        "                   .reset_index(drop=True)\n",
        ")"
      ]
    },
    {
      "cell_type": "code",
      "execution_count": null,
      "metadata": {
        "colab": {
          "base_uri": "https://localhost:8080/"
        },
        "id": "EveRHEfXHh1f",
        "outputId": "6c121df2-3383-4965-9d14-27bdf1679187"
      },
      "outputs": [
        {
          "data": {
            "text/plain": [
              "(1564079, 4)"
            ]
          },
          "execution_count": 9,
          "metadata": {},
          "output_type": "execute_result"
        }
      ],
      "source": [
        "df_2018.shape"
      ]
    },
    {
      "cell_type": "markdown",
      "metadata": {
        "id": "qwbzRKM8xYWt"
      },
      "source": [
        "##### One-word Titles"
      ]
    },
    {
      "cell_type": "code",
      "execution_count": null,
      "metadata": {
        "colab": {
          "base_uri": "https://localhost:8080/"
        },
        "id": "1iCTrWszgG9W",
        "outputId": "a0bcaf5d-75ae-441d-f197-c98b53c00f0b"
      },
      "outputs": [
        {
          "data": {
            "text/plain": [
              "Int64Index([5, 12, 70, 131, 148, 236, 285, 339, 411, 445], dtype='int64')"
            ]
          },
          "execution_count": 15,
          "metadata": {},
          "output_type": "execute_result"
        }
      ],
      "source": [
        "# Identify what \"one-word\" title seems to be\n",
        "# spoiler: it's trash\n",
        "f = (\n",
        "    df_2018[\"title\"]\n",
        "        .head(500)\n",
        "        .str\n",
        "        .split()\n",
        "        .apply(lambda x: len(x) if type(x) == list else True)  # weird float error :/\n",
        "        .apply(lambda x: None if x > 1 else True)\n",
        "        .dropna()\n",
        "        .index\n",
        ")\n",
        "f"
      ]
    },
    {
      "cell_type": "code",
      "execution_count": null,
      "metadata": {
        "colab": {
          "base_uri": "https://localhost:8080/"
        },
        "id": "OXoTRgISH-80",
        "outputId": "9f64affe-1be0-428f-cbe4-7460f75be9f7"
      },
      "outputs": [
        {
          "data": {
            "text/plain": [
              "5                                                 Solve\n",
              "12                                        SuperbowlEVE/\n",
              "70                                                  Kek\n",
              "131                                              Crypto\n",
              "148                     -kazakhstan-u20-vs-usa-u20-live\n",
              "236                                                 Aho\n",
              "285    &#20154;&#29983;&#23601;&#26159;&#36825;&#26679;\n",
              "339                                            Captable\n",
              "411                                                Fwef\n",
              "445                                               Nabil\n",
              "Name: title, dtype: object"
            ]
          },
          "execution_count": 16,
          "metadata": {},
          "output_type": "execute_result"
        }
      ],
      "source": [
        "df_2018.loc[f, 'title']"
      ]
    },
    {
      "cell_type": "code",
      "execution_count": null,
      "metadata": {
        "colab": {
          "base_uri": "https://localhost:8080/"
        },
        "id": "ryQRoIRwk2uh",
        "outputId": "ef6c8c91-04da-428c-ed25-ddf3aec873d9"
      },
      "outputs": [
        {
          "data": {
            "text/plain": [
              "Int64Index([0, 1, 2, 3, 4, 6, 7, 8, 9, 10, 11, 13, 14, 15, 16], dtype='int64')"
            ]
          },
          "execution_count": 17,
          "metadata": {},
          "output_type": "execute_result"
        }
      ],
      "source": [
        "preserved_indexes = (\n",
        "                        df_2018[\"title\"]\n",
        "                            .str.split()\n",
        "                            .apply(lambda x: len(x) if type(x) == list else True)\n",
        "                            .apply(lambda x: None if x == 1 else x)\n",
        "                            .dropna()\n",
        "                            .index\n",
        ")\n",
        "preserved_indexes[:15]"
      ]
    },
    {
      "cell_type": "code",
      "execution_count": null,
      "metadata": {
        "colab": {
          "base_uri": "https://localhost:8080/"
        },
        "id": "W_ZoU9Q9lxbz",
        "outputId": "e7e7f11d-6f2f-43de-b03c-c746c5c456a0"
      },
      "outputs": [
        {
          "data": {
            "text/plain": [
              "(1548517, 4)"
            ]
          },
          "execution_count": 18,
          "metadata": {},
          "output_type": "execute_result"
        }
      ],
      "source": [
        "df_2018 = df_2018.loc[preserved_indexes].copy().reset_index(drop=True)\n",
        "df_2018.shape"
      ]
    },
    {
      "cell_type": "markdown",
      "metadata": {
        "id": "sOTVE6yOxigi"
      },
      "source": [
        "##### Job postings in Titles"
      ]
    },
    {
      "cell_type": "code",
      "execution_count": null,
      "metadata": {
        "colab": {
          "base_uri": "https://localhost:8080/"
        },
        "id": "fJ6I3F8tmhKz",
        "outputId": "c5507489-fdcd-4e01-f87d-2114ef28923e"
      },
      "outputs": [
        {
          "data": {
            "text/plain": [
              "array(['Anyroad – Https://www.anyroad.com – Full-Time – San Francisco, CA ONSITE',\n",
              "       'Revved – Engineer – Cofounder – Delhi/NCR, India',\n",
              "       'We Are Hiring – Earn Rs.15000/- per Month – Simple Copy Paste Jobs',\n",
              "       'Twitch (Amazon) – Software Engineers – San Francisco or Remote (US/Europe) – FTE',\n",
              "       'Quobyte – Santa Clara, CA and Berlin, Germany – Full-Time – Onsite',\n",
              "       'Maurice – Open Beta – Serverless Load Testing Tool',\n",
              "       'AWS Blog Posts – Different Authors – Same Content?',\n",
              "       'Yocan Evolve Plus – Yocan Evolve Plus Review – Justchillglass $39.99',\n",
              "       'SmartKarma – Singapore| Full-Time Contract – React Native Developer',\n",
              "       'Qliiq.com – Save Your Bookmarks in Qliiq.com – Seek for Feedback',\n",
              "       'Wyre – Senior Full Stack Engineers – Onsite – San Francisco, CA – $100-120k',\n",
              "       'BCG Gamma – Senior Software Engineer – Paris or London – Full-Time – Onsite',\n",
              "       'BeFit Keto Cut– {Update 2020 Reviews} – Ingredients|Prise|Does It Work',\n",
              "       'Heart of Midlothian FC – Celtic FC – Livestream',\n",
              "       'Core Keto Pro Reviews – What Is Core Keto Pro? – Is Core Keto Pro Safe to Take?',\n",
              "       'SEEKING WORK – Remote – Software Architect – Software Development',\n",
              "       'Numph – Numph Clothing – Buy Numph Online on Pintucked.com  – Pintucked'],\n",
              "      dtype=object)"
            ]
          },
          "execution_count": 30,
          "metadata": {},
          "output_type": "execute_result"
        }
      ],
      "source": [
        "# Identify wrong type column, e.g. job postings that are posted on story\n",
        "# typically has several dashes (minimum 3) on its title\n",
        "# e.g. Company — Sites or Roles — Status — Other Criteria\n",
        "#\n",
        "# examples\n",
        "\"\"\"\n",
        "'Anyroad – Https://www.anyroad.com – Full-Time – San Francisco, CA ONSITE',\n",
        "'Quobyte – Santa Clara, CA and Berlin, Germany – Full-Time – Onsite',\n",
        "'Wyre – Senior Full Stack Engineers – Onsite – San Francisco, CA – $100-120k',\n",
        "'BCG Gamma – Senior Software Engineer – Paris or London – Full-Time – Onsite',\n",
        "'Ask HN: Best way to prepare for an Onsite interview at a Startup?',\n",
        "'Tabella – Ethical Hacker – Full-Time – Onsite – Prague, Czechia (EU)',\n",
        "'Sama AI – Sr Software Developer (Front-End) – Onsite (Mtl) or Remote – Full Time',\n",
        "'Olo – Multiple Jobs Available (see Below) – Full-Time| REMOTE or ONSITE (NYC)'\n",
        "\"\"\"\n",
        "\n",
        "f = (\n",
        "        df_2018['title']\n",
        "            .head(5000)\n",
        "            .str.lower()\n",
        "            .str.count('–')\n",
        "            .apply(lambda x: None if x < 2 else True)\n",
        "            .dropna()\n",
        "            .index\n",
        ")\n",
        "df_2018.head(5000).loc[f, 'title'].values"
      ]
    },
    {
      "cell_type": "code",
      "execution_count": null,
      "metadata": {
        "colab": {
          "base_uri": "https://localhost:8080/"
        },
        "id": "8G8oz4X9IedT",
        "outputId": "6a5340bb-4483-4391-e4a8-61162beecc06"
      },
      "outputs": [
        {
          "data": {
            "text/plain": [
              "array(['Ask HN: Strategies to improve after finishing a product',\n",
              "       \"Ask HN: What to do with 10% of UK LTD i can't work at anymore\",\n",
              "       'Ask HN: What can I include in an effective communication workshop?',\n",
              "       ...,\n",
              "       \"Global Forest Watch – Discover the world's forests through data\",\n",
              "       'Search Google inside sheets and excel',\n",
              "       'Gov trying to ban magnet balls again'], dtype=object)"
            ]
          },
          "execution_count": 31,
          "metadata": {},
          "output_type": "execute_result"
        }
      ],
      "source": [
        "# extract clean indexes\n",
        "preserved_indexes = (\n",
        "        df_2018['title']\n",
        "            .str.count('–')\n",
        "            .apply(lambda x: None if x > 1 else True)\n",
        "            .dropna()\n",
        "            .index\n",
        ")\n",
        "df_2018.loc[preserved_indexes, 'title'].values"
      ]
    },
    {
      "cell_type": "code",
      "execution_count": null,
      "metadata": {
        "id": "4_HkLCAJyMXh"
      },
      "outputs": [],
      "source": [
        "df_2018 = df_2018.loc[preserved_indexes].copy().reset_index(drop=True)"
      ]
    },
    {
      "cell_type": "code",
      "execution_count": null,
      "metadata": {
        "colab": {
          "base_uri": "https://localhost:8080/"
        },
        "id": "ZLRQpq-t6out",
        "outputId": "620cb42f-7396-47d9-e0e2-98779351aeca"
      },
      "outputs": [
        {
          "data": {
            "text/plain": [
              "(1542775, 4)"
            ]
          },
          "execution_count": 33,
          "metadata": {},
          "output_type": "execute_result"
        }
      ],
      "source": [
        "df_2018.shape"
      ]
    },
    {
      "cell_type": "markdown",
      "metadata": {
        "id": "Vfweta7ByTNw"
      },
      "source": [
        "##### Links in Title"
      ]
    },
    {
      "cell_type": "code",
      "execution_count": null,
      "metadata": {
        "colab": {
          "base_uri": "https://localhost:8080/"
        },
        "id": "jT1ZT7JtolEe",
        "outputId": "8e6dda1e-c956-4110-85ae-b0af57a37175"
      },
      "outputs": [
        {
          "data": {
            "text/plain": [
              "array(['HTTP: //wintersupplement.com/smart-blood-sugar-book/',\n",
              "       'HTTP: //Www.zzlcdz.com/',\n",
              "       'HTTP: //Wintersupplement.com/Vital-Xl/',\n",
              "       'HTTPS: //Keto4us.org/Trubodx-Keto/',\n",
              "       'HTTPS: //Buddysupplement.com/Biorexin/',\n",
              "       'HTTPS: //www.annews24.com/top-10-most-expensive-watches-in-the-world/',\n",
              "       'Essence CBD Oil HTTPS://buddysupplement.com/essence-cbd-oil-au/',\n",
              "       'Visit Here HTTPS://djsupplement.com/empowered-boost-testosterone/',\n",
              "       'HTTPS: //Djsupplement.com/Keto-Nutrition/',\n",
              "       'Buy HTTPS://www.facebook.com/Trim-Life-Keto-101398769051708'],\n",
              "      dtype=object)"
            ]
          },
          "execution_count": 34,
          "metadata": {},
          "output_type": "execute_result"
        }
      ],
      "source": [
        "# Identify trash link in the title, from \"http\" keyword\n",
        "f = (\n",
        "    df_2018['title'].head(1000)\n",
        "                    .str.lower()\n",
        "                    .str.contains('https?:\\s*')\n",
        "                    .values\n",
        ")\n",
        "df_2018.head(1000).loc[f].title.values"
      ]
    },
    {
      "cell_type": "code",
      "execution_count": null,
      "metadata": {
        "id": "g-V0Xkpf6VQY"
      },
      "outputs": [],
      "source": [
        "# Invert the match to get clean values\n",
        "f = (\n",
        "    df_2018['title'].str.lower()\n",
        "                    .str.contains('https?:\\s*')\n",
        "                    .values\n",
        ")\n",
        "df_2018 = df_2018.loc[~f].copy()"
      ]
    },
    {
      "cell_type": "code",
      "execution_count": null,
      "metadata": {
        "colab": {
          "base_uri": "https://localhost:8080/"
        },
        "id": "6m5ELa9L6mdQ",
        "outputId": "89f86960-51d2-400c-e908-1c099c3aaa8d"
      },
      "outputs": [
        {
          "data": {
            "text/plain": [
              "(1541923, 4)"
            ]
          },
          "execution_count": 36,
          "metadata": {},
          "output_type": "execute_result"
        }
      ],
      "source": [
        "df_2018.shape"
      ]
    },
    {
      "cell_type": "markdown",
      "metadata": {
        "id": "ZTy5BWY17NMY"
      },
      "source": [
        "##### Non-stories ([Something] HN)"
      ]
    },
    {
      "cell_type": "code",
      "execution_count": null,
      "metadata": {
        "colab": {
          "base_uri": "https://localhost:8080/"
        },
        "id": "0810qek_7_7y",
        "outputId": "66ca29e5-69aa-4487-d5aa-7859a9e95e7c"
      },
      "outputs": [
        {
          "data": {
            "text/plain": [
              "Ask                                                                                37\n",
              "We need help with all aspects of marketing/ Contract help needed                    1\n",
              "When PMF meets market: $2.7M ARR ACHIEVED                                           1\n",
              "Tell                                                                                1\n",
              "Corporation Warfare-Protonmail cyberattack sponsored by states and corporations     1\n",
              "The impact of Airbnb on residential real estate price rises                         1\n",
              "Show                                                                                1\n",
              "It's Official. GitHub is slow                                                       1\n",
              "Aspiring YC founder – Can you get into YC without a technical cofounder?            1\n",
              "Looking for Job/Work Contract (Web Developer Javascript/PHP)                        1\n",
              "What podcast hosting provides the best analytics?                                   1\n",
              "What is the state of nanotech?                                                      1\n",
              "Who is using VB.NET? What are they using it for?                                    1\n",
              "Proposition 3                                                                       1\n",
              "Name: title, dtype: int64"
            ]
          },
          "execution_count": 37,
          "metadata": {},
          "output_type": "execute_result"
        }
      ],
      "source": [
        "# explore dirty titles\n",
        "(\n",
        "    df_2018['title'].head(50)\n",
        "                    .str\n",
        "                    .split(\"HN: \")\n",
        "                    .apply(lambda x: x[0].strip())\n",
        "                    .value_counts()\n",
        ")"
      ]
    },
    {
      "cell_type": "code",
      "execution_count": null,
      "metadata": {
        "colab": {
          "base_uri": "https://localhost:8080/"
        },
        "id": "Pdq4U-bP9FeO",
        "outputId": "c6e785ae-24b8-4640-940e-42052fabbb32"
      },
      "outputs": [
        {
          "data": {
            "text/plain": [
              "0       Strategies to improve after finishing a product\n",
              "1     What to do with 10% of UK LTD i can't work at ...\n",
              "2     What can I include in an effective communicati...\n",
              "3     We need help with all aspects of marketing/ Co...\n",
              "4           Cost Effective Options for Email Marketing?\n",
              "5     Should I sell equity in a past startup on the ...\n",
              "6     How to get the flexibilty of containers withou...\n",
              "7     Why didn't the early web support more client s...\n",
              "8     Something like Khan Academy but full curriculu...\n",
              "9        What's the most fun tradition at your startup?\n",
              "10            When PMF meets market: $2.7M ARR ACHIEVED\n",
              "11    Programming book recommendations for autistic ...\n",
              "12            Enterprise Software Developers in London?\n",
              "13    Have you used Adderall or any other similar drug?\n",
              "14         Why landline make crazy noise while hung up?\n",
              "15    Where to Learn Kubernetes, Ansible and Terraform?\n",
              "16    Banned site-wide from Reddit for helping a fel...\n",
              "17    Is it possible to donate small amounts to any ...\n",
              "18    Corporation Warfare-Protonmail cyberattack spo...\n",
              "19    Which clean tech company is hiring (remote) so...\n",
              "Name: title, dtype: object"
            ]
          },
          "execution_count": 38,
          "metadata": {},
          "output_type": "execute_result"
        }
      ],
      "source": [
        "# clean the titles\n",
        "(\n",
        "    df_2018['title'].head(20)\n",
        "                    .str\n",
        "                    .split(\"HN: \")\n",
        "                    .apply(lambda x: x[-1])  # take the last one\n",
        ")"
      ]
    },
    {
      "cell_type": "code",
      "execution_count": null,
      "metadata": {
        "id": "4Viv3PgOKvYX"
      },
      "outputs": [],
      "source": [
        "df_2018['title'] = df_2018['title'].str.split(\"HN: \").apply(lambda x: x[-1])"
      ]
    },
    {
      "cell_type": "markdown",
      "metadata": {
        "id": "1Pzw0MSr7WIc"
      },
      "source": [
        "##### Last Word [Year] and [PDF]"
      ]
    },
    {
      "cell_type": "code",
      "execution_count": null,
      "metadata": {
        "id": "WvSID5H2Mg_Z"
      },
      "outputs": [],
      "source": [
        "dirty_last_word_examples = ['A First Lesson in Econometrics (1970) [pdf]',\n",
        "                    'Monarch: Google’s Planet-Scale In-Memory Time Series Database [pdf]',\n",
        "                    'High System Load with Low CPU Utilization on Linux? (2020)']"
      ]
    },
    {
      "cell_type": "code",
      "execution_count": null,
      "metadata": {
        "colab": {
          "base_uri": "https://localhost:8080/"
        },
        "id": "RYIu1v6F9oPZ",
        "outputId": "59df60ac-9111-445e-faec-20c5e3f926fb"
      },
      "outputs": [
        {
          "name": "stderr",
          "output_type": "stream",
          "text": [
            "/usr/local/lib/python3.7/dist-packages/ipykernel_launcher.py:10: FutureWarning: The default value of regex will change from True to False in a future version.\n",
            "  # Remove the CWD from sys.path while we load stuff.\n"
          ]
        },
        {
          "data": {
            "text/plain": [
              "array(['Monarch: Google’s Planet-Scale In-Memory Time Series Database',\n",
              "       'High System Load with Low CPU Utilization on Linux?',\n",
              "       'A First Lesson in Econometrics'], dtype=object)"
            ]
          },
          "execution_count": 48,
          "metadata": {},
          "output_type": "execute_result"
        }
      ],
      "source": [
        "# examples of cleaning dirty last word\n",
        "pat = r'\\s\\(\\d+\\)|\\s\\[pdf\\]'\n",
        "\n",
        "(\n",
        "    df_2018\n",
        "        .loc[\n",
        "            df_2018['title'].isin(dirty_last_word_examples),\n",
        "            'title'\n",
        "        ]\n",
        "        .str\n",
        "        .replace(pat, '')\n",
        "        .values\n",
        ")"
      ]
    },
    {
      "cell_type": "code",
      "execution_count": null,
      "metadata": {
        "id": "lcia4LXTKX-A"
      },
      "outputs": [],
      "source": [
        "df_2018['title'] = df_2018['title'].str.replace(pat, '', regex=True)"
      ]
    },
    {
      "cell_type": "markdown",
      "metadata": {
        "id": "S8Dcgld7OwSd"
      },
      "source": [
        "##### Non-English language"
      ]
    },
    {
      "cell_type": "code",
      "execution_count": null,
      "metadata": {
        "id": "30b71JZhSdPO"
      },
      "outputs": [],
      "source": [
        "\"\"\"\n",
        "Don't think I'll be using this for now because it might not work properly\n",
        "with short texts according to the docs, which can be seen below, and my\n",
        "tokenizer is probably good enough at this point (could recognize HN stuffs)\n",
        "\"\"\""
      ]
    },
    {
      "cell_type": "code",
      "execution_count": null,
      "metadata": {
        "colab": {
          "base_uri": "https://localhost:8080/"
        },
        "id": "4Qn4m42lOyJc",
        "outputId": "99c6ca98-4f64-4e89-bf66-67ef77d35b36"
      },
      "outputs": [
        {
          "data": {
            "text/plain": [
              "Int64Index([10, 12, 49, 59, 70, 73, 81, 87, 94], dtype='int64')"
            ]
          },
          "execution_count": 87,
          "metadata": {},
          "output_type": "execute_result"
        }
      ],
      "source": [
        "f = (\n",
        "    df_2018['title'].head(100)\n",
        "        .apply(detect)\n",
        "        .apply(lambda x: None if x == 'en' else 1)\n",
        "        .dropna()\n",
        "        .index\n",
        ")\n",
        "f"
      ]
    },
    {
      "cell_type": "code",
      "execution_count": null,
      "metadata": {
        "colab": {
          "base_uri": "https://localhost:8080/"
        },
        "id": "d4-ejnx6R4q8",
        "outputId": "38d52f52-c635-4489-b2b6-6e4a8fba00e5"
      },
      "outputs": [
        {
          "data": {
            "text/plain": [
              "10            When PMF meets market: $2.7M ARR ACHIEVED\n",
              "12            Enterprise Software Developers in London?\n",
              "49                                        Proposition 3\n",
              "59                                   I Need Help Urgend\n",
              "70                            Best real time data sets?\n",
              "73    Oklahoma Sooners vs Alabama Crimson Tide Live ...\n",
              "81                    Where do software engineers work?\n",
              "87                                           Dark Mode?\n",
              "94    (Directo-TV) Barcelona vs. Villarreal E.n Directo\n",
              "Name: title, dtype: object"
            ]
          },
          "execution_count": 89,
          "metadata": {},
          "output_type": "execute_result"
        }
      ],
      "source": [
        "df_2018.loc[f, 'title']"
      ]
    },
    {
      "cell_type": "code",
      "execution_count": null,
      "metadata": {
        "colab": {
          "base_uri": "https://localhost:8080/"
        },
        "id": "6GwM_0VeRq2s",
        "outputId": "05e35d45-1fde-4565-9515-02c8665833cb"
      },
      "outputs": [
        {
          "data": {
            "text/plain": [
              "10                            [nl:0.9999972304748908]\n",
              "12     [nl:0.5714292844563275, en:0.4285706111707865]\n",
              "49      [en:0.5696024580914569, it:0.430396772621685]\n",
              "59                            [nl:0.9999928553169629]\n",
              "70     [ca:0.857141055642147, it:0.14285861979990916]\n",
              "73                            [et:0.9999932651771479]\n",
              "81    [af:0.8571386537057769, en:0.14285874783337843]\n",
              "87     [da:0.8570648697305963, de:0.1429344431604382]\n",
              "94                            [es:0.9999932855827895]\n",
              "Name: title, dtype: object"
            ]
          },
          "execution_count": 91,
          "metadata": {},
          "output_type": "execute_result"
        }
      ],
      "source": [
        "(\n",
        "    df_2018\n",
        "        .loc[f, 'title']\n",
        "        .apply(detect_langs)\n",
        ")"
      ]
    },
    {
      "cell_type": "markdown",
      "metadata": {
        "id": "vZQ0Rk7eM_ud"
      },
      "source": [
        "#### All Cleaning Steps"
      ]
    },
    {
      "cell_type": "code",
      "source": [
        "\"\"\"\n",
        "(1)\n",
        "remove -> remove entries (view)\n",
        "clean  -> mutates the data\n",
        "\n",
        "(2)\n",
        "I don't remove special characters because the tokenizer can handle it and it's\n",
        "actually used in titles, e.g. \"C++\" would be \"C\" if special characters are removed:)\n",
        "Also words are kept in their original case (I expect the tokenizer can handle that as well)\n",
        "\"\"\""
      ],
      "metadata": {
        "id": "B4xNx5te4BSy"
      },
      "execution_count": null,
      "outputs": []
    },
    {
      "cell_type": "code",
      "source": [
        "import nltk\n",
        "from nltk.stem import WordNetLemmatizer\n",
        "\n",
        "nltk.download('omw-1.4')\n",
        "lemmatizer = WordNetLemmatizer()"
      ],
      "metadata": {
        "id": "xTbjY0q4A5Du"
      },
      "execution_count": null,
      "outputs": []
    },
    {
      "cell_type": "code",
      "execution_count": null,
      "metadata": {
        "id": "zUPcIdXG7y8W"
      },
      "outputs": [],
      "source": [
        "# All cleaning functions\n",
        "def remove_one_word(title: pd.Series) -> pd.Series:\n",
        "    f = (\n",
        "        title\n",
        "         .str\n",
        "         .split()\n",
        "         .apply(lambda x: len(x) if type(x) == list else 1)  # avoid weird float error :/\n",
        "         .apply(lambda x: False if x == 1 else True)\n",
        "    )\n",
        "    return title.loc[f]\n",
        "    \n",
        "def remove_job_postings(title: pd.Series) -> pd.Series:\n",
        "    f = (\n",
        "        title\n",
        "         .str\n",
        "         .count('–')\n",
        "         .apply(lambda x: False if x > 1 else True)  # risk losing some title, but yeh\n",
        "    )\n",
        "    return title.loc[f]\n",
        "\n",
        "def remove_links(title: pd.Series) -> pd.Series:\n",
        "    f = (\n",
        "        title\n",
        "         .str\n",
        "         .lower()\n",
        "         .str\n",
        "         .contains('https?:\\s*')\n",
        "         .values\n",
        "    )\n",
        "    # invert bool filters because \"regex aren't really for negative matching\"\n",
        "    return title.loc[~f]\n",
        "\n",
        "def clean_non_stories(title: pd.Series) -> pd.Series:\n",
        "    return title.str.split(\"HN: \").apply(lambda x: x[-1])\n",
        "\n",
        "def clean_last_word_year_and_pdf(title: pd.Series) -> pd.Series:\n",
        "    pat = r'\\s\\(\\d+\\)|\\s\\[pdf\\]'\n",
        "    return title.str.replace(pat, '', regex=True)\n",
        "\n",
        "def lemmatize(title: pd.Series, lemmatizer=lemmatizer) -> pd.Series:\n",
        "    return (\n",
        "        title.str.split(\" \")\n",
        "             .apply(lambda row_list: [lemmatizer.lemmatize(word) for word in row_list])\n",
        "             .apply(lambda x: \" \".join(x))\n",
        "    )\n",
        "\n",
        "def finalizes(title: pd.Series) -> pd.Series:\n",
        "    \"\"\"finalizes the cleaning process by getting the copy of the passed-around view\"\"\"\n",
        "    return title.copy().reset_index(drop=True)"
      ]
    },
    {
      "cell_type": "code",
      "execution_count": null,
      "metadata": {
        "colab": {
          "base_uri": "https://localhost:8080/"
        },
        "id": "GjmFtE4uWmAc",
        "outputId": "cf1bb09f-3b3a-49ef-e01c-6df7a26e9a05"
      },
      "outputs": [
        {
          "name": "stdout",
          "output_type": "stream",
          "text": [
            "<class 'pandas.core.frame.DataFrame'>\n",
            "RangeIndex: 1726813 entries, 0 to 1726812\n",
            "Data columns (total 4 columns):\n",
            " #   Column  Dtype              \n",
            "---  ------  -----              \n",
            " 0   title   object             \n",
            " 1   url     object             \n",
            " 2   id      int64              \n",
            " 3   ts      datetime64[ns, UTC]\n",
            "dtypes: datetime64[ns, UTC](1), int64(1), object(2)\n",
            "memory usage: 52.7+ MB\n"
          ]
        }
      ],
      "source": [
        "# Reload\n",
        "df_2018 = pd.read_csv(stories_2018,\n",
        "                      usecols=['title', 'url', 'id', 'timestamp_formatted'],\n",
        "                      parse_dates=['timestamp_formatted'])\n",
        "df_2018 = df_2018.rename(columns={\"timestamp_formatted\": \"ts\"})\n",
        "df_2018.info()"
      ]
    },
    {
      "cell_type": "code",
      "execution_count": null,
      "metadata": {
        "colab": {
          "base_uri": "https://localhost:8080/"
        },
        "id": "UKCQk6oJWvF2",
        "outputId": "dc3ceba8-095f-4328-c730-f36ffca58829"
      },
      "outputs": [
        {
          "data": {
            "text/plain": [
              "0            Strategies to improve after finishing a product\n",
              "1          What to do with 10% of UK LTD i can't work at ...\n",
              "2          What can I include in an effective communicati...\n",
              "3          We need help with all aspects of marketing/ Co...\n",
              "4                Cost Effective Options for Email Marketing?\n",
              "                                 ...                        \n",
              "1541918    Association between naturally occurring lithiu...\n",
              "1541919    Gene therapy cuts fat and builds muscle in sed...\n",
              "1541920    Global Forest Watch – Discover the world's for...\n",
              "1541921                Search Google inside sheets and excel\n",
              "1541922                 Gov trying to ban magnet balls again\n",
              "Name: title, Length: 1541923, dtype: object"
            ]
          },
          "execution_count": 26,
          "metadata": {},
          "output_type": "execute_result"
        }
      ],
      "source": [
        "titles = (df_2018\n",
        "          ['title']\n",
        "          .drop_duplicates()\n",
        "          .pipe(remove_one_word)\n",
        "          .pipe(remove_job_postings)\n",
        "          .pipe(remove_links)\n",
        "          .pipe(clean_non_stories)\n",
        "          .pipe(clean_last_word_year_and_pdf)\n",
        "          .pipe(lemmatize)\n",
        "          .pipe(finalizes)\n",
        ")\n",
        "titles"
      ]
    },
    {
      "cell_type": "code",
      "execution_count": null,
      "metadata": {
        "id": "e_9f7knRjJaA"
      },
      "outputs": [],
      "source": [
        "corpus_sentences = titles.values"
      ]
    },
    {
      "cell_type": "markdown",
      "metadata": {
        "id": "4BY_B0tBBKj9"
      },
      "source": [
        "##### Dump & Reload Corpus"
      ]
    },
    {
      "cell_type": "code",
      "source": [
        "# Dump Corpus\n",
        "import pickle\n",
        "with open(\"corpus_sentences.pkl\", \"wb\") as f:\n",
        "    pickle.dump({'corpus_sentences': corpus_sentences}, f)"
      ],
      "metadata": {
        "id": "OdKsr6T46y2s"
      },
      "execution_count": null,
      "outputs": []
    },
    {
      "cell_type": "code",
      "execution_count": null,
      "metadata": {
        "id": "6cU7ungBARxY"
      },
      "outputs": [],
      "source": [
        "# Reload Corpus\n",
        "import pickle\n",
        "with open(\"corpus_sentences.pkl\", \"rb\") as f:\n",
        "    cached_data = pickle.load(f)\n",
        "    corpus_sentences = cached_data['corpus_sentences']"
      ]
    },
    {
      "cell_type": "markdown",
      "metadata": {
        "id": "9fdqTjmzwgTx"
      },
      "source": [
        "#### Modeling"
      ]
    },
    {
      "cell_type": "markdown",
      "metadata": {
        "id": "XEA5pVdxwRuT"
      },
      "source": [
        "##### BERTopic"
      ]
    },
    {
      "cell_type": "code",
      "execution_count": null,
      "metadata": {
        "id": "-D-QbXKBEyKo"
      },
      "outputs": [],
      "source": [
        "# Watch out for memory issues\n",
        "# https://maartengr.github.io/BERTopic/faq.html#how-can-i-speed-up-bertopic"
      ]
    },
    {
      "cell_type": "code",
      "source": [
        "from bertopic import BERTopic\n",
        "from sklearn.cluster import MiniBatchKMeans\n",
        "from sklearn.decomposition import IncrementalPCA\n",
        "from bertopic.vectorizers import OnlineCountVectorizer"
      ],
      "metadata": {
        "id": "4967WDdIA1sD"
      },
      "execution_count": null,
      "outputs": []
    },
    {
      "cell_type": "code",
      "execution_count": null,
      "metadata": {
        "id": "IW0hjBTTMJHt"
      },
      "outputs": [],
      "source": [
        "# Batches\n",
        "umap_model = IncrementalPCA(n_components=200)\n",
        "cluster_model = MiniBatchKMeans(n_clusters=300, random_state=0)\n",
        "vectorizer_model = OnlineCountVectorizer(stop_words=\"english\", decay=.01)"
      ]
    },
    {
      "cell_type": "code",
      "execution_count": null,
      "metadata": {
        "id": "0hZxjhhIMc4a"
      },
      "outputs": [],
      "source": [
        "# Prepare model\n",
        "topic_model = BERTopic(\n",
        "    umap_model=umap_model,\n",
        "    hdbscan_model=cluster_model, \n",
        "    vectorizer_model=vectorizer_model, \n",
        "    n_gram_range=(1, 2),  # this doesn't seem to work\n",
        "    verbose=True\n",
        ")"
      ]
    },
    {
      "cell_type": "code",
      "execution_count": null,
      "metadata": {
        "id": "toKK_ch10quV"
      },
      "outputs": [],
      "source": [
        "# Split list into N equal length\n",
        "# https://stackoverflow.com/a/2135920/8996974\n",
        "def split(a, n):\n",
        "    k, m = divmod(len(a), n)\n",
        "    return (a[i*k+min(i, m):(i+1)*k+min(i+1, m)] for i in range(n))"
      ]
    },
    {
      "cell_type": "code",
      "execution_count": null,
      "metadata": {
        "id": "RrWhBz_wNMSR"
      },
      "outputs": [],
      "source": [
        "# 100K split is processed in 20 minutes! That's too long!!\n",
        "# Let's try splitting it to smaller parts instead\n",
        "N = 8\n",
        "doc_chunks = split(corpus_sentences, N)"
      ]
    },
    {
      "cell_type": "code",
      "execution_count": null,
      "metadata": {
        "colab": {
          "background_save": true,
          "base_uri": "https://localhost:8080/",
          "height": 514,
          "referenced_widgets": [
            "76586b798fc349c7a2c615de51161192",
            "a53d2d587f2a4b93a3685ec966e8ecf7",
            "e48b2327805949dfb39846e147fde586",
            "86591c03c73b498c9d2515c3cf20f4a5",
            "ae5f03afe310441cbbeed475851ddb3f",
            "3cd919cae9e5452ab79caddf963eb8bf",
            "b8212441c622451dae887e060062132e",
            "37665b39ed5d4d2ba9508474bb7093a4",
            "95b1b66a1888465b9baf2cea3f2d7b65",
            "5ca7a84b68c4486581180409425d9de9",
            "1e214594792d492989f6ed06e257f2b5",
            "5376eb28cd924aa58f92ee8fc25579cd",
            "eb230cc8c6e24580a2f3636a1577af82",
            "68c6bdfea1084dfa8b0e595c2e6077ab",
            "3743b8e5598f4aba900c14751080ea61",
            "80cabc5701064450b3b67b0fb45a9123",
            "3d649fecd315491b97ad3d8393da7874",
            "55be13939ee1436c976c72fc8aeddef0",
            "3b68fcceb8f7475b98d651de3a83fdb1",
            "7e8958f0ec9a414ead2e7f92d2ae8b60",
            "200c72bf55e44c01952c05a4f9ff65da",
            "8bcc19cb81a844caa72a32cc7b3bdcf6",
            "30ad01962f454a7d9264f7db7a1757fe",
            "383f1ecfacee41d2a57edfb1c0070d4c",
            "e73452593014424e91257f17c248fcb8",
            "41b69bc06c324ee891ddea570766252e",
            "417fe7476b04451fb872c7d55afa4226",
            "7df014e64f3c4bbd96892821d4985397",
            "180d00d73021479a92f770bb74414ee8",
            "c11c1762f1974edaac1127ec5a7f7583",
            "65f65093f8f743faa8fab916fb7fd882",
            "eda49769720c4d41a949e81dafc05406",
            "83d85d5ad0dc49ffb084f58aae395f54",
            "63f0e52811734df9b5abe8e31dce09c9",
            "b4584fbef5ed49bca61afc7fec89ab85",
            "d51b4a7806c746a19bd80da28a8af272",
            "2981510065ed4617b2785316b9d4137e",
            "14138a2ab27d4c9cad20810d8348acac",
            "b89c568aba274d42b43ff2627c0b7d54",
            "22934e6590d24750b18c85dc4b426df4",
            "7b2b433f5ae04df0b729777503e9fba3",
            "fc31b9d179eb4871bc308708cdb44db3",
            "76d8c543f9cb42a6a52e4a7c1d16cf11",
            "0b42b37835e44702b8f0220618288838",
            "7f8a51ea8ac34865b8da8995158c0cec",
            "23d24498b73343258e5e8ec4540bbac3",
            "bf87357364a448ee934be679a2409c10",
            "f03aff72677c45eea8e672ac158325ab",
            "1adba0ca0d32436385a61fab2b51cada",
            "8630253b78e0487bbe88a982f2d55ec2",
            "a1abd43b334a49948f7186322953f06c",
            "8946fd5746e248a2a4245ab7d7c77fed",
            "29e6f44b668342a9aff2124be5d39f47",
            "da0a6e69899b48da90c374f63be8ec43",
            "3ab91bd2d4a849eea7b49d30b4a4357c",
            "dfff12e097c14c7f9f2a703ed7284dbd",
            "6d8965105f3e4c818cc20f417b8aa584",
            "f46bfd4832df471cad3a0d5d8adbad4f",
            "d7d4fe0bc8234ae0b3fba39131975503",
            "c4aa094922134da9a56455ee4acd9517",
            "00991d3106cc472a98be1cd681efcd27",
            "7ff16260754a49e280648302a4abfcef",
            "9437ba62596c4ec79e49093bc870cc6f",
            "031ca9c08d6242c8b11333a8aa85f821",
            "51c34ae7052e496c9762a998a1acedd6",
            "0c24bd204504444982769403f7925ace",
            "abea7a3bae854e6bb2a7561cae657f0d",
            "fb44a9f47966490f9667b6fe3d96a8f1",
            "fecf96caeec84012839adeecb0074447",
            "b10a21b58b6c49d49e30efdf83bbf94c",
            "cddfd92ffcfd4854a8c19c5e214d8ae9",
            "dc761798361b4034b895345a868b9881",
            "c14b1ce293034b2d87375297f7140930",
            "33a9d6d1fd9644238e57f095f2c7c27e",
            "b9da12965cc14c4898a61d91b88fec78",
            "078b6c6a33c241ca8804649f36a562b1",
            "8fdff6d74f5148ffaf882fff69493039",
            "5627a4388c944cce8504d8141b26e9c2",
            "da8ad09a26994501896339e6c0eaaced",
            "220619e1d6d94c12b6ca44f3f90814a0",
            "3d3d42cd5324428d93865bc7dd6a410b",
            "eff4911d40a543928412877bb7af7738",
            "63f9f7f7325046a89c742f5f2a477a76",
            "2591d37a62544f9badcf300ed23dfa6a",
            "d1e4b49a991a44f7bbca748ae96fd40e",
            "076bf7d3f82f4b37b25f0eb73b4e3c69",
            "74a3d60cea694b549f6fe66c509084db",
            "510ef1bef9354636adc04991b1d2901b",
            "cfb3d89b22324b08bcd3a7c5ee5018b7",
            "65b3921c61d840edb0c4957f72ee4bee",
            "d3f4268babb747d98c7246fcc731d1f9",
            "0736892f741e4a3a81cc4d1bb8e10dd2",
            "82b9602a041947f28d24e6bf1ecfd7be",
            "3fc5d3a426c14eb7ad7f058259d11d04",
            "a3634942715b4f90a5ac5c6717f61eac",
            "e1d5842198404e75b28d9f35d66ce660",
            "cac57b33302f4f9388784d65ad9be8df",
            "f9b8f8974dba43d4a071bccc625f0bde",
            "3b690ed1a14740278da6461faaf8d1c8",
            "ba4fabbd16a0449d9c2ef2a95cca0261",
            "f0c3bb5156ba4786aa25d5b2b09f29b2",
            "df236725097e42f9acb939c13875b92c",
            "cab02217b34c493386fa407fcbac33ec",
            "dfd54d817fab49a6826103ff3de10068",
            "fae05af9824b4b958e62a117caeaa91b",
            "fbd1b967d43a433186311b42e1c9208e",
            "1e993be318c84460a132cfc9e43204a0",
            "fa05bea8a799479e86a073075d38aebb",
            "dfdd9d704c1d4f188b6e29b73a0ace81",
            "85cd7e0e5d724f478bf71f17633dd87f",
            "63f4a9794d0d4641befa98aecc87c585",
            "8564a652e51f48c28706bd6c3f077550",
            "05fa18b7d4ee4430bde82e44e8b14c28",
            "b5744e9c57a442b5a387041b19fba962",
            "a1ab3e9511114c23816cb7daadacaba2",
            "5fe3f1b978634219a2bf6a61d3d4d9dd",
            "1f40fc5c79284024bd51fa8f86a760e6",
            "08268c9698e940f698d78a9da734fffe",
            "95559afac12e4f0f9802aa64791384ea",
            "2d23b0d08cd44754bd7f247f3b9a6b34",
            "98d675d9a76e44f5b056ee023d398c83",
            "07bc4bd9231d451ba7dc0cd5acacfd3b",
            "2823e1b6c86e49f6a600cd79737779d6",
            "683a9c3a54654c1d87b4a29b5611be33",
            "6b9f3e75561b4195aeeccb7a93b098f2",
            "d26d59564af44451bced8013cdf13b52",
            "f2b0ba5d393047118f71bcf99419a507",
            "cca99cddb6b04c419e9a47fb110dadff",
            "bb858611a26d4e469d5e7a481915cb45",
            "3034aace9f284eb4b97020429a554c38",
            "b2b8d7a4b9224080b2321cf9191248d4",
            "aa90fce3efb5431483646c93f556350c",
            "38be0c35fe6e451c88aa0ad21098e82a",
            "3e15142d93a04aaf91fc36d1c7887329",
            "17bf203241e64dd3ae0db1634798ea11",
            "393bf56f106d465cada858da937e6e4b",
            "f808124010a14eb9afd4c206813a1630",
            "f4ba42e243c34372ad1aaa79792a25a8",
            "92f9cc2d70ee459b80fbd25b1bd3e6de",
            "2877b15a0647447eaa649b6511bf38f4",
            "2fc06733359a48358bf57a40724e3382",
            "084c94312abd45238f49984d93338371",
            "8bb24c339e3a470b97b692b73fb62d2a",
            "ac3ca94d838b49bdaa1ac14c9c23e000",
            "35a7e140b73c499e95a3e7765658a6a3",
            "5c02a6984b4b434fa4012845a185964c",
            "d5d2434393c74c59b86ab84d3d89b1a2",
            "100d79d6c1544c948db015021e739c30",
            "1123059e320946b680d7c570be762b5b",
            "8684d08454bd450586f8fd7f8381e1a1",
            "f16b0522f3084d37b3cd80eee730ba32",
            "be59e4862be1424aab439b4703e52431",
            "4f9d185afd6643669b2c27904f05e104",
            "5d8c1d7f570f479cbe52f32abd5c0bfd",
            "4ffc468ee3a749dc9e611d561c98d1d4",
            "f9b551835779499fac5b8b38d5654558",
            "01f74ffdcb6d404faf03a5e6880e4442",
            "e6268fecda9c4c76989637284444727f",
            "066571fc4168405faa69c5d2c2ab4d5e",
            "7024af0642e545259e5cab6cb524927f",
            "1efd3979cbda44f493906ced332aee35",
            "1ea62956bff54b6dbb1ad7f4dcc6523b",
            "a0caf7cb2d6f46a7bd58d4d18d041272",
            "e62703f92a0241569cb2ba6ac34614a4",
            "9228693615c44771901424e1a6d84eef"
          ]
        },
        "id": "eyJh-aAVMfZo",
        "outputId": "fe25b0f9-bfda-4e7f-ba4e-d2432ca9e61a"
      },
      "outputs": [
        {
          "data": {
            "application/vnd.jupyter.widget-view+json": {
              "model_id": "76586b798fc349c7a2c615de51161192",
              "version_major": 2,
              "version_minor": 0
            },
            "text/plain": [
              "Downloading:   0%|          | 0.00/1.18k [00:00<?, ?B/s]"
            ]
          },
          "metadata": {},
          "output_type": "display_data"
        },
        {
          "data": {
            "application/vnd.jupyter.widget-view+json": {
              "model_id": "5376eb28cd924aa58f92ee8fc25579cd",
              "version_major": 2,
              "version_minor": 0
            },
            "text/plain": [
              "Downloading:   0%|          | 0.00/190 [00:00<?, ?B/s]"
            ]
          },
          "metadata": {},
          "output_type": "display_data"
        },
        {
          "data": {
            "application/vnd.jupyter.widget-view+json": {
              "model_id": "30ad01962f454a7d9264f7db7a1757fe",
              "version_major": 2,
              "version_minor": 0
            },
            "text/plain": [
              "Downloading:   0%|          | 0.00/10.6k [00:00<?, ?B/s]"
            ]
          },
          "metadata": {},
          "output_type": "display_data"
        },
        {
          "data": {
            "application/vnd.jupyter.widget-view+json": {
              "model_id": "63f0e52811734df9b5abe8e31dce09c9",
              "version_major": 2,
              "version_minor": 0
            },
            "text/plain": [
              "Downloading:   0%|          | 0.00/612 [00:00<?, ?B/s]"
            ]
          },
          "metadata": {},
          "output_type": "display_data"
        },
        {
          "data": {
            "application/vnd.jupyter.widget-view+json": {
              "model_id": "7f8a51ea8ac34865b8da8995158c0cec",
              "version_major": 2,
              "version_minor": 0
            },
            "text/plain": [
              "Downloading:   0%|          | 0.00/116 [00:00<?, ?B/s]"
            ]
          },
          "metadata": {},
          "output_type": "display_data"
        },
        {
          "data": {
            "application/vnd.jupyter.widget-view+json": {
              "model_id": "dfff12e097c14c7f9f2a703ed7284dbd",
              "version_major": 2,
              "version_minor": 0
            },
            "text/plain": [
              "Downloading:   0%|          | 0.00/39.3k [00:00<?, ?B/s]"
            ]
          },
          "metadata": {},
          "output_type": "display_data"
        },
        {
          "data": {
            "application/vnd.jupyter.widget-view+json": {
              "model_id": "abea7a3bae854e6bb2a7561cae657f0d",
              "version_major": 2,
              "version_minor": 0
            },
            "text/plain": [
              "Downloading:   0%|          | 0.00/90.9M [00:00<?, ?B/s]"
            ]
          },
          "metadata": {},
          "output_type": "display_data"
        },
        {
          "data": {
            "application/vnd.jupyter.widget-view+json": {
              "model_id": "5627a4388c944cce8504d8141b26e9c2",
              "version_major": 2,
              "version_minor": 0
            },
            "text/plain": [
              "Downloading:   0%|          | 0.00/53.0 [00:00<?, ?B/s]"
            ]
          },
          "metadata": {},
          "output_type": "display_data"
        },
        {
          "data": {
            "application/vnd.jupyter.widget-view+json": {
              "model_id": "cfb3d89b22324b08bcd3a7c5ee5018b7",
              "version_major": 2,
              "version_minor": 0
            },
            "text/plain": [
              "Downloading:   0%|          | 0.00/112 [00:00<?, ?B/s]"
            ]
          },
          "metadata": {},
          "output_type": "display_data"
        },
        {
          "data": {
            "application/vnd.jupyter.widget-view+json": {
              "model_id": "ba4fabbd16a0449d9c2ef2a95cca0261",
              "version_major": 2,
              "version_minor": 0
            },
            "text/plain": [
              "Downloading:   0%|          | 0.00/466k [00:00<?, ?B/s]"
            ]
          },
          "metadata": {},
          "output_type": "display_data"
        },
        {
          "data": {
            "application/vnd.jupyter.widget-view+json": {
              "model_id": "63f4a9794d0d4641befa98aecc87c585",
              "version_major": 2,
              "version_minor": 0
            },
            "text/plain": [
              "Downloading:   0%|          | 0.00/350 [00:00<?, ?B/s]"
            ]
          },
          "metadata": {},
          "output_type": "display_data"
        },
        {
          "data": {
            "application/vnd.jupyter.widget-view+json": {
              "model_id": "07bc4bd9231d451ba7dc0cd5acacfd3b",
              "version_major": 2,
              "version_minor": 0
            },
            "text/plain": [
              "Downloading:   0%|          | 0.00/13.2k [00:00<?, ?B/s]"
            ]
          },
          "metadata": {},
          "output_type": "display_data"
        },
        {
          "data": {
            "application/vnd.jupyter.widget-view+json": {
              "model_id": "38be0c35fe6e451c88aa0ad21098e82a",
              "version_major": 2,
              "version_minor": 0
            },
            "text/plain": [
              "Downloading:   0%|          | 0.00/232k [00:00<?, ?B/s]"
            ]
          },
          "metadata": {},
          "output_type": "display_data"
        },
        {
          "data": {
            "application/vnd.jupyter.widget-view+json": {
              "model_id": "ac3ca94d838b49bdaa1ac14c9c23e000",
              "version_major": 2,
              "version_minor": 0
            },
            "text/plain": [
              "Downloading:   0%|          | 0.00/349 [00:00<?, ?B/s]"
            ]
          },
          "metadata": {},
          "output_type": "display_data"
        },
        {
          "data": {
            "application/vnd.jupyter.widget-view+json": {
              "model_id": "4ffc468ee3a749dc9e611d561c98d1d4",
              "version_major": 2,
              "version_minor": 0
            },
            "text/plain": [
              "Batches:   0%|          | 0/6024 [00:00<?, ?it/s]"
            ]
          },
          "metadata": {},
          "output_type": "display_data"
        },
        {
          "name": "stderr",
          "output_type": "stream",
          "text": [
            "2022-10-26 13:56:03,334 - BERTopic - Reduced dimensionality\n"
          ]
        }
      ],
      "source": [
        "topics = []\n",
        "for chunk_no, docs in doc_chunks:\n",
        "    print(f\"Processing chunk no: {chunk_no}\")\n",
        "    start_time = time.time()\n",
        "\n",
        "    topic_model.partial_fit(docs)\n",
        "    topics.extend(topic_model.topics_)\n",
        "\n",
        "    print(\"--- {} minutes ---\".format((time.time() - start_time) / 60))\n",
        "topic_model.topics_ = topics"
      ]
    },
    {
      "cell_type": "code",
      "source": [
        "\"\"\" Give name to the model (manual experiment)\n",
        "Example:\n",
        "    model_no = '10'\n",
        "    model_name = '10-lemmatized-BERTopic-ipca90-batchkmean300-8N'\n",
        "\"\"\"\n",
        "model_no = ''\n",
        "model_name = ''\n",
        "\n",
        "if not model_no or not model_name:\n",
        "    raise Exception(f\"Model can't be saved because model_no and model_name is not set\")\n",
        "topic_model.save(f'/kaggle/working/{model_no}/{model_name}')"
      ],
      "metadata": {
        "id": "mM3zsGNz76VD"
      },
      "execution_count": null,
      "outputs": []
    },
    {
      "cell_type": "markdown",
      "source": [
        "##### Visualizing Results"
      ],
      "metadata": {
        "id": "3wVLLFQ-8h3p"
      }
    },
    {
      "cell_type": "code",
      "source": [
        "from bertopic import BERTopic\n",
        "\n",
        "model_name = ''\n",
        "\n",
        "if not model_name:\n",
        "    raise Exception(f\"Model can't be loaded because model_name is not set\")\n",
        "topic_model = BERTopic.load(model_name)"
      ],
      "metadata": {
        "id": "U9e8ZQtD8lAx"
      },
      "execution_count": null,
      "outputs": []
    },
    {
      "cell_type": "code",
      "execution_count": null,
      "metadata": {
        "id": "GWc41Z0r0stB"
      },
      "outputs": [],
      "source": [
        "freq = topic_model.get_topic_info(); print(freq.to_markdown())"
      ]
    },
    {
      "cell_type": "code",
      "execution_count": null,
      "metadata": {
        "id": "ERa6qEfS0tdo"
      },
      "outputs": [],
      "source": [
        "(\n",
        "    freq.sort_values('Count', ascending=False)\n",
        "        .head(20)\n",
        ")"
      ]
    },
    {
      "cell_type": "markdown",
      "metadata": {
        "id": "5E7S6ocW08-S"
      },
      "source": [
        "**Attributes**\n",
        "\n",
        "There are a number of attributes that you can access after having trained your BERTopic model:\n",
        "\n",
        "\n",
        "| Attribute | Description |\n",
        "|------------------------|---------------------------------------------------------------------------------------------|\n",
        "| topics_               | The topics that are generated for each document after training or updating the topic model. |\n",
        "| probabilities_ | The probabilities that are generated for each document if HDBSCAN is used. |\n",
        "| topic_sizes_           | The size of each topic                                                                      |\n",
        "| topic_mapper_          | A class for tracking topics and their mappings anytime they are merged/reduced.             |\n",
        "| topic_representations_ | The top *n* terms per topic and their respective c-TF-IDF values.                             |\n",
        "| c_tf_idf_              | The topic-term matrix as calculated through c-TF-IDF.                                       |\n",
        "| topic_labels_          | The default labels for each topic.                                                          |\n",
        "| custom_labels_         | Custom labels for each topic as generated through `.set_topic_labels`.                                                               |\n",
        "| topic_embeddings_      | The embeddings for each topic if `embedding_model` was used.                                                              |\n",
        "| representative_docs_   | The representative documents for each topic if HDBSCAN is used.                                                |\n",
        "\n",
        "For example, to access the predicted topics for the first 10 documents, we simply run the following:"
      ]
    },
    {
      "cell_type": "code",
      "execution_count": null,
      "metadata": {
        "id": "Rh_voa-p1HAF"
      },
      "outputs": [],
      "source": [
        "# Select the most frequent topic\n",
        "topic_no = 0  # fill this\n",
        "topic_model.get_topic(topic_no)"
      ]
    },
    {
      "cell_type": "code",
      "source": [
        "topic_model.topics_[:10]"
      ],
      "metadata": {
        "id": "Xlw8PUwP87IY"
      },
      "execution_count": null,
      "outputs": []
    },
    {
      "cell_type": "code",
      "execution_count": null,
      "metadata": {
        "id": "8F6JQMHX1HeI"
      },
      "outputs": [],
      "source": [
        "topic_model.visualize_topics()"
      ]
    },
    {
      "cell_type": "code",
      "execution_count": null,
      "metadata": {
        "id": "Rb3145iV1XO1"
      },
      "outputs": [],
      "source": [
        "# If probabilities are calculated, this cell can be run\n",
        "# topic_model.visualize_distribution(probs[200], min_probability=0.015)"
      ]
    },
    {
      "cell_type": "code",
      "execution_count": null,
      "metadata": {
        "id": "Dp2XO_BF1ZAy"
      },
      "outputs": [],
      "source": [
        "topic_model.visualize_hierarchy(top_n_topics=100)"
      ]
    },
    {
      "cell_type": "code",
      "execution_count": null,
      "metadata": {
        "id": "vzSpmejb1bbE"
      },
      "outputs": [],
      "source": [
        "topic_model.visualize_barchart(top_n_topics=10)"
      ]
    },
    {
      "cell_type": "code",
      "source": [
        "topic_model.visualize_heatmap(n_clusters=100, width=1000, height=1000)"
      ],
      "metadata": {
        "id": "S88Ljs089CLz"
      },
      "execution_count": null,
      "outputs": []
    },
    {
      "cell_type": "code",
      "source": [
        "example_sentence = \"Rust – A hard decision pays off \"\n",
        "similar_topics, similarity = topic_model.find_topics(example_sentence, top_n=5)\n",
        "print(similar_topics)\n",
        "topic_model.get_topic(similar_topics[0])"
      ],
      "metadata": {
        "id": "u-BZFEa69Fz-"
      },
      "execution_count": null,
      "outputs": []
    },
    {
      "cell_type": "markdown",
      "source": [
        "#### Picking the Best Model"
      ],
      "metadata": {
        "id": "7xm6doa1-uus"
      }
    },
    {
      "cell_type": "code",
      "source": [
        "from collections import defaultdict\n",
        "\n",
        "def _avg_topics(topics):\n",
        "    \"\"\"A reduce operation taking average value of the key\"\"\"\n",
        "    result = {}\n",
        "    for (topic, rate) in topics:\n",
        "        if topic in result:\n",
        "            result[topic] += rate\n",
        "            result[topic] /= 2\n",
        "            continue\n",
        "        result[topic] = rate\n",
        "    return result\n",
        "\n",
        "def find_topics(sentence, topic_model=topic_model):\n",
        "    \"\"\"Find the main topic of a sentence and return 10 most representative words\"\"\"\n",
        "    topics = []\n",
        "\n",
        "    # Use a multiplier calculation so that lower-ranked topics got fewer influence\n",
        "    multiplier = 1\n",
        "    rate = .5\n",
        "    decay = .1\n",
        "\n",
        "    similar_topics, similarity = topic_model.find_topics(sentence, top_n=1)\n",
        "    for st in similar_topics:\n",
        "        ts = topic_model.get_topic(st)\n",
        "        ts = [(t1, t2 * multiplier) for (t1, t2) in ts]\n",
        "        topics.extend(ts)\n",
        "        multiplier *= rate\n",
        "        rate -= decay\n",
        "\n",
        "    topics = _avg_topics(topics)\n",
        "    return sorted(topics.items(), key=lambda item: item[1], reverse=True)[:10]"
      ],
      "metadata": {
        "id": "jiWWcW-f-7_H"
      },
      "execution_count": null,
      "outputs": []
    },
    {
      "cell_type": "code",
      "source": [
        "# Example, testing the model\n",
        "from bertopic import BERTopic\n",
        "\n",
        "topic_model = BERTopic.load(model_path)\n",
        "for sample in samples[:5]:\n",
        "    print(sample)\n",
        "    print(find_topics(sample, topic_model))\n",
        "    print('-------------')"
      ],
      "metadata": {
        "id": "I4IPVtGIAPUN"
      },
      "execution_count": null,
      "outputs": []
    },
    {
      "cell_type": "markdown",
      "source": [
        "##### Calculating Coherence Score"
      ],
      "metadata": {
        "id": "iAe27Y0GApWA"
      }
    },
    {
      "cell_type": "code",
      "source": [
        "import gensim.corpora as corpora\n",
        "from gensim.models.coherencemodel import CoherenceModel"
      ],
      "metadata": {
        "id": "_xJjiAvAAuZa"
      },
      "execution_count": null,
      "outputs": []
    },
    {
      "cell_type": "code",
      "source": [
        "# https://stackoverflow.com/a/27737385/8996974\n",
        "from functools import wraps\n",
        "\n",
        "def timing(f):\n",
        "    @wraps(f)\n",
        "    def wrap(*args, **kw):\n",
        "        ts = time.time()\n",
        "        result = f(*args, **kw)\n",
        "        te = time.time()\n",
        "        print(f\"func: {f.__name__} args: [{args}, {kw}] took: {te-ts:2.4f} sec\")\n",
        "        return result\n",
        "    return wrap"
      ],
      "metadata": {
        "id": "xpiUOegeA8-o"
      },
      "execution_count": null,
      "outputs": []
    },
    {
      "cell_type": "code",
      "source": [
        "import pickle\n",
        "\n",
        "@timing\n",
        "def save_coherence_params(model_path, corpus_sentences):\n",
        "    # Load model\n",
        "    print(f\"\\nLoading model from {model_path}\")\n",
        "    topic_model = BERTopic.load(model_path)\n",
        "\n",
        "    # Preprocess Documents\n",
        "    print(f\"Preprocessing...\")\n",
        "    topics = topic_model.topics_\n",
        "    documents = pd.DataFrame({\"Document\": corpus_sentences,\n",
        "                              \"ID\": range(len(corpus_sentences)),\n",
        "                              \"Topic\": topics})\n",
        "    documents_per_topic = documents.groupby(['Topic'], as_index=False).agg({'Document': ' '.join})\n",
        "    cleaned_docs = topic_model._preprocess_text(documents_per_topic.Document.values)\n",
        "    \n",
        "    # Extract vectorizer and analyzer from BERTopic\n",
        "    print(f\"Extracting features...\")\n",
        "    vectorizer = topic_model.vectorizer_model\n",
        "    analyzer = vectorizer.build_analyzer()\n",
        "    \n",
        "    # Extract features for Topic Coherence evaluation\n",
        "    words = vectorizer.get_feature_names()\n",
        "    tokens = [analyzer(doc) for doc in cleaned_docs]\n",
        "    dictionary = corpora.Dictionary(tokens)\n",
        "    corpus = [dictionary.doc2bow(token) for token in tokens]\n",
        "    topic_words = [[words for words, _ in topic_model.get_topic(topic)] \n",
        "                   for topic in range(len(set(topics))-1)]\n",
        "    \n",
        "    print(f\"Saving the coherence_params...\")\n",
        "    save_path = f'{model_path}-coherence_params.pkl'\n",
        "    with open(save_path, \"wb\") as f:\n",
        "        pickle.dump({'topic_words': topic_words,\n",
        "                     'tokens': tokens,\n",
        "                     'corpus': corpus,\n",
        "                     'dictionary': dictionary\n",
        "                    }\n",
        "                    ,f)\n",
        "    print(f\"Done!\\n\")"
      ],
      "metadata": {
        "id": "ixH51esTBJzg"
      },
      "execution_count": null,
      "outputs": []
    },
    {
      "cell_type": "code",
      "source": [
        "# Example\n",
        "models = [\n",
        "    model_path\n",
        "]\n",
        "\n",
        "for model in models:\n",
        "    save_coherence_params(model, corpus_sentences)"
      ],
      "metadata": {
        "id": "aUCVVdvHBdz0"
      },
      "execution_count": null,
      "outputs": []
    },
    {
      "cell_type": "markdown",
      "source": [
        "##### Evaluation"
      ],
      "metadata": {
        "id": "Pq12hNntCSRB"
      }
    },
    {
      "cell_type": "code",
      "source": [
        "import pickle\n",
        "\n",
        "@timing\n",
        "def evaluate_coherence_scores(model_path):\n",
        "    save_path = f'{model_path}-coherence_params.pkl'\n",
        "    \n",
        "    print(f\"\\nLoading coherence params from {model_path}\")\n",
        "    with open(save_path, \"rb\") as f:\n",
        "        cached_data = pickle.load(f)\n",
        "        topic_words = cached_data['topic_words']\n",
        "        tokens = cached_data['tokens']\n",
        "        corpus = cached_data['corpus']\n",
        "        dictionary = cached_data['dictionary']\n",
        "    \n",
        "    print(f\"Computing coherence score...\")\n",
        "    coherence_model = CoherenceModel(topics=topic_words, \n",
        "                                 texts=tokens, \n",
        "                                 corpus=corpus,\n",
        "                                 dictionary=dictionary, \n",
        "                                 coherence='c_v')\n",
        "    coherence = coherence_model.get_coherence()\n",
        "    \n",
        "    model_name = os.path.basename(model_path)\n",
        "    print(f\"Coherence score for {model_name}: {coherence}\")\n",
        "    \n",
        "    return coherence"
      ],
      "metadata": {
        "id": "DrWaaBORCceo"
      },
      "execution_count": null,
      "outputs": []
    },
    {
      "cell_type": "code",
      "source": [
        "coherences = [evaluate_coherence_scores(model) for model in models]"
      ],
      "metadata": {
        "id": "RyV4U5UfDGqp"
      },
      "execution_count": null,
      "outputs": []
    },
    {
      "cell_type": "markdown",
      "source": [
        "#### Creating Tests Data"
      ],
      "metadata": {
        "id": "gqKHyDEEySfP"
      }
    },
    {
      "cell_type": "markdown",
      "source": [
        "##### How the Data Look Like"
      ],
      "metadata": {
        "id": "m3-YY5dKPJjV"
      }
    },
    {
      "cell_type": "code",
      "source": [
        "!head $browser"
      ],
      "metadata": {
        "colab": {
          "base_uri": "https://localhost:8080/"
        },
        "id": "pukZtbTe2pwE",
        "outputId": "e31e3672-a946-46eb-b14f-5e2cd704ffd7"
      },
      "execution_count": null,
      "outputs": [
        {
          "output_type": "stream",
          "name": "stdout",
          "text": [
            "Ask HN: Are most of us developers lying about how much work we do? | Hacker News,https://news.ycombinator.com/item?id=29581125,2021-12-17 00:22:10\n",
            "Trying Out Generics in Go | Hacker News,https://news.ycombinator.com/item?id=29581112,2021-12-16 23:02:53\n",
            "Ask HN: How can I stop worrying and start living? | Hacker News,https://news.ycombinator.com/item?id=29585542,2021-12-17 00:05:49\n",
            "Ask HN: What's the easiest way to make a living with $600k in cash? | Hacker News,https://news.ycombinator.com/item?id=29585360,2021-12-17 00:15:01\n",
            "\"One decade later, Minecraft world generation is interesting again | Hacker News\",https://news.ycombinator.com/item?id=29446877,2021-12-17 00:22:53\n",
            "Python built-ins worth learning (2019) | Hacker News,https://news.ycombinator.com/item?id=30621552,2022-08-07 10:25:39\n",
            "\"Assume everyone is stupid, lazy and possibly insane, including you | Hacker News\",https://news.ycombinator.com/item?id=29226322,2021-11-17 20:31:57\n",
            "Using Git Commit Message Templates to Write Better Commit Messages | Hacker News,https://news.ycombinator.com/item?id=29911308,2022-01-13 00:20:02\n",
            "The State of Web Scraping 2022 | Hacker News,https://news.ycombinator.com/item?id=29905799,2022-01-13 00:20:02\n",
            "Medium-hard SQL interview questions | Hacker News,https://news.ycombinator.com/item?id=23053981,2022-10-08 02:33:23\n"
          ]
        }
      ]
    },
    {
      "cell_type": "code",
      "source": [
        "!head $phone"
      ],
      "metadata": {
        "colab": {
          "base_uri": "https://localhost:8080/"
        },
        "id": "osDsXd-52yHK",
        "outputId": "36170e75-3267-4986-e690-045891d2955c"
      },
      "execution_count": null,
      "outputs": [
        {
          "output_type": "stream",
          "name": "stdout",
          "text": [
            "{\"by\":\"todsacerdoti\",\"descendants\":181,\"id\":33156727,\"kids\":[33160466,33157055,33160053,33159569,33160937,33157829,33157087,33160780,33161093,33160729,33157077,33160669,33157785,33161758,33157662,33160716,33161004,33161588,33162540,33162439,33157777,33159336,33169207,33156974,33156865,33157582,33156910,33157996],\"score\":718,\"time\":1665438206,\"title\":\"How Wine works 101\",\"type\":\"story\",\"url\":\"https://werat.dev/blog/how-wine-works-101/\"}\n",
            "{\"by\":\"azhenley\",\"descendants\":56,\"id\":33135389,\"kids\":[33151873,33152518,33151850,33151946,33162443,33152695,33151855],\"score\":27,\"time\":1665258469,\"title\":\"When to use memory safe languages\",\"type\":\"story\",\"url\":\"https://verdagon.dev/blog/when-to-use-memory-safe-part-1\"}\n",
            "{\"by\":\"imartin2k\",\"descendants\":163,\"id\":33139297,\"kids\":[33139921,33140022,33140138,33140516,33145325,33140360,33139916,33140362,33139959,33140604,33140169,33139863,33140028,33139839,33146213,33141149,33139669,33141261,33140896,33140515,33143624,33144405,33140765,33140358,33142190,33147350,33141847,33140520,33142233,33153009,33140339,33140195,33140513,33139868,33140140,33140681,33140529,33141842],\"score\":433,\"time\":1665306771,\"title\":\"Take a break\",\"type\":\"story\",\"url\":\"https://www.robinrendle.com/notes/take-a-break-you-idiot/\"}\n",
            "{\"by\":\"NomadicDaggy\",\"descendants\":128,\"id\":33150086,\"kids\":[33150819,33150328,33151724,33151143,33150303,33150729,33150312,33162403,33150390,33150401,33153321,33156764,33154069,33150693,33151225,33157246,33152423,33156367,33150685,33151061,33153146,33152263,33151889,33153635,33151752,33150871,33150731,33150433,33156079,33155273,33160390,33150673,33155294,33152698,33150586,33150725,33151537,33154324,33154961,33155297,33152041,33151750,33157422,33151350,33150754,33157406,33159246,33150408,33151303,33151215,33154380,33151799,33211997,33158878],\"score\":294,\"time\":1665401421,\"title\":\"Show HN: I built a site that lets users find playlists by songs they contain\",\"type\":\"story\",\"url\":\"https://playlists.dags.dev/\"}\n",
            "{\"by\":\"tomerbd\",\"descendants\":103,\"id\":33138302,\"kids\":[33139138,33139034,33138799,33139286,33139404,33138755,33139944,33141625,33139914,33139336,33142873,33159786,33138965,33140043,33139101,33146549,33144006,33139350,33140715],\"score\":140,\"time\":1665290131,\"title\":\"Stop using utcnow and utcfromtimestamp\",\"type\":\"story\",\"url\":\"https://blog.ganssle.io/articles/2019/11/utcnow.html\"}\n",
            "{\"by\":\"asyncscrum\",\"descendants\":168,\"id\":33132951,\"kids\":[33133631,33133874,33133996,33134369,33135643,33133503,33134626,33134614,33133557,33134006,33136133,33136537,33137317,33133729,33135592,33136654,33134729,33133623,33135579,33140025,33134759,33134554,33137626,33134257,33135963,33134084,33138164,33135887,33136798,33134562],\"score\":487,\"time\":1665241889,\"title\":\"I Listened to 1000 B2B SaaS Sales Calls\",\"type\":\"story\",\"url\":\"https://www.sofuckingagile.com/blog/i-listened-to-1000-b2b-saas-sales-calls\"}\n",
            "{\"by\":\"gjvc\",\"descendants\":45,\"id\":33136351,\"kids\":[33138362,33137233,33137627,33137290,33139363,33137282,33137080,33137163,33137846,33143343,33137245,33138443,33139612,33138141],\"score\":230,\"time\":1665265854,\"title\":\"JSON Crack – A tool that generates graph diagrams from JSON objects\",\"type\":\"story\",\"url\":\"https://github.com/AykutSarac/jsoncrack.com\"}\n",
            "{\"by\":\"mfiguiere\",\"descendants\":212,\"id\":33124631,\"kids\":[33136806,33136026,33136400,33135925,33144881,33136666,33136039,33137837,33136217,33124797,33136529,33127645,33151669,33137346,33138151,33138686,33136563,33135907],\"score\":292,\"time\":1665164767,\"title\":\"Cassandra at Apple: 1000s of Clusters, 300k Nodes, 100 PB\",\"type\":\"story\",\"url\":\"https://twitter.com/erickramirezau/status/1578063811495477248\"}\n",
            "{\"by\":\"bpierre\",\"descendants\":254,\"id\":33134113,\"kids\":[33135105,33134656,33134640,33137671,33135594,33135702,33135698,33134688,33136468,33135052,33137292,33138323,33134769,33135649,33134813,33138523,33134571,33136081,33134471,33134718,33134979,33137955,33150144,33135003,33134865,33139067,33136981,33138459,33137823,33137333,33139210,33134522,33175782,33139020,33137041,33136309,33136610,33139172,33136707,33134191,33134611,33140062,33136780,33136670,33137039,33134788,33135409,33135269,33135814],\"score\":607,\"time\":1665249488,\"title\":\"Leap: Neovim’s Answer to the Mouse\",\"type\":\"story\",\"url\":\"https://github.com/ggandor/leap.nvim\"}\n",
            "{\"by\":\"CodeSgt\",\"descendants\":161,\"id\":33130533,\"kids\":[33130931,33131086,33130879,33133549,33131470,33132501,33130685,33132787,33132772,33130845,33131798,33132066,33131864,33132012,33133489,33130667,33131238,33134164,33132512,33131527,33131329,33130914,33132549,33131172,33131620,33133024,33160343,33135623,33131180,33135249,33132145,33132632,33130537,33134436,33131400,33148316,33144526,33133314,33133822,33131067,33134108,33137635,33130981,33134741,33134309,33130695,33132950,33131063,33130574,33134789,33130944],\"score\":281,\"text\":\"I know a few other languages but have really been wanting to learn C. I see a lot of books all with a lot of praise and it&#x27;s difficult choosing one.<p>Any recommendations?\",\"time\":1665214620,\"title\":\"Ask HN: Best book to learn C in 2022?\",\"type\":\"story\"}\n"
          ]
        }
      ]
    },
    {
      "cell_type": "code",
      "source": [
        "!head $stories_20221014"
      ],
      "metadata": {
        "colab": {
          "base_uri": "https://localhost:8080/"
        },
        "id": "7hln77X222_L",
        "outputId": "016ed5f1-1b44-4933-aa96-5881ca5e5765"
      },
      "execution_count": null,
      "outputs": [
        {
          "output_type": "stream",
          "name": "stdout",
          "text": [
            "title,url,timestamp,type,id\n",
            "Show HN: Texterous.com,https://texterous.com/wizard,2022-10-18 21:38:46.000000 UTC,story,33254373\n",
            "Measuring Traffic During the Half Moon Bay Pumpkin Festival,https://simonwillison.net/2022/Oct/19/measuring-traffic/,2022-10-19 16:32:32.000000 UTC,story,33264578\n",
            "\"MergeStat, Now with Some PostgreSQL\",https://docs.mergestat.com/blog/2022/10/14/mergestat-now-with-postgres,2022-10-14 13:42:04.000000 UTC,story,33203374\n",
            "Bat: A cat(1) clone in rust; adds wings,https://github.com/sharkdp/bat,2022-10-14 15:22:45.000000 UTC,story,33204747\n",
            "How to Show Upcoming Meetings for a Microsoft 365 User,https://www.freecodecamp.org/news/how-to-show-upcoming-meetings-for-a-microsoft-365-user/,2022-10-18 06:27:37.000000 UTC,story,33243666\n",
            "EA teases the ‘next generation’ of The Sims with Project Rene,https://www.theverge.com/2022/10/18/23409302/the-sims-project-rene-next-generation-sequel,2022-10-18 17:42:00.000000 UTC,story,33251146\n",
            "Building Transformers from Neurons and Astrocytes,https://www.biorxiv.org/content/10.1101/2022.10.12.511910v1,2022-10-20 14:28:03.000000 UTC,story,33275193\n",
            "Hayes Command Set (At Commands),https://en.wikipedia.org/wiki/Hayes_command_set,2022-10-19 07:04:04.000000 UTC,story,33258652\n",
            "Immediate origin of the Moon as a post-impact satellite,https://iopscience.iop.org/article/10.3847/2041-8213/ac8d96/pdf,2022-10-14 11:59:36.000000 UTC,story,33202361\n"
          ]
        }
      ]
    },
    {
      "cell_type": "code",
      "source": [
        "!head $session_since_20221016"
      ],
      "metadata": {
        "colab": {
          "base_uri": "https://localhost:8080/"
        },
        "id": "hiQ899QRO6L_",
        "outputId": "317f377f-6a83-48b7-cbee-772b45339932"
      },
      "execution_count": null,
      "outputs": [
        {
          "output_type": "stream",
          "name": "stdout",
          "text": [
            "{\"by\":\"bubblehack3r\",\"descendants\":207,\"id\":33230216,\"kids\":[33232854,33232004,33230963,33230702,33230959,33232321,33230914,33232663,33230962,33230972,33240739,33230955,33233037,33232699,33231046,33231641,33237912,33232772,33238236,33233050,33230879,33237304,33232729,33238621],\"score\":290,\"time\":1665986628,\"title\":\"Yagni Exceptions (2021)\",\"type\":\"story\",\"url\":\"https://lukeplant.me.uk/blog/posts/yagni-exceptions/\"}\n",
            "{\"by\":\"kiyanwang\",\"descendants\":133,\"id\":12245909,\"kids\":[12249785,12247719,12248255,12248187,12246496,12246910,12246670,12248366,12246165,12249184,12247365,12248491,12246709,12246750,12246389,12247405,12246335,12248696,12249237,12246517,12246536],\"score\":386,\"time\":1470639744,\"title\":\"Notes on Distributed Systems for Young Bloods (2013)\",\"type\":\"story\",\"url\":\"https://www.somethingsimilar.com/2013/01/14/notes-on-distributed-systems-for-young-bloods/\"}\n",
            "{\"by\":\"simonsarris\",\"descendants\":53,\"id\":33226817,\"kids\":[33232181,33227933,33227903,33228033,33227649,33229053,33229377,33231953,33227956,33233741,33230521,33230362,33234252,33227496,33230919,33228116,33232707,33241444,33234234,33228567,33230070,33230307,33230037,33230587,33227848,33228208,33238104,33228379,33226856,33242324],\"score\":258,\"text\":\"I began this in late September purely on the whims of frustration with thesaurus.com, which does not bother to focus the input box! So I made my own site that focuses the input box. And because I wanted a thesaurus where I could type just the term in the address bar (eg type carefulwords.com&#x2F;word) to get my results.<p>It is very rough around the edges right now. There are far too many synonyms, which themselves are only organized alphabetically. I hope to take the site in a more inspiring direction over time than merely synonyms. Perhaps euphemisms, or other poetic uses from the past, or author commentary, or something altogether different.\",\"time\":1665951287,\"title\":\"Show HN: Carefulwords.com, a more inspiring thesaurus\",\"type\":\"story\",\"url\":\"https://carefulwords.com/solitude\"}\n",
            "{\"by\":\"kiyanwang\",\"descendants\":226,\"id\":33230402,\"kids\":[33231737,33231428,33232803,33239312,33233464,33231363,33232675,33232678,33231555,33231047,33232712,33233017,33233075,33236263,33231676,33232289,33232468,33232941,33234325,33234122,33231142,33232265,33234612,33235800,33237909,33232903,33233952,33232762,33232710,33233804,33234730,33234587,33230991,33234186,33235445,33239035,33243355,33232935],\"score\":316,\"time\":1665988592,\"title\":\"How to build software like an SRE\",\"type\":\"story\",\"url\":\"https://www.willett.io/posts/precepts/\"}\n",
            "{\"by\":\"tango12\",\"descendants\":73,\"id\":33227840,\"kids\":[33227887,33230014,33229680,33229900,33229325,33229951,33230156,33229950,33230082,33232826,33229694,33228873,33231583,33228267,33232938,33229489],\"score\":192,\"time\":1665960223,\"title\":\"Streaming data in Postgres to 1M clients with GraphQL\",\"type\":\"story\",\"url\":\"https://github.com/hasura/graphql-engine/blob/master/architecture/streaming-subscriptions.md\"}\n",
            "{\"by\":\"strongpigeon\",\"descendants\":181,\"id\":31508009,\"kids\":[31508770,31509702,31508526,31508666,31509937,31508201,31509339,31510052,31511764,31509457,31508716,31510717,31508581,31511567,31508694,31508517,31509325,31509084,31509613,31508469,31509122,31519089,31509664,31509224,31509677,31508461,31508572,31512347,31523122,31509526,31515808,31508785,31511931,31526672,31514983,31510016,31508677,31514979,31508833,31508976,31508332,31510327,31509367,31511103,31508495,31510425,31508545,31514357,31512337,31520572,31509180,31509895,31508505,31510278,31511646,31515585,31509746,31508294,31514363,31514960,31508420],\"score\":578,\"text\":\"Edit: Wow #1 on HN. Y&#x27;all are making my day.<p>Hey HN,<p>I&#x27;m mostly a lurker on HN who&#x27;s always super inspired by other people&#x27;s small project that end-up making money. (Huge fan of Ben Stoke&#x27;s Tiny Project [0])<p>After being burnt-out in big tech, I decided to write my own weightlifting app and set myself a humble goal of reaching $1000 in total proceeds. See [1] for my initial launch post.<p>I&#x27;ve now surpassed that goal and am now making about 500$&#x2F;mo by selling premium features in the app. Android version is coming soon too. Doing the whole thing end-to-end (code, launch, marketing, support) was super gratifying and taught me a whole lot. I have to admit that I got almost teary eyed the first time someone bought one of my IAPs.<p>I&#x27;m not making a killing out of the app, and that was never the goal. But the personal satisfaction I got out of it was worth everything. I can&#x27;t pretend to have derived any life lesson that applies to everybody from this, but this whole mini-journey was worth it for me, and I hope it will be for you too, should you embark in a similar one.<p>[0] <a href=\\\"https:&#x2F;&#x2F;tinyprojects.dev&#x2F;\\\" rel=\\\"nofollow\\\">https:&#x2F;&#x2F;tinyprojects.dev&#x2F;</a><p>[1] <a href=\\\"https:&#x2F;&#x2F;news.ycombinator.com&#x2F;item?id=27507452\\\" rel=\\\"nofollow\\\">https:&#x2F;&#x2F;news.ycombinator.com&#x2F;item?id=27507452</a>\",\"time\":1653501012,\"title\":\"Tell HN: I made $1000 with my app and now making $500/mo\",\"type\":\"story\"}\n",
            "{\"by\":\"maydemir\",\"descendants\":51,\"id\":28811477,\"kids\":[28811686,28811940,28811637,28811875,28813347,28812840,28812185,28811708,28812795,28812060,28812071,28812024,28812063],\"score\":239,\"time\":1633799084,\"title\":\"Self-parking Car in 500 Lines of Code\",\"type\":\"story\",\"url\":\"https://trekhleb.dev/blog/2021/self-parking-car-evolution/\"}\n",
            "{\"by\":\"isaacfrond\",\"descendants\":153,\"id\":28759492,\"kids\":[28764443,28762752,28760591,28759993,28760987,28768122,28760382,28760449,28765770,28760706,28760717,28761568,28761606,28760127,28760298,28766538,28760029,28760233,28762212,28765202,28769379,28766619,28762073,28761048,28762783,28769396,28766490,28801156,28763950,28761487,28768918,28764234,28762382],\"score\":386,\"time\":1633441927,\"title\":\"My Logging Best Practices (2020)\",\"type\":\"story\",\"url\":\"https://tuhrig.de/my-logging-best-practices/\"}\n",
            "{\"by\":\"ColinWright\",\"descendants\":318,\"id\":28758106,\"kids\":[28764623,28759852,28760569,28759601,28760986,28759166,28759449,28762376,28759153,28759667,28762285,28759497,28759444,28763017,28761210,28758933,28759207,28759406,28768174,28760256,28759470,28764858,28759104,28766154,28760990,28759380,28772061,28762949,28764540,28764866,28765325,28763825,28759357,28778099,28763791,28759745,28765519,28761255,28767503,28760297,28766776,28767261,28766077,28766234,28760976,28767249,28762749,28767140,28766023,28767437,28762483,28761242,28768346,28759367,28766311,28759037,28764379,28759642,28759128,28764895,28759423,28760604,28764202,28763780,28763799,28761329,28759755,28760333,28763437,28770667,28759013],\"score\":621,\"time\":1633434556,\"title\":\"Is this the simplest (and most surprising) sorting algorithm?\",\"type\":\"story\",\"url\":\"https://arxiv.org/abs/2110.01111\"}\n",
            "{\"by\":\"Tomte\",\"descendants\":73,\"id\":28760685,\"kids\":[28761777,28761729,28761685,28761464,28761019,28803428],\"score\":149,\"time\":1633447357,\"title\":\"LLVM 13.0\",\"type\":\"story\",\"url\":\"https://lwn.net/Articles/871960/\"}\n"
          ]
        }
      ]
    },
    {
      "cell_type": "code",
      "source": [
        "!head $session_since_2019"
      ],
      "metadata": {
        "colab": {
          "base_uri": "https://localhost:8080/"
        },
        "id": "wR24BlrC2Voq",
        "outputId": "9c9f9d06-908f-4924-8edc-1513cdeaaa5d"
      },
      "execution_count": null,
      "outputs": [
        {
          "output_type": "stream",
          "name": "stdout",
          "text": [
            "title,url,timestamp\n",
            "Ask HN: Are most of us developers lying about how much work we do? | Hacker News,https://news.ycombinator.com/item?id=29581125,2021-12-17 00:22:10\n",
            "Trying Out Generics in Go | Hacker News,https://news.ycombinator.com/item?id=29581112,2021-12-16 23:02:53\n",
            "Ask HN: How can I stop worrying and start living? | Hacker News,https://news.ycombinator.com/item?id=29585542,2021-12-17 00:05:49\n",
            "Ask HN: What's the easiest way to make a living with $600k in cash? | Hacker News,https://news.ycombinator.com/item?id=29585360,2021-12-17 00:15:01\n",
            "\"One decade later, Minecraft world generation is interesting again | Hacker News\",https://news.ycombinator.com/item?id=29446877,2021-12-17 00:22:53\n",
            "Python built-ins worth learning (2019) | Hacker News,https://news.ycombinator.com/item?id=30621552,2022-08-07 10:25:39\n",
            "\"Assume everyone is stupid, lazy and possibly insane, including you | Hacker News\",https://news.ycombinator.com/item?id=29226322,2021-11-17 20:31:57\n",
            "Using Git Commit Message Templates to Write Better Commit Messages | Hacker News,https://news.ycombinator.com/item?id=29911308,2022-01-13 00:20:02\n",
            "The State of Web Scraping 2022 | Hacker News,https://news.ycombinator.com/item?id=29905799,2022-01-13 00:20:02\n"
          ]
        }
      ]
    },
    {
      "cell_type": "markdown",
      "source": [
        "##### Load the Data"
      ],
      "metadata": {
        "id": "oFo-mruuPQoD"
      }
    },
    {
      "cell_type": "code",
      "source": [
        "def load_json_data(path: str) -> pd.DataFrame:\n",
        "    \"\"\"Also parses the time column and make it into a new timestamp column\"\"\"\n",
        "    data = []\n",
        "    with open(path, 'r') as f:\n",
        "        for line in f.readlines():\n",
        "            d = json.loads(line)\n",
        "            data.append(d)\n",
        "    df = pd.DataFrame(data, columns=['title', 'time'])\n",
        "    df['timestamp'] = pd.to_datetime(df['time'], unit='s')\n",
        "    return df.drop(columns=['time'])"
      ],
      "metadata": {
        "id": "AncaKHffQ0Hk"
      },
      "execution_count": null,
      "outputs": []
    },
    {
      "cell_type": "code",
      "source": [
        "df_browser = pd.read_csv(browser, usecols=[0, 2], names=['title', 'timestamp'], parse_dates=[1])\n",
        "df_phone = load_json_data(phone)\n",
        "df_stories_new = pd.read_csv(stories_20221014, usecols=[0, 2], parse_dates=[1])\n",
        "df_session_new = load_json_data(session_since_20221016)\n",
        "df_session_old = pd.read_csv(session_since_2019, usecols=[0, 2], parse_dates=[1])"
      ],
      "metadata": {
        "id": "fPudeMdP3MXd"
      },
      "execution_count": null,
      "outputs": []
    },
    {
      "cell_type": "code",
      "source": [
        "df_stories_new.timestamp = df_stories_new.timestamp.dt.strftime(\"%Y-%m-%d %H:%M:%S\")"
      ],
      "metadata": {
        "id": "iFzQj2jSW8Bf"
      },
      "execution_count": null,
      "outputs": []
    },
    {
      "cell_type": "markdown",
      "source": [
        "##### Munging"
      ],
      "metadata": {
        "id": "QOC6dA9lfzpA"
      }
    },
    {
      "cell_type": "code",
      "source": [
        "df_browser.head(), df_stories_new.head(), df_session_old.head()"
      ],
      "metadata": {
        "colab": {
          "base_uri": "https://localhost:8080/"
        },
        "id": "0_fPufXKYHAL",
        "outputId": "49c30917-d13c-4701-acc4-cae172df73bd"
      },
      "execution_count": null,
      "outputs": [
        {
          "output_type": "execute_result",
          "data": {
            "text/plain": [
              "(                                               title           timestamp\n",
              " 0  Ask HN: Are most of us developers lying about ... 2021-12-17 00:22:10\n",
              " 1            Trying Out Generics in Go | Hacker News 2021-12-16 23:02:53\n",
              " 2  Ask HN: How can I stop worrying and start livi... 2021-12-17 00:05:49\n",
              " 3  Ask HN: What's the easiest way to make a livin... 2021-12-17 00:15:01\n",
              " 4  One decade later, Minecraft world generation i... 2021-12-17 00:22:53,\n",
              "                                                title            timestamp\n",
              " 0                             Show HN: Texterous.com  2022-10-18 21:38:46\n",
              " 1  Measuring Traffic During the Half Moon Bay Pum...  2022-10-19 16:32:32\n",
              " 2                MergeStat, Now with Some PostgreSQL  2022-10-14 13:42:04\n",
              " 3            Bat: A cat(1) clone in rust; adds wings  2022-10-14 15:22:45\n",
              " 4  How to Show Upcoming Meetings for a Microsoft ...  2022-10-18 06:27:37,\n",
              "                                                title           timestamp\n",
              " 0  Ask HN: Are most of us developers lying about ... 2021-12-17 00:22:10\n",
              " 1            Trying Out Generics in Go | Hacker News 2021-12-16 23:02:53\n",
              " 2  Ask HN: How can I stop worrying and start livi... 2021-12-17 00:05:49\n",
              " 3  Ask HN: What's the easiest way to make a livin... 2021-12-17 00:15:01\n",
              " 4  One decade later, Minecraft world generation i... 2021-12-17 00:22:53)"
            ]
          },
          "metadata": {},
          "execution_count": 47
        }
      ]
    },
    {
      "cell_type": "code",
      "source": [
        "df_phone.head(), df_session_new.head()"
      ],
      "metadata": {
        "colab": {
          "base_uri": "https://localhost:8080/"
        },
        "id": "0RgbHzh8aQCe",
        "outputId": "1500140d-de40-4a4d-b1cf-15e880703d59"
      },
      "execution_count": null,
      "outputs": [
        {
          "output_type": "execute_result",
          "data": {
            "text/plain": [
              "(                                               title           timestamp\n",
              " 0                                 How Wine works 101 2022-10-10 21:43:26\n",
              " 1                  When to use memory safe languages 2022-10-08 19:47:49\n",
              " 2                                       Take a break 2022-10-09 09:12:51\n",
              " 3  Show HN: I built a site that lets users find p... 2022-10-10 11:30:21\n",
              " 4             Stop using utcnow and utcfromtimestamp 2022-10-09 04:35:31,\n",
              "                                                title           timestamp\n",
              " 0                            Yagni Exceptions (2021) 2022-10-17 06:03:48\n",
              " 1  Notes on Distributed Systems for Young Bloods ... 2016-08-08 07:02:24\n",
              " 2  Show HN: Carefulwords.com, a more inspiring th... 2022-10-16 20:14:47\n",
              " 3                  How to build software like an SRE 2022-10-17 06:36:32\n",
              " 4  Streaming data in Postgres to 1M clients with ... 2022-10-16 22:43:43)"
            ]
          },
          "metadata": {},
          "execution_count": 56
        }
      ]
    },
    {
      "cell_type": "code",
      "source": [
        "dfs = [\n",
        "    df_browser,\n",
        "    df_phone,\n",
        "    df_stories_new,\n",
        "    df_session_new,\n",
        "    df_session_old,\n",
        "]"
      ],
      "metadata": {
        "id": "sofRixAqVCO8"
      },
      "execution_count": null,
      "outputs": []
    },
    {
      "cell_type": "code",
      "source": [
        "def trailing_hn_titles(title):\n",
        "    return title.str.split(\" \\| Hack\").apply(lambda x: x[0])\n",
        "\n",
        "def extract_titles(df):\n",
        "    return (df\n",
        "            ['title']\n",
        "            .drop_duplicates()\n",
        "            .pipe(remove_one_word)\n",
        "            .pipe(remove_job_postings)\n",
        "            .pipe(remove_links)\n",
        "            .pipe(clean_non_stories)\n",
        "            .pipe(clean_last_word_year_and_pdf)\n",
        "            .pipe(trailing_hn_titles)\n",
        "            .pipe(finalizes)\n",
        "    )"
      ],
      "metadata": {
        "id": "fukSNHJ6T9RC"
      },
      "execution_count": null,
      "outputs": []
    },
    {
      "cell_type": "code",
      "source": [
        "for df in dfs:\n",
        "    df['title'] = extract_titles(df)\n",
        "    print(df[:5].values)"
      ],
      "metadata": {
        "colab": {
          "base_uri": "https://localhost:8080/"
        },
        "id": "RsghrThlTtBF",
        "outputId": "4763b288-574c-4045-8517-5c3229b17461"
      },
      "execution_count": null,
      "outputs": [
        {
          "output_type": "stream",
          "name": "stdout",
          "text": [
            "[['Are most of us developers lying about how much work we do?'\n",
            "  Timestamp('2021-12-17 00:22:10')]\n",
            " ['Trying Out Generics in Go' Timestamp('2021-12-16 23:02:53')]\n",
            " ['How can I stop worrying and start living?'\n",
            "  Timestamp('2021-12-17 00:05:49')]\n",
            " [\"What's the easiest way to make a living with $600k in cash?\"\n",
            "  Timestamp('2021-12-17 00:15:01')]\n",
            " ['One decade later, Minecraft world generation is interesting again'\n",
            "  Timestamp('2021-12-17 00:22:53')]]\n",
            "[['How Wine works 101' Timestamp('2022-10-10 21:43:26')]\n",
            " ['When to use memory safe languages' Timestamp('2022-10-08 19:47:49')]\n",
            " ['Take a break' Timestamp('2022-10-09 09:12:51')]\n",
            " ['I built a site that lets users find playlists by songs they contain'\n",
            "  Timestamp('2022-10-10 11:30:21')]\n",
            " ['Stop using utcnow and utcfromtimestamp'\n",
            "  Timestamp('2022-10-09 04:35:31')]]\n",
            "[['Texterous.com' '2022-10-18 21:38:46']\n",
            " ['Measuring Traffic During the Half Moon Bay Pumpkin Festival'\n",
            "  '2022-10-19 16:32:32']\n",
            " ['MergeStat, Now with Some PostgreSQL' '2022-10-14 13:42:04']\n",
            " ['Bat: A cat(1) clone in rust; adds wings' '2022-10-14 15:22:45']\n",
            " ['How to Show Upcoming Meetings for a Microsoft 365 User'\n",
            "  '2022-10-18 06:27:37']]\n",
            "[['Yagni Exceptions' Timestamp('2022-10-17 06:03:48')]\n",
            " ['Notes on Distributed Systems for Young Bloods'\n",
            "  Timestamp('2016-08-08 07:02:24')]\n",
            " ['Carefulwords.com, a more inspiring thesaurus'\n",
            "  Timestamp('2022-10-16 20:14:47')]\n",
            " ['How to build software like an SRE' Timestamp('2022-10-17 06:36:32')]\n",
            " ['Streaming data in Postgres to 1M clients with GraphQL'\n",
            "  Timestamp('2022-10-16 22:43:43')]]\n",
            "[['Are most of us developers lying about how much work we do?'\n",
            "  Timestamp('2021-12-17 00:22:10')]\n",
            " ['Trying Out Generics in Go' Timestamp('2021-12-16 23:02:53')]\n",
            " ['How can I stop worrying and start living?'\n",
            "  Timestamp('2021-12-17 00:05:49')]\n",
            " [\"What's the easiest way to make a living with $600k in cash?\"\n",
            "  Timestamp('2021-12-17 00:15:01')]\n",
            " ['One decade later, Minecraft world generation is interesting again'\n",
            "  Timestamp('2021-12-17 00:22:53')]]\n"
          ]
        }
      ]
    },
    {
      "cell_type": "code",
      "source": [
        "sessions_dfs = [\n",
        "    df_browser,\n",
        "    df_phone,\n",
        "    df_session_new,\n",
        "    df_session_old,\n",
        "]\n",
        "for sdf in sessions_dfs:\n",
        "    print(sdf.shape)"
      ],
      "metadata": {
        "colab": {
          "base_uri": "https://localhost:8080/"
        },
        "id": "7HCLURFbeT4Z",
        "outputId": "67c847c3-e0fa-4231-ee6e-8d793e5f38d1"
      },
      "execution_count": null,
      "outputs": [
        {
          "output_type": "stream",
          "name": "stdout",
          "text": [
            "(871, 2)\n",
            "(569, 2)\n",
            "(75, 2)\n",
            "(1469, 2)\n"
          ]
        }
      ]
    },
    {
      "cell_type": "code",
      "source": [
        "sessions_df = (\n",
        "    pd.concat(sessions_dfs)\n",
        "      .drop_duplicates(subset=['title'])\n",
        "      .sort_values('timestamp', ignore_index=True)\n",
        ")\n",
        "\n",
        "sessions_df.shape"
      ],
      "metadata": {
        "colab": {
          "base_uri": "https://localhost:8080/"
        },
        "id": "4vIYM_ENefx3",
        "outputId": "7048893a-f64b-46b4-805e-eef1701f5fcf"
      },
      "execution_count": null,
      "outputs": [
        {
          "output_type": "execute_result",
          "data": {
            "text/plain": [
              "(2007, 2)"
            ]
          },
          "metadata": {},
          "execution_count": 78
        }
      ]
    },
    {
      "cell_type": "code",
      "source": [
        "sessions_df.tail()"
      ],
      "metadata": {
        "colab": {
          "base_uri": "https://localhost:8080/",
          "height": 200
        },
        "id": "xA38y40_fPc5",
        "outputId": "a68df145-a3a6-4b0b-fea7-fb60fc67cc5f"
      },
      "execution_count": null,
      "outputs": [
        {
          "output_type": "execute_result",
          "data": {
            "text/plain": [
              "                                                  title           timestamp\n",
              "2002  Cloudflare Pages: Best server tech since CGI-bin? 2022-10-23 16:03:30\n",
              "2003  Gamification affects software developers: Caut... 2022-10-23 20:27:23\n",
              "2004         Maintaining sufficient free space with ZFS 2022-10-23 20:59:16\n",
              "2005               Buffers on the Edge: Python and Rust 2022-10-24 02:21:10\n",
              "2006  Sonic: Fast, lightweight and schema-less searc... 2022-10-24 11:31:27"
            ],
            "text/html": [
              "\n",
              "  <div id=\"df-4d5def1e-0530-4b60-b1d3-db56ae0f81a9\">\n",
              "    <div class=\"colab-df-container\">\n",
              "      <div>\n",
              "<style scoped>\n",
              "    .dataframe tbody tr th:only-of-type {\n",
              "        vertical-align: middle;\n",
              "    }\n",
              "\n",
              "    .dataframe tbody tr th {\n",
              "        vertical-align: top;\n",
              "    }\n",
              "\n",
              "    .dataframe thead th {\n",
              "        text-align: right;\n",
              "    }\n",
              "</style>\n",
              "<table border=\"1\" class=\"dataframe\">\n",
              "  <thead>\n",
              "    <tr style=\"text-align: right;\">\n",
              "      <th></th>\n",
              "      <th>title</th>\n",
              "      <th>timestamp</th>\n",
              "    </tr>\n",
              "  </thead>\n",
              "  <tbody>\n",
              "    <tr>\n",
              "      <th>2002</th>\n",
              "      <td>Cloudflare Pages: Best server tech since CGI-bin?</td>\n",
              "      <td>2022-10-23 16:03:30</td>\n",
              "    </tr>\n",
              "    <tr>\n",
              "      <th>2003</th>\n",
              "      <td>Gamification affects software developers: Caut...</td>\n",
              "      <td>2022-10-23 20:27:23</td>\n",
              "    </tr>\n",
              "    <tr>\n",
              "      <th>2004</th>\n",
              "      <td>Maintaining sufficient free space with ZFS</td>\n",
              "      <td>2022-10-23 20:59:16</td>\n",
              "    </tr>\n",
              "    <tr>\n",
              "      <th>2005</th>\n",
              "      <td>Buffers on the Edge: Python and Rust</td>\n",
              "      <td>2022-10-24 02:21:10</td>\n",
              "    </tr>\n",
              "    <tr>\n",
              "      <th>2006</th>\n",
              "      <td>Sonic: Fast, lightweight and schema-less searc...</td>\n",
              "      <td>2022-10-24 11:31:27</td>\n",
              "    </tr>\n",
              "  </tbody>\n",
              "</table>\n",
              "</div>\n",
              "      <button class=\"colab-df-convert\" onclick=\"convertToInteractive('df-4d5def1e-0530-4b60-b1d3-db56ae0f81a9')\"\n",
              "              title=\"Convert this dataframe to an interactive table.\"\n",
              "              style=\"display:none;\">\n",
              "        \n",
              "  <svg xmlns=\"http://www.w3.org/2000/svg\" height=\"24px\"viewBox=\"0 0 24 24\"\n",
              "       width=\"24px\">\n",
              "    <path d=\"M0 0h24v24H0V0z\" fill=\"none\"/>\n",
              "    <path d=\"M18.56 5.44l.94 2.06.94-2.06 2.06-.94-2.06-.94-.94-2.06-.94 2.06-2.06.94zm-11 1L8.5 8.5l.94-2.06 2.06-.94-2.06-.94L8.5 2.5l-.94 2.06-2.06.94zm10 10l.94 2.06.94-2.06 2.06-.94-2.06-.94-.94-2.06-.94 2.06-2.06.94z\"/><path d=\"M17.41 7.96l-1.37-1.37c-.4-.4-.92-.59-1.43-.59-.52 0-1.04.2-1.43.59L10.3 9.45l-7.72 7.72c-.78.78-.78 2.05 0 2.83L4 21.41c.39.39.9.59 1.41.59.51 0 1.02-.2 1.41-.59l7.78-7.78 2.81-2.81c.8-.78.8-2.07 0-2.86zM5.41 20L4 18.59l7.72-7.72 1.47 1.35L5.41 20z\"/>\n",
              "  </svg>\n",
              "      </button>\n",
              "      \n",
              "  <style>\n",
              "    .colab-df-container {\n",
              "      display:flex;\n",
              "      flex-wrap:wrap;\n",
              "      gap: 12px;\n",
              "    }\n",
              "\n",
              "    .colab-df-convert {\n",
              "      background-color: #E8F0FE;\n",
              "      border: none;\n",
              "      border-radius: 50%;\n",
              "      cursor: pointer;\n",
              "      display: none;\n",
              "      fill: #1967D2;\n",
              "      height: 32px;\n",
              "      padding: 0 0 0 0;\n",
              "      width: 32px;\n",
              "    }\n",
              "\n",
              "    .colab-df-convert:hover {\n",
              "      background-color: #E2EBFA;\n",
              "      box-shadow: 0px 1px 2px rgba(60, 64, 67, 0.3), 0px 1px 3px 1px rgba(60, 64, 67, 0.15);\n",
              "      fill: #174EA6;\n",
              "    }\n",
              "\n",
              "    [theme=dark] .colab-df-convert {\n",
              "      background-color: #3B4455;\n",
              "      fill: #D2E3FC;\n",
              "    }\n",
              "\n",
              "    [theme=dark] .colab-df-convert:hover {\n",
              "      background-color: #434B5C;\n",
              "      box-shadow: 0px 1px 3px 1px rgba(0, 0, 0, 0.15);\n",
              "      filter: drop-shadow(0px 1px 2px rgba(0, 0, 0, 0.3));\n",
              "      fill: #FFFFFF;\n",
              "    }\n",
              "  </style>\n",
              "\n",
              "      <script>\n",
              "        const buttonEl =\n",
              "          document.querySelector('#df-4d5def1e-0530-4b60-b1d3-db56ae0f81a9 button.colab-df-convert');\n",
              "        buttonEl.style.display =\n",
              "          google.colab.kernel.accessAllowed ? 'block' : 'none';\n",
              "\n",
              "        async function convertToInteractive(key) {\n",
              "          const element = document.querySelector('#df-4d5def1e-0530-4b60-b1d3-db56ae0f81a9');\n",
              "          const dataTable =\n",
              "            await google.colab.kernel.invokeFunction('convertToInteractive',\n",
              "                                                     [key], {});\n",
              "          if (!dataTable) return;\n",
              "\n",
              "          const docLinkHtml = 'Like what you see? Visit the ' +\n",
              "            '<a target=\"_blank\" href=https://colab.research.google.com/notebooks/data_table.ipynb>data table notebook</a>'\n",
              "            + ' to learn more about interactive tables.';\n",
              "          element.innerHTML = '';\n",
              "          dataTable['output_type'] = 'display_data';\n",
              "          await google.colab.output.renderOutput(dataTable, element);\n",
              "          const docLink = document.createElement('div');\n",
              "          docLink.innerHTML = docLinkHtml;\n",
              "          element.appendChild(docLink);\n",
              "        }\n",
              "      </script>\n",
              "    </div>\n",
              "  </div>\n",
              "  "
            ],
            "application/vnd.google.colaboratory.module+javascript": "\n      import \"https://ssl.gstatic.com/colaboratory/data_table/a8bd4d5e58f96183/data_table.js\";\n\n      window.createDataTable({\n        data: [[{\n            'v': 2002,\n            'f': \"2002\",\n        },\n\"Cloudflare Pages: Best server tech since CGI-bin?\",\n\"2022-10-23 16:03:30\"],\n [{\n            'v': 2003,\n            'f': \"2003\",\n        },\n\"Gamification affects software developers: Cautionary evidence from GitHub\",\n\"2022-10-23 20:27:23\"],\n [{\n            'v': 2004,\n            'f': \"2004\",\n        },\n\"Maintaining sufficient free space with ZFS\",\n\"2022-10-23 20:59:16\"],\n [{\n            'v': 2005,\n            'f': \"2005\",\n        },\n\"Buffers on the Edge: Python and Rust\",\n\"2022-10-24 02:21:10\"],\n [{\n            'v': 2006,\n            'f': \"2006\",\n        },\n\"Sonic: Fast, lightweight and schema-less search backend\",\n\"2022-10-24 11:31:27\"]],\n        columns: [[\"number\", \"index\"], [\"string\", \"title\"], [\"string\", \"timestamp\"]],\n        columnOptions: [{\"width\": \"1px\", \"className\": \"index_column\"}],\n        rowsPerPage: 25,\n        helpUrl: \"https://colab.research.google.com/notebooks/data_table.ipynb\",\n        suppressOutputScrolling: true,\n        minimumWidth: undefined,\n      });\n    "
          },
          "metadata": {},
          "execution_count": 79
        }
      ]
    },
    {
      "cell_type": "code",
      "source": [
        "sessions_df.timestamp.min(), sessions_df.timestamp.max()"
      ],
      "metadata": {
        "colab": {
          "base_uri": "https://localhost:8080/"
        },
        "id": "STyAunmEgp5B",
        "outputId": "eecafaa3-770d-47c1-9427-76b031f52eef"
      },
      "execution_count": null,
      "outputs": [
        {
          "output_type": "execute_result",
          "data": {
            "text/plain": [
              "(Timestamp('2015-10-31 19:12:46'), Timestamp('2022-10-24 11:31:27'))"
            ]
          },
          "metadata": {},
          "execution_count": 83
        }
      ]
    },
    {
      "cell_type": "code",
      "source": [
        "df_stories_new.shape, df_stories_new.timestamp.min(), df_stories_new.timestamp.max()"
      ],
      "metadata": {
        "colab": {
          "base_uri": "https://localhost:8080/"
        },
        "id": "IvB-iyVrgZJx",
        "outputId": "9d4e2fa2-2003-4f43-dff7-fc5d6ade8a8f"
      },
      "execution_count": null,
      "outputs": [
        {
          "output_type": "execute_result",
          "data": {
            "text/plain": [
              "((8679, 2), '2022-10-14 00:01:15', '2022-10-24 23:57:40')"
            ]
          },
          "metadata": {},
          "execution_count": 24
        }
      ]
    },
    {
      "cell_type": "code",
      "source": [
        "sessions_df.loc[sessions_df.timestamp < df_stories_new.timestamp.min()]"
      ],
      "metadata": {
        "colab": {
          "base_uri": "https://localhost:8080/",
          "height": 641
        },
        "id": "uQdOOtgLge3t",
        "outputId": "28ca50c1-8f0a-4991-997d-8cfdc223a679"
      },
      "execution_count": null,
      "outputs": [
        {
          "output_type": "execute_result",
          "data": {
            "text/plain": [
              "                                                  title           timestamp\n",
              "0     Why I Use Nim instead of Python for Data Proce... 2015-10-31 19:12:46\n",
              "1          What distinguishes great software engineers? 2016-09-22 19:50:03\n",
              "2                                  How to learn hacking 2016-12-10 05:04:23\n",
              "3     How to improve as a struggling junior software... 2018-08-17 10:45:19\n",
              "4             I don't want to learn your query language 2018-09-01 07:37:11\n",
              "...                                                 ...                 ...\n",
              "1967  Why Uber Engineering Switched from Postgres to... 2022-10-09 17:00:42\n",
              "1968  I built a site that lets users find playlists ... 2022-10-10 11:30:21\n",
              "1969                                 How Wine works 101 2022-10-10 21:43:26\n",
              "1970  Where can I see many examples of real companie... 2022-10-11 04:03:37\n",
              "1971  Leslie Lamport revolutionized computer science... 2022-10-11 23:20:45\n",
              "\n",
              "[1972 rows x 2 columns]"
            ],
            "text/html": [
              "\n",
              "  <div id=\"df-4d51d6c4-e314-4e2d-aa58-b4598b5441c6\">\n",
              "    <div class=\"colab-df-container\">\n",
              "      <div>\n",
              "<style scoped>\n",
              "    .dataframe tbody tr th:only-of-type {\n",
              "        vertical-align: middle;\n",
              "    }\n",
              "\n",
              "    .dataframe tbody tr th {\n",
              "        vertical-align: top;\n",
              "    }\n",
              "\n",
              "    .dataframe thead th {\n",
              "        text-align: right;\n",
              "    }\n",
              "</style>\n",
              "<table border=\"1\" class=\"dataframe\">\n",
              "  <thead>\n",
              "    <tr style=\"text-align: right;\">\n",
              "      <th></th>\n",
              "      <th>title</th>\n",
              "      <th>timestamp</th>\n",
              "    </tr>\n",
              "  </thead>\n",
              "  <tbody>\n",
              "    <tr>\n",
              "      <th>0</th>\n",
              "      <td>Why I Use Nim instead of Python for Data Proce...</td>\n",
              "      <td>2015-10-31 19:12:46</td>\n",
              "    </tr>\n",
              "    <tr>\n",
              "      <th>1</th>\n",
              "      <td>What distinguishes great software engineers?</td>\n",
              "      <td>2016-09-22 19:50:03</td>\n",
              "    </tr>\n",
              "    <tr>\n",
              "      <th>2</th>\n",
              "      <td>How to learn hacking</td>\n",
              "      <td>2016-12-10 05:04:23</td>\n",
              "    </tr>\n",
              "    <tr>\n",
              "      <th>3</th>\n",
              "      <td>How to improve as a struggling junior software...</td>\n",
              "      <td>2018-08-17 10:45:19</td>\n",
              "    </tr>\n",
              "    <tr>\n",
              "      <th>4</th>\n",
              "      <td>I don't want to learn your query language</td>\n",
              "      <td>2018-09-01 07:37:11</td>\n",
              "    </tr>\n",
              "    <tr>\n",
              "      <th>...</th>\n",
              "      <td>...</td>\n",
              "      <td>...</td>\n",
              "    </tr>\n",
              "    <tr>\n",
              "      <th>1967</th>\n",
              "      <td>Why Uber Engineering Switched from Postgres to...</td>\n",
              "      <td>2022-10-09 17:00:42</td>\n",
              "    </tr>\n",
              "    <tr>\n",
              "      <th>1968</th>\n",
              "      <td>I built a site that lets users find playlists ...</td>\n",
              "      <td>2022-10-10 11:30:21</td>\n",
              "    </tr>\n",
              "    <tr>\n",
              "      <th>1969</th>\n",
              "      <td>How Wine works 101</td>\n",
              "      <td>2022-10-10 21:43:26</td>\n",
              "    </tr>\n",
              "    <tr>\n",
              "      <th>1970</th>\n",
              "      <td>Where can I see many examples of real companie...</td>\n",
              "      <td>2022-10-11 04:03:37</td>\n",
              "    </tr>\n",
              "    <tr>\n",
              "      <th>1971</th>\n",
              "      <td>Leslie Lamport revolutionized computer science...</td>\n",
              "      <td>2022-10-11 23:20:45</td>\n",
              "    </tr>\n",
              "  </tbody>\n",
              "</table>\n",
              "<p>1972 rows × 2 columns</p>\n",
              "</div>\n",
              "      <button class=\"colab-df-convert\" onclick=\"convertToInteractive('df-4d51d6c4-e314-4e2d-aa58-b4598b5441c6')\"\n",
              "              title=\"Convert this dataframe to an interactive table.\"\n",
              "              style=\"display:none;\">\n",
              "        \n",
              "  <svg xmlns=\"http://www.w3.org/2000/svg\" height=\"24px\"viewBox=\"0 0 24 24\"\n",
              "       width=\"24px\">\n",
              "    <path d=\"M0 0h24v24H0V0z\" fill=\"none\"/>\n",
              "    <path d=\"M18.56 5.44l.94 2.06.94-2.06 2.06-.94-2.06-.94-.94-2.06-.94 2.06-2.06.94zm-11 1L8.5 8.5l.94-2.06 2.06-.94-2.06-.94L8.5 2.5l-.94 2.06-2.06.94zm10 10l.94 2.06.94-2.06 2.06-.94-2.06-.94-.94-2.06-.94 2.06-2.06.94z\"/><path d=\"M17.41 7.96l-1.37-1.37c-.4-.4-.92-.59-1.43-.59-.52 0-1.04.2-1.43.59L10.3 9.45l-7.72 7.72c-.78.78-.78 2.05 0 2.83L4 21.41c.39.39.9.59 1.41.59.51 0 1.02-.2 1.41-.59l7.78-7.78 2.81-2.81c.8-.78.8-2.07 0-2.86zM5.41 20L4 18.59l7.72-7.72 1.47 1.35L5.41 20z\"/>\n",
              "  </svg>\n",
              "      </button>\n",
              "      \n",
              "  <style>\n",
              "    .colab-df-container {\n",
              "      display:flex;\n",
              "      flex-wrap:wrap;\n",
              "      gap: 12px;\n",
              "    }\n",
              "\n",
              "    .colab-df-convert {\n",
              "      background-color: #E8F0FE;\n",
              "      border: none;\n",
              "      border-radius: 50%;\n",
              "      cursor: pointer;\n",
              "      display: none;\n",
              "      fill: #1967D2;\n",
              "      height: 32px;\n",
              "      padding: 0 0 0 0;\n",
              "      width: 32px;\n",
              "    }\n",
              "\n",
              "    .colab-df-convert:hover {\n",
              "      background-color: #E2EBFA;\n",
              "      box-shadow: 0px 1px 2px rgba(60, 64, 67, 0.3), 0px 1px 3px 1px rgba(60, 64, 67, 0.15);\n",
              "      fill: #174EA6;\n",
              "    }\n",
              "\n",
              "    [theme=dark] .colab-df-convert {\n",
              "      background-color: #3B4455;\n",
              "      fill: #D2E3FC;\n",
              "    }\n",
              "\n",
              "    [theme=dark] .colab-df-convert:hover {\n",
              "      background-color: #434B5C;\n",
              "      box-shadow: 0px 1px 3px 1px rgba(0, 0, 0, 0.15);\n",
              "      filter: drop-shadow(0px 1px 2px rgba(0, 0, 0, 0.3));\n",
              "      fill: #FFFFFF;\n",
              "    }\n",
              "  </style>\n",
              "\n",
              "      <script>\n",
              "        const buttonEl =\n",
              "          document.querySelector('#df-4d51d6c4-e314-4e2d-aa58-b4598b5441c6 button.colab-df-convert');\n",
              "        buttonEl.style.display =\n",
              "          google.colab.kernel.accessAllowed ? 'block' : 'none';\n",
              "\n",
              "        async function convertToInteractive(key) {\n",
              "          const element = document.querySelector('#df-4d51d6c4-e314-4e2d-aa58-b4598b5441c6');\n",
              "          const dataTable =\n",
              "            await google.colab.kernel.invokeFunction('convertToInteractive',\n",
              "                                                     [key], {});\n",
              "          if (!dataTable) return;\n",
              "\n",
              "          const docLinkHtml = 'Like what you see? Visit the ' +\n",
              "            '<a target=\"_blank\" href=https://colab.research.google.com/notebooks/data_table.ipynb>data table notebook</a>'\n",
              "            + ' to learn more about interactive tables.';\n",
              "          element.innerHTML = '';\n",
              "          dataTable['output_type'] = 'display_data';\n",
              "          await google.colab.output.renderOutput(dataTable, element);\n",
              "          const docLink = document.createElement('div');\n",
              "          docLink.innerHTML = docLinkHtml;\n",
              "          element.appendChild(docLink);\n",
              "        }\n",
              "      </script>\n",
              "    </div>\n",
              "  </div>\n",
              "  "
            ],
            "application/vnd.google.colaboratory.module+javascript": "\n      import \"https://ssl.gstatic.com/colaboratory/data_table/a8bd4d5e58f96183/data_table.js\";\n\n      window.createDataTable({\n        data: [[{\n            'v': 0,\n            'f': \"0\",\n        },\n\"Why I Use Nim instead of Python for Data Processing\",\n\"2015-10-31 19:12:46\"],\n [{\n            'v': 1,\n            'f': \"1\",\n        },\n\"What distinguishes great software engineers?\",\n\"2016-09-22 19:50:03\"],\n [{\n            'v': 2,\n            'f': \"2\",\n        },\n\"How to learn hacking\",\n\"2016-12-10 05:04:23\"],\n [{\n            'v': 3,\n            'f': \"3\",\n        },\n\"How to improve as a struggling junior software engineer?\",\n\"2018-08-17 10:45:19\"],\n [{\n            'v': 4,\n            'f': \"4\",\n        },\n\"I don't want to learn your query language\",\n\"2018-09-01 07:37:11\"],\n [{\n            'v': 5,\n            'f': \"5\",\n        },\n\"GraphQL kinda sucks\",\n\"2018-12-16 07:37:36\"],\n [{\n            'v': 6,\n            'f': \"6\",\n        },\n\"Networking on AWS\",\n\"2019-01-16 21:16:27\"],\n [{\n            'v': 7,\n            'f': \"7\",\n        },\n\"What are must-know concepts for back end development?\",\n\"2019-01-21 17:20:21\"],\n [{\n            'v': 8,\n            'f': \"8\",\n        },\n\"Kubernetes Production Patterns and Anti-Patterns\",\n\"2019-10-31 18:42:05\"],\n [{\n            'v': 9,\n            'f': \"9\",\n        },\n\"Why Does Developing on Kubernetes Suck?\",\n\"2019-10-31 18:42:07\"],\n [{\n            'v': 10,\n            'f': \"10\",\n        },\n\"Moderna's Covid vaccine shows nearly 95% protection\",\n\"2019-10-31 18:42:22\"],\n [{\n            'v': 11,\n            'f': \"11\",\n        },\n\"Microservices, Containers and Kubernetes in Ten Minutes\",\n\"2019-10-31 18:42:27\"],\n [{\n            'v': 12,\n            'f': \"12\",\n        },\n\"I created a URL shortener that can be entirely hosted on GitHub Pages\",\n\"2019-10-31 18:42:50\"],\n [{\n            'v': 13,\n            'f': \"13\",\n        },\n\"Magic Sandbox \\u2013 learn Kubernetes on real infrastructure\",\n\"2019-10-31 18:43:22\"],\n [{\n            'v': 14,\n            'f': \"14\",\n        },\n\"Essential skill needed to be a programmer?\",\n\"2020-01-14 01:19:58\"],\n [{\n            'v': 15,\n            'f': \"15\",\n        },\n\"How much I made as a good Engineer at Facebook\",\n\"2020-01-30 03:36:37\"],\n [{\n            'v': 16,\n            'f': \"16\",\n        },\n\"Bocker \\u2013 Docker implemented in around 100 lines of Bash\",\n\"2020-02-05 07:21:35\"],\n [{\n            'v': 17,\n            'f': \"17\",\n        },\n\"Go at Google: Language Design in the Service of Software Engineering\",\n\"2020-03-06 09:46:36\"],\n [{\n            'v': 18,\n            'f': \"18\",\n        },\n\"Interfaces \\u2013 The Most Important Software Engineering Concept\",\n\"2020-03-06 09:48:15\"],\n [{\n            'v': 19,\n            'f': \"19\",\n        },\n\"The Log: An Epic Software Engineering Article\",\n\"2020-03-06 09:48:17\"],\n [{\n            'v': 20,\n            'f': \"20\",\n        },\n\"How to: Pass a Silicon Valley Software Engineering Interview\",\n\"2020-03-06 09:48:19\"],\n [{\n            'v': 21,\n            'f': \"21\",\n        },\n\"Principles of Software Engineering, Part 1\",\n\"2020-03-06 09:48:23\"],\n [{\n            'v': 22,\n            'f': \"22\",\n        },\n\"On Infrastructure at Scale: A Cascading Failure of Distributed Systems\",\n\"2020-03-06 09:48:26\"],\n [{\n            'v': 23,\n            'f': \"23\",\n        },\n\"Canary analysis: Lessons learned and best practices from Google and Waze\",\n\"2020-03-06 09:51:49\"],\n [{\n            'v': 24,\n            'f': \"24\",\n        },\n\"Cloud Programming Simplified: A Berkeley View on Serverless Computing\",\n\"2020-03-06 09:55:22\"],\n [{\n            'v': 25,\n            'f': \"25\",\n        },\n\"What are the underrated newsletters you like reading?\",\n\"2020-03-06 10:03:31\"],\n [{\n            'v': 26,\n            'f': \"26\",\n        },\n\"Learn Unreal Engine (With C++) \\u2013 Full Course for Beginners\",\n\"2020-03-06 10:06:40\"],\n [{\n            'v': 27,\n            'f': \"27\",\n        },\n\"Orleans \\u2013 Distributed Virtual Actors for Programmability and Scalability\",\n\"2020-04-08 11:59:47\"],\n [{\n            'v': 28,\n            'f': \"28\",\n        },\n\"Strang's \\u201cLinear Algebra and Learning from Data\\u201d is printed and available\",\n\"2020-04-08 12:55:43\"],\n [{\n            'v': 29,\n            'f': \"29\",\n        },\n\"Git Exercises\",\n\"2020-04-08 13:07:13\"],\n [{\n            'v': 30,\n            'f': \"30\",\n        },\n\"Chat bot powered by GPT-3\",\n\"2020-04-08 13:22:29\"],\n [{\n            'v': 31,\n            'f': \"31\",\n        },\n\"Interpretability in Machine Learning: An Overview\",\n\"2020-04-08 13:37:10\"],\n [{\n            'v': 32,\n            'f': \"32\",\n        },\n\"Advent of Code 2020\",\n\"2020-04-08 13:37:13\"],\n [{\n            'v': 33,\n            'f': \"33\",\n        },\n\"Papers Every Programmer Should Read (At Least Twice)\",\n\"2020-04-08 13:37:15\"],\n [{\n            'v': 34,\n            'f': \"34\",\n        },\n\"Mathematics and Computation\",\n\"2020-04-08 14:31:56\"],\n [{\n            'v': 35,\n            'f': \"35\",\n        },\n\"The open source paradox\",\n\"2020-04-08 18:44:16\"],\n [{\n            'v': 36,\n            'f': \"36\",\n        },\n\"Kubernetes is deprecating Docker runtime support\",\n\"2020-04-08 19:02:07\"],\n [{\n            'v': 37,\n            'f': \"37\",\n        },\n\"MDN Web Docs evolves: Lowdown on the upcoming new platform\",\n\"2020-04-09 09:13:21\"],\n [{\n            'v': 38,\n            'f': \"38\",\n        },\n\"Should that be a microservice? Factors to keep in mind\",\n\"2020-05-06 11:36:15\"],\n [{\n            'v': 39,\n            'f': \"39\",\n        },\n\"Polyglot Makefiles\",\n\"2020-05-06 16:08:31\"],\n [{\n            'v': 40,\n            'f': \"40\",\n        },\n\"A terminal-based workflow for research, writing, and programming\",\n\"2020-05-09 05:21:06\"],\n [{\n            'v': 41,\n            'f': \"41\",\n        },\n\"Drone Footage of Arecibo Observatory Collapse\",\n\"2020-05-09 05:40:52\"],\n [{\n            'v': 42,\n            'f': \"42\",\n        },\n\"Kustomize \\u2013 Templating in Kubernetes\",\n\"2020-05-11 13:54:17\"],\n [{\n            'v': 43,\n            'f': \"43\",\n        },\n\"Rolling your own servers with Kubernetes\",\n\"2020-05-11 15:55:05\"],\n [{\n            'v': 44,\n            'f': \"44\",\n        },\n\"The DynamoDB Book: Data Modeling with NoSQL and DynamoDB\",\n\"2020-05-12 04:55:03\"],\n [{\n            'v': 45,\n            'f': \"45\",\n        },\n\"The most successful developers share more than they take\",\n\"2020-05-12 09:28:18\"],\n [{\n            'v': 46,\n            'f': \"46\",\n        },\n\"How to Read a Research Paper\",\n\"2020-05-14 10:03:34\"],\n [{\n            'v': 47,\n            'f': \"47\",\n        },\n\"I no longer build software\",\n\"2020-05-15 10:06:34\"],\n [{\n            'v': 48,\n            'f': \"48\",\n        },\n\"The Overfitted Brain: Dreams evolved to assist generalization\",\n\"2020-05-15 10:25:43\"],\n [{\n            'v': 49,\n            'f': \"49\",\n        },\n\"What\\u2019s expected of us\",\n\"2020-05-15 11:21:39\"],\n [{\n            'v': 50,\n            'f': \"50\",\n        },\n\"A Way to Detect Bias\",\n\"2020-05-15 15:15:12\"],\n [{\n            'v': 51,\n            'f': \"51\",\n        },\n\"The logging framework isn't a bottleneck, and other lies your laptop tells you\",\n\"2020-05-15 15:37:27\"],\n [{\n            'v': 52,\n            'f': \"52\",\n        },\n\"Twitter Will Allow Employees to Work at Home Forever\",\n\"2020-05-15 15:37:32\"],\n [{\n            'v': 53,\n            'f': \"53\",\n        },\n\"92 of top 500 subreddits controlled by same 5 people\",\n\"2020-05-15 15:37:37\"],\n [{\n            'v': 54,\n            'f': \"54\",\n        },\n\"Advanced SQL and database books and resources\",\n\"2020-05-15 15:38:02\"],\n [{\n            'v': 55,\n            'f': \"55\",\n        },\n\"Learn Istio: A Service Mesh and Istio Resource List\",\n\"2020-05-15 15:39:05\"],\n [{\n            'v': 56,\n            'f': \"56\",\n        },\n\"What are some available force multipliers that most people don't know?\",\n\"2020-05-15 15:42:57\"],\n [{\n            'v': 57,\n            'f': \"57\",\n        },\n\"Validating Kubernetes YAML for best practice and policies\",\n\"2020-05-15 16:22:12\"],\n [{\n            'v': 58,\n            'f': \"58\",\n        },\n\"Five Years of Rust\",\n\"2020-05-15 16:41:25\"],\n [{\n            'v': 59,\n            'f': \"59\",\n        },\n\"WhatsApp delays privacy changes following backlash\",\n\"2020-05-16 22:01:39\"],\n [{\n            'v': 60,\n            'f': \"60\",\n        },\n\"You helped save a company that now helps thousands make a living\",\n\"2020-05-16 22:02:03\"],\n [{\n            'v': 61,\n            'f': \"61\",\n        },\n\"A GitOps development environment in the comfort of your own localhost\",\n\"2020-05-16 22:02:20\"],\n [{\n            'v': 62,\n            'f': \"62\",\n        },\n\"Python Data Visualization 2018: Why So Many Libraries?\",\n\"2020-07-09 13:25:19\"],\n [{\n            'v': 63,\n            'f': \"63\",\n        },\n\"What is the best money you have spent on professional development?\",\n\"2020-07-22 21:44:50\"],\n [{\n            'v': 64,\n            'f': \"64\",\n        },\n\"How to Work Hard\",\n\"2020-07-24 05:56:25\"],\n [{\n            'v': 65,\n            'f': \"65\",\n        },\n\"MIT 6.004 L14: Implementing RISC-V Processor in Hardware\",\n\"2020-07-26 12:52:11\"],\n [{\n            'v': 66,\n            'f': \"66\",\n        },\n\"Computational Model Reveals How the Brain Manages Short-Term Memories\",\n\"2020-08-09 10:26:56\"],\n [{\n            'v': 67,\n            'f': \"67\",\n        },\n\"I created an alternative to the YouTube algorithm to stop me wasting time\",\n\"2020-08-09 11:42:35\"],\n [{\n            'v': 68,\n            'f': \"68\",\n        },\n\"I was a theoretical physicist for 13 years, and struggled a lot with this questi...\",\n\"2020-08-17 09:47:34\"],\n [{\n            'v': 69,\n            'f': \"69\",\n        },\n\"Let's guess what Google requires in 14 days or they kill our extension\",\n\"2020-08-17 10:07:24\"],\n [{\n            'v': 70,\n            'f': \"70\",\n        },\n\"What's your quarantine side project?\",\n\"2020-08-20 16:40:40\"],\n [{\n            'v': 71,\n            'f': \"71\",\n        },\n\"If you want to transform IT, start with finance\",\n\"2020-08-23 16:57:40\"],\n [{\n            'v': 72,\n            'f': \"72\",\n        },\n\"The bottom is dropping out of Netflix\",\n\"2020-08-23 16:57:41\"],\n [{\n            'v': 73,\n            'f': \"73\",\n        },\n\"Open letter to founders: entrepreneurship is not physics\",\n\"2020-08-25 10:50:37\"],\n [{\n            'v': 74,\n            'f': \"74\",\n        },\n\"List of scientific papers found in OpenJDK source code\",\n\"2020-08-29 03:14:56\"],\n [{\n            'v': 75,\n            'f': \"75\",\n        },\n\"Papers you read in 2015?\",\n\"2020-08-29 03:14:56\"],\n [{\n            'v': 76,\n            'f': \"76\",\n        },\n\"Google paper comparing performance of C++, Java, Scala, and Go [PDF]\",\n\"2020-08-29 03:14:57\"],\n [{\n            'v': 77,\n            'f': \"77\",\n        },\n\"How to implement an algorithm from a scientific paper\",\n\"2020-08-29 03:14:58\"],\n [{\n            'v': 78,\n            'f': \"78\",\n        },\n\"Two weeks before death, Hawking submitted a paper on parallel universes\",\n\"2020-08-29 03:14:59\"],\n [{\n            'v': 79,\n            'f': \"79\",\n        },\n\"Papers and essays that every programmer should be aware of\",\n\"2020-08-29 03:15:00\"],\n [{\n            'v': 80,\n            'f': \"80\",\n        },\n\"How to write a great research paper\",\n\"2020-08-29 03:15:01\"],\n [{\n            'v': 81,\n            'f': \"81\",\n        },\n\"Older textbooks/papers you consider classics still worth studying today?\",\n\"2020-08-29 03:15:01\"],\n [{\n            'v': 82,\n            'f': \"82\",\n        },\n\"Papers We Love\",\n\"2020-08-29 03:15:02\"],\n [{\n            'v': 83,\n            'f': \"83\",\n        },\n\"Autopsy of a deep learning paper\",\n\"2020-08-29 03:15:03\"],\n [{\n            'v': 84,\n            'f': \"84\",\n        },\n\"Top PDFs and Papers Submitted to Hacker News\",\n\"2020-08-29 03:15:04\"],\n [{\n            'v': 85,\n            'f': \"85\",\n        },\n\"Learn Anything White Paper\",\n\"2020-08-29 03:15:11\"],\n [{\n            'v': 86,\n            'f': \"86\",\n        },\n\"Differences between the word2vec paper and its implementation\",\n\"2020-08-29 03:15:33\"],\n [{\n            'v': 87,\n            'f': \"87\",\n        },\n\"How to read and understand a scientific paper: a guide for non-scientists\",\n\"2020-08-29 03:15:33\"],\n [{\n            'v': 88,\n            'f': \"88\",\n        },\n\"Best Paper Awards in Computer Science since 1996\",\n\"2020-08-29 03:15:34\"],\n [{\n            'v': 89,\n            'f': \"89\",\n        },\n\"Classic Papers: Articles That Have Stood the Test of Time\",\n\"2020-08-29 03:15:34\"],\n [{\n            'v': 90,\n            'f': \"90\",\n        },\n\"How to Read a Paper\",\n\"2020-08-29 03:15:38\"],\n [{\n            'v': 91,\n            'f': \"91\",\n        },\n\"How to Write a Technical Paper\",\n\"2020-08-29 03:15:38\"],\n [{\n            'v': 92,\n            'f': \"92\",\n        },\n\"Browse State-of-the-Art Machine Learning Papers with Code\",\n\"2020-08-29 03:15:39\"],\n [{\n            'v': 93,\n            'f': \"93\",\n        },\n\"Deep learning papers reading roadmap\",\n\"2020-08-29 03:15:39\"],\n [{\n            'v': 94,\n            'f': \"94\",\n        },\n\"How do you get notified about newest research papers in your field?\",\n\"2020-08-29 03:15:39\"],\n [{\n            'v': 95,\n            'f': \"95\",\n        },\n\"The most cited deep learning papers\",\n\"2020-08-29 03:15:40\"],\n [{\n            'v': 96,\n            'f': \"96\",\n        },\n\"Sci Hub repository torrents of scientific papers\",\n\"2020-08-29 03:15:42\"],\n [{\n            'v': 97,\n            'f': \"97\",\n        },\n\"Technical Papers Every Programmer Should Read (At Least Twice)\",\n\"2020-08-29 03:15:42\"],\n [{\n            'v': 98,\n            'f': \"98\",\n        },\n\"What are some interesting papers in CS for a beginner?\",\n\"2020-08-29 03:15:46\"],\n [{\n            'v': 99,\n            'f': \"99\",\n        },\n\"What was the best CS paper you read in 2017?\",\n\"2020-08-29 03:15:46\"],\n [{\n            'v': 100,\n            'f': \"100\",\n        },\n\"CS papers for software architecture and design?\",\n\"2020-08-29 03:15:46\"],\n [{\n            'v': 101,\n            'f': \"101\",\n        },\n\"A three-page paper that shook philosophy, with lessons for software engineers\",\n\"2020-08-29 03:15:47\"],\n [{\n            'v': 102,\n            'f': \"102\",\n        },\n\"Should All Research Papers Be Free?\",\n\"2020-08-29 03:15:48\"],\n [{\n            'v': 103,\n            'f': \"103\",\n        },\n\"Arxiv Vanity \\u2013 Read academic papers from Arxiv as responsive web pages\",\n\"2020-08-29 03:15:48\"],\n [{\n            'v': 104,\n            'f': \"104\",\n        },\n\"Some of the most important deep learning papers\",\n\"2020-08-29 03:19:58\"],\n [{\n            'v': 105,\n            'f': \"105\",\n        },\n\"A practitioner\\u2019s guide to reading programming languages papers\",\n\"2020-08-29 03:20:11\"],\n [{\n            'v': 106,\n            'f': \"106\",\n        },\n\"A map of one million scientific papers from the arXiv\",\n\"2020-08-29 03:20:11\"],\n [{\n            'v': 107,\n            'f': \"107\",\n        },\n\"What papers should everyone read? - Theoretical Computer Science\",\n\"2020-08-29 03:20:12\"],\n [{\n            'v': 108,\n            'f': \"108\",\n        },\n\"A TensorFlow Implementation of DeepMind's WaveNet Paper\",\n\"2020-08-29 03:20:12\"],\n [{\n            'v': 109,\n            'f': \"109\",\n        },\n\"The Growing Impact of Old Scientific Papers\",\n\"2020-08-29 03:20:12\"],\n [{\n            'v': 110,\n            'f': \"110\",\n        },\n\"Do I really have to cite an arXiv paper?\",\n\"2020-08-29 03:20:13\"],\n [{\n            'v': 111,\n            'f': \"111\",\n        },\n\"Best Papers from 27 Top-Tier Computer Science Conferences\",\n\"2020-08-29 03:20:13\"],\n [{\n            'v': 112,\n            'f': \"112\",\n        },\n\"Thousands of scientific papers uploaded to The Pirate Bay\",\n\"2020-08-29 03:20:16\"],\n [{\n            'v': 113,\n            'f': \"113\",\n        },\n\"Key Papers in Deep Reinforcement Learning\",\n\"2020-08-29 03:27:08\"],\n [{\n            'v': 114,\n            'f': \"114\",\n        },\n\"My Favorite Deep Learning Papers of 2017\",\n\"2020-08-29 03:27:16\"],\n [{\n            'v': 115,\n            'f': \"115\",\n        },\n\"ZeroDB white paper: An end-to-end encrypted database\",\n\"2020-08-29 03:27:19\"],\n [{\n            'v': 116,\n            'f': \"116\",\n        },\n\"All papers published by Microsoft Research\",\n\"2020-08-29 03:31:18\"],\n [{\n            'v': 117,\n            'f': \"117\",\n        },\n\"Stephen Hawking\\u2019s Final Paper: How to Escape from a Black Hole\",\n\"2020-08-29 03:43:32\"],\n [{\n            'v': 118,\n            'f': \"118\",\n        },\n\"Best Papers in Computer Science up to 2011\",\n\"2020-08-29 03:43:38\"],\n [{\n            'v': 119,\n            'f': \"119\",\n        },\n\"My Favorite Papers of 2017\",\n\"2020-08-29 03:44:01\"],\n [{\n            'v': 120,\n            'f': \"120\",\n        },\n\"Learning NoSQL, papers and books\",\n\"2020-08-29 03:44:03\"],\n [{\n            'v': 121,\n            'f': \"121\",\n        },\n\"Half the papers at NIPS would be rejected if the review process were rerun\",\n\"2020-08-29 03:44:12\"],\n [{\n            'v': 122,\n            'f': \"122\",\n        },\n\"How do you read Academic Papers?\",\n\"2020-08-29 03:44:37\"],\n [{\n            'v': 123,\n            'f': \"123\",\n        },\n\"Hey CS Paper writers, please show your code\",\n\"2020-08-29 03:44:41\"],\n [{\n            'v': 124,\n            'f': \"124\",\n        },\n\"What device do you use to read academic papers with?\",\n\"2020-08-29 03:44:44\"],\n [{\n            'v': 125,\n            'f': \"125\",\n        },\n\"What are your favorite scholarly papers? Why?\",\n\"2020-08-29 03:44:52\"],\n [{\n            'v': 126,\n            'f': \"126\",\n        },\n\"Kristen Stewart co-authors AI paper\",\n\"2020-08-29 03:44:56\"],\n [{\n            'v': 127,\n            'f': \"127\",\n        },\n\"A researcher's response to people pointing out 150 errors in four of his papers\",\n\"2020-08-29 03:45:00\"],\n [{\n            'v': 128,\n            'f': \"128\",\n        },\n\"Scientific Papers That Were Rejected Before Going on to Win a Nobel Prize\",\n\"2020-08-29 03:45:10\"],\n [{\n            'v': 129,\n            'f': \"129\",\n        },\n\"Improved Techniques for Training GANs \\u2013 OpenAI's first paper\",\n\"2020-08-29 03:45:22\"],\n [{\n            'v': 130,\n            'f': \"130\",\n        },\n\"This is a news website article about a scientific paper\",\n\"2020-08-29 03:45:26\"],\n [{\n            'v': 131,\n            'f': \"131\",\n        },\n\"Elsevier Says Content-Mining Research Papers 'Could Be Considered' Stealing\",\n\"2020-08-29 03:45:32\"],\n [{\n            'v': 132,\n            'f': \"132\",\n        },\n\"What do you get if you publish a paper in a highly-ranked journal?\",\n\"2020-08-29 03:45:38\"],\n [{\n            'v': 133,\n            'f': \"133\",\n        },\n\"Thousands of scientists publish a paper every five days\",\n\"2020-08-29 03:45:43\"],\n [{\n            'v': 134,\n            'f': \"134\",\n        },\n\"Q&A on P\\u2260NP Paper for Non-Mathematicians\",\n\"2020-08-29 03:45:50\"],\n [{\n            'v': 135,\n            'f': \"135\",\n        },\n\"Where do you find interesting papers to read?\",\n\"2020-08-29 03:45:52\"],\n [{\n            'v': 136,\n            'f': \"136\",\n        },\n\"All Code Implementations for NIPS 2016 Papers\",\n\"2020-08-29 03:45:56\"],\n [{\n            'v': 137,\n            'f': \"137\",\n        },\n\"Learn Go: Hand-crafted Go exercises and examples\",\n\"2020-08-29 03:46:01\"],\n [{\n            'v': 138,\n            'f': \"138\",\n        },\n\"Common *nix commands written in Rust\",\n\"2020-08-29 03:46:18\"],\n [{\n            'v': 139,\n            'f': \"139\",\n        },\n\"Challenge to scientists: does your ten-year-old code still run?\",\n\"2020-09-02 08:07:34\"],\n [{\n            'v': 140,\n            'f': \"140\",\n        },\n\"Being OK with not being extraordinary\",\n\"2020-09-05 02:37:14\"],\n [{\n            'v': 141,\n            'f': \"141\",\n        },\n\"What the interns have wrought, 2020 edition\",\n\"2020-09-05 13:05:52\"],\n [{\n            'v': 142,\n            'f': \"142\",\n        },\n\"A log/event processing pipeline you can't have\",\n\"2020-09-06 04:49:07\"],\n [{\n            'v': 143,\n            'f': \"143\",\n        },\n\"I Compiled NASA\\u2018s Workmanship Standards into a Single PDF\",\n\"2020-09-09 03:54:05\"],\n [{\n            'v': 144,\n            'f': \"144\",\n        },\n\"Ethereum Is a Dark Forest\",\n\"2020-09-09 12:09:56\"],\n [{\n            'v': 145,\n            'f': \"145\",\n        },\n\"New case studies about Google\\u2019s use of Go\",\n\"2020-09-09 12:17:56\"],\n [{\n            'v': 146,\n            'f': \"146\",\n        },\n\"Most-favorited Hacker News posts\",\n\"2020-09-10 11:23:34\"],\n [{\n            'v': 147,\n            'f': \"147\",\n        },\n\"Getting Better at Understanding Academic Papers: A Brief Guide for Beginners\",\n\"2020-09-14 10:49:16\"],\n [{\n            'v': 148,\n            'f': \"148\",\n        },\n\"Linux sysadmin course, eight years on\",\n\"2020-09-14 19:08:04\"],\n [{\n            'v': 149,\n            'f': \"149\",\n        },\n\"Welcome to masterWiki: stolen from MasterClass, republished as wikiHow\",\n\"2020-09-15 03:04:56\"],\n [{\n            'v': 150,\n            'f': \"150\",\n        },\n\"Gallery of Data Visualization: the Best and Worst of Statistical Graphics\",\n\"2020-09-15 16:14:43\"],\n [{\n            'v': 151,\n            'f': \"151\",\n        },\n\"Comprehensive Guide on Data Visualization with Pandas\",\n\"2020-09-15 16:14:43\"],\n [{\n            'v': 152,\n            'f': \"152\",\n        },\n\"Only distributed fact-checking can keep up with democratized distribution\",\n\"2020-09-15 16:14:43\"],\n [{\n            'v': 153,\n            'f': \"153\",\n        },\n\"Nova by Panic\",\n\"2020-09-17 12:52:11\"],\n [{\n            'v': 154,\n            'f': \"154\",\n        },\n\"Build a DIY license plate reader with machine learning\",\n\"2020-09-17 12:52:11\"],\n [{\n            'v': 155,\n            'f': \"155\",\n        },\n\"Learning Tree-Based Deep Model for Recommender Systems\",\n\"2020-09-17 12:52:14\"],\n [{\n            'v': 156,\n            'f': \"156\",\n        },\n\"The Long-Term Stock Exchange Opens for Business\",\n\"2020-09-18 15:50:42\"],\n [{\n            'v': 157,\n            'f': \"157\",\n        },\n\"Graph Representations for Higher-Order Logic and Theorem Proving\",\n\"2020-09-18 17:43:17\"],\n [{\n            'v': 158,\n            'f': \"158\",\n        },\n\"Why Bayesian Stats Needs Monte-Carlo Methods\",\n\"2020-09-19 08:13:43\"],\n [{\n            'v': 159,\n            'f': \"159\",\n        },\n\"How we learnt to stop worrying and love web scraping\",\n\"2020-09-19 11:59:11\"],\n [{\n            'v': 160,\n            'f': \"160\",\n        },\n\"Best Data Science Books According to the Experts\",\n\"2020-09-21 11:06:12\"],\n [{\n            'v': 161,\n            'f': \"161\",\n        },\n\"TikTok reveals details of how its algorithm works\",\n\"2020-09-22 14:16:54\"],\n [{\n            'v': 162,\n            'f': \"162\",\n        },\n\"What do RISC and CISC mean in 2020?\",\n\"2020-09-22 15:01:10\"],\n [{\n            'v': 163,\n            'f': \"163\",\n        },\n\"Differences between open science and reproducability\",\n\"2020-09-23 11:23:41\"],\n [{\n            'v': 164,\n            'f': \"164\",\n        },\n\"Good Python codebases to read?\",\n\"2020-09-24 15:06:02\"],\n [{\n            'v': 165,\n            'f': \"165\",\n        },\n\"Why \\u2018Civilization\\u2019 is a political masterpiece\",\n\"2020-09-24 20:37:33\"],\n [{\n            'v': 166,\n            'f': \"166\",\n        },\n\"Apprentice, Journeyman, and Master: The Medieval Guild\",\n\"2020-09-26 19:44:55\"],\n [{\n            'v': 167,\n            'f': \"167\",\n        },\n\"TypeScript 4.1\",\n\"2020-10-03 23:00:40\"],\n [{\n            'v': 168,\n            'f': \"168\",\n        },\n\"Project Oberon\",\n\"2020-10-04 02:59:56\"],\n [{\n            'v': 169,\n            'f': \"169\",\n        },\n\"The Few, the Tired, the Open Source Coders\",\n\"2020-10-04 08:12:47\"],\n [{\n            'v': 170,\n            'f': \"170\",\n        },\n\"The Knowledge Machine: How Irrationality Created Modern Science\",\n\"2020-10-04 09:07:12\"],\n [{\n            'v': 171,\n            'f': \"171\",\n        },\n\"Igel \\u2013 A CLI tool to run machine learning without writing code\",\n\"2020-10-04 09:07:13\"],\n [{\n            'v': 172,\n            'f': \"172\",\n        },\n\"Chibicc \\u2013 A Small C Compiler\",\n\"2020-10-04 09:07:19\"],\n [{\n            'v': 173,\n            'f': \"173\",\n        },\n\"Waymo pulls back the curtain on 6.1M miles of self-driving car data in Phoenix\",\n\"2020-10-04 21:33:26\"],\n [{\n            'v': 174,\n            'f': \"174\",\n        },\n\"Moving from TypeScript to Rust / WebAssembly\",\n\"2020-10-06 16:00:31\"],\n [{\n            'v': 175,\n            'f': \"175\",\n        },\n\"Data Structure Visualizations\",\n\"2020-10-06 16:01:39\"],\n [{\n            'v': 176,\n            'f': \"176\",\n        },\n\"Why Julia\",\n\"2020-10-07 05:43:11\"],\n [{\n            'v': 177,\n            'f': \"177\",\n        },\n\"An Introduction to GPU Programming in Julia\",\n\"2020-10-07 05:43:14\"],\n [{\n            'v': 178,\n            'f': \"178\",\n        },\n\"Composable multi-threaded parallelism in Julia\",\n\"2020-10-07 05:43:17\"],\n [{\n            'v': 179,\n            'f': \"179\",\n        },\n\"Julia 1.5 Highlights\",\n\"2020-10-07 05:43:20\"],\n [{\n            'v': 180,\n            'f': \"180\",\n        },\n\"Some Insights from a Julia Developer\",\n\"2020-10-07 05:43:22\"],\n [{\n            'v': 181,\n            'f': \"181\",\n        },\n\"My favorite things that are coming with Julia 1.0\",\n\"2020-10-07 05:43:27\"],\n [{\n            'v': 182,\n            'f': \"182\",\n        },\n\"Julia library for fast machine learning\",\n\"2020-10-07 05:43:33\"],\n [{\n            'v': 183,\n            'f': \"183\",\n        },\n\"Julia on Google TPU: Shakespeare RNN\",\n\"2020-10-07 05:43:50\"],\n [{\n            'v': 184,\n            'f': \"184\",\n        },\n\"JuliaCon2020: Julia Is Production Ready\",\n\"2020-10-07 05:43:57\"],\n [{\n            'v': 185,\n            'f': \"185\",\n        },\n\"Automatic Differentiation with Julia\",\n\"2020-10-07 05:43:59\"],\n [{\n            'v': 186,\n            'f': \"186\",\n        },\n\"A Modern Compiler for the French Tax Code\",\n\"2020-10-07 05:44:26\"],\n [{\n            'v': 187,\n            'f': \"187\",\n        },\n\"Engineering and Software Engineering\",\n\"2020-10-07 05:45:04\"],\n [{\n            'v': 188,\n            'f': \"188\",\n        },\n\"Calculus with Julia\",\n\"2020-10-07 06:23:12\"],\n [{\n            'v': 189,\n            'f': \"189\",\n        },\n\"A Julia Interpreter and Debugger\",\n\"2020-10-07 06:23:12\"],\n [{\n            'v': 190,\n            'f': \"190\",\n        },\n\"Fast implementation of DeepMind's AlphaZero algorithm in Julia\",\n\"2020-10-07 06:23:15\"],\n [{\n            'v': 191,\n            'f': \"191\",\n        },\n\"As a person, what can I do to improve a city?\",\n\"2020-10-08 18:22:34\"],\n [{\n            'v': 192,\n            'f': \"192\",\n        },\n\"Developments around Microservices, API Gateways, Kubernetes and Service Mesh\",\n\"2020-10-09 13:14:45\"],\n [{\n            'v': 193,\n            'f': \"193\",\n        },\n\"Developer salary spreadsheet compiled from tweets\",\n\"2020-10-09 21:10:03\"],\n [{\n            'v': 194,\n            'f': \"194\",\n        },\n\"One in five Covid-19 patients develop mental illness within 90 days \\u2013 study\",\n\"2020-10-09 21:10:41\"],\n [{\n            'v': 195,\n            'f': \"195\",\n        },\n\"Do you have a problem? Write a compiler\",\n\"2020-10-11 10:10:14\"],\n [{\n            'v': 196,\n            'f': \"196\",\n        },\n\"Tiny C Compiler\",\n\"2020-10-11 10:10:27\"],\n [{\n            'v': 197,\n            'f': \"197\",\n        },\n\"Compiler Explorer\",\n\"2020-10-11 10:10:33\"],\n [{\n            'v': 198,\n            'f': \"198\",\n        },\n\"TinyGo: New Go Compiler Based on LLVM\",\n\"2020-10-11 10:10:54\"],\n [{\n            'v': 199,\n            'f': \"199\",\n        },\n\"Does a compiler use all x86 instructions?\",\n\"2020-10-11 10:11:03\"],\n [{\n            'v': 200,\n            'f': \"200\",\n        },\n\"Resources for Amateur Compiler Writers\",\n\"2020-10-11 10:11:12\"],\n [{\n            'v': 201,\n            'f': \"201\",\n        },\n\"An optimization guide for assembly programmers and compiler makers\",\n\"2020-10-11 10:11:29\"],\n [{\n            'v': 202,\n            'f': \"202\",\n        },\n\"How to write a tiny compiler\",\n\"2020-10-11 10:11:40\"],\n [{\n            'v': 203,\n            'f': \"203\",\n        },\n\"Basics of Compiler Design\",\n\"2020-10-11 10:11:44\"],\n [{\n            'v': 204,\n            'f': \"204\",\n        },\n\"Compiler Optimizations are Awesome\",\n\"2020-10-11 10:12:27\"],\n [{\n            'v': 205,\n            'f': \"205\",\n        },\n\"No Compiler \\u2013 On LLVM, and writing software without a compiler\",\n\"2020-10-11 10:12:45\"],\n [{\n            'v': 206,\n            'f': \"206\",\n        },\n\"So You Want to Be a Compiler Wizard\",\n\"2020-10-11 10:12:49\"],\n [{\n            'v': 207,\n            'f': \"207\",\n        },\n\"Anders Hejlsberg on Modern Compiler Construction [video]\",\n\"2020-10-11 10:13:01\"],\n [{\n            'v': 208,\n            'f': \"208\",\n        },\n\"Let's Build a Compiler\",\n\"2020-10-11 10:13:21\"],\n [{\n            'v': 209,\n            'f': \"209\",\n        },\n\"The Svelte Compiler Handbook\",\n\"2020-10-11 10:13:22\"],\n [{\n            'v': 210,\n            'f': \"210\",\n        },\n\"Compiler Engineers, what would you advise new grads/students to learn?\",\n\"2020-10-11 10:13:25\"],\n [{\n            'v': 211,\n            'f': \"211\",\n        },\n\"Writing a C Compiler, Part 5\",\n\"2020-10-11 10:13:29\"],\n [{\n            'v': 212,\n            'f': \"212\",\n        },\n\"The Witchcraft Compiler Collection\",\n\"2020-10-11 10:13:42\"],\n [{\n            'v': 213,\n            'f': \"213\",\n        },\n\"Growing a Compiler: Getting to Machine Learning from a General Purpose Compiler\",\n\"2020-10-11 10:13:48\"],\n [{\n            'v': 214,\n            'f': \"214\",\n        },\n\"Getting started with Rust by building a tiny Markdown compiler\",\n\"2020-10-11 10:13:52\"],\n [{\n            'v': 215,\n            'f': \"215\",\n        },\n\"Writing a Compiler in Go\",\n\"2020-10-11 10:13:58\"],\n [{\n            'v': 216,\n            'f': \"216\",\n        },\n\"Compiler Basics: LLVM\",\n\"2020-10-11 10:14:06\"],\n [{\n            'v': 217,\n            'f': \"217\",\n        },\n\"How an Optimizing Compiler Works\",\n\"2020-10-11 10:14:12\"],\n [{\n            'v': 218,\n            'f': \"218\",\n        },\n\"Swift: Challenges and Opportunity for Language and Compiler Research\",\n\"2020-10-11 10:14:53\"],\n [{\n            'v': 219,\n            'f': \"219\",\n        },\n\"An Incremental Approach to Compiler Construction\",\n\"2020-10-11 10:14:59\"],\n [{\n            'v': 220,\n            'f': \"220\",\n        },\n\"XLA: The TensorFlow compiler framework\",\n\"2020-10-11 10:15:08\"],\n [{\n            'v': 221,\n            'f': \"221\",\n        },\n\"MLIR: A Compiler Infrastructure for the End of Moore's Law\",\n\"2020-10-11 10:15:20\"],\n [{\n            'v': 222,\n            'f': \"222\",\n        },\n\"Servo\\u2019s new home\",\n\"2020-10-11 10:15:23\"],\n [{\n            'v': 223,\n            'f': \"223\",\n        },\n\"Hemingway Editor\",\n\"2020-10-11 10:16:16\"],\n [{\n            'v': 224,\n            'f': \"224\",\n        },\n\"Darpa invests $100M in a silicon compiler\",\n\"2020-10-11 11:53:36\"],\n [{\n            'v': 225,\n            'f': \"225\",\n        },\n\"How to Think for Yourself\",\n\"2020-10-12 03:25:30\"],\n [{\n            'v': 226,\n            'f': \"226\",\n        },\n\"Advice to my young self: forget side projects and focus on your job\",\n\"2020-10-13 09:10:45\"],\n [{\n            'v': 227,\n            'f': \"227\",\n        },\n\"Getting Started with Rust by Building a Tiny Markdown Compiler\",\n\"2020-10-13 09:11:01\"],\n [{\n            'v': 228,\n            'f': \"228\",\n        },\n\"What every software engineer should know about Apache Kafka\",\n\"2020-10-13 09:11:21\"],\n [{\n            'v': 229,\n            'f': \"229\",\n        },\n\"What are your favorite developer-efficiency tips?\",\n\"2020-10-30 09:42:28\"],\n [{\n            'v': 230,\n            'f': \"230\",\n        },\n\"A Guide to Deep Learning and Neural Networks\",\n\"2020-10-30 14:43:27\"],\n [{\n            'v': 231,\n            'f': \"231\",\n        },\n\"Write Libraries, Not Frameworks\",\n\"2020-10-30 14:43:29\"],\n [{\n            'v': 232,\n            'f': \"232\",\n        },\n\"New Google SRE book: Building Secure and Reliable Systems\",\n\"2020-10-31 02:40:58\"],\n [{\n            'v': 233,\n            'f': \"233\",\n        },\n\"What would mechanical programming look like?\",\n\"2020-10-31 05:18:16\"],\n [{\n            'v': 234,\n            'f': \"234\",\n        },\n\"Swift Concurrency Roadmap\",\n\"2020-10-31 06:32:16\"],\n [{\n            'v': 235,\n            'f': \"235\",\n        },\n\"Edsger Dijkstra \\u2013 The Man Who Carried Computer Science on His Shoulders\",\n\"2020-10-31 06:32:19\"],\n [{\n            'v': 236,\n            'f': \"236\",\n        },\n\"Using Vim for C++ Development\",\n\"2020-10-31 18:49:46\"],\n [{\n            'v': 237,\n            'f': \"237\",\n        },\n\"Effect of exercise training for five years on all cause mortality\",\n\"2020-10-31 18:49:47\"],\n [{\n            'v': 238,\n            'f': \"238\",\n        },\n\"Funkwhale \\u2013 Decentralized, self-hosted music server\",\n\"2020-10-31 18:50:16\"],\n [{\n            'v': 239,\n            'f': \"239\",\n        },\n\"How do you work through large ideas?\",\n\"2020-11-01 21:17:34\"],\n [{\n            'v': 240,\n            'f': \"240\",\n        },\n\"Why did renewables become so cheap so fast?\",\n\"2020-11-02 09:27:40\"],\n [{\n            'v': 241,\n            'f': \"241\",\n        },\n\"Vue.js 3\",\n\"2020-11-02 15:43:13\"],\n [{\n            'v': 242,\n            'f': \"242\",\n        },\n\"The full-time job of keeping up with Kubernetes\",\n\"2020-11-06 15:48:12\"],\n [{\n            'v': 243,\n            'f': \"243\",\n        },\n\"Why I teach vim\",\n\"2020-11-07 13:53:17\"],\n [{\n            'v': 244,\n            'f': \"244\",\n        },\n\"Am I too late for the \\u201cData Science\\u201d wave?\",\n\"2020-11-07 15:34:02\"],\n [{\n            'v': 245,\n            'f': \"245\",\n        },\n\"To find great remote employees, prioritize candidates with strong writing skills\",\n\"2020-11-09 09:54:03\"],\n [{\n            'v': 246,\n            'f': \"246\",\n        },\n\"McDonald's is adding plant-based burgers to the menu\",\n\"2020-11-10 08:34:20\"],\n [{\n            'v': 247,\n            'f': \"247\",\n        },\n\"Lobe.ai \\u2013 A simple tool for training machine learning models\",\n\"2020-11-10 16:20:40\"],\n [{\n            'v': 248,\n            'f': \"248\",\n        },\n\".NET Orleans\",\n\"2020-11-11 10:53:37\"],\n [{\n            'v': 249,\n            'f': \"249\",\n        },\n\"Wayeb: A Complex Event Processing and Forecasting Engine\",\n\"2020-11-12 17:49:57\"],\n [{\n            'v': 250,\n            'f': \"250\",\n        },\n\"Linux Command One-Liners\",\n\"2020-11-12 17:50:05\"],\n [{\n            'v': 251,\n            'f': \"251\",\n        },\n\"So you've made a mistake and it's public\",\n\"2020-11-12 17:50:20\"],\n [{\n            'v': 252,\n            'f': \"252\",\n        },\n\"Ethereum 2.0 launches\",\n\"2020-11-12 18:17:55\"],\n [{\n            'v': 253,\n            'f': \"253\",\n        },\n\"The Google incentive mismatch: Problems with promotion-oriented cultures\",\n\"2020-11-13 12:46:28\"],\n [{\n            'v': 254,\n            'f': \"254\",\n        },\n\"The Presence of One\\u2019s Own Smartphone Reduces Available Cognitive Capacity\",\n\"2020-11-13 13:03:06\"],\n [{\n            'v': 255,\n            'f': \"255\",\n        },\n\"The Cost of Skipping TDD and Code Reviews\",\n\"2020-11-14 08:08:23\"],\n [{\n            'v': 256,\n            'f': \"256\",\n        },\n\"Natural Language Processing with Deep Learning\",\n\"2020-11-15 16:13:45\"],\n [{\n            'v': 257,\n            'f': \"257\",\n        },\n\"Topics in Advanced Data Structures\",\n\"2020-11-15 16:20:07\"],\n [{\n            'v': 258,\n            'f': \"258\",\n        },\n\"How attractive is your website? Check using Visual Mind AI\",\n\"2020-11-15 21:05:40\"],\n [{\n            'v': 259,\n            'f': \"259\",\n        },\n\"Huang\\u2019s Law Is the New Moore\\u2019s Law, and Explains Why Nvidia Wants Arm\",\n\"2020-11-16 02:27:09\"],\n [{\n            'v': 260,\n            'f': \"260\",\n        },\n\"Tables: Tracking work for teams\",\n\"2020-11-16 04:18:56\"],\n [{\n            'v': 261,\n            'f': \"261\",\n        },\n\"On Learning Chess as an Adult \\u2013 From 650 to 1750 in Two Years\",\n\"2020-11-16 15:05:40\"],\n [{\n            'v': 262,\n            'f': \"262\",\n        },\n\"Ok Google: please publish your DKIM secret keys\",\n\"2020-11-16 15:05:56\"],\n [{\n            'v': 263,\n            'f': \"263\",\n        },\n\"The Serverless Revolution Has Stalled\",\n\"2020-11-16 15:06:27\"],\n [{\n            'v': 264,\n            'f': \"264\",\n        },\n\"What are good resources to learn system design?\",\n\"2020-11-16 17:28:58\"],\n [{\n            'v': 265,\n            'f': \"265\",\n        },\n\"How I'm able to take notes in mathematics lectures using LaTeX and Vim\",\n\"2020-11-17 13:58:58\"],\n [{\n            'v': 266,\n            'f': \"266\",\n        },\n\"Airbnb S-1\",\n\"2020-11-17 13:58:58\"],\n [{\n            'v': 267,\n            'f': \"267\",\n        },\n\"New powerful malware obfuscation technique\",\n\"2020-11-17 13:58:58\"],\n [{\n            'v': 268,\n            'f': \"268\",\n        },\n\"Best aspects of C\",\n\"2020-11-17 20:39:05\"],\n [{\n            'v': 269,\n            'f': \"269\",\n        },\n\"Playing on Hard Mode\",\n\"2020-11-17 20:39:08\"],\n [{\n            'v': 270,\n            'f': \"270\",\n        },\n\"What is your favorite CS paper?\",\n\"2020-11-17 20:39:32\"],\n [{\n            'v': 271,\n            'f': \"271\",\n        },\n\"Who's downloading pirated papers? Everyone\",\n\"2020-11-17 20:39:38\"],\n [{\n            'v': 272,\n            'f': \"272\",\n        },\n\"Building a Language and Compiler for Machine Learning\",\n\"2020-11-18 11:56:39\"],\n [{\n            'v': 273,\n            'f': \"273\",\n        },\n\"Want to Write a Compiler? Just Read These Two Papers.\",\n\"2020-11-18 13:37:36\"],\n [{\n            'v': 274,\n            'f': \"274\",\n        },\n\"Why neural networks struggle with the Game of Life\",\n\"2020-11-18 16:18:12\"],\n [{\n            'v': 275,\n            'f': \"275\",\n        },\n\"Crows possess higher intelligence long thought a primarily human attribute\",\n\"2020-11-18 17:36:28\"],\n [{\n            'v': 276,\n            'f': \"276\",\n        },\n\"VkFFT \\u2013 Vulkan Fast Fourier Transform library\",\n\"2020-11-20 10:14:10\"],\n [{\n            'v': 277,\n            'f': \"277\",\n        },\n\"A Look at How Traders and Economists Are Using the Julia Programming Language\",\n\"2020-11-20 10:14:17\"],\n [{\n            'v': 278,\n            'f': \"278\",\n        },\n\"Lectures in Quantitative Economics as Python and Julia Notebooks\",\n\"2020-11-20 10:14:26\"],\n [{\n            'v': 279,\n            'f': \"279\",\n        },\n\"Docker is a dangerous gamble which we will regret\",\n\"2020-11-21 01:44:35\"],\n [{\n            'v': 280,\n            'f': \"280\",\n        },\n\"These are called opportunities\",\n\"2020-11-21 01:44:43\"],\n [{\n            'v': 281,\n            'f': \"281\",\n        },\n\"The mystery of why one ant species goes after larger foes\",\n\"2020-11-21 21:58:19\"],\n [{\n            'v': 282,\n            'f': \"282\",\n        },\n\"How to learn sales?\",\n\"2020-11-22 15:56:27\"],\n [{\n            'v': 283,\n            'f': \"283\",\n        },\n\"Structural studies of the global networks exposed in the Panama papers\",\n\"2020-11-22 16:36:20\"],\n [{\n            'v': 284,\n            'f': \"284\",\n        },\n\"SaaS Needs a Single Point of Purchase\",\n\"2020-11-23 13:18:24\"],\n [{\n            'v': 285,\n            'f': \"285\",\n        },\n\"A from-scratch tour of Bitcoin in Python\",\n\"2020-11-23 15:27:44\"],\n [{\n            'v': 286,\n            'f': \"286\",\n        },\n\"Intermediate Vim\",\n\"2020-11-25 04:15:43\"],\n [{\n            'v': 287,\n            'f': \"287\",\n        },\n\"Software Engineering \\u2260 Computer Science\",\n\"2020-11-25 23:12:36\"],\n [{\n            'v': 288,\n            'f': \"288\",\n        },\n\"The Lonely Work of Moderating Hacker News\",\n\"2020-11-27 16:32:43\"],\n [{\n            'v': 289,\n            'f': \"289\",\n        },\n\"An introduction to distributed systems\",\n\"2020-11-27 16:32:44\"],\n [{\n            'v': 290,\n            'f': \"290\",\n        },\n\"I'm Peter Roberts, immigration attorney who does work for YC startups. AMA\",\n\"2020-11-27 19:35:23\"],\n [{\n            'v': 291,\n            'f': \"291\",\n        },\n\"Community Interaction and Conflict on the Web\",\n\"2020-11-28 15:32:22\"],\n [{\n            'v': 292,\n            'f': \"292\",\n        },\n\"What is deliberate practice for programmers?\",\n\"2020-11-28 22:03:31\"],\n [{\n            'v': 293,\n            'f': \"293\",\n        },\n\"Please read the paper before you comment\",\n\"2020-11-29 20:42:46\"],\n [{\n            'v': 294,\n            'f': \"294\",\n        },\n\"C Programming Guidelines\",\n\"2020-11-30 11:37:04\"],\n [{\n            'v': 295,\n            'f': \"295\",\n        },\n\"C Compiler from Scratch\",\n\"2020-11-30 11:37:06\"],\n [{\n            'v': 296,\n            'f': \"296\",\n        },\n\"The Truth About Starting a Startup\",\n\"2020-11-30 11:39:14\"],\n [{\n            'v': 297,\n            'f': \"297\",\n        },\n\"Keeping Netflix Reliable Using Prioritized Load Shedding\",\n\"2020-11-30 13:31:25\"],\n [{\n            'v': 298,\n            'f': \"298\",\n        },\n\"C for Python programmers\",\n\"2020-12-01 08:34:31\"],\n [{\n            'v': 299,\n            'f': \"299\",\n        },\n\"C for All\",\n\"2020-12-01 08:34:31\"],\n [{\n            'v': 300,\n            'f': \"300\",\n        },\n\"C vs GO\",\n\"2020-12-01 08:34:32\"],\n [{\n            'v': 301,\n            'f': \"301\",\n        },\n\"New study suggests handwriting engages the brain more than typing\",\n\"2020-12-01 08:34:34\"],\n [{\n            'v': 302,\n            'f': \"302\",\n        },\n\"Biggest Y Combinator Failed Startups\",\n\"2020-12-01 10:35:54\"],\n [{\n            'v': 303,\n            'f': \"303\",\n        },\n\"Only 17% of consumers believe personalized ads are ethical, survey says\",\n\"2020-12-01 21:17:01\"],\n [{\n            'v': 304,\n            'f': \"304\",\n        },\n\"Reasons to prefer Linux over Windows\",\n\"2020-12-01 23:55:21\"],\n [{\n            'v': 305,\n            'f': \"305\",\n        },\n\"The Matrix Calculus You Need for Deep Learning\",\n\"2020-12-02 00:17:56\"],\n [{\n            'v': 306,\n            'f': \"306\",\n        },\n\"Grid: AI platform from the makers of PyTorch Lightning\",\n\"2020-12-02 00:23:07\"],\n [{\n            'v': 307,\n            'f': \"307\",\n        },\n\"Google/Trax \\u2013 Understand and explore advanced deep learning\",\n\"2020-12-02 00:41:27\"],\n [{\n            'v': 308,\n            'f': \"308\",\n        },\n\"The Nobel Peace Prize 2020\",\n\"2020-12-02 01:03:16\"],\n [{\n            'v': 309,\n            'f': \"309\",\n        },\n\"Dropbox saved $75M over two years by building its own infrastructure\",\n\"2020-12-02 07:02:45\"],\n [{\n            'v': 310,\n            'f': \"310\",\n        },\n\"Giving up on Julia\",\n\"2020-12-02 07:18:02\"],\n [{\n            'v': 311,\n            'f': \"311\",\n        },\n\"Managers, not workers, are losing jobs to AI and robots: study\",\n\"2020-12-03 02:23:59\"],\n [{\n            'v': 312,\n            'f': \"312\",\n        },\n\"Taking PHP Seriously\",\n\"2020-12-03 02:25:07\"],\n [{\n            'v': 313,\n            'f': \"313\",\n        },\n\"What G\\u00f6del Discovered\",\n\"2020-12-03 02:25:08\"],\n [{\n            'v': 314,\n            'f': \"314\",\n        },\n\"Git is too hard\",\n\"2020-12-03 02:36:23\"],\n [{\n            'v': 315,\n            'f': \"315\",\n        },\n\"Sight restored by turning back the epigenetic clock\",\n\"2020-12-03 09:50:15\"],\n [{\n            'v': 316,\n            'f': \"316\",\n        },\n\"Controversial Programming Opinions\",\n\"2020-12-03 09:50:18\"],\n [{\n            'v': 317,\n            'f': \"317\",\n        },\n\"I've now played with a Raspberry Pi 400 for a week and here are my conclusions\",\n\"2020-12-03 13:20:33\"],\n [{\n            'v': 318,\n            'f': \"318\",\n        },\n\"TinyCheck: Easily capture network communications coming from a smartphone\",\n\"2020-12-04 01:47:26\"],\n [{\n            'v': 319,\n            'f': \"319\",\n        },\n\"Using Bloom filters to efficiently synchronise hash graphs\",\n\"2020-12-04 01:47:27\"],\n [{\n            'v': 320,\n            'f': \"320\",\n        },\n\"Stored Procedures as a Back End\",\n\"2020-12-04 01:47:40\"],\n [{\n            'v': 321,\n            'f': \"321\",\n        },\n\"S&P Dow Jones Indices to launch cryptocurrency indexes in 2021\",\n\"2020-12-04 01:47:46\"],\n [{\n            'v': 322,\n            'f': \"322\",\n        },\n\"NN-512 \\u2013 Generate standalone C code for neural nets\",\n\"2020-12-04 01:47:55\"],\n [{\n            'v': 323,\n            'f': \"323\",\n        },\n\"\\u201cI've had to relearn coding to get through the new interviews\\u201d\",\n\"2020-12-04 01:48:06\"],\n [{\n            'v': 324,\n            'f': \"324\",\n        },\n\"Why books don't work\",\n\"2020-12-04 01:48:10\"],\n [{\n            'v': 325,\n            'f': \"325\",\n        },\n\"ruslanuchan's comments\",\n\"2020-12-04 04:21:04\"],\n [{\n            'v': 326,\n            'f': \"326\",\n        },\n\"Billionaires Build\",\n\"2020-12-05 06:24:15\"],\n [{\n            'v': 327,\n            'f': \"327\",\n        },\n\"The Tao of Programming\",\n\"2020-12-05 06:24:16\"],\n [{\n            'v': 328,\n            'f': \"328\",\n        },\n\"Free and liberated e-books, carefully produced for the true book lover\",\n\"2020-12-05 07:44:53\"],\n [{\n            'v': 329,\n            'f': \"329\",\n        },\n\"A free introduction to quantum computing and quantum mechanics\",\n\"2020-12-06 02:31:25\"],\n [{\n            'v': 330,\n            'f': \"330\",\n        },\n\"A new jailbreak for a new era\",\n\"2020-12-06 02:37:41\"],\n [{\n            'v': 331,\n            'f': \"331\",\n        },\n\"AlphaFold: a solution to a 50-year-old grand challenge in biology\",\n\"2020-12-06 04:05:50\"],\n [{\n            'v': 332,\n            'f': \"332\",\n        },\n\"You Are the Product\",\n\"2020-12-06 10:46:33\"],\n [{\n            'v': 333,\n            'f': \"333\",\n        },\n\"Exotic Programming Ideas, Part 3: Effect Systems\",\n\"2020-12-06 12:30:16\"],\n [{\n            'v': 334,\n            'f': \"334\",\n        },\n\"A tool for recovering passwords from pixelized screenshots\",\n\"2020-12-07 04:25:33\"],\n [{\n            'v': 335,\n            'f': \"335\",\n        },\n\"Every Model Learned by Gradient Descent Is Approximately a Kernel Machine\",\n\"2020-12-07 04:26:22\"],\n [{\n            'v': 336,\n            'f': \"336\",\n        },\n\"Why do most top performers have the highest count of commits and pull requests?\",\n\"2020-12-07 04:26:23\"],\n [{\n            'v': 337,\n            'f': \"337\",\n        },\n\"Working at Apple\",\n\"2020-12-07 07:29:19\"],\n [{\n            'v': 338,\n            'f': \"338\",\n        },\n\"Craft \\u2013 A fresh take on documents\",\n\"2020-12-07 07:29:28\"],\n [{\n            'v': 339,\n            'f': \"339\",\n        },\n\"What are the best advanced computer science courses online?\",\n\"2020-12-07 12:13:19\"],\n [{\n            'v': 340,\n            'f': \"340\",\n        },\n\"How to Get a Job in Deep Learning\",\n\"2020-12-07 14:42:52\"],\n [{\n            'v': 341,\n            'f': \"341\",\n        },\n\"Parsing JSON at the CLI: A Practical Introduction to jq and more\",\n\"2020-12-07 15:07:46\"],\n [{\n            'v': 342,\n            'f': \"342\",\n        },\n\"Maybe we shouldn't want a fully decentralized web\",\n\"2020-12-07 15:07:47\"],\n [{\n            'v': 343,\n            'f': \"343\",\n        },\n\"YouTube Class Action: Same IP Address Upload Pirate Movies and File DMCA Notices\",\n\"2020-12-07 15:07:48\"],\n [{\n            'v': 344,\n            'f': \"344\",\n        },\n\"Radicle: A peer-to-peer alternative to GitHub\",\n\"2020-12-07 15:07:52\"],\n [{\n            'v': 345,\n            'f': \"345\",\n        },\n\"Important, Spoofing (zero-interaction RCE in MS Teams)\",\n\"2020-12-07 15:07:52\"],\n [{\n            'v': 346,\n            'f': \"346\",\n        },\n\"Scaling Down Deep Learning\",\n\"2020-12-07 15:14:59\"],\n [{\n            'v': 347,\n            'f': \"347\",\n        },\n\"Monica: Personal CRM. Remember everything about your friends, family and etc.\",\n\"2020-12-07 15:37:17\"],\n [{\n            'v': 348,\n            'f': \"348\",\n        },\n\"How Shopify Uses WebAssembly Outside of the Browser\",\n\"2020-12-08 03:14:39\"],\n [{\n            'v': 349,\n            'f': \"349\",\n        },\n\"Notebook Is A Better Readme\",\n\"2020-12-08 03:15:21\"],\n [{\n            'v': 350,\n            'f': \"350\",\n        },\n\"Introduction to Scientific Computing?\",\n\"2020-12-08 06:18:33\"],\n [{\n            'v': 351,\n            'f': \"351\",\n        },\n\"Non-Blocking Parallelism for Services in Go\",\n\"2020-12-08 16:34:12\"],\n [{\n            'v': 352,\n            'f': \"352\",\n        },\n\"Am I Disabled?\",\n\"2020-12-09 03:20:21\"],\n [{\n            'v': 353,\n            'f': \"353\",\n        },\n\"What is tech stack of HackerNews?\",\n\"2020-12-10 03:13:47\"],\n [{\n            'v': 354,\n            'f': \"354\",\n        },\n\"A Complete Guide to LLVM for Programming Language Creators\",\n\"2020-12-10 03:14:10\"],\n [{\n            'v': 355,\n            'f': \"355\",\n        },\n\"Cosmopolitan Libc: build-once run-anywhere C library\",\n\"2020-12-10 10:04:19\"],\n [{\n            'v': 356,\n            'f': \"356\",\n        },\n\"How Payment Transaction Processing Works\",\n\"2020-12-10 13:29:44\"],\n [{\n            'v': 357,\n            'f': \"357\",\n        },\n\"Losing all interest in programming, what now?\",\n\"2020-12-10 15:35:51\"],\n [{\n            'v': 358,\n            'f': \"358\",\n        },\n\"DRY Is a Trade-Off\",\n\"2020-12-10 15:36:19\"],\n [{\n            'v': 359,\n            'f': \"359\",\n        },\n\"Why lasers are so brilliantly useful\",\n\"2020-12-10 15:41:20\"],\n [{\n            'v': 360,\n            'f': \"360\",\n        },\n\"Zero-click, wormable, cross-platform remote code execution in Microsoft Teams\",\n\"2020-12-10 17:24:22\"],\n [{\n            'v': 361,\n            'f': \"361\",\n        },\n\"How I Collected a Debt from an Unscrupulous Merchant\",\n\"2020-12-10 19:41:49\"],\n [{\n            'v': 362,\n            'f': \"362\",\n        },\n\"LinkedIn\\u2019s Alternate Universe\",\n\"2020-12-10 19:48:02\"],\n [{\n            'v': 363,\n            'f': \"363\",\n        },\n\"Learning about philosophy\",\n\"2020-12-11 02:05:34\"],\n [{\n            'v': 364,\n            'f': \"364\",\n        },\n\"Pointer Pointer\",\n\"2020-12-11 10:28:45\"],\n [{\n            'v': 365,\n            'f': \"365\",\n        },\n\"Seeing Theory: A visual introduction to probability and statistics\",\n\"2020-12-11 11:25:28\"],\n [{\n            'v': 366,\n            'f': \"366\",\n        },\n\"Pornhub just purged all unverified content from the platform\",\n\"2020-12-11 11:48:17\"],\n [{\n            'v': 367,\n            'f': \"367\",\n        },\n\"Mojeek: Independent search engine with its own spider\",\n\"2020-12-12 06:52:58\"],\n [{\n            'v': 368,\n            'f': \"368\",\n        },\n\"How hard should I push myself?\",\n\"2020-12-12 06:53:37\"],\n [{\n            'v': 369,\n            'f': \"369\",\n        },\n\"The Rise and Fall of Ambrosia Software\",\n\"2020-12-12 08:08:56\"],\n [{\n            'v': 370,\n            'f': \"370\",\n        },\n\"Cryptography Dispatches: The Most Backdoor-Looking Bug I\\u2019ve Ever Seen\",\n\"2020-12-12 08:10:20\"],\n [{\n            'v': 371,\n            'f': \"371\",\n        },\n\"Mastering Chess and Shogi by Self-Play with General Reinforcement Learning\",\n\"2020-12-12 19:19:26\"],\n [{\n            'v': 372,\n            'f': \"372\",\n        },\n\"Chesscademy \\u2013 Learn How to Play Chess\",\n\"2020-12-12 19:20:15\"],\n [{\n            'v': 373,\n            'f': \"373\",\n        },\n\"Aggressive Chess Openings\",\n\"2020-12-12 19:20:29\"],\n [{\n            'v': 374,\n            'f': \"374\",\n        },\n\"How to Get Good at Chess, Fast\",\n\"2020-12-12 19:20:33\"],\n [{\n            'v': 375,\n            'f': \"375\",\n        },\n\"Mental processes of chess masters revealed how people become experts\",\n\"2020-12-12 19:20:40\"],\n [{\n            'v': 376,\n            'f': \"376\",\n        },\n\"Chess Steganography\",\n\"2020-12-12 19:20:43\"],\n [{\n            'v': 377,\n            'f': \"377\",\n        },\n\"WebRTC is now a W3C and IETF standard\",\n\"2020-12-12 19:21:02\"],\n [{\n            'v': 378,\n            'f': \"378\",\n        },\n\"Build your own programming language in C++\",\n\"2020-12-12 19:21:19\"],\n [{\n            'v': 379,\n            'f': \"379\",\n        },\n\"Operating Systems: Three Easy Pieces\",\n\"2020-12-13 15:39:08\"],\n [{\n            'v': 380,\n            'f': \"380\",\n        },\n\"Diem \\u2013 A rebrand of Facebook\\u2019s Libra\",\n\"2020-12-13 20:04:44\"],\n [{\n            'v': 381,\n            'f': \"381\",\n        },\n\"How to improve my chess skills?\",\n\"2020-12-13 21:37:38\"],\n [{\n            'v': 382,\n            'f': \"382\",\n        },\n\"Stockfish \\u2013 Strong Open-Source Chess Engine\",\n\"2020-12-13 21:37:38\"],\n [{\n            'v': 383,\n            'f': \"383\",\n        },\n\"Is deep learning a new kind of programming?\",\n\"2020-12-13 21:37:38\"],\n [{\n            'v': 384,\n            'f': \"384\",\n        },\n\"Just Wanted to Say Thanks\",\n\"2020-12-13 21:37:39\"],\n [{\n            'v': 385,\n            'f': \"385\",\n        },\n\"Favorite Podcast Episode of 2020\",\n\"2020-12-13 23:42:49\"],\n [{\n            'v': 386,\n            'f': \"386\",\n        },\n\"QBE vs. LLVM\",\n\"2020-12-14 00:31:00\"],\n [{\n            'v': 387,\n            'f': \"387\",\n        },\n\"Some Useful Probability Facts for Systems Programming\",\n\"2020-12-14 19:12:38\"],\n [{\n            'v': 388,\n            'f': \"388\",\n        },\n\"Next Gen Static Blogging\",\n\"2020-12-15 18:03:46\"],\n [{\n            'v': 389,\n            'f': \"389\",\n        },\n\"Lonely people's brains are different due to excess of imaginary social contact\",\n\"2020-12-15 18:03:47\"],\n [{\n            'v': 390,\n            'f': \"390\",\n        },\n\"Shitlist Driven Development\",\n\"2020-12-15 18:03:47\"],\n [{\n            'v': 391,\n            'f': \"391\",\n        },\n\"An Invisible Tax on the Web: Video Codecs\",\n\"2020-12-15 18:33:46\"],\n [{\n            'v': 392,\n            'f': \"392\",\n        },\n\"I assume I\\u2019m below average\",\n\"2020-12-15 20:48:15\"],\n [{\n            'v': 393,\n            'f': \"393\",\n        },\n\"Should There Be Limits on Persuasive Technologies?\",\n\"2020-12-15 22:06:45\"],\n [{\n            'v': 394,\n            'f': \"394\",\n        },\n\"How Video Works\",\n\"2020-12-15 22:39:02\"],\n [{\n            'v': 395,\n            'f': \"395\",\n        },\n\"To the brain, reading computer code is not the same as reading language\",\n\"2020-12-17 09:52:54\"],\n [{\n            'v': 396,\n            'f': \"396\",\n        },\n\"Sponsoring Open Source Developers\",\n\"2020-12-17 09:52:54\"],\n [{\n            'v': 397,\n            'f': \"397\",\n        },\n\"Rocky Linux: A CentOS replacement by the CentOS founder\",\n\"2020-12-17 09:52:54\"],\n [{\n            'v': 398,\n            'f': \"398\",\n        },\n\"A Beginner's Garden of Chess Openings\",\n\"2020-12-17 09:52:54\"],\n [{\n            'v': 399,\n            'f': \"399\",\n        },\n\"How Stockfish chess engine works\",\n\"2020-12-17 09:52:54\"],\n [{\n            'v': 400,\n            'f': \"400\",\n        },\n\"Firefox Was Always Enough\",\n\"2020-12-17 11:46:55\"],\n [{\n            'v': 401,\n            'f': \"401\",\n        },\n\"You-tldr \\u2013 easy-to-read transcripts of Youtube videos\",\n\"2020-12-17 14:10:15\"],\n [{\n            'v': 402,\n            'f': \"402\",\n        },\n\"Old Compilers and Old Bugs\",\n\"2020-12-18 13:52:10\"],\n [{\n            'v': 403,\n            'f': \"403\",\n        },\n\"No Cookie for You\",\n\"2020-12-18 19:58:06\"],\n [{\n            'v': 404,\n            'f': \"404\",\n        },\n\"But how, exactly, do databases use mmap?\",\n\"2020-12-18 22:10:57\"],\n [{\n            'v': 405,\n            'f': \"405\",\n        },\n\"What is the enlightenment I'm supposed to attain after studying finite automata?\",\n\"2020-12-18 22:11:15\"],\n [{\n            'v': 406,\n            'f': \"406\",\n        },\n\"What Is Social Cooling?\",\n\"2020-12-19 10:49:57\"],\n [{\n            'v': 407,\n            'f': \"407\",\n        },\n\"Being capable of thinking quantitatively is the single most important thing\",\n\"2020-12-19 16:03:31\"],\n [{\n            'v': 408,\n            'f': \"408\",\n        },\n\"Docker's Second Death\",\n\"2020-12-19 17:24:10\"],\n [{\n            'v': 409,\n            'f': \"409\",\n        },\n\"Richard Ford: Do we really need friends?\",\n\"2020-12-19 17:30:46\"],\n [{\n            'v': 410,\n            'f': \"410\",\n        },\n\"Linus Torvalds' good taste argument for linked lists, explained\",\n\"2020-12-19 21:34:33\"],\n [{\n            'v': 411,\n            'f': \"411\",\n        },\n\"Fun with IP address parsing\",\n\"2020-12-20 15:15:45\"],\n [{\n            'v': 412,\n            'f': \"412\",\n        },\n\"All problems stem from man's inability to sit quietly in a room alone\",\n\"2020-12-20 15:15:45\"],\n [{\n            'v': 413,\n            'f': \"413\",\n        },\n\"Run More Stuff in Docker\",\n\"2020-12-20 15:15:46\"],\n [{\n            'v': 414,\n            'f': \"414\",\n        },\n\"With Proton and Steam Play, many Windows games now work on Linux\",\n\"2020-12-21 12:26:18\"],\n [{\n            'v': 415,\n            'f': \"415\",\n        },\n\"Best Talks of 2020?\",\n\"2020-12-22 06:38:09\"],\n [{\n            'v': 416,\n            'f': \"416\",\n        },\n\"Binary Search Reconsidered\",\n\"2020-12-22 06:38:10\"],\n [{\n            'v': 417,\n            'f': \"417\",\n        },\n\"My Engineering Axioms\",\n\"2020-12-22 14:16:31\"],\n [{\n            'v': 418,\n            'f': \"418\",\n        },\n\"How to Make Your Code Reviewer Fall in Love with You\",\n\"2020-12-22 14:16:36\"],\n [{\n            'v': 419,\n            'f': \"419\",\n        },\n\"Steve Wozniak launches Efforce, a blockchain-based energy-saving platform\",\n\"2020-12-22 14:16:50\"],\n [{\n            'v': 420,\n            'f': \"420\",\n        },\n\"Double Blind Passwords a.k.a. Horcruxing\",\n\"2020-12-22 14:41:57\"],\n [{\n            'v': 421,\n            'f': \"421\",\n        },\n\"\\u201cModern\\u201d C++ Lamentations\",\n\"2020-12-22 19:14:11\"],\n [{\n            'v': 422,\n            'f': \"422\",\n        },\n\"A lot of complex \\u201cscalable\\u201d systems can be done with a simple, single C++ server\",\n\"2020-12-22 22:10:23\"],\n [{\n            'v': 423,\n            'f': \"423\",\n        },\n\"More challenging projects every programmer should try\",\n\"2020-12-22 22:10:23\"],\n [{\n            'v': 424,\n            'f': \"424\",\n        },\n\"> Postgrest is a great example of a real-world Haskell codebase. It's hard to r...\",\n\"2020-12-22 22:10:24\"],\n [{\n            'v': 425,\n            'f': \"425\",\n        },\n\"Best way to learn modern C++?\",\n\"2020-12-22 22:11:19\"],\n [{\n            'v': 426,\n            'f': \"426\",\n        },\n\"Why is this C++ code faster than my hand-written assembly\",\n\"2020-12-22 22:11:30\"],\n [{\n            'v': 427,\n            'f': \"427\",\n        },\n\"Master C++ Programming with Open-Source Books\",\n\"2020-12-22 22:11:38\"],\n [{\n            'v': 428,\n            'f': \"428\",\n        },\n\"Choose Boring Technology\",\n\"2020-12-23 02:20:13\"],\n [{\n            'v': 429,\n            'f': \"429\",\n        },\n\"Books to learn advanced C programming\",\n\"2020-12-23 18:22:09\"],\n [{\n            'v': 430,\n            'f': \"430\",\n        },\n\"Why is making a good recommendation system for YouTube hard?\",\n\"2020-12-23 18:23:01\"],\n [{\n            'v': 431,\n            'f': \"431\",\n        },\n\"Windows 0day privilege escalation still not fixed\",\n\"2020-12-23 18:23:06\"],\n [{\n            'v': 432,\n            'f': \"432\",\n        },\n\"No, Cellebrite Cannot \\u201cBreak Signal Encryption\\u201d\",\n\"2020-12-23 18:23:07\"],\n [{\n            'v': 433,\n            'f': \"433\",\n        },\n\"I am lonely will anyone speak to me\",\n\"2020-12-23 22:55:16\"],\n [{\n            'v': 434,\n            'f': \"434\",\n        },\n\"What Lived Up to the Hype?\",\n\"2020-12-23 23:00:24\"],\n [{\n            'v': 435,\n            'f': \"435\",\n        },\n\"Interactive C++ for Data Science\",\n\"2020-12-23 23:02:20\"],\n [{\n            'v': 436,\n            'f': \"436\",\n        },\n\"Ruby 3.0\",\n\"2020-12-24 19:17:28\"],\n [{\n            'v': 437,\n            'f': \"437\",\n        },\n\"India\\u2019s booming dark data economy\",\n\"2020-12-25 07:33:31\"],\n [{\n            'v': 438,\n            'f': \"438\",\n        },\n\"How to Start a Startup\",\n\"2020-12-25 07:33:43\"],\n [{\n            'v': 439,\n            'f': \"439\",\n        },\n\"Artificial Intelligence \\u2013 The Revolution Hasn\\u2019t Happened Yet\",\n\"2020-12-25 07:33:46\"],\n [{\n            'v': 440,\n            'f': \"440\",\n        },\n\"C Template Library\",\n\"2020-12-25 07:33:50\"],\n [{\n            'v': 441,\n            'f': \"441\",\n        },\n\"What's a side project you built to make money that hasn't?\",\n\"2020-12-25 08:13:53\"],\n [{\n            'v': 442,\n            'f': \"442\",\n        },\n\"Who is working on fully decentralized social networking?\",\n\"2020-12-25 11:31:01\"],\n [{\n            'v': 443,\n            'f': \"443\",\n        },\n\"The difference between note-taking and note-making\",\n\"2020-12-25 11:49:38\"],\n [{\n            'v': 444,\n            'f': \"444\",\n        },\n\"The many lies about reducing complexity part 2: Cloud\",\n\"2020-12-25 22:14:31\"],\n [{\n            'v': 445,\n            'f': \"445\",\n        },\n\"Death of an open-source business model\",\n\"2020-12-25 22:14:34\"],\n [{\n            'v': 446,\n            'f': \"446\",\n        },\n\"Companies of one, what is your tech stack?\",\n\"2020-12-26 05:43:25\"],\n [{\n            'v': 447,\n            'f': \"447\",\n        },\n\"The Future of Clojure\",\n\"2020-12-26 11:54:08\"],\n [{\n            'v': 448,\n            'f': \"448\",\n        },\n\"Who is hiring? (January 2021)\",\n\"2020-12-26 18:51:35\"],\n [{\n            'v': 449,\n            'f': \"449\",\n        },\n\"I made an alternative platform for professional profiles\",\n\"2020-12-26 18:51:45\"],\n [{\n            'v': 450,\n            'f': \"450\",\n        },\n\"I reverse engineered Google Docs to play back any document's keystrokes\",\n\"2020-12-27 00:07:28\"],\n [{\n            'v': 451,\n            'f': \"451\",\n        },\n\"Uber\\u2019s Real-Time Push Platform\",\n\"2020-12-27 00:07:58\"],\n [{\n            'v': 452,\n            'f': \"452\",\n        },\n\"WebAssembly Studio\",\n\"2020-12-27 00:07:59\"],\n [{\n            'v': 453,\n            'f': \"453\",\n        },\n\"Email from Jeff Bezos to employees\",\n\"2020-12-27 03:55:42\"],\n [{\n            'v': 454,\n            'f': \"454\",\n        },\n\"Compressionism: A Theory of Mind Based on Data Compression\",\n\"2020-12-27 19:24:39\"],\n [{\n            'v': 455,\n            'f': \"455\",\n        },\n\"GitHub has received a DMCA from MPA for source code of torrent tracker nyaa.si\",\n\"2020-12-27 21:58:10\"],\n [{\n            'v': 456,\n            'f': \"456\",\n        },\n\"The State of State Machines\",\n\"2020-12-27 23:17:19\"],\n [{\n            'v': 457,\n            'f': \"457\",\n        },\n\"Stealing private documents through a bug in Google Docs\",\n\"2020-12-28 16:11:16\"],\n [{\n            'v': 458,\n            'f': \"458\",\n        },\n\"New Haskell Foundation to Foster Haskell Adoption, Raises 200k USD\",\n\"2020-12-28 16:11:17\"],\n [{\n            'v': 459,\n            'f': \"459\",\n        },\n\"The Guy I Almost Was\",\n\"2020-12-28 18:35:45\"],\n [{\n            'v': 460,\n            'f': \"460\",\n        },\n\"Moral Competence\",\n\"2020-12-28 18:35:49\"],\n [{\n            'v': 461,\n            'f': \"461\",\n        },\n\"How we fed ourselves for a year & sold a startup...with only 300 lines of code\",\n\"2020-12-28 19:30:23\"],\n [{\n            'v': 462,\n            'f': \"462\",\n        },\n\"GitHub Should Start an App Store\",\n\"2020-12-29 20:49:55\"],\n [{\n            'v': 463,\n            'f': \"463\",\n        },\n\"Messengers of hope: two mRNA Covid-19 vaccines herald a new era for vaccinology\",\n\"2020-12-30 06:42:24\"],\n [{\n            'v': 464,\n            'f': \"464\",\n        },\n\"Learn 3D Computer Graphics Programming from Scratch\",\n\"2020-12-30 06:45:00\"],\n [{\n            'v': 465,\n            'f': \"465\",\n        },\n\"Write code. Not too much. Mostly functions.\",\n\"2020-12-30 06:45:11\"],\n [{\n            'v': 466,\n            'f': \"466\",\n        },\n\"Ripple: A wireless token-passing protocol for multi-hop wireless mesh networks\",\n\"2020-12-30 06:45:20\"],\n [{\n            'v': 467,\n            'f': \"467\",\n        },\n\"Ruby 3.0 and the new FiberScheduler interface\",\n\"2020-12-30 08:34:43\"],\n [{\n            'v': 468,\n            'f': \"468\",\n        },\n\"A holistic vision of open source beyond 2021\",\n\"2020-12-30 19:32:06\"],\n [{\n            'v': 469,\n            'f': \"469\",\n        },\n\"Lex Fridman AI Podcast Search\",\n\"2020-12-30 21:43:05\"],\n [{\n            'v': 470,\n            'f': \"470\",\n        },\n\"Happy New Year HN\",\n\"2020-12-31 18:33:24\"],\n [{\n            'v': 471,\n            'f': \"471\",\n        },\n\"My Favorite Books 2020\",\n\"2020-12-31 18:33:59\"],\n [{\n            'v': 472,\n            'f': \"472\",\n        },\n\"Bitcoin is a disaster\",\n\"2020-12-31 20:40:38\"],\n [{\n            'v': 473,\n            'f': \"473\",\n        },\n\"Getting better at Linux with mini-projects\",\n\"2021-01-01 01:00:02\"],\n [{\n            'v': 474,\n            'f': \"474\",\n        },\n\"What If You Could Do It All Over?\",\n\"2021-01-01 01:00:25\"],\n [{\n            'v': 475,\n            'f': \"475\",\n        },\n\"Cscope: A developer's tool for browsing source code\",\n\"2021-01-01 03:02:43\"],\n [{\n            'v': 476,\n            'f': \"476\",\n        },\n\"Horrifying PDF Experiments\",\n\"2021-01-01 03:37:55\"],\n [{\n            'v': 477,\n            'f': \"477\",\n        },\n\"School or Prison\",\n\"2021-01-01 03:37:59\"],\n [{\n            'v': 478,\n            'f': \"478\",\n        },\n\"Getting Started in Robotics\",\n\"2021-01-01 03:38:15\"],\n [{\n            'v': 479,\n            'f': \"479\",\n        },\n\"Peer-reviewed papers are getting increasingly boring\",\n\"2021-01-02 03:26:24\"],\n [{\n            'v': 480,\n            'f': \"480\",\n        },\n\"Things I Didn't Learn in 2020\",\n\"2021-01-02 03:26:25\"],\n [{\n            'v': 481,\n            'f': \"481\",\n        },\n\"The Great Software Stagnation\",\n\"2021-01-02 03:26:30\"],\n [{\n            'v': 482,\n            'f': \"482\",\n        },\n\"Politician's Syllogism\",\n\"2021-01-02 03:26:41\"],\n [{\n            'v': 483,\n            'f': \"483\",\n        },\n\"Best Paper Awards in Computer Science in the Past 25 Years (1996-2020)\",\n\"2021-01-02 03:26:53\"],\n [{\n            'v': 484,\n            'f': \"484\",\n        },\n\"EU Signs \\u20ac145B Declaration to Develop Next Gen Processors and 2nm Technology\",\n\"2021-01-02 03:27:55\"],\n [{\n            'v': 485,\n            'f': \"485\",\n        },\n\"libmill - Go-style concurrency in C\",\n\"2021-01-02 05:11:01\"],\n [{\n            'v': 486,\n            'f': \"486\",\n        },\n\"Thank you, GitHub\",\n\"2021-01-02 06:56:49\"],\n [{\n            'v': 487,\n            'f': \"487\",\n        },\n\"What is the inverse of a vector?\",\n\"2021-01-02 06:56:51\"],\n [{\n            'v': 488,\n            'f': \"488\",\n        },\n\"C Isn't a Programming Language Anymore\",\n\"2021-01-02 07:29:02\"],\n [{\n            'v': 489,\n            'f': \"489\",\n        },\n\"Open Source Smartwatch\",\n\"2021-01-03 02:12:52\"],\n [{\n            'v': 490,\n            'f': \"490\",\n        },\n\"Python \\u2013 Create large ZIP archives without memory inflation\",\n\"2021-01-03 02:12:56\"],\n [{\n            'v': 491,\n            'f': \"491\",\n        },\n\"I learnt C++ in 2018 and have no regrets\",\n\"2021-01-03 02:16:01\"],\n [{\n            'v': 492,\n            'f': \"492\",\n        },\n\"50 Years of Text Games \\u2013 A 2021 Journey from Oregon Trail to A.I. Dungeon\",\n\"2021-01-03 02:16:02\"],\n [{\n            'v': 493,\n            'f': \"493\",\n        },\n\"A half-hour to learn Rust\",\n\"2021-01-03 02:16:04\"],\n [{\n            'v': 494,\n            'f': \"494\",\n        },\n\"TabFS: Mount your Browser Tabs as a Filesystem\",\n\"2021-01-03 02:16:15\"],\n [{\n            'v': 495,\n            'f': \"495\",\n        },\n\"Hotwire: HTML over the Wire\",\n\"2021-01-03 05:09:20\"],\n [{\n            'v': 496,\n            'f': \"496\",\n        },\n\"URL shorteners set ad tracking cookies\",\n\"2021-01-04 01:53:16\"],\n [{\n            'v': 497,\n            'f': \"497\",\n        },\n\"I logged my activities at 15-minute intervals for the whole year\",\n\"2021-01-04 01:53:20\"],\n [{\n            'v': 498,\n            'f': \"498\",\n        },\n\"Rust is now overall faster than C in benchmarks\",\n\"2021-01-04 01:53:22\"],\n [{\n            'v': 499,\n            'f': \"499\",\n        },\n\"Why Clojure?\",\n\"2021-01-04 01:53:27\"],\n [{\n            'v': 500,\n            'f': \"500\",\n        },\n\"On Repl-Driven Programming\",\n\"2021-01-04 01:53:39\"],\n [{\n            'v': 501,\n            'f': \"501\",\n        },\n\"Castlevania III Password Algorithm\",\n\"2021-01-04 01:53:45\"],\n [{\n            'v': 502,\n            'f': \"502\",\n        },\n\"E.O. Wilson on Becoming a Great Scientist\",\n\"2021-01-04 01:53:59\"],\n [{\n            'v': 503,\n            'f': \"503\",\n        },\n\"An anti-book recommendation tool, to help you escape your echo chamber\",\n\"2021-01-04 01:54:23\"],\n [{\n            'v': 504,\n            'f': \"504\",\n        },\n\"I Hacked into Facebook's Legal Department Admin Panel\",\n\"2021-01-04 05:10:58\"],\n [{\n            'v': 505,\n            'f': \"505\",\n        },\n\"What weird or hard problems are you trying to solve?\",\n\"2021-01-05 01:37:15\"],\n [{\n            'v': 506,\n            'f': \"506\",\n        },\n\"Reddit user invents a new way to build a memristor, shares it\",\n\"2021-01-05 01:37:22\"],\n [{\n            'v': 507,\n            'f': \"507\",\n        },\n\"Fashionable Problems\",\n\"2021-01-05 03:41:28\"],\n [{\n            'v': 508,\n            'f': \"508\",\n        },\n\"Why I'm Lukewarm on Graph Neural Networks\",\n\"2021-01-05 03:46:11\"],\n [{\n            'v': 509,\n            'f': \"509\",\n        },\n\"The Evolution of a Haskell Programmer\",\n\"2021-01-05 03:46:12\"],\n [{\n            'v': 510,\n            'f': \"510\",\n        },\n\"Who wants to be hired? (January 2021)\",\n\"2021-01-05 03:46:13\"],\n [{\n            'v': 511,\n            'f': \"511\",\n        },\n\"Dealing with Hard Problems\",\n\"2021-01-05 03:50:36\"],\n [{\n            'v': 512,\n            'f': \"512\",\n        },\n\"I've been a programmer for 6 years, and I can't solve basic CS problems\",\n\"2021-01-05 03:50:44\"],\n [{\n            'v': 513,\n            'f': \"513\",\n        },\n\"Are you working on interesting technical problems?\",\n\"2021-01-05 03:51:04\"],\n [{\n            'v': 514,\n            'f': \"514\",\n        },\n\"What Problems to Solve\",\n\"2021-01-05 03:51:06\"],\n [{\n            'v': 515,\n            'f': \"515\",\n        },\n\"How did you decide what problems to solve in your lifetime?\",\n\"2021-01-05 03:51:27\"],\n [{\n            'v': 516,\n            'f': \"516\",\n        },\n\"Physics Without Probability [video]\",\n\"2021-01-05 03:51:30\"],\n [{\n            'v': 517,\n            'f': \"517\",\n        },\n\"An experimental open source memristor / programmable \\u201cdiode\\u201d\",\n\"2021-01-05 03:51:35\"],\n [{\n            'v': 518,\n            'f': \"518\",\n        },\n\"Come here and work on hard problems \\u2013 except the ones on our doorstep\",\n\"2021-01-05 04:16:03\"],\n [{\n            'v': 519,\n            'f': \"519\",\n        },\n\"AWS announces forks of Elasticsearch and Kibana\",\n\"2021-01-05 09:16:16\"],\n [{\n            'v': 520,\n            'f': \"520\",\n        },\n\"Why Security Defects Go Unnoticed During Code Reviews?\",\n\"2021-01-05 09:16:19\"],\n [{\n            'v': 521,\n            'f': \"521\",\n        },\n\"Handel \\u2013 A procedural programming language for writing songs in browser\",\n\"2021-01-05 09:16:24\"],\n [{\n            'v': 522,\n            'f': \"522\",\n        },\n\"CERN Online introductory lectures on quantum computing from 6 November\",\n\"2021-01-06 01:51:04\"],\n [{\n            'v': 523,\n            'f': \"523\",\n        },\n\"Learning about Philosophy\",\n\"2021-01-06 11:44:42\"],\n [{\n            'v': 524,\n            'f': \"524\",\n        },\n\"After 2.5 years on my side project, it has hit \\u00a3500/month revenue\",\n\"2021-01-06 13:55:09\"],\n [{\n            'v': 525,\n            'f': \"525\",\n        },\n\"Computer Graphics from Scratch\",\n\"2021-01-06 14:09:49\"],\n [{\n            'v': 526,\n            'f': \"526\",\n        },\n\"Poll: Switching from WhatsApp\",\n\"2021-01-07 01:02:17\"],\n [{\n            'v': 527,\n            'f': \"527\",\n        },\n\"We repurposed NPM to publish and distribute Go binaries for our internal CLI\",\n\"2021-01-07 01:02:28\"],\n [{\n            'v': 528,\n            'f': \"528\",\n        },\n\"Traffic Simulator\",\n\"2021-01-07 01:03:08\"],\n [{\n            'v': 529,\n            'f': \"529\",\n        },\n\"Facebook senior software engineer interview\",\n\"2021-01-07 01:04:05\"],\n [{\n            'v': 530,\n            'f': \"530\",\n        },\n\"Google's PageRank patent has expired\",\n\"2021-01-07 01:36:13\"],\n [{\n            'v': 531,\n            'f': \"531\",\n        },\n\"Nuclear lighthouses built by the Soviets in the Arctic [video]\",\n\"2021-01-07 02:03:53\"],\n [{\n            'v': 532,\n            'f': \"532\",\n        },\n\"WhatsApp gives users an ultimatum: Share data with Facebook or stop using app\",\n\"2021-01-07 02:04:55\"],\n [{\n            'v': 533,\n            'f': \"533\",\n        },\n\"No meetings, no deadlines, no full-time employees\",\n\"2021-01-07 14:17:40\"],\n [{\n            'v': 534,\n            'f': \"534\",\n        },\n\"Peter Norvig's \\u201cpytudes\\u201d for Advent of Code 2020\",\n\"2021-01-07 14:19:00\"],\n [{\n            'v': 535,\n            'f': \"535\",\n        },\n\"Honoring Your Craft \\u2013 An alternative to the Four Hour Work Week mindset\",\n\"2021-01-07 14:19:33\"],\n [{\n            'v': 536,\n            'f': \"536\",\n        },\n\"The Atlas for the Aspiring Network Scientist\",\n\"2021-01-08 04:18:11\"],\n [{\n            'v': 537,\n            'f': \"537\",\n        },\n\"Scipy Lecture Notes: One document to learn numerics, science, and data in Python\",\n\"2021-01-08 04:18:26\"],\n [{\n            'v': 538,\n            'f': \"538\",\n        },\n\"Medicine's Machine Learning Problem\",\n\"2021-01-08 04:18:45\"],\n [{\n            'v': 539,\n            'f': \"539\",\n        },\n\"How Tail Call Optimization Works\",\n\"2021-01-08 04:19:08\"],\n [{\n            'v': 540,\n            'f': \"540\",\n        },\n\"What are decentralized Twitter alternatives?\",\n\"2021-01-08 04:19:11\"],\n [{\n            'v': 541,\n            'f': \"541\",\n        },\n\"Signal WhatsApp Chats Import\",\n\"2021-01-08 04:19:18\"],\n [{\n            'v': 542,\n            'f': \"542\",\n        },\n\"Exotic List Monads\",\n\"2021-01-08 07:17:42\"],\n [{\n            'v': 543,\n            'f': \"543\",\n        },\n\"Akin's Laws of Spacecraft Design\",\n\"2021-01-08 10:34:56\"],\n [{\n            'v': 544,\n            'f': \"544\",\n        },\n\"Haskell is a Bad Programming Language\",\n\"2021-01-08 10:35:44\"],\n [{\n            'v': 545,\n            'f': \"545\",\n        },\n\"We saved millions in SSD costs by upgrading our filesystem\",\n\"2021-01-09 04:41:13\"],\n [{\n            'v': 546,\n            'f': \"546\",\n        },\n\"I built a no-BS recipe search engine\",\n\"2021-01-09 05:37:52\"],\n [{\n            'v': 547,\n            'f': \"547\",\n        },\n\"What can I only do in Erlang?\",\n\"2021-01-09 06:30:16\"],\n [{\n            'v': 548,\n            'f': \"548\",\n        },\n\"NocoDB \\u2013 Turn your SQL database into a Nocode platform\",\n\"2021-01-09 12:39:07\"],\n [{\n            'v': 549,\n            'f': \"549\",\n        },\n\"Business Essentials\",\n\"2021-01-09 12:39:14\"],\n [{\n            'v': 550,\n            'f': \"550\",\n        },\n\"Wikipedia is 20\",\n\"2021-01-10 02:59:38\"],\n [{\n            'v': 551,\n            'f': \"551\",\n        },\n\"Skynet \\u2013 Build a Free Internet\",\n\"2021-01-10 02:59:44\"],\n [{\n            'v': 552,\n            'f': \"552\",\n        },\n\"Why mmap is faster than system calls\",\n\"2021-01-10 02:59:56\"],\n [{\n            'v': 553,\n            'f': \"553\",\n        },\n\"Advice from a 104-year-old PhD student\",\n\"2021-01-10 05:34:14\"],\n [{\n            'v': 554,\n            'f': \"554\",\n        },\n\"Writing a Kubernetes CRD Controller in Rust\",\n\"2021-01-10 05:34:20\"],\n [{\n            'v': 555,\n            'f': \"555\",\n        },\n\"To the moon: defining and detecting cryptocurrency pump-and-dumps\",\n\"2021-01-10 05:34:24\"],\n [{\n            'v': 556,\n            'f': \"556\",\n        },\n\"Raymarching Distance Fields (2008-2020 compilation)\",\n\"2021-01-10 05:34:35\"],\n [{\n            'v': 557,\n            'f': \"557\",\n        },\n\"Ubiquiti Networks Breach\",\n\"2021-01-10 07:10:25\"],\n [{\n            'v': 558,\n            'f': \"558\",\n        },\n\"Learn X by Doing Y \\u2013 A project-based learning search engine\",\n\"2021-01-10 07:50:50\"],\n [{\n            'v': 559,\n            'f': \"559\",\n        },\n\"What are you surprised isn\\u2019t being worked on more?\",\n\"2021-01-10 16:41:14\"],\n [{\n            'v': 560,\n            'f': \"560\",\n        },\n\"Cabal: A peer-to-peer, off-grid, community-first, hackable chat platform\",\n\"2021-01-11 05:23:19\"],\n [{\n            'v': 561,\n            'f': \"561\",\n        },\n\"YouTube bans Steve Bannon's podcast channel\",\n\"2021-01-11 05:23:23\"],\n [{\n            'v': 562,\n            'f': \"562\",\n        },\n\"Foundations of Embedded Systems\",\n\"2021-01-11 05:23:26\"],\n [{\n            'v': 563,\n            'f': \"563\",\n        },\n\"Quick Overview of Julia language\",\n\"2021-01-11 05:23:35\"],\n [{\n            'v': 564,\n            'f': \"564\",\n        },\n\"Member: Decentralized Twitter alternative, uncensorable, open source\",\n\"2021-01-11 05:24:00\"],\n [{\n            'v': 565,\n            'f': \"565\",\n        },\n\"Statistics with Julia\",\n\"2021-01-11 05:24:08\"],\n [{\n            'v': 566,\n            'f': \"566\",\n        },\n\"What is your labor worth? Tech compensation in 2021\",\n\"2021-01-11 05:24:11\"],\n [{\n            'v': 567,\n            'f': \"567\",\n        },\n\"What Silicon Valley gets about engineers that traditional companies do not\",\n\"2021-01-11 05:24:19\"],\n [{\n            'v': 568,\n            'f': \"568\",\n        },\n\"GitHub Actions: Ephemeral self-hosted runners and new webhooks for auto-scaling\",\n\"2021-01-11 06:08:27\"],\n [{\n            'v': 569,\n            'f': \"569\",\n        },\n\"Flutter 3\",\n\"2021-01-11 06:15:32\"],\n [{\n            'v': 570,\n            'f': \"570\",\n        },\n\"CIA vs. Wikileaks [video]\",\n\"2021-01-11 10:56:45\"],\n [{\n            'v': 571,\n            'f': \"571\",\n        },\n\"Why I still Lisp\",\n\"2021-01-11 13:26:16\"],\n [{\n            'v': 572,\n            'f': \"572\",\n        },\n\"Steam's login method is kinda interesting\",\n\"2021-01-12 05:48:54\"],\n [{\n            'v': 573,\n            'f': \"573\",\n        },\n\"What Is a Gamma Squeeze in the Context of Stock Trading?\",\n\"2021-01-12 05:48:58\"],\n [{\n            'v': 574,\n            'f': \"574\",\n        },\n\"My personal wishlist for a decentralized social network\",\n\"2021-01-12 05:49:15\"],\n [{\n            'v': 575,\n            'f': \"575\",\n        },\n\"Parler social network sues Amazon for pulling support\",\n\"2021-01-12 05:58:26\"],\n [{\n            'v': 576,\n            'f': \"576\",\n        },\n\"Amazon Echo Flex Teardown: Microphone Mute, Real or Fake?\",\n\"2021-01-12 05:58:28\"],\n [{\n            'v': 577,\n            'f': \"577\",\n        },\n\"Superintelligence cannot be contained: Lessons from Computability Theory\",\n\"2021-01-12 05:58:29\"],\n [{\n            'v': 578,\n            'f': \"578\",\n        },\n\"SolarWinds: What Hit Us Could Hit Others\",\n\"2021-01-12 16:31:36\"],\n [{\n            'v': 579,\n            'f': \"579\",\n        },\n\"Sci-Hub Is Now on the \\u2018Uncensorable Web\\u2019\",\n\"2021-01-12 16:31:37\"],\n [{\n            'v': 580,\n            'f': \"580\",\n        },\n\"Why Apple Chose Clang\",\n\"2021-01-12 16:37:26\"],\n [{\n            'v': 581,\n            'f': \"581\",\n        },\n\"The CIA Releases Trove of UFO Documents\",\n\"2021-01-13 06:03:17\"],\n [{\n            'v': 582,\n            'f': \"582\",\n        },\n\"2020 Game\",\n\"2021-01-13 06:03:38\"],\n [{\n            'v': 583,\n            'f': \"583\",\n        },\n\"Owncast \\u2013 An open-source, self-hosted live streaming server\",\n\"2021-01-13 06:03:39\"],\n [{\n            'v': 584,\n            'f': \"584\",\n        },\n\"Moderna is announcing three new vaccine programs\",\n\"2021-01-13 06:04:39\"],\n [{\n            'v': 585,\n            'f': \"585\",\n        },\n\"Making Vaccine\",\n\"2021-01-13 10:21:06\"],\n [{\n            'v': 586,\n            'f': \"586\",\n        },\n\"How do we know Signal or Telegram don't store our data on their servers?\",\n\"2021-01-14 06:51:19\"],\n [{\n            'v': 587,\n            'f': \"587\",\n        },\n\"Ten years without Elixir\",\n\"2021-01-14 06:51:55\"],\n [{\n            'v': 588,\n            'f': \"588\",\n        },\n\"In Praise of Lectures\",\n\"2021-01-14 06:52:11\"],\n [{\n            'v': 589,\n            'f': \"589\",\n        },\n\"'Rent-a-person who does nothing' in Tokyo receives endless requests, gratitude\",\n\"2021-01-14 06:52:31\"],\n [{\n            'v': 590,\n            'f': \"590\",\n        },\n\"The neural network of the Stockfish chess engine\",\n\"2021-01-14 06:53:02\"],\n [{\n            'v': 591,\n            'f': \"591\",\n        },\n\"We Don't Need Data Scientists, We Need Data Engineers\",\n\"2021-01-14 13:25:10\"],\n [{\n            'v': 592,\n            'f': \"592\",\n        },\n\"Machine Learning: The Great Stagnation\",\n\"2021-01-14 19:29:49\"],\n [{\n            'v': 593,\n            'f': \"593\",\n        },\n\"Twitter shuts down account of Sci-Hub\",\n\"2021-01-14 19:30:07\"],\n [{\n            'v': 594,\n            'f': \"594\",\n        },\n\"Ideas for open source projects about Algorithms?\",\n\"2021-01-14 19:30:10\"],\n [{\n            'v': 595,\n            'f': \"595\",\n        },\n\"Is Netflix recommendation engine the best there is?\",\n\"2021-01-14 19:30:19\"],\n [{\n            'v': 596,\n            'f': \"596\",\n        },\n\"Free ePub books from the Open University on mutiple topics\",\n\"2021-01-14 19:30:35\"],\n [{\n            'v': 597,\n            'f': \"597\",\n        },\n\"An Elderly Mathematician Hacked the Lottery for $26M\",\n\"2021-01-14 19:59:30\"],\n [{\n            'v': 598,\n            'f': \"598\",\n        },\n\"Human Clock\",\n\"2021-01-14 21:29:05\"],\n [{\n            'v': 599,\n            'f': \"599\",\n        },\n\"Finding Critical Open Source Projects\",\n\"2021-01-14 21:50:26\"],\n [{\n            'v': 600,\n            'f': \"600\",\n        },\n\"What is your favorite YouTube channel to learn advanced programming?\",\n\"2021-01-15 08:39:43\"],\n [{\n            'v': 601,\n            'f': \"601\",\n        },\n\"What are some good projects/resources to learn distributed systems?\",\n\"2021-01-15 11:55:37\"],\n [{\n            'v': 602,\n            'f': \"602\",\n        },\n\"Have the Tables Turned on NoSQL?\",\n\"2021-01-15 15:31:03\"],\n [{\n            'v': 603,\n            'f': \"603\",\n        },\n\"How to join a team and learn a codebase\",\n\"2021-01-15 15:31:12\"],\n [{\n            'v': 604,\n            'f': \"604\",\n        },\n\"The Newton hypothesis: Is science done by a small elite?\",\n\"2021-01-16 08:26:53\"],\n [{\n            'v': 605,\n            'f': \"605\",\n        },\n\"A Modern JavaScript Tutorial\",\n\"2021-01-16 08:27:08\"],\n [{\n            'v': 606,\n            'f': \"606\",\n        },\n\"Uber sells self-driving unit in deal that will push Aurora\\u2019s valuation to $10B\",\n\"2021-01-16 08:27:16\"],\n [{\n            'v': 607,\n            'f': \"607\",\n        },\n\"REST Servers in Go: Part 1 \\u2013 standard library\",\n\"2021-01-16 10:27:52\"],\n [{\n            'v': 608,\n            'f': \"608\",\n        },\n\"Clojure Core\",\n\"2021-01-16 10:29:35\"],\n [{\n            'v': 609,\n            'f': \"609\",\n        },\n\"Uber discovered they\\u2019d been defrauded out of 2/3 of their ad spend\",\n\"2021-01-16 10:29:36\"],\n [{\n            'v': 610,\n            'f': \"610\",\n        },\n\"Mnm \\u2013 an open source project to replace email and SMTP\",\n\"2021-01-16 10:30:56\"],\n [{\n            'v': 611,\n            'f': \"611\",\n        },\n\"ECC matters\",\n\"2021-01-16 15:39:00\"],\n [{\n            'v': 612,\n            'f': \"612\",\n        },\n\"Google Safe Browsing can kill a startup\",\n\"2021-01-16 20:45:19\"],\n [{\n            'v': 613,\n            'f': \"613\",\n        },\n\"Toxic positivity does more harm than good\",\n\"2021-01-16 21:01:37\"],\n [{\n            'v': 614,\n            'f': \"614\",\n        },\n\"NSA Recommends How Enterprises Can Securely Adopt Encrypted DNS\",\n\"2021-01-16 23:42:31\"],\n [{\n            'v': 615,\n            'f': \"615\",\n        },\n\"Would Rust Secure Curl?\",\n\"2021-01-16 23:42:41\"],\n [{\n            'v': 616,\n            'f': \"616\",\n        },\n\"John Carmack working on Scheme as a VR scripting language\",\n\"2021-01-16 23:42:50\"],\n [{\n            'v': 617,\n            'f': \"617\",\n        },\n\"20 Years Later\",\n\"2021-01-16 23:43:16\"],\n [{\n            'v': 618,\n            'f': \"618\",\n        },\n\"Big O Notation \\u2013 Explained as Easily as Possible\",\n\"2021-01-16 23:43:37\"],\n [{\n            'v': 619,\n            'f': \"619\",\n        },\n\"Top Python libraries of 2020 you should know about\",\n\"2021-01-17 00:30:09\"],\n [{\n            'v': 620,\n            'f': \"620\",\n        },\n\"Which are the best go repositories to read to learn the language?\",\n\"2021-01-17 12:54:04\"],\n [{\n            'v': 621,\n            'f': \"621\",\n        },\n\"The Great Filter\",\n\"2021-01-17 13:18:10\"],\n [{\n            'v': 622,\n            'f': \"622\",\n        },\n\"Cyber Security; Beginner Roadmap\",\n\"2021-01-17 16:22:23\"],\n [{\n            'v': 623,\n            'f': \"623\",\n        },\n\"Counter-Histories of the Internet\",\n\"2021-01-17 16:55:43\"],\n [{\n            'v': 624,\n            'f': \"624\",\n        },\n\"A Gentle Introduction to Data Compression\",\n\"2021-01-17 19:40:38\"],\n [{\n            'v': 625,\n            'f': \"625\",\n        },\n\"Profile: lifthrasiir\",\n\"2021-01-17 19:40:53\"],\n [{\n            'v': 626,\n            'f': \"626\",\n        },\n\"A probabilistic graphical model based data compression architecture\",\n\"2021-01-17 19:45:54\"],\n [{\n            'v': 627,\n            'f': \"627\",\n        },\n\"Jacob Ziv: IEEE Medal of Honor Goes to Data Compression Pioneer\",\n\"2021-01-17 20:00:31\"],\n [{\n            'v': 628,\n            'f': \"628\",\n        },\n\"DoorDash from Application to IPO\",\n\"2021-01-17 20:01:30\"],\n [{\n            'v': 629,\n            'f': \"629\",\n        },\n\"Games people play with cash flow\",\n\"2021-01-17 20:01:37\"],\n [{\n            'v': 630,\n            'f': \"630\",\n        },\n\"That's not how 2FA works\",\n\"2021-01-17 20:31:11\"],\n [{\n            'v': 631,\n            'f': \"631\",\n        },\n\"The Case of the Extra 40ms\",\n\"2021-01-19 14:21:00\"],\n [{\n            'v': 632,\n            'f': \"632\",\n        },\n\"Adding Encrypted Group Calls to Signal\",\n\"2021-01-19 14:21:11\"],\n [{\n            'v': 633,\n            'f': \"633\",\n        },\n\"Learning to Suffer\",\n\"2021-01-19 14:21:19\"],\n [{\n            'v': 634,\n            'f': \"634\",\n        },\n\"Lispsyntax.jl: A Clojure-like Lisp syntax for julia\",\n\"2021-01-19 19:50:12\"],\n [{\n            'v': 635,\n            'f': \"635\",\n        },\n\"Which job sites are people using for remote jobs?\",\n\"2021-01-19 19:50:18\"],\n [{\n            'v': 636,\n            'f': \"636\",\n        },\n\"Advanced Compilers: Self-Guided Online Course\",\n\"2021-01-19 20:21:29\"],\n [{\n            'v': 637,\n            'f': \"637\",\n        },\n\"The Spoon Theory\",\n\"2021-01-20 19:26:35\"],\n [{\n            'v': 638,\n            'f': \"638\",\n        },\n\"Filesystem Error Handling\",\n\"2021-01-20 19:26:38\"],\n [{\n            'v': 639,\n            'f': \"639\",\n        },\n\"Ideal Chess \\u2013 drop chess perfected?\",\n\"2021-01-21 04:34:16\"],\n [{\n            'v': 640,\n            'f': \"640\",\n        },\n\"The Internet Is for Porn\",\n\"2021-01-21 05:04:28\"],\n [{\n            'v': 641,\n            'f': \"641\",\n        },\n\"Python's tug of war between beginner-friendly and advanced features\",\n\"2021-01-22 00:15:15\"],\n [{\n            'v': 642,\n            'f': \"642\",\n        },\n\"Why cancer cells waste so much energy\",\n\"2021-01-22 12:54:00\"],\n [{\n            'v': 643,\n            'f': \"643\",\n        },\n\"Why can't I write code inside my browser?\",\n\"2021-01-22 13:03:33\"],\n [{\n            'v': 644,\n            'f': \"644\",\n        },\n\"Git News \\u2013 Social News website for developers and GitHub fans\",\n\"2021-01-22 13:08:47\"],\n [{\n            'v': 645,\n            'f': \"645\",\n        },\n\"Why Haskell is our first choice for building production software systems\",\n\"2021-01-22 22:04:11\"],\n [{\n            'v': 646,\n            'f': \"646\",\n        },\n\"We know correlation does not imply causality. What does?\",\n\"2021-01-23 18:02:00\"],\n [{\n            'v': 647,\n            'f': \"647\",\n        },\n\"Actual Causality\",\n\"2021-01-23 18:02:03\"],\n [{\n            'v': 648,\n            'f': \"648\",\n        },\n\"Cache Management Lessons Learned\",\n\"2021-01-23 18:03:02\"],\n [{\n            'v': 649,\n            'f': \"649\",\n        },\n\"Software engineering topics I changed my mind on after 6 years in the industry\",\n\"2021-01-24 00:37:13\"],\n [{\n            'v': 650,\n            'f': \"650\",\n        },\n\"Cryptocurreny Crime Is Way Ahead of Regulators and Law Enforcement\",\n\"2021-01-24 00:37:16\"],\n [{\n            'v': 651,\n            'f': \"651\",\n        },\n\"DrScheme in Space\",\n\"2021-01-24 01:32:49\"],\n [{\n            'v': 652,\n            'f': \"652\",\n        },\n\"Einstein and Hume\\u2019s philosophy of time\",\n\"2021-01-24 01:32:50\"],\n [{\n            'v': 653,\n            'f': \"653\",\n        },\n\"Why Working from Home Will Stick\",\n\"2021-01-24 01:32:51\"],\n [{\n            'v': 654,\n            'f': \"654\",\n        },\n\"On the Complexity of JSON Serialization\",\n\"2021-01-24 01:34:08\"],\n [{\n            'v': 655,\n            'f': \"655\",\n        },\n\"A new newsletter on database engines, streaming systems, query planning\",\n\"2021-01-24 02:36:46\"],\n [{\n            'v': 656,\n            'f': \"656\",\n        },\n\"Racket Compiler and Runtime Status\",\n\"2021-01-25 01:06:53\"],\n [{\n            'v': 657,\n            'f': \"657\",\n        },\n\"Deskreen \\u2013 Turn any device with a web browser to a second computer screen\",\n\"2021-01-25 01:07:06\"],\n [{\n            'v': 658,\n            'f': \"658\",\n        },\n\"Using State Machines with React to Make a Confirmation Dialog\",\n\"2021-01-25 01:07:09\"],\n [{\n            'v': 659,\n            'f': \"659\",\n        },\n\"Cargo Cult Software Engineering\",\n\"2021-01-25 01:07:11\"],\n [{\n            'v': 660,\n            'f': \"660\",\n        },\n\"Which book do you want to read next?\",\n\"2021-01-25 03:11:12\"],\n [{\n            'v': 661,\n            'f': \"661\",\n        },\n\"Improving how we deploy GitHub\",\n\"2021-01-25 06:26:05\"],\n [{\n            'v': 662,\n            'f': \"662\",\n        },\n\"What every programmer should know about memory, Part 1\",\n\"2021-01-25 18:50:44\"],\n [{\n            'v': 663,\n            'f': \"663\",\n        },\n\"Scaling Kubernetes to 7,500 Nodes\",\n\"2021-01-25 18:50:52\"],\n [{\n            'v': 664,\n            'f': \"664\",\n        },\n\"RustPython: A Python interpreter written in Rust\",\n\"2021-01-25 18:50:55\"],\n [{\n            'v': 665,\n            'f': \"665\",\n        },\n\"Apache Spark Scale: A 60 TB+ production use case\",\n\"2021-01-25 23:10:38\"],\n [{\n            'v': 666,\n            'f': \"666\",\n        },\n\"Time Till Open Source Alternative\",\n\"2021-01-25 23:11:06\"],\n [{\n            'v': 667,\n            'f': \"667\",\n        },\n\"Discover the best developer blogs on any tech stack\",\n\"2021-01-26 03:10:01\"],\n [{\n            'v': 668,\n            'f': \"668\",\n        },\n\"Computer codes that transformed science\",\n\"2021-01-26 08:18:40\"],\n [{\n            'v': 669,\n            'f': \"669\",\n        },\n\"List of Open-Source RL Algorithms\",\n\"2021-01-26 08:18:40\"],\n [{\n            'v': 670,\n            'f': \"670\",\n        },\n\"Compilers Are Hard\",\n\"2021-01-26 08:18:41\"],\n [{\n            'v': 671,\n            'f': \"671\",\n        },\n\"Errors vs. exceptions in Go and C++ in 2020\",\n\"2021-01-27 07:41:28\"],\n [{\n            'v': 672,\n            'f': \"672\",\n        },\n\"Is Probability Real?\",\n\"2021-01-27 07:41:38\"],\n [{\n            'v': 673,\n            'f': \"673\",\n        },\n\"Open source means surrendering your monopoly over commercial exploitation\",\n\"2021-01-27 07:43:51\"],\n [{\n            'v': 674,\n            'f': \"674\",\n        },\n\"Jax \\u2013 Composable transformations of Python and NumPy programs\",\n\"2021-01-27 17:31:45\"],\n [{\n            'v': 675,\n            'f': \"675\",\n        },\n\"Living microbes, possibly 100M years old, pulled from beneath the sea\",\n\"2021-01-27 17:38:52\"],\n [{\n            'v': 676,\n            'f': \"676\",\n        },\n\"Resources to start learning about quantum computing?\",\n\"2021-01-27 22:07:49\"],\n [{\n            'v': 677,\n            'f': \"677\",\n        },\n\"GameStop Is Rage Against the Financial Machine\",\n\"2021-01-27 22:07:55\"],\n [{\n            'v': 678,\n            'f': \"678\",\n        },\n\"LZ4, an Extremely Fast Compression Algorithm\",\n\"2021-01-27 22:08:10\"],\n [{\n            'v': 679,\n            'f': \"679\",\n        },\n\"What startup/technology is on your 'to watch' list?\",\n\"2021-01-28 05:57:31\"],\n [{\n            'v': 680,\n            'f': \"680\",\n        },\n\"Computers as I used to love them\",\n\"2021-01-29 10:24:01\"],\n [{\n            'v': 681,\n            'f': \"681\",\n        },\n\"Making GitHub\\u2019s new homepage fast and performant\",\n\"2021-01-29 20:29:12\"],\n [{\n            'v': 682,\n            'f': \"682\",\n        },\n\"What streetsmarts have you learnt?\",\n\"2021-01-30 00:24:03\"],\n [{\n            'v': 683,\n            'f': \"683\",\n        },\n\"The Uncensored Guide to \\u2018Oumuamua, Aliens, and That Harvard Astronomer\",\n\"2021-01-30 00:26:27\"],\n [{\n            'v': 684,\n            'f': \"684\",\n        },\n\"How to stream media using WebRTC and FFmpeg, and why it's a bad idea\",\n\"2021-01-30 15:47:45\"],\n [{\n            'v': 685,\n            'f': \"685\",\n        },\n\"Regular afternoon naps linked to improved cognitive function\",\n\"2021-01-30 15:47:48\"],\n [{\n            'v': 686,\n            'f': \"686\",\n        },\n\"Collection of deep learning implementations with side-by-side notes\",\n\"2021-01-30 15:48:00\"],\n [{\n            'v': 687,\n            'f': \"687\",\n        },\n\"How do I Stop Living Paycheck to Paycheck?\",\n\"2021-01-31 01:02:58\"],\n [{\n            'v': 688,\n            'f': \"688\",\n        },\n\"Compilers Are Databases [video]\",\n\"2021-01-31 01:05:05\"],\n [{\n            'v': 689,\n            'f': \"689\",\n        },\n\"Muler, a search engine for drug info built with Flask\",\n\"2021-01-31 14:22:43\"],\n [{\n            'v': 690,\n            'f': \"690\",\n        },\n\"Ouroboros: A Provably Secure Proof-of-Stake Blockchain Protocol\",\n\"2021-01-31 22:46:18\"],\n [{\n            'v': 691,\n            'f': \"691\",\n        },\n\"League of Legends Build Orders by Genetic Algorithm\",\n\"2021-01-31 22:46:26\"],\n [{\n            'v': 692,\n            'f': \"692\",\n        },\n\"After 10 years my side project has hit $8k/mo in revenue\",\n\"2021-01-31 22:46:57\"],\n [{\n            'v': 693,\n            'f': \"693\",\n        },\n\"What I wish someone had told me about tensor computation libraries\",\n\"2021-01-31 22:47:34\"],\n [{\n            'v': 694,\n            'f': \"694\",\n        },\n\"The MIT License, Line by Line\",\n\"2021-01-31 22:47:40\"],\n [{\n            'v': 695,\n            'f': \"695\",\n        },\n\"CompilerGym: A toolkit for reinforcement learning for compiler optimization\",\n\"2021-02-03 01:16:36\"],\n [{\n            'v': 696,\n            'f': \"696\",\n        },\n\"I prepared for a decade to graduate in CS in three months\",\n\"2021-02-03 01:17:01\"],\n [{\n            'v': 697,\n            'f': \"697\",\n        },\n\"Rust 2021 Roadmap\",\n\"2021-02-03 01:17:11\"],\n [{\n            'v': 698,\n            'f': \"698\",\n        },\n\"Bad TypeScript Habits\",\n\"2021-02-03 01:17:32\"],\n [{\n            'v': 699,\n            'f': \"699\",\n        },\n\"Apache Arrow 3.0\",\n\"2021-02-03 08:40:44\"],\n [{\n            'v': 700,\n            'f': \"700\",\n        },\n\"A Superoptimizer for LLVM IR\",\n\"2021-02-04 09:53:18\"],\n [{\n            'v': 701,\n            'f': \"701\",\n        },\n\"What's the best paper you've read in 2020?\",\n\"2021-02-04 10:03:47\"],\n [{\n            'v': 702,\n            'f': \"702\",\n        },\n\"The visitor pattern is essentially the same thing as Church encoding\",\n\"2021-02-04 10:03:48\"],\n [{\n            'v': 703,\n            'f': \"703\",\n        },\n\"AR with SceneKit and Metal\",\n\"2021-02-04 11:56:43\"],\n [{\n            'v': 704,\n            'f': \"704\",\n        },\n\"Pharmacometric Modeling and Simulation in Julia\",\n\"2021-02-04 14:21:09\"],\n [{\n            'v': 705,\n            'f': \"705\",\n        },\n\"Enterprise Applications of Reinforcement Learning\",\n\"2021-02-04 15:54:35\"],\n [{\n            'v': 706,\n            'f': \"706\",\n        },\n\"Uncertainty / Monte Carlo Analysis Tools?\",\n\"2021-02-04 15:55:27\"],\n [{\n            'v': 707,\n            'f': \"707\",\n        },\n\"Compiler Class\",\n\"2021-02-04 15:55:38\"],\n [{\n            'v': 708,\n            'f': \"708\",\n        },\n\"Pseudophilosophy encourages confused, self-indulgent thinking\",\n\"2021-02-04 15:55:40\"],\n [{\n            'v': 709,\n            'f': \"709\",\n        },\n\"Interactive Simulation and Modeling Ebook - Beyond Connecting the Dots\",\n\"2021-02-04 15:56:45\"],\n [{\n            'v': 710,\n            'f': \"710\",\n        },\n\"Localize your cat at home with BLE beacon, ESP32s, and Machine Learning\",\n\"2021-02-05 03:10:22\"],\n [{\n            'v': 711,\n            'f': \"711\",\n        },\n\"Peter Norvig's Economic Simulation\",\n\"2021-02-05 03:10:29\"],\n [{\n            'v': 712,\n            'f': \"712\",\n        },\n\"Tales of Favicons and Caches: Persistent Tracking in Modern Browsers\",\n\"2021-02-05 03:10:39\"],\n [{\n            'v': 713,\n            'f': \"713\",\n        },\n\"Peter Naur's view of programming\",\n\"2021-02-05 03:37:17\"],\n [{\n            'v': 714,\n            'f': \"714\",\n        },\n\"Still alive\",\n\"2021-02-05 04:15:54\"],\n [{\n            'v': 715,\n            'f': \"715\",\n        },\n\"Self-Directed Pandas Crash Course\",\n\"2021-02-07 06:01:45\"],\n [{\n            'v': 716,\n            'f': \"716\",\n        },\n\"I shot high-res stitched panoramas in Iceland using a thermal camera\",\n\"2021-02-07 06:02:09\"],\n [{\n            'v': 717,\n            'f': \"717\",\n        },\n\"WSL2 corrupting Git repositories and shell history\",\n\"2021-02-07 06:02:42\"],\n [{\n            'v': 718,\n            'f': \"718\",\n        },\n\"LibreTranslate \\u2013 Open-source neural machine translation API\",\n\"2021-02-07 06:03:17\"],\n [{\n            'v': 719,\n            'f': \"719\",\n        },\n\"Why We Fight over Fiction\",\n\"2021-02-07 06:08:41\"],\n [{\n            'v': 720,\n            'f': \"720\",\n        },\n\"Become Shell Literate\",\n\"2021-02-09 16:00:14\"],\n [{\n            'v': 721,\n            'f': \"721\",\n        },\n\"Write a Shell in C\",\n\"2021-02-09 16:34:38\"],\n [{\n            'v': 722,\n            'f': \"722\",\n        },\n\"Hybrid recommender systems to improve recommendations for sparse datasets\",\n\"2021-02-11 17:51:45\"],\n [{\n            'v': 723,\n            'f': \"723\",\n        },\n\"Reinforcement Learning for Recommender Systems: A Case Study on Youtube [video]\",\n\"2021-02-11 17:51:48\"],\n [{\n            'v': 724,\n            'f': \"724\",\n        },\n\"How to Build a Simple Movie Recommender System with Tags\",\n\"2021-02-11 17:51:56\"],\n [{\n            'v': 725,\n            'f': \"725\",\n        },\n\"Is it worth it? ROI of recommender systems and implementation challenges\",\n\"2021-02-11 17:53:09\"],\n [{\n            'v': 726,\n            'f': \"726\",\n        },\n\"Network Models for Recommender Systems\",\n\"2021-02-11 17:53:21\"],\n [{\n            'v': 727,\n            'f': \"727\",\n        },\n\"Better Preference Predictions: Tunable and Explainable Recommender Systems\",\n\"2021-02-11 17:53:30\"],\n [{\n            'v': 728,\n            'f': \"728\",\n        },\n\"GHRecommender \\u2013 Project recommender system for GitHub\",\n\"2021-02-11 17:53:31\"],\n [{\n            'v': 729,\n            'f': \"729\",\n        },\n\"Recommender Systems for the Department of Defense and Intelligence Community\",\n\"2021-02-11 17:53:55\"],\n [{\n            'v': 730,\n            'f': \"730\",\n        },\n\"A Deep Dive into Latent Dirichlet Allocation (LDA) on Recommender System\",\n\"2021-02-11 17:54:50\"],\n [{\n            'v': 731,\n            'f': \"731\",\n        },\n\"RecSim: A Configurable Simulation Platform for Recommender Systems\",\n\"2021-02-11 17:56:33\"],\n [{\n            'v': 732,\n            'f': \"732\",\n        },\n\"A principled way to solve problems\",\n\"2021-02-11 19:28:16\"],\n [{\n            'v': 733,\n            'f': \"733\",\n        },\n\"Chess tactics explained\",\n\"2021-02-14 20:55:36\"],\n [{\n            'v': 734,\n            'f': \"734\",\n        },\n\"Build your own \\u201cdata lake\\u201d for reporting purposes\",\n\"2021-02-16 07:34:08\"],\n [{\n            'v': 735,\n            'f': \"735\",\n        },\n\"The DynamoDB Paper\",\n\"2021-02-16 07:34:28\"],\n [{\n            'v': 736,\n            'f': \"736\",\n        },\n\"Patterns of Distributed Systems\",\n\"2021-02-16 14:38:37\"],\n [{\n            'v': 737,\n            'f': \"737\",\n        },\n\"SQL Notebook\",\n\"2021-02-16 14:38:39\"],\n [{\n            'v': 738,\n            'f': \"738\",\n        },\n\"A List of Recommender Systems and Resources\",\n\"2021-02-23 22:28:09\"],\n [{\n            'v': 739,\n            'f': \"739\",\n        },\n\"I made a website to search for half loaves of bread\",\n\"2021-03-09 23:13:25\"],\n [{\n            'v': 740,\n            'f': \"740\",\n        },\n\"DNS Esoterica \\u2013 Why you can't dig Switzerland\",\n\"2021-03-14 23:37:04\"],\n [{\n            'v': 741,\n            'f': \"741\",\n        },\n\"Options for starting a data warehousing environment?\",\n\"2021-03-22 04:49:08\"],\n [{\n            'v': 742,\n            'f': \"742\",\n        },\n\"Linear Methods (PCA) vs. Deep Learning (Autoencoder)\",\n\"2021-03-26 01:58:04\"],\n [{\n            'v': 743,\n            'f': \"743\",\n        },\n\"Let's build a distributed Postgres proof of concept\",\n\"2021-03-27 06:15:13\"],\n [{\n            'v': 744,\n            'f': \"744\",\n        },\n\"How to write more clearly, think more clearly, and learn complex material\",\n\"2021-03-29 07:01:45\"],\n [{\n            'v': 745,\n            'f': \"745\",\n        },\n\"Machine Learning Engineer Guide: Feature Store vs. Data Warehouse\",\n\"2021-04-14 17:23:22\"],\n [{\n            'v': 746,\n            'f': \"746\",\n        },\n\"The State of Web Scraping 2022: The Good, the Bad, the Ugly\",\n\"2021-04-14 20:21:47\"],\n [{\n            'v': 747,\n            'f': \"747\",\n        },\n\"50% of neuroscience papers suffer from a major statistical error.\",\n\"2021-04-23 23:02:09\"],\n [{\n            'v': 748,\n            'f': \"748\",\n        },\n\"The data are clear: The boys are not all right\",\n\"2021-05-02 03:23:40\"],\n [{\n            'v': 749,\n            'f': \"749\",\n        },\n\"How PostgreSQL stores rows\",\n\"2021-05-02 03:23:44\"],\n [{\n            'v': 750,\n            'f': \"750\",\n        },\n\"Best Practices for Scylla Applications\",\n\"2021-05-02 03:24:06\"],\n [{\n            'v': 751,\n            'f': \"751\",\n        },\n\"What's Functional Programming All About?\",\n\"2021-05-04 20:15:09\"],\n [{\n            'v': 752,\n            'f': \"752\",\n        },\n\"Functional Programming Jargon\",\n\"2021-05-04 20:15:12\"],\n [{\n            'v': 753,\n            'f': \"753\",\n        },\n\"A practical introduction to functional programming\",\n\"2021-05-04 20:47:20\"],\n [{\n            'v': 754,\n            'f': \"754\",\n        },\n\"Best Practices for Using Functional Programming in Python\",\n\"2021-05-05 00:27:27\"],\n [{\n            'v': 755,\n            'f': \"755\",\n        },\n\"Discrete Mathematics and Functional Programming\",\n\"2021-05-05 00:27:27\"],\n [{\n            'v': 756,\n            'f': \"756\",\n        },\n\"Professor Frisby's Mostly Adequate Guide to Functional Programming\",\n\"2021-05-05 00:27:30\"],\n [{\n            'v': 757,\n            'f': \"757\",\n        },\n\"Girls perform better academically in almost all countries\",\n\"2021-05-31 00:27:27\"],\n [{\n            'v': 758,\n            'f': \"758\",\n        },\n\"Use fast data algorithms\",\n\"2021-06-07 09:16:38\"],\n [{\n            'v': 759,\n            'f': \"759\",\n        },\n\"Why do you waste so much time on the internet?\",\n\"2021-06-07 09:16:42\"],\n [{\n            'v': 760,\n            'f': \"760\",\n        },\n\"Disinformation: It\\u2019s History\",\n\"2021-06-09 23:13:48\"],\n [{\n            'v': 761,\n            'f': \"761\",\n        },\n\"Docker in Production: A History of Failure\",\n\"2021-06-13 13:21:49\"],\n [{\n            'v': 762,\n            'f': \"762\",\n        },\n\"Duolingo reaches $6.5B valuation on day of IPO\",\n\"2021-06-15 13:40:36\"],\n [{\n            'v': 763,\n            'f': \"763\",\n        },\n\"Hasura GraphQL Engine and SQL Server\",\n\"2021-06-19 01:42:14\"],\n [{\n            'v': 764,\n            'f': \"764\",\n        },\n\"Command line tools for productive programmers\",\n\"2021-06-22 16:30:43\"],\n [{\n            'v': 765,\n            'f': \"765\",\n        },\n\"On the link between great thinking and obsessive walking\",\n\"2021-06-23 14:38:23\"],\n [{\n            'v': 766,\n            'f': \"766\",\n        },\n\"Tech Interview Handbook\",\n\"2021-06-27 18:55:29\"],\n [{\n            'v': 767,\n            'f': \"767\",\n        },\n\"Brooks, Wirth and Go\",\n\"2021-06-29 13:39:09\"],\n [{\n            'v': 768,\n            'f': \"768\",\n        },\n\"Have you used SQLite as a primary database?\",\n\"2021-07-04 07:22:50\"],\n [{\n            'v': 769,\n            'f': \"769\",\n        },\n\"Cambridge Bitcoin Electricity Consumption Index\",\n\"2021-07-06 02:46:52\"],\n [{\n            'v': 770,\n            'f': \"770\",\n        },\n\"Algorithm Solves Graph Isomorphism in Record Time\",\n\"2021-07-06 02:47:37\"],\n [{\n            'v': 771,\n            'f': \"771\",\n        },\n\"Graph Playground - Make Graphs/Networks and run Algorithms\",\n\"2021-07-11 09:20:30\"],\n [{\n            'v': 772,\n            'f': \"772\",\n        },\n\"A central bank simulator game with a realistic economic model\",\n\"2021-07-11 09:20:45\"],\n [{\n            'v': 773,\n            'f': \"773\",\n        },\n\"Turkey\\u2019s inflation soars to 73%, a 23-year high, as food and energy costs rise\",\n\"2021-07-11 09:21:25\"],\n [{\n            'v': 774,\n            'f': \"774\",\n        },\n\"How \\u201clatency numbers everybody should know\\u201d decreased from 1990\\u20132020\",\n\"2021-07-13 15:44:25\"],\n [{\n            'v': 775,\n            'f': \"775\",\n        },\n\"The First Rule of Machine Learning: Start Without Machine Learning\",\n\"2021-07-13 15:50:01\"],\n [{\n            'v': 776,\n            'f': \"776\",\n        },\n\"Is it just me or is networking really hard?\",\n\"2021-07-14 03:32:11\"],\n [{\n            'v': 777,\n            'f': \"777\",\n        },\n\"How to take credit for someone else's work on GitHub\",\n\"2021-07-14 03:32:13\"],\n [{\n            'v': 778,\n            'f': \"778\",\n        },\n\"Stanford CS007: Personal Finance For Engineers\",\n\"2021-07-15 22:05:36\"],\n [{\n            'v': 779,\n            'f': \"779\",\n        },\n\"As a solo founder, what are the reasons not to use Docker?\",\n\"2021-07-18 00:00:15\"],\n [{\n            'v': 780,\n            'f': \"780\",\n        },\n\"Good Go codebases to read?\",\n\"2021-07-20 02:20:08\"],\n [{\n            'v': 781,\n            'f': \"781\",\n        },\n\"Julia 1.6 Highlights\",\n\"2021-07-20 02:52:04\"],\n [{\n            'v': 782,\n            'f': \"782\",\n        },\n\"Reasonable Person Principle\",\n\"2021-07-22 20:05:39\"],\n [{\n            'v': 783,\n            'f': \"783\",\n        },\n\"A visual introduction to Gaussian Belief Propagation\",\n\"2021-07-22 20:32:18\"],\n [{\n            'v': 784,\n            'f': \"784\",\n        },\n\"My \\u00a34 a month server can handle 4.2M requests a day\",\n\"2021-07-27 15:21:54\"],\n [{\n            'v': 785,\n            'f': \"785\",\n        },\n\"A Summary of Electronics\",\n\"2021-07-29 02:15:34\"],\n [{\n            'v': 786,\n            'f': \"786\",\n        },\n\"Social Networks: It's worse than you think\",\n\"2021-07-29 03:31:17\"],\n [{\n            'v': 787,\n            'f': \"787\",\n        },\n\"Building Large Flask Apps in the Real World\",\n\"2021-07-31 11:30:48\"],\n [{\n            'v': 788,\n            'f': \"788\",\n        },\n\"The Principles of Newspeak\",\n\"2021-08-08 17:09:22\"],\n [{\n            'v': 789,\n            'f': \"789\",\n        },\n\"I don't like computers\",\n\"2021-08-10 01:45:20\"],\n [{\n            'v': 790,\n            'f': \"790\",\n        },\n\"I built an app to create repeatable checklists to help with ADHD\",\n\"2021-08-10 19:16:25\"],\n [{\n            'v': 791,\n            'f': \"791\",\n        },\n\"Kubernetes is our generation's Multics\",\n\"2021-08-10 19:16:26\"],\n [{\n            'v': 792,\n            'f': \"792\",\n        },\n\"An early look at Postgres 14: Performance and monitoring Improvements\",\n\"2021-08-10 19:18:25\"],\n [{\n            'v': 793,\n            'f': \"793\",\n        },\n\"Accidentally exponential behavior in Spark\",\n\"2021-08-10 19:18:27\"],\n [{\n            'v': 794,\n            'f': \"794\",\n        },\n\"State machine replication, and why you should care\",\n\"2021-08-11 08:11:43\"],\n [{\n            'v': 795,\n            'f': \"795\",\n        },\n\"What book is considered the bible of your field/industry?\",\n\"2021-08-11 08:11:46\"],\n [{\n            'v': 796,\n            'f': \"796\",\n        },\n\"Monarch: Google\\u2019s Planet-Scale In-Memory Time Series Database\",\n\"2021-08-11 08:13:09\"],\n [{\n            'v': 797,\n            'f': \"797\",\n        },\n\"So you want to study mathematics\",\n\"2021-08-11 21:23:17\"],\n [{\n            'v': 798,\n            'f': \"798\",\n        },\n\"Software Testing Anti-patterns\",\n\"2021-08-11 21:42:38\"],\n [{\n            'v': 799,\n            'f': \"799\",\n        },\n\"\\u201cDon Quixote\\u201d as a manual for living\",\n\"2021-08-22 18:32:49\"],\n [{\n            'v': 800,\n            'f': \"800\",\n        },\n\"How to rapidly improve at any programming language\",\n\"2021-08-23 19:35:06\"],\n [{\n            'v': 801,\n            'f': \"801\",\n        },\n\"GitHub\\u2019s Engineering Team has moved to Codespaces\",\n\"2021-08-24 15:22:02\"],\n [{\n            'v': 802,\n            'f': \"802\",\n        },\n\"Books that changed my career as a software engineer\",\n\"2021-08-31 06:58:09\"],\n [{\n            'v': 803,\n            'f': \"803\",\n        },\n\"I'm 48 and finally learning how to be a game developer\",\n\"2021-08-31 08:15:07\"],\n [{\n            'v': 804,\n            'f': \"804\",\n        },\n\"Log4j: Between a rock and a hard place\",\n\"2021-08-31 12:34:54\"],\n [{\n            'v': 805,\n            'f': \"805\",\n        },\n\"What Is Life?\",\n\"2021-09-02 12:46:47\"],\n [{\n            'v': 806,\n            'f': \"806\",\n        },\n\"Django for Startup Founders: A better software architecture for SaaS startups\",\n\"2021-09-03 17:40:38\"],\n [{\n            'v': 807,\n            'f': \"807\",\n        },\n\"Interactive Vim tutorial\",\n\"2021-09-05 06:33:47\"],\n [{\n            'v': 808,\n            'f': \"808\",\n        },\n\"What to do once you admit that decentralization never seems to work\",\n\"2021-09-05 07:15:29\"],\n [{\n            'v': 809,\n            'f': \"809\",\n        },\n\"Internet addiction and the habit of book reading\",\n\"2021-09-07 20:01:23\"],\n [{\n            'v': 810,\n            'f': \"810\",\n        },\n\"\\u201cPlay-to-Earn\\u201d and Bullshit Jobs\",\n\"2021-09-10 07:17:53\"],\n [{\n            'v': 811,\n            'f': \"811\",\n        },\n\"My Path to Financial Independence as a Software Engineer\",\n\"2021-09-13 11:41:21\"],\n [{\n            'v': 812,\n            'f': \"812\",\n        },\n\"Kite: An interactive visualization tool for graph theory\",\n\"2021-09-13 21:45:47\"],\n [{\n            'v': 813,\n            'f': \"813\",\n        },\n\"OpenRA: Red Alert, Command and Conquer, Dune 2000, Rebuilt for the Modern Era\",\n\"2021-09-13 21:54:29\"],\n [{\n            'v': 814,\n            'f': \"814\",\n        },\n\"Deep Learning with PyTorch: A 60 Minute Blitz [video]\",\n\"2021-09-13 22:04:54\"],\n [{\n            'v': 815,\n            'f': \"815\",\n        },\n\"You Feel Like Shit\",\n\"2021-09-15 00:21:44\"],\n [{\n            'v': 816,\n            'f': \"816\",\n        },\n\"Making Bracket Pair Colorization Faster\",\n\"2021-09-15 00:21:45\"],\n [{\n            'v': 817,\n            'f': \"817\",\n        },\n\"A World Without Sci-Hub\",\n\"2021-09-15 00:35:36\"],\n [{\n            'v': 818,\n            'f': \"818\",\n        },\n\"Are there any good Diff tools for Jupyter Notebooks?\",\n\"2021-09-16 14:05:28\"],\n [{\n            'v': 819,\n            'f': \"819\",\n        },\n\"Comdb2\",\n\"2021-09-17 20:46:03\"],\n [{\n            'v': 820,\n            'f': \"820\",\n        },\n\"Lessons from my PhD\",\n\"2021-09-18 16:25:44\"],\n [{\n            'v': 821,\n            'f': \"821\",\n        },\n\"How to fit any dataset with a single parameter\",\n\"2021-09-18 22:23:00\"],\n [{\n            'v': 822,\n            'f': \"822\",\n        },\n\"Excel as Code\",\n\"2021-09-21 01:02:12\"],\n [{\n            'v': 823,\n            'f': \"823\",\n        },\n\"Data Engineering 101: Writing Your First Pipeline\",\n\"2021-09-21 03:34:59\"],\n [{\n            'v': 824,\n            'f': \"824\",\n        },\n\"The Problem with Ethereum\",\n\"2021-09-21 14:46:03\"],\n [{\n            'v': 825,\n            'f': \"825\",\n        },\n\"Redis explained\",\n\"2021-09-21 14:46:06\"],\n [{\n            'v': 826,\n            'f': \"826\",\n        },\n\"How do I easily catalog a couple thousand physical books?\",\n\"2021-09-21 15:04:54\"],\n [{\n            'v': 827,\n            'f': \"827\",\n        },\n\"DevOps, SRE, and Platform Engineering\",\n\"2021-09-21 16:00:51\"],\n [{\n            'v': 828,\n            'f': \"828\",\n        },\n\"The history of what we call work\",\n\"2021-09-22 00:43:43\"],\n [{\n            'v': 829,\n            'f': \"829\",\n        },\n\"Gorse \\u2013 An Out-of-the-box open-source Recommender System\",\n\"2021-09-22 00:44:21\"],\n [{\n            'v': 830,\n            'f': \"830\",\n        },\n\"BlazingSQL \\u2013 GPU SQL Engine Now Runs Over 20X Faster Than Apache Spark\",\n\"2021-09-22 13:39:25\"],\n [{\n            'v': 831,\n            'f': \"831\",\n        },\n\"History and Effective Use of Vim\",\n\"2021-09-22 15:12:57\"],\n [{\n            'v': 832,\n            'f': \"832\",\n        },\n\"Google Drive of Historical Footage Locked and Flagged as Terrorist Activity\",\n\"2021-09-23 00:15:38\"],\n [{\n            'v': 833,\n            'f': \"833\",\n        },\n\"The Impedance Mismatch Test: Is Your Data Layer a Complex Mess?\",\n\"2021-09-23 09:22:54\"],\n [{\n            'v': 834,\n            'f': \"834\",\n        },\n\"Authenticated Boot and Disk Encryption on Linux\",\n\"2021-09-23 17:26:21\"],\n [{\n            'v': 835,\n            'f': \"835\",\n        },\n\"Personal Management System\",\n\"2021-09-26 01:32:55\"],\n [{\n            'v': 836,\n            'f': \"836\",\n        },\n\"Building for the 99% Developers\",\n\"2021-09-26 01:34:46\"],\n [{\n            'v': 837,\n            'f': \"837\",\n        },\n\"Best way to host a website for 500 years?\",\n\"2021-09-28 06:31:36\"],\n [{\n            'v': 838,\n            'f': \"838\",\n        },\n\"Coverage is not strongly correlated with test suite effectiveness\",\n\"2021-09-28 10:16:03\"],\n [{\n            'v': 839,\n            'f': \"839\",\n        },\n\"What If Performance Advertising Is Just an Analytics Scam?\",\n\"2021-09-29 14:52:16\"],\n [{\n            'v': 840,\n            'f': \"840\",\n        },\n\"2006-10-09 front\",\n\"2021-09-29 14:52:16\"],\n [{\n            'v': 841,\n            'f': \"841\",\n        },\n\"Racket vs Clojure (it's all about the data structures)\",\n\"2021-09-29 14:52:38\"],\n [{\n            'v': 842,\n            'f': \"842\",\n        },\n\"How to Rapidly Improve at Any Programming Language\",\n\"2021-09-29 14:52:39\"],\n [{\n            'v': 843,\n            'f': \"843\",\n        },\n\"How to replace estimations and guesses with a Monte Carlo simulation\",\n\"2021-09-30 00:06:27\"],\n [{\n            'v': 844,\n            'f': \"844\",\n        },\n\"The Framework is the most exciting laptop I've used\",\n\"2021-09-30 00:06:31\"],\n [{\n            'v': 845,\n            'f': \"845\",\n        },\n\"My lizard brain is no match for infinite scroll\",\n\"2021-09-30 13:08:28\"],\n [{\n            'v': 846,\n            'f': \"846\",\n        },\n\"`COPY \\u2013chmod` reduced the size of my container image by 35%\",\n\"2021-10-01 03:23:44\"],\n [{\n            'v': 847,\n            'f': \"847\",\n        },\n\"Everything I googled in a week as a professional software engineer\",\n\"2021-10-02 02:57:49\"],\n [{\n            'v': 848,\n            'f': \"848\",\n        },\n\"Tool to demo the Danish Unemployment algorithm\",\n\"2021-10-04 04:17:31\"],\n [{\n            'v': 849,\n            'f': \"849\",\n        },\n\"A Faster Lexer in Go\",\n\"2021-10-04 04:19:09\"],\n [{\n            'v': 850,\n            'f': \"850\",\n        },\n\"Reddit search engine for startup founders\",\n\"2021-10-04 06:58:10\"],\n [{\n            'v': 851,\n            'f': \"851\",\n        },\n\"Turning SQLite into a Distributed Database\",\n\"2021-10-05 11:49:16\"],\n [{\n            'v': 852,\n            'f': \"852\",\n        },\n\"LibGen's Bloat Problem\",\n\"2021-10-05 13:52:07\"],\n [{\n            'v': 853,\n            'f': \"853\",\n        },\n\"High System Load with Low CPU Utilization on Linux?\",\n\"2021-10-05 15:22:37\"],\n [{\n            'v': 854,\n            'f': \"854\",\n        },\n\"Taming Go\\u2019s Memory Usage, or How We Avoided Rewriting Our Client in Rust\",\n\"2021-10-06 07:28:48\"],\n [{\n            'v': 855,\n            'f': \"855\",\n        },\n\"Network Programming with Go\",\n\"2021-10-06 07:28:52\"],\n [{\n            'v': 856,\n            'f': \"856\",\n        },\n\"Write You a Haskell:\\u00a0Building a modern functional compiler from first principles\",\n\"2021-10-06 16:34:48\"],\n [{\n            'v': 857,\n            'f': \"857\",\n        },\n\"Reimplementing \\u201cgit clone\\u201d in Haskell from the bottom up\",\n\"2021-10-06 16:36:35\"],\n [{\n            'v': 858,\n            'f': \"858\",\n        },\n\"What Is Good About Haskell?\",\n\"2021-10-06 16:36:38\"],\n [{\n            'v': 859,\n            'f': \"859\",\n        },\n\"What I Wish I Knew When Learning Haskell\",\n\"2021-10-06 16:36:42\"],\n [{\n            'v': 860,\n            'f': \"860\",\n        },\n\"Basics of Haskell \\u2013 Code and exercises\",\n\"2021-10-06 16:37:08\"],\n [{\n            'v': 861,\n            'f': \"861\",\n        },\n\"Pain Points of Haskell\",\n\"2021-10-06 16:37:12\"],\n [{\n            'v': 862,\n            'f': \"862\",\n        },\n\"Why Learn Haskell?\",\n\"2021-10-06 16:37:57\"],\n [{\n            'v': 863,\n            'f': \"863\",\n        },\n\"Real World Haskell\",\n\"2021-10-06 16:38:05\"],\n [{\n            'v': 864,\n            'f': \"864\",\n        },\n\"Should you be scared of Unix signals?\",\n\"2021-10-08 11:45:12\"],\n [{\n            'v': 865,\n            'f': \"865\",\n        },\n\"All about Linux signals - Linux Programming Blog\",\n\"2021-10-08 11:46:17\"],\n [{\n            'v': 866,\n            'f': \"866\",\n        },\n\"Signals are one of the most dangerous features of POSIX, but this guide is aweso...\",\n\"2021-10-08 11:46:24\"],\n [{\n            'v': 867,\n            'f': \"867\",\n        },\n\"Understanding Shannon's Entropy metric for Information\",\n\"2021-10-08 11:56:37\"],\n [{\n            'v': 868,\n            'f': \"868\",\n        },\n\"Always Do Extra\",\n\"2021-10-10 08:10:40\"],\n [{\n            'v': 869,\n            'f': \"869\",\n        },\n\"How to write a Git commit message\",\n\"2021-10-11 14:36:50\"],\n [{\n            'v': 870,\n            'f': \"870\",\n        },\n\"The Insecurity Industry\",\n\"2021-10-11 18:00:57\"],\n [{\n            'v': 871,\n            'f': \"871\",\n        },\n\"Counterfactuals are not causality\",\n\"2021-10-11 18:01:06\"],\n [{\n            'v': 872,\n            'f': \"872\",\n        },\n\"SHA-1 'fully and practically broken' by new collision\",\n\"2021-10-12 11:12:38\"],\n [{\n            'v': 873,\n            'f': \"873\",\n        },\n\"Highschool student hacks entire districts IoT network for Rickroll senior prank\",\n\"2021-10-12 11:18:14\"],\n [{\n            'v': 874,\n            'f': \"874\",\n        },\n\"Ethereum Services Are Centralized\",\n\"2021-10-12 11:18:29\"],\n [{\n            'v': 875,\n            'f': \"875\",\n        },\n\"Scaling Data Pipelines on Kubernetes\",\n\"2021-10-12 22:07:32\"],\n [{\n            'v': 876,\n            'f': \"876\",\n        },\n\"Kubernetes: The Documentary\",\n\"2021-10-12 22:07:32\"],\n [{\n            'v': 877,\n            'f': \"877\",\n        },\n\"Reduce SQLite database size by up to 80% with transparent compression\",\n\"2021-10-12 22:07:32\"],\n [{\n            'v': 878,\n            'f': \"878\",\n        },\n\"How I went about learning Rust\",\n\"2021-10-12 22:08:59\"],\n [{\n            'v': 879,\n            'f': \"879\",\n        },\n\"Unhook: Hide YouTube Recommendations\",\n\"2021-10-13 22:41:31\"],\n [{\n            'v': 880,\n            'f': \"880\",\n        },\n\"Conterintuitive facts in mathematics, CS, and physics\",\n\"2021-10-13 22:41:40\"],\n [{\n            'v': 881,\n            'f': \"881\",\n        },\n\"Some notes on DynamoDB 2022 paper\",\n\"2021-10-14 16:41:15\"],\n [{\n            'v': 882,\n            'f': \"882\",\n        },\n\"All you should know about Flutter development\",\n\"2021-10-14 23:21:26\"],\n [{\n            'v': 883,\n            'f': \"883\",\n        },\n\"The core thing is that I haven't been a fan of the services layer described here...\",\n\"2021-10-16 03:03:38\"],\n [{\n            'v': 884,\n            'f': \"884\",\n        },\n\"I really, really disagree with Jeff Atwood here. Jeff has interpreted \\\"learn to ...\",\n\"2021-10-16 15:06:23\"],\n [{\n            'v': 885,\n            'f': \"885\",\n        },\n\"My Favorite Liar\",\n\"2021-10-16 15:06:25\"],\n [{\n            'v': 886,\n            'f': \"886\",\n        },\n\"Read \\u201cData and Reality\\u201d\",\n\"2021-10-17 02:48:25\"],\n [{\n            'v': 887,\n            'f': \"887\",\n        },\n\"Who do you talk to about system architecture and design?\",\n\"2021-10-17 02:48:26\"],\n [{\n            'v': 888,\n            'f': \"888\",\n        },\n\"Advent of Code 2021\",\n\"2021-10-17 02:48:30\"],\n [{\n            'v': 889,\n            'f': \"889\",\n        },\n\"A word used only by Postgres developers\",\n\"2021-10-18 02:20:33\"],\n [{\n            'v': 890,\n            'f': \"890\",\n        },\n\"Multiprocessing.shared_memory \\u2013 Shared memory for direct access across processes\",\n\"2021-10-19 22:46:21\"],\n [{\n            'v': 891,\n            'f': \"891\",\n        },\n\"Faster Parallel Python Without Python Multiprocessing\",\n\"2021-10-19 22:46:37\"],\n [{\n            'v': 892,\n            'f': \"892\",\n        },\n\"Python multiprocessing understanding logic behind `chunksize` \\u2013 Stack Overflow\",\n\"2021-10-19 22:46:52\"],\n [{\n            'v': 893,\n            'f': \"893\",\n        },\n\"TIL\\u2013Python has a built-in persistent key-value store\",\n\"2021-10-19 22:59:30\"],\n [{\n            'v': 894,\n            'f': \"894\",\n        },\n\"The strange business of hole-in-one insurance\",\n\"2021-10-19 23:14:03\"],\n [{\n            'v': 895,\n            'f': \"895\",\n        },\n\"Why isn\\u2019t there a decent file format for tabular data?\",\n\"2021-10-19 23:14:05\"],\n [{\n            'v': 896,\n            'f': \"896\",\n        },\n\"A database for 2022\",\n\"2021-10-19 23:14:57\"],\n [{\n            'v': 897,\n            'f': \"897\",\n        },\n\"Python stands to lose its GIL, and gain a lot of speed\",\n\"2021-10-21 01:47:42\"],\n [{\n            'v': 898,\n            'f': \"898\",\n        },\n\"Show\",\n\"2021-10-23 01:35:08\"],\n [{\n            'v': 899,\n            'f': \"899\",\n        },\n\"The Science of the Benefits of Religion\",\n\"2021-10-23 01:35:08\"],\n [{\n            'v': 900,\n            'f': \"900\",\n        },\n\"Former NSA Hacker Describes Being Recruited for UAE Spy Program\",\n\"2021-10-25 04:45:57\"],\n [{\n            'v': 901,\n            'f': \"901\",\n        },\n\"AWS costs every programmer should know\",\n\"2021-10-28 14:14:55\"],\n [{\n            'v': 902,\n            'f': \"902\",\n        },\n\"Incident with GitHub Actions, API Requests, Git Operations, Issues and more\",\n\"2021-10-29 06:08:40\"],\n [{\n            'v': 903,\n            'f': \"903\",\n        },\n\"GitHub Actions now supports CI/CD, free for public repositories\",\n\"2021-10-29 06:12:16\"],\n [{\n            'v': 904,\n            'f': \"904\",\n        },\n\"Why is version control in Jupyter notebooks so hard?\",\n\"2021-10-29 06:38:10\"],\n [{\n            'v': 905,\n            'f': \"905\",\n        },\n\"How to Version-Control Jupyter Notebooks\",\n\"2021-10-29 06:39:49\"],\n [{\n            'v': 906,\n            'f': \"906\",\n        },\n\"GitHub Actions limitations and gotchas\",\n\"2021-10-29 10:12:52\"],\n [{\n            'v': 907,\n            'f': \"907\",\n        },\n\"Django 4.1\",\n\"2021-10-29 13:38:59\"],\n [{\n            'v': 908,\n            'f': \"908\",\n        },\n\"Only 5% Indie Hackers products make $100k/year\",\n\"2021-11-04 12:27:59\"],\n [{\n            'v': 909,\n            'f': \"909\",\n        },\n\"My first industry job: lies, deceptions, and layoffs\",\n\"2021-11-04 12:28:00\"],\n [{\n            'v': 910,\n            'f': \"910\",\n        },\n\"Hacking YouTube with a MP4\",\n\"2021-11-04 12:28:01\"],\n [{\n            'v': 911,\n            'f': \"911\",\n        },\n\"Deconstructing the Postgres planner to find indexing opportunities\",\n\"2021-11-05 04:07:47\"],\n [{\n            'v': 912,\n            'f': \"912\",\n        },\n\"Nix: Taming Unix with Functional Programming\",\n\"2021-11-09 19:55:06\"],\n [{\n            'v': 913,\n            'f': \"913\",\n        },\n\"Logging at Twitter\",\n\"2021-11-09 19:56:18\"],\n [{\n            'v': 914,\n            'f': \"914\",\n        },\n\"Learn Python ASTs, by building your own linter\",\n\"2021-11-09 21:14:47\"],\n [{\n            'v': 915,\n            'f': \"915\",\n        },\n\"Freqfs: In-memory filesystem cache for Rust\",\n\"2021-11-10 20:42:28\"],\n [{\n            'v': 916,\n            'f': \"916\",\n        },\n\"A tiny static full-text search engine using Rust and WebAssembly\",\n\"2021-11-10 21:10:28\"],\n [{\n            'v': 917,\n            'f': \"917\",\n        },\n\"How to build a second brain as a software developer\",\n\"2021-11-11 22:38:39\"],\n [{\n            'v': 918,\n            'f': \"918\",\n        },\n\"Assume everyone is stupid, lazy and possibly insane, including you\",\n\"2021-11-17 20:31:57\"],\n [{\n            'v': 919,\n            'f': \"919\",\n        },\n\"What mental models do you use everyday?\",\n\"2021-11-22 00:47:44\"],\n [{\n            'v': 920,\n            'f': \"920\",\n        },\n\"Great tools for solo SaaS founders?\",\n\"2021-11-22 00:47:45\"],\n [{\n            'v': 921,\n            'f': \"921\",\n        },\n\"Notes on Software Development Waste\",\n\"2021-11-22 00:47:46\"],\n [{\n            'v': 922,\n            'f': \"922\",\n        },\n\"Things I learned from building a production database\",\n\"2021-11-24 09:09:48\"],\n [{\n            'v': 923,\n            'f': \"923\",\n        },\n\"Is Back End easier than Front End (generally)?\",\n\"2021-11-24 10:53:44\"],\n [{\n            'v': 924,\n            'f': \"924\",\n        },\n\"The Joy of Cryptography\",\n\"2021-11-25 10:10:45\"],\n [{\n            'v': 925,\n            'f': \"925\",\n        },\n\"Notes on Distributed Systems for Young Bloods\",\n\"2021-11-27 06:19:37\"],\n [{\n            'v': 926,\n            'f': \"926\",\n        },\n\"Is it still possible to live in a terminal?\",\n\"2021-11-27 06:20:41\"],\n [{\n            'v': 927,\n            'f': \"927\",\n        },\n\"SMTP protocol basics from scratch in Go: receiving email from Gmail\",\n\"2021-11-30 15:55:44\"],\n [{\n            'v': 928,\n            'f': \"928\",\n        },\n\"Metaphors we learn to program by\",\n\"2021-12-04 05:47:49\"],\n [{\n            'v': 929,\n            'f': \"929\",\n        },\n\"Keep a Log\",\n\"2021-12-04 05:56:15\"],\n [{\n            'v': 930,\n            'f': \"930\",\n        },\n\"How to rest well\",\n\"2021-12-04 05:56:23\"],\n [{\n            'v': 931,\n            'f': \"931\",\n        },\n\"Advice about aging parents\",\n\"2021-12-04 05:57:08\"],\n [{\n            'v': 932,\n            'f': \"932\",\n        },\n\"What are the best-designed things you've ever used?\",\n\"2021-12-04 05:58:13\"],\n [{\n            'v': 933,\n            'f': \"933\",\n        },\n\"PyTorch: Where we are headed and why it looks a lot like Julia (but not exactly)\",\n\"2021-12-04 06:09:00\"],\n [{\n            'v': 934,\n            'f': \"934\",\n        },\n\"Event Sourcing Is Hard\",\n\"2021-12-04 06:09:35\"],\n [{\n            'v': 935,\n            'f': \"935\",\n        },\n\"The Deadlock Empire\",\n\"2021-12-04 08:03:13\"],\n [{\n            'v': 936,\n            'f': \"936\",\n        },\n\"Common Infrastructure Errors I've Made\",\n\"2021-12-04 08:03:30\"],\n [{\n            'v': 937,\n            'f': \"937\",\n        },\n\"C++ Concurrency Model on x86 for Dummies\",\n\"2021-12-07 09:53:44\"],\n [{\n            'v': 938,\n            'f': \"938\",\n        },\n\"Loving Someone with Depression\",\n\"2021-12-11 19:41:44\"],\n [{\n            'v': 939,\n            'f': \"939\",\n        },\n\"Trying Out Generics in Go\",\n\"2021-12-16 23:02:53\"],\n [{\n            'v': 940,\n            'f': \"940\",\n        },\n\"How can I stop worrying and start living?\",\n\"2021-12-17 00:05:49\"],\n [{\n            'v': 941,\n            'f': \"941\",\n        },\n\"What's the easiest way to make a living with $600k in cash?\",\n\"2021-12-17 00:15:01\"],\n [{\n            'v': 942,\n            'f': \"942\",\n        },\n\"Are most of us developers lying about how much work we do?\",\n\"2021-12-17 00:22:10\"],\n [{\n            'v': 943,\n            'f': \"943\",\n        },\n\"One decade later, Minecraft world generation is interesting again\",\n\"2021-12-17 00:22:53\"],\n [{\n            'v': 944,\n            'f': \"944\",\n        },\n\"A First Lesson in Econometrics\",\n\"2021-12-17 22:27:35\"],\n [{\n            'v': 945,\n            'f': \"945\",\n        },\n\"The Demise of Scientific American\",\n\"2021-12-18 04:13:24\"],\n [{\n            'v': 946,\n            'f': \"946\",\n        },\n\"CS631 \\u2013 Advanced Programming in the Unix Environment\",\n\"2021-12-20 06:06:08\"],\n [{\n            'v': 947,\n            'f': \"947\",\n        },\n\"The Big DevOps Misunderstanding\",\n\"2021-12-20 06:06:10\"],\n [{\n            'v': 948,\n            'f': \"948\",\n        },\n\"What are you working on?\",\n\"2021-12-26 09:55:37\"],\n [{\n            'v': 949,\n            'f': \"949\",\n        },\n\"Anti-mimetic tactics for living a counter-cultural life\",\n\"2021-12-26 16:40:45\"],\n [{\n            'v': 950,\n            'f': \"950\",\n        },\n\"The Container Throttling Problem\",\n\"2021-12-27 10:03:46\"],\n [{\n            'v': 951,\n            'f': \"951\",\n        },\n\"Omicron extensively but incompletely escapes Pfizer vaccine neutralization\",\n\"2021-12-27 11:18:29\"],\n [{\n            'v': 952,\n            'f': \"952\",\n        },\n\"Smart contracts on Bitcoin\",\n\"2021-12-28 17:52:49\"],\n [{\n            'v': 953,\n            'f': \"953\",\n        },\n\"How to mentor software engineers\",\n\"2021-12-28 19:16:21\"],\n [{\n            'v': 954,\n            'f': \"954\",\n        },\n\"A former Uber engineer's disaster story\",\n\"2021-12-29 13:04:07\"],\n [{\n            'v': 955,\n            'f': \"955\",\n        },\n\"Experimental depression treatment is nearly 80% effective in controlled study\",\n\"2021-12-30 13:33:45\"],\n [{\n            'v': 956,\n            'f': \"956\",\n        },\n\"The Airbnbs\",\n\"2022-01-01 15:38:18\"],\n [{\n            'v': 957,\n            'f': \"957\",\n        },\n\"Common Expression Language\",\n\"2022-01-02 23:12:03\"],\n [{\n            'v': 958,\n            'f': \"958\",\n        },\n\"Google Stories\",\n\"2022-01-03 07:46:56\"],\n [{\n            'v': 959,\n            'f': \"959\",\n        },\n\"Mind bending books to read and never be the same as before?\",\n\"2022-01-04 11:41:31\"],\n [{\n            'v': 960,\n            'f': \"960\",\n        },\n\"Using HTTP Basic Auth in 2022\",\n\"2022-01-04 12:19:44\"],\n [{\n            'v': 961,\n            'f': \"961\",\n        },\n\"How Dwarf Fortress is built\",\n\"2022-01-04 12:19:45\"],\n [{\n            'v': 962,\n            'f': \"962\",\n        },\n\"2021 Letter\",\n\"2022-01-04 12:19:46\"],\n [{\n            'v': 963,\n            'f': \"963\",\n        },\n\"Book Review: \\u201cViral\\u201d by Alina Chan and Matt Ridley\",\n\"2022-01-04 12:19:47\"],\n [{\n            'v': 964,\n            'f': \"964\",\n        },\n\"Sharrows, the bicycle infrastructure that doesn\\u2019t work and nobody wants\",\n\"2022-01-04 14:24:30\"],\n [{\n            'v': 965,\n            'f': \"965\",\n        },\n\"Things You're Allowed to Do\",\n\"2022-01-04 17:26:10\"],\n [{\n            'v': 966,\n            'f': \"966\",\n        },\n\"A 2020 Vision of Linear Algebra\",\n\"2022-01-05 17:46:02\"],\n [{\n            'v': 967,\n            'f': \"967\",\n        },\n\"I've been promoted to Architect. What do I need to learn/do to excel?\",\n\"2022-01-05 18:53:36\"],\n [{\n            'v': 968,\n            'f': \"968\",\n        },\n\"Dgraph, GraphQL, Schemas, & CRUD \\u2013 Ardan Labs\",\n\"2022-01-05 21:30:02\"],\n [{\n            'v': 969,\n            'f': \"969\",\n        },\n\"How Discord supercharges network disks for extreme low latency\",\n\"2022-01-07 23:30:45\"],\n [{\n            'v': 970,\n            'f': \"970\",\n        },\n\"Bash patterns I use weekly\",\n\"2022-01-07 23:30:46\"],\n [{\n            'v': 971,\n            'f': \"971\",\n        },\n\"Things Go Needs More Than Generics\",\n\"2022-01-08 11:57:32\"],\n [{\n            'v': 972,\n            'f': \"972\",\n        },\n\"Pull Requests vs. Pair Programming\",\n\"2022-01-08 12:56:34\"],\n [{\n            'v': 973,\n            'f': \"973\",\n        },\n\"Word-Aligned Bloom Filters\",\n\"2022-01-08 15:34:49\"],\n [{\n            'v': 974,\n            'f': \"974\",\n        },\n\"Best resources for non-technical founders to understand hacker mindset?\",\n\"2022-01-09 19:19:37\"],\n [{\n            'v': 975,\n            'f': \"975\",\n        },\n\"Can web scraping be the basis of a viable business model?\",\n\"2022-01-09 21:03:16\"],\n [{\n            'v': 976,\n            'f': \"976\",\n        },\n\"Is ProductHunt Worth It?\",\n\"2022-01-09 21:04:22\"],\n [{\n            'v': 977,\n            'f': \"977\",\n        },\n\"Chatbots: Still dumb after all these years\",\n\"2022-01-09 21:04:35\"],\n [{\n            'v': 978,\n            'f': \"978\",\n        },\n\"The GIL and its effects on Python multithreading\",\n\"2022-01-10 14:04:13\"],\n [{\n            'v': 979,\n            'f': \"979\",\n        },\n\"GitHub Actions: Organization secrets\",\n\"2022-01-11 12:01:08\"],\n [{\n            'v': 980,\n            'f': \"980\",\n        },\n\"I suck at math, where to start?\",\n\"2022-01-12 15:46:41\"],\n [{\n            'v': 981,\n            'f': \"981\",\n        },\n\"State of Machine Learning in Julia\",\n\"2022-01-12 15:46:43\"],\n [{\n            'v': 982,\n            'f': \"982\",\n        },\n\"Cloud-Native Data Pipelines\",\n\"2022-01-12 15:46:44\"],\n [{\n            'v': 983,\n            'f': \"983\",\n        },\n\"Using Git Commit Message Templates to Write Better Commit Messages\",\n\"2022-01-13 00:20:02\"],\n [{\n            'v': 984,\n            'f': \"984\",\n        },\n\"The State of Web Scraping 2022\",\n\"2022-01-13 00:20:02\"],\n [{\n            'v': 985,\n            'f': \"985\",\n        },\n\"Oracle Database 12.2. It is close to 25 million lines of C code. What an unima...\",\n\"2022-01-13 14:47:03\"],\n [{\n            'v': 986,\n            'f': \"986\",\n        },\n\"More than 1M fewer students are in college, the lowest numbers in 50 years\",\n\"2022-01-13 15:49:59\"],\n [{\n            'v': 987,\n            'f': \"987\",\n        },\n\"What is the SQLite of nosql databases?\",\n\"2022-01-13 17:36:43\"],\n [{\n            'v': 988,\n            'f': \"988\",\n        },\n\"The best engineering interview question I've ever gotten\",\n\"2022-01-13 17:38:06\"],\n [{\n            'v': 989,\n            'f': \"989\",\n        },\n\"The Philosophy of Work\",\n\"2022-01-14 14:18:53\"],\n [{\n            'v': 990,\n            'f': \"990\",\n        },\n\"Higher order derivatives in everyday life?\",\n\"2022-01-18 05:24:44\"],\n [{\n            'v': 991,\n            'f': \"991\",\n        },\n\"But life had other plans\",\n\"2022-01-18 05:24:58\"],\n [{\n            'v': 992,\n            'f': \"992\",\n        },\n\"Name one idea that changed your life\",\n\"2022-01-18 12:59:20\"],\n [{\n            'v': 993,\n            'f': \"993\",\n        },\n\"Oh, 2022\",\n\"2022-01-22 10:16:59\"],\n [{\n            'v': 994,\n            'f': \"994\",\n        },\n\"Teaching is a slow process of becoming everything you hate\",\n\"2022-01-22 23:42:43\"],\n [{\n            'v': 995,\n            'f': \"995\",\n        },\n\"Nothing like this will be built again\",\n\"2022-01-25 12:56:27\"],\n [{\n            'v': 996,\n            'f': \"996\",\n        },\n\"I\\u2019m Porting the TypeScript Type Checker Tsc to Go\",\n\"2022-01-25 22:41:15\"],\n [{\n            'v': 997,\n            'f': \"997\",\n        },\n\"WebAssembly techniques to speed up matrix multiplication\",\n\"2022-01-25 22:41:16\"],\n [{\n            'v': 998,\n            'f': \"998\",\n        },\n\"You probably don't need AI/ML. You can make do with well written SQL scripts\",\n\"2022-01-25 22:41:22\"],\n [{\n            'v': 999,\n            'f': \"999\",\n        },\n\"A future for SQL on the web\",\n\"2022-01-25 22:42:23\"],\n [{\n            'v': 1000,\n            'f': \"1000\",\n        },\n\"SQL queries don't start with SELECT\",\n\"2022-01-25 22:42:26\"],\n [{\n            'v': 1001,\n            'f': \"1001\",\n        },\n\"SQL Murder Mystery\",\n\"2022-01-25 22:42:29\"],\n [{\n            'v': 1002,\n            'f': \"1002\",\n        },\n\"SQL: One of the most valuable skills\",\n\"2022-01-25 22:42:34\"],\n [{\n            'v': 1003,\n            'f': \"1003\",\n        },\n\"How SQL Database Engines Work, by the Creator of SQLite [video]\",\n\"2022-01-25 22:42:57\"],\n [{\n            'v': 1004,\n            'f': \"1004\",\n        },\n\"DuckDB \\u2013 An embeddable SQL database like SQLite, but supports Postgres features\",\n\"2022-01-25 22:43:37\"],\n [{\n            'v': 1005,\n            'f': \"1005\",\n        },\n\"Dolt is Git for Data: a SQL database that you can fork, clone, branch, merge\",\n\"2022-01-25 22:43:39\"],\n [{\n            'v': 1006,\n            'f': \"1006\",\n        },\n\"Select Star SQL, an interactive SQL book\",\n\"2022-01-25 22:43:50\"],\n [{\n            'v': 1007,\n            'f': \"1007\",\n        },\n\"We Can Do Better Than SQL\",\n\"2022-01-25 22:43:53\"],\n [{\n            'v': 1008,\n            'f': \"1008\",\n        },\n\"PRQL \\u2013 A proposal for a better SQL\",\n\"2022-01-25 22:44:00\"],\n [{\n            'v': 1009,\n            'f': \"1009\",\n        },\n\"SQL is 43 years old \\u2013 Here\\u2019s why we still use it today\",\n\"2022-01-25 22:44:05\"],\n [{\n            'v': 1010,\n            'f': \"1010\",\n        },\n\"A single person answered 76k questions about SQL on StackOverflow\",\n\"2022-01-25 22:44:13\"],\n [{\n            'v': 1011,\n            'f': \"1011\",\n        },\n\"Startups making lithium-ion battery recycling more profitable and sustainable\",\n\"2022-01-25 22:44:37\"],\n [{\n            'v': 1012,\n            'f': \"1012\",\n        },\n\"Doing too much work on one's own before looping in others\",\n\"2022-01-25 22:44:42\"],\n [{\n            'v': 1013,\n            'f': \"1013\",\n        },\n\"Learn the workings of Git, not just the commands\",\n\"2022-01-26 10:48:19\"],\n [{\n            'v': 1014,\n            'f': \"1014\",\n        },\n\"Scaling Git\\u2019s garbage collection\",\n\"2022-01-27 02:06:02\"],\n [{\n            'v': 1015,\n            'f': \"1015\",\n        },\n\"FPGA Design for Software Engineers\",\n\"2022-01-27 02:12:14\"],\n [{\n            'v': 1016,\n            'f': \"1016\",\n        },\n\"Systemd by Example\",\n\"2022-01-27 05:49:08\"],\n [{\n            'v': 1017,\n            'f': \"1017\",\n        },\n\"How I took my SaaS from idea to sold in 14 months\",\n\"2022-02-07 10:52:12\"],\n [{\n            'v': 1018,\n            'f': \"1018\",\n        },\n\"Resources for \\u201cLearning\\u201d Manufacturing?\",\n\"2022-02-07 13:31:11\"],\n [{\n            'v': 1019,\n            'f': \"1019\",\n        },\n\"I took a job at Amazon, only to leave after 10 months\",\n\"2022-02-08 19:32:04\"],\n [{\n            'v': 1020,\n            'f': \"1020\",\n        },\n\"I analyzed 20k recommendations made by Jim Cramer during the last 5 years\",\n\"2022-02-09 08:38:48\"],\n [{\n            'v': 1021,\n            'f': \"1021\",\n        },\n\"Rich Programmer Food\",\n\"2022-02-09 12:18:03\"],\n [{\n            'v': 1022,\n            'f': \"1022\",\n        },\n\"Web hacking techniques of 2021\",\n\"2022-02-10 09:23:15\"],\n [{\n            'v': 1023,\n            'f': \"1023\",\n        },\n\"Essence: Desktop operating system built from scratch\",\n\"2022-02-10 09:32:33\"],\n [{\n            'v': 1024,\n            'f': \"1024\",\n        },\n\"An odd discovery on Spotify\",\n\"2022-02-10 13:47:36\"],\n [{\n            'v': 1025,\n            'f': \"1025\",\n        },\n\"Incomplete history of Forbes.com as a platform for scams, grift, bad journalism\",\n\"2022-02-10 18:01:44\"],\n [{\n            'v': 1026,\n            'f': \"1026\",\n        },\n\"A toast to all the rejects\",\n\"2022-02-11 14:50:16\"],\n [{\n            'v': 1027,\n            'f': \"1027\",\n        },\n\"Letter to a Young Haskell Enthusiast\",\n\"2022-02-13 10:32:40\"],\n [{\n            'v': 1028,\n            'f': \"1028\",\n        },\n\"Myopia treatment 'smart glasses' from Japan to be sold in Asia\",\n\"2022-02-13 16:52:32\"],\n [{\n            'v': 1029,\n            'f': \"1029\",\n        },\n\"Advice gathered from people smarter than me\",\n\"2022-02-13 17:22:39\"],\n [{\n            'v': 1030,\n            'f': \"1030\",\n        },\n\"SHA-256 explained step-by-step visually\",\n\"2022-02-15 15:29:20\"],\n [{\n            'v': 1031,\n            'f': \"1031\",\n        },\n\"PDEs you should know\",\n\"2022-02-15 19:32:06\"],\n [{\n            'v': 1032,\n            'f': \"1032\",\n        },\n\"What Has Happened to Twitter?\",\n\"2022-02-15 20:06:25\"],\n [{\n            'v': 1033,\n            'f': \"1033\",\n        },\n\"When Postgres blocks: tips for dealing with locks\",\n\"2022-02-15 22:26:15\"],\n [{\n            'v': 1034,\n            'f': \"1034\",\n        },\n\"How Fast Can We Write a 10M Row CSV to a Postgres Database with Pandas?\",\n\"2022-02-17 11:58:23\"],\n [{\n            'v': 1035,\n            'f': \"1035\",\n        },\n\"Google Search Is Dying\",\n\"2022-02-17 13:22:02\"],\n [{\n            'v': 1036,\n            'f': \"1036\",\n        },\n\"The Unbundling of Airflow\",\n\"2022-02-17 18:33:20\"],\n [{\n            'v': 1037,\n            'f': \"1037\",\n        },\n\"Google Tag Manager, the new anti-adblock weapon\",\n\"2022-02-21 09:48:13\"],\n [{\n            'v': 1038,\n            'f': \"1038\",\n        },\n\"Instagram\\u2019s Explore Recommender System\",\n\"2022-02-21 09:48:15\"],\n [{\n            'v': 1039,\n            'f': \"1039\",\n        },\n\"Big data natively on Kubernetes? Spark scheduled by k8s, Kafka on etcd without ZK\",\n\"2022-02-21 09:56:10\"],\n [{\n            'v': 1040,\n            'f': \"1040\",\n        },\n\"Be anonymous\",\n\"2022-02-21 11:58:10\"],\n [{\n            'v': 1041,\n            'f': \"1041\",\n        },\n\"Open-source infra for data scientists\",\n\"2022-02-22 23:21:28\"],\n [{\n            'v': 1042,\n            'f': \"1042\",\n        },\n\"What developers should know about TCP\",\n\"2022-02-23 02:17:00\"],\n [{\n            'v': 1043,\n            'f': \"1043\",\n        },\n\"Why won\\u2019t anyone teach me math?\",\n\"2022-02-23 14:26:36\"],\n [{\n            'v': 1044,\n            'f': \"1044\",\n        },\n\"Moving the Linux Kernel to Modern C\",\n\"2022-02-25 01:00:24\"],\n [{\n            'v': 1045,\n            'f': \"1045\",\n        },\n\"Dive into deep learning compilers\",\n\"2022-02-25 01:01:13\"],\n [{\n            'v': 1046,\n            'f': \"1046\",\n        },\n\"PostgreSQL Schema Change Guide\",\n\"2022-02-25 03:19:49\"],\n [{\n            'v': 1047,\n            'f': \"1047\",\n        },\n\"Graph Theory and Linear Algebra\",\n\"2022-02-25 03:19:51\"],\n [{\n            'v': 1048,\n            'f': \"1048\",\n        },\n\"Thoughts on ML Engineering After a Year of My PhD\",\n\"2022-02-26 10:43:26\"],\n [{\n            'v': 1049,\n            'f': \"1049\",\n        },\n\"Anyone know any funny programming jokes?\",\n\"2022-02-26 11:27:16\"],\n [{\n            'v': 1050,\n            'f': \"1050\",\n        },\n\"Comparing the Same Project in Rust, Haskell, C++, Python, Scala and OCaml\",\n\"2022-02-27 07:32:35\"],\n [{\n            'v': 1051,\n            'f': \"1051\",\n        },\n\"From First Principles: Why Scala?\",\n\"2022-02-27 07:37:45\"],\n [{\n            'v': 1052,\n            'f': \"1052\",\n        },\n\"Research recitation: A first look at rote learning in GitHub Copilot suggestions\",\n\"2022-02-27 07:37:46\"],\n [{\n            'v': 1053,\n            'f': \"1053\",\n        },\n\"What's Next for Scala\",\n\"2022-02-27 07:37:50\"],\n [{\n            'v': 1054,\n            'f': \"1054\",\n        },\n\"One-person SaaS apps that are profitable?\",\n\"2022-02-28 10:13:39\"],\n [{\n            'v': 1055,\n            'f': \"1055\",\n        },\n\"My SaaS paid my rent this month\",\n\"2022-02-28 10:13:40\"],\n [{\n            'v': 1056,\n            'f': \"1056\",\n        },\n\"The Tech Stack of a One-Man SaaS\",\n\"2022-02-28 17:42:35\"],\n [{\n            'v': 1057,\n            'f': \"1057\",\n        },\n\"Stanford CS 144: Introduction to Computer Networking\",\n\"2022-02-28 20:43:54\"],\n [{\n            'v': 1058,\n            'f': \"1058\",\n        },\n\"Minimal safe Bash script template\",\n\"2022-02-28 20:43:55\"],\n [{\n            'v': 1059,\n            'f': \"1059\",\n        },\n\"Inside Pornhub\",\n\"2022-03-01 11:53:29\"],\n [{\n            'v': 1060,\n            'f': \"1060\",\n        },\n\"Avoiding the top Nginx configuration mistakes\",\n\"2022-03-01 23:35:03\"],\n [{\n            'v': 1061,\n            'f': \"1061\",\n        },\n\"How generics are implemented in Go 1.18\",\n\"2022-03-02 02:46:31\"],\n [{\n            'v': 1062,\n            'f': \"1062\",\n        },\n\"The road to success is paved with rejection letters\",\n\"2022-03-02 02:46:37\"],\n [{\n            'v': 1063,\n            'f': \"1063\",\n        },\n\"Debugging with GDB\",\n\"2022-03-02 02:46:40\"],\n [{\n            'v': 1064,\n            'f': \"1064\",\n        },\n\"The state of burnout in tech, 2022 edition\",\n\"2022-03-03 15:55:34\"],\n [{\n            'v': 1065,\n            'f': \"1065\",\n        },\n\"Inflation-adjusted stock charts \\u2013 Total Real Returns\",\n\"2022-03-03 21:13:29\"],\n [{\n            'v': 1066,\n            'f': \"1066\",\n        },\n\"PostgreSQL 14 Internals Book\",\n\"2022-03-03 21:13:32\"],\n [{\n            'v': 1067,\n            'f': \"1067\",\n        },\n\"Andrej Karpathy leaves Tesla\",\n\"2022-03-03 21:43:39\"],\n [{\n            'v': 1068,\n            'f': \"1068\",\n        },\n\"DoorDash and pizza arbitrage\",\n\"2022-03-03 21:50:11\"],\n [{\n            'v': 1069,\n            'f': \"1069\",\n        },\n\"USDS Digital Services Playbook\",\n\"2022-03-05 18:45:35\"],\n [{\n            'v': 1070,\n            'f': \"1070\",\n        },\n\"Async Python is not faster\",\n\"2022-03-06 23:57:08\"],\n [{\n            'v': 1071,\n            'f': \"1071\",\n        },\n\"Good C++ code bases to read?\",\n\"2022-03-07 05:49:14\"],\n [{\n            'v': 1072,\n            'f': \"1072\",\n        },\n\"I'm Afraid We're Shutting Down\",\n\"2022-03-08 05:01:26\"],\n [{\n            'v': 1073,\n            'f': \"1073\",\n        },\n\"I spent my vacation writing a modern JVM assembler\",\n\"2022-03-08 05:12:36\"],\n [{\n            'v': 1074,\n            'f': \"1074\",\n        },\n\"The Unreasonable Math of Type 1 Diabetes\",\n\"2022-03-08 16:47:48\"],\n [{\n            'v': 1075,\n            'f': \"1075\",\n        },\n\"Vim Anti-Patterns\",\n\"2022-03-09 05:25:54\"],\n [{\n            'v': 1076,\n            'f': \"1076\",\n        },\n\"Why am I interested in Elixir?\",\n\"2022-03-09 20:28:13\"],\n [{\n            'v': 1077,\n            'f': \"1077\",\n        },\n\"Why learn Racket? A student's perspective\",\n\"2022-03-10 14:46:46\"],\n [{\n            'v': 1078,\n            'f': \"1078\",\n        },\n\"Why can't I learn anymore?\",\n\"2022-03-10 22:04:18\"],\n [{\n            'v': 1079,\n            'f': \"1079\",\n        },\n\"GitHub Actions is my new favorite free programming tool [video]\",\n\"2022-03-11 03:49:17\"],\n [{\n            'v': 1080,\n            'f': \"1080\",\n        },\n\"Filesystems can experience at least three different sorts of errors\",\n\"2022-03-12 20:00:03\"],\n [{\n            'v': 1081,\n            'f': \"1081\",\n        },\n\"A non-standard book list for software developers\",\n\"2022-03-12 20:00:04\"],\n [{\n            'v': 1082,\n            'f': \"1082\",\n        },\n\"Catalog of Design Patterns\",\n\"2022-03-12 20:01:50\"],\n [{\n            'v': 1083,\n            'f': \"1083\",\n        },\n\"Riot \\u2013 Full-text search engine in Go\",\n\"2022-03-13 08:16:56\"],\n [{\n            'v': 1084,\n            'f': \"1084\",\n        },\n\"Full-Text Search in Django with PostgreSQL\",\n\"2022-03-13 08:16:59\"],\n [{\n            'v': 1085,\n            'f': \"1085\",\n        },\n\"We don\\u2019t use a staging environment\",\n\"2022-03-13 08:17:14\"],\n [{\n            'v': 1086,\n            'f': \"1086\",\n        },\n\"Abstractions, Their Algorithms, and Their Compilers\",\n\"2022-03-13 08:17:30\"],\n [{\n            'v': 1087,\n            'f': \"1087\",\n        },\n\"The Internals of PostgreSQL\",\n\"2022-03-13 08:17:35\"],\n [{\n            'v': 1088,\n            'f': \"1088\",\n        },\n\"Writing a full-text search engine using Bloom filters\",\n\"2022-03-13 08:21:38\"],\n [{\n            'v': 1089,\n            'f': \"1089\",\n        },\n\"Django Newbie Mistakes\",\n\"2022-03-13 08:25:23\"],\n [{\n            'v': 1090,\n            'f': \"1090\",\n        },\n\"Anyone here have good material for learning how to sketch from scratch?\",\n\"2022-03-15 13:28:42\"],\n [{\n            'v': 1091,\n            'f': \"1091\",\n        },\n\"Zig build system internals\",\n\"2022-03-15 14:05:07\"],\n [{\n            'v': 1092,\n            'f': \"1092\",\n        },\n\"Climate change: IPCC report is 'code red for humanity'\",\n\"2022-03-15 22:28:18\"],\n [{\n            'v': 1093,\n            'f': \"1093\",\n        },\n\"Apocalyptic Claims About Climate Change Are Wrong\",\n\"2022-03-15 22:45:08\"],\n [{\n            'v': 1094,\n            'f': \"1094\",\n        },\n\"How to Crawl the Web with Scrapy\",\n\"2022-03-17 13:18:16\"],\n [{\n            'v': 1095,\n            'f': \"1095\",\n        },\n\"The boring technology behind a one-person Internet company\",\n\"2022-03-17 13:20:13\"],\n [{\n            'v': 1096,\n            'f': \"1096\",\n        },\n\"Youth suicide attempts soared during pandemic, CDC report says\",\n\"2022-03-18 08:07:19\"],\n [{\n            'v': 1097,\n            'f': \"1097\",\n        },\n\"Pure Bash Bible \\u2013 A collection of pure bash alternatives to external processes\",\n\"2022-03-18 18:57:27\"],\n [{\n            'v': 1098,\n            'f': \"1098\",\n        },\n\"Runtime improvement for Minimum Cut algorithm first time in 25 years\",\n\"2022-03-20 02:56:21\"],\n [{\n            'v': 1099,\n            'f': \"1099\",\n        },\n\"Using flamegraphs to read big HN threads\",\n\"2022-03-20 08:07:40\"],\n [{\n            'v': 1100,\n            'f': \"1100\",\n        },\n\"No one cared about my spreadsheets\",\n\"2022-03-20 17:36:27\"],\n [{\n            'v': 1101,\n            'f': \"1101\",\n        },\n\"A Python Interpreter Written in Rust\",\n\"2022-03-22 13:18:31\"],\n [{\n            'v': 1102,\n            'f': \"1102\",\n        },\n\"Which are the best Go repositories to read to learn the language?\",\n\"2022-03-22 14:40:08\"],\n [{\n            'v': 1103,\n            'f': \"1103\",\n        },\n\"A viable solution for Python concurrency\",\n\"2022-03-22 15:13:13\"],\n [{\n            'v': 1104,\n            'f': \"1104\",\n        },\n\"Understanding Real-World Concurrency Bugs in Go\",\n\"2022-03-22 15:32:41\"],\n [{\n            'v': 1105,\n            'f': \"1105\",\n        },\n\"Visualizing Concurrency in Go\",\n\"2022-03-22 15:32:42\"],\n [{\n            'v': 1106,\n            'f': \"1106\",\n        },\n\"Your idea is brilliant, your idea is worthless\",\n\"2022-03-22 15:35:15\"],\n [{\n            'v': 1107,\n            'f': \"1107\",\n        },\n\"What every systems programmer should know about lockless concurrency\",\n\"2022-03-22 15:37:56\"],\n [{\n            'v': 1108,\n            'f': \"1108\",\n        },\n\"Concurrency kit \\u2013 Concurrency primitives and non-blocking data structures in C\",\n\"2022-03-22 15:37:58\"],\n [{\n            'v': 1109,\n            'f': \"1109\",\n        },\n\"Rust in 2022\",\n\"2022-03-23 03:06:19\"],\n [{\n            'v': 1110,\n            'f': \"1110\",\n        },\n\"A Quasipolynomial Time Algorithm for Graph Isomorphism: The Details\",\n\"2022-03-23 15:49:25\"],\n [{\n            'v': 1111,\n            'f': \"1111\",\n        },\n\"Twitter confirms zero-day used to expose data of 5.4M accounts\",\n\"2022-03-24 05:53:28\"],\n [{\n            'v': 1112,\n            'f': \"1112\",\n        },\n\"Domains for the Rest of Us\",\n\"2022-03-24 05:53:35\"],\n [{\n            'v': 1113,\n            'f': \"1113\",\n        },\n\"Having, a less understood SQL clause\",\n\"2022-03-24 05:53:35\"],\n [{\n            'v': 1114,\n            'f': \"1114\",\n        },\n\"Implementing a toy version of TLS 1.3\",\n\"2022-03-24 05:53:37\"],\n [{\n            'v': 1115,\n            'f': \"1115\",\n        },\n\"Google Data Studio\",\n\"2022-03-24 14:02:25\"],\n [{\n            'v': 1116,\n            'f': \"1116\",\n        },\n\"How do you avoid bullshit tech content in search?\",\n\"2022-03-25 05:35:31\"],\n [{\n            'v': 1117,\n            'f': \"1117\",\n        },\n\"Why should I use Django?\",\n\"2022-03-26 06:38:31\"],\n [{\n            'v': 1118,\n            'f': \"1118\",\n        },\n\"Write plain text files\",\n\"2022-03-26 11:37:47\"],\n [{\n            'v': 1119,\n            'f': \"1119\",\n        },\n\"Inflation propagates unevenly\",\n\"2022-03-26 13:24:28\"],\n [{\n            'v': 1120,\n            'f': \"1120\",\n        },\n\"Mara: A lightweight ETL framework, halfway between plain scripts and Airflow\",\n\"2022-03-26 15:27:17\"],\n [{\n            'v': 1121,\n            'f': \"1121\",\n        },\n\"Start Self Hosting\",\n\"2022-03-27 06:07:06\"],\n [{\n            'v': 1122,\n            'f': \"1122\",\n        },\n\"How poverty changes your mindset\",\n\"2022-03-28 05:00:42\"],\n [{\n            'v': 1123,\n            'f': \"1123\",\n        },\n\"What if the problem of poverty is that it\\u2019s profitable to other people?\",\n\"2022-03-28 05:00:47\"],\n [{\n            'v': 1124,\n            'f': \"1124\",\n        },\n\"Software Below the Poverty Line\",\n\"2022-03-28 05:00:52\"],\n [{\n            'v': 1125,\n            'f': \"1125\",\n        },\n\"Anime is booming, so why are animators living in poverty?\",\n\"2022-03-28 05:02:09\"],\n [{\n            'v': 1126,\n            'f': \"1126\",\n        },\n\"Americans Want to Believe Jobs Are the Solution to Poverty. They\\u2019re Not\",\n\"2022-03-28 05:02:53\"],\n [{\n            'v': 1127,\n            'f': \"1127\",\n        },\n\"Poverty reduces brainpower needed for navigating other areas of life\",\n\"2022-03-28 05:03:03\"],\n [{\n            'v': 1128,\n            'f': \"1128\",\n        },\n\"We shouldn\\u2019t push a positive mindset on those in poverty\",\n\"2022-03-28 05:03:17\"],\n [{\n            'v': 1129,\n            'f': \"1129\",\n        },\n\"A letter to Steven Pinker about global poverty\",\n\"2022-03-28 05:03:24\"],\n [{\n            'v': 1130,\n            'f': \"1130\",\n        },\n\"Poverty, not trauma, affects cognitive function in refugee youth: study\",\n\"2022-03-28 05:03:28\"],\n [{\n            'v': 1131,\n            'f': \"1131\",\n        },\n\"Bee Sting Theory of Poverty\",\n\"2022-03-28 05:03:30\"],\n [{\n            'v': 1132,\n            'f': \"1132\",\n        },\n\"Poverty is not a personal choice, but a reflection of society\",\n\"2022-03-28 05:03:36\"],\n [{\n            'v': 1133,\n            'f': \"1133\",\n        },\n\"Escaping Poverty Requires Almost 20 Years with Nearly Nothing Going Wrong\",\n\"2022-03-28 05:03:40\"],\n [{\n            'v': 1134,\n            'f': \"1134\",\n        },\n\"How Poverty Taxes the Brain\",\n\"2022-03-28 05:03:52\"],\n [{\n            'v': 1135,\n            'f': \"1135\",\n        },\n\"Why Education Does Not Fix Poverty\",\n\"2022-03-28 05:04:02\"],\n [{\n            'v': 1136,\n            'f': \"1136\",\n        },\n\"All Hollowed Out: The lonely poverty of America\\u2019s white working class\",\n\"2022-03-28 05:04:05\"],\n [{\n            'v': 1137,\n            'f': \"1137\",\n        },\n\"How Poverty Makes Workers Less Productive\",\n\"2022-03-28 05:04:08\"],\n [{\n            'v': 1138,\n            'f': \"1138\",\n        },\n\"Mental Wealth\",\n\"2022-03-28 05:04:17\"],\n [{\n            'v': 1139,\n            'f': \"1139\",\n        },\n\"Media Owned by Wealthy Are Quick to Tell You Wealth Taxes Are a Bad Idea\",\n\"2022-03-28 05:04:27\"],\n [{\n            'v': 1140,\n            'f': \"1140\",\n        },\n\"Wealth Inequality Is Even Worse in Reputation Economies\",\n\"2022-03-28 05:25:38\"],\n [{\n            'v': 1141,\n            'f': \"1141\",\n        },\n\"A catalog of wealth-creation mechanisms\",\n\"2022-03-28 05:25:50\"],\n [{\n            'v': 1142,\n            'f': \"1142\",\n        },\n\"Climbing the Wealth Ladder\",\n\"2022-03-28 05:26:34\"],\n [{\n            'v': 1143,\n            'f': \"1143\",\n        },\n\"Money and wealth\",\n\"2022-03-28 05:26:51\"],\n [{\n            'v': 1144,\n            'f': \"1144\",\n        },\n\"The Super-Rich Are Stockpiling Wealth in Black-Box Charities\",\n\"2022-03-28 05:27:00\"],\n [{\n            'v': 1145,\n            'f': \"1145\",\n        },\n\"Wealth isn\\u2019t created at the top, it is merely devoured there\",\n\"2022-03-28 05:27:02\"],\n [{\n            'v': 1146,\n            'f': \"1146\",\n        },\n\"Three Delusions: Paper Wealth, a Booming Economy, and Bitcoin\",\n\"2022-03-28 05:27:23\"],\n [{\n            'v': 1147,\n            'f': \"1147\",\n        },\n\"Three Levels of Wealth\",\n\"2022-03-28 05:27:32\"],\n [{\n            'v': 1148,\n            'f': \"1148\",\n        },\n\"Beside a startup, what are the other ways to significant wealth for a dev?\",\n\"2022-03-28 05:27:47\"],\n [{\n            'v': 1149,\n            'f': \"1149\",\n        },\n\"What is money, anyway?\",\n\"2022-03-28 05:28:08\"],\n [{\n            'v': 1150,\n            'f': \"1150\",\n        },\n\"Economic Inequality\",\n\"2022-03-28 05:28:11\"],\n [{\n            'v': 1151,\n            'f': \"1151\",\n        },\n\"A New Way to Learn Economics\",\n\"2022-03-28 05:31:14\"],\n [{\n            'v': 1152,\n            'f': \"1152\",\n        },\n\"Finance is Not the Economy\",\n\"2022-03-28 05:32:09\"],\n [{\n            'v': 1153,\n            'f': \"1153\",\n        },\n\"Software Engineering Insights from 10 Years at Google\",\n\"2022-03-28 05:32:13\"],\n [{\n            'v': 1154,\n            'f': \"1154\",\n        },\n\"Parmigiano Reggiano makers embedding tiny trackers in rind to fight cheese fraud\",\n\"2022-03-28 05:32:15\"],\n [{\n            'v': 1155,\n            'f': \"1155\",\n        },\n\"I Accidentally Deleted 7TB of Videos Before Going to Production\",\n\"2022-03-28 05:32:19\"],\n [{\n            'v': 1156,\n            'f': \"1156\",\n        },\n\"What Every Programmer Absolutely, Positively Needs To Know About Encodings\",\n\"2022-03-30 14:49:07\"],\n [{\n            'v': 1157,\n            'f': \"1157\",\n        },\n\"Anil Seth Finds Consciousness in Life\\u2019s Push Against Entropy\",\n\"2022-03-30 14:49:16\"],\n [{\n            'v': 1158,\n            'f': \"1158\",\n        },\n\"Why is it hard to buy things that work well?\",\n\"2022-03-30 15:20:38\"],\n [{\n            'v': 1159,\n            'f': \"1159\",\n        },\n\"Diary of a first-time on-call engineer\",\n\"2022-03-30 15:20:43\"],\n [{\n            'v': 1160,\n            'f': \"1160\",\n        },\n\"Data Mesh Architecture\",\n\"2022-03-30 15:20:44\"],\n [{\n            'v': 1161,\n            'f': \"1161\",\n        },\n\"Sharding a database can make it faster\",\n\"2022-03-30 15:25:23\"],\n [{\n            'v': 1162,\n            'f': \"1162\",\n        },\n\"Docker, Django, Traefik, and IntercoolerJS: My go-to stack for building a SaaS\",\n\"2022-03-30 15:26:10\"],\n [{\n            'v': 1163,\n            'f': \"1163\",\n        },\n\"Which book can attract anyone towards your field of study?\",\n\"2022-03-31 06:22:00\"],\n [{\n            'v': 1164,\n            'f': \"1164\",\n        },\n\"Dagger: a new way to build CI/CD pipelines\",\n\"2022-03-31 06:22:02\"],\n [{\n            'v': 1165,\n            'f': \"1165\",\n        },\n\"I'm writing a free book called Computer Networks from Scratch\",\n\"2022-03-31 06:22:05\"],\n [{\n            'v': 1166,\n            'f': \"1166\",\n        },\n\"What bits of fundamental knowledge are productivity multipliers?\",\n\"2022-03-31 17:16:37\"],\n [{\n            'v': 1167,\n            'f': \"1167\",\n        },\n\"Lessons learned from sharding Postgres at Notion\",\n\"2022-04-01 15:32:09\"],\n [{\n            'v': 1168,\n            'f': \"1168\",\n        },\n\"The state of ETL in the real world, 2020 edition\",\n\"2022-04-01 15:35:03\"],\n [{\n            'v': 1169,\n            'f': \"1169\",\n        },\n\"Scaling to 1M active GraphQL subscriptions on Postgres\",\n\"2022-04-01 15:35:04\"],\n [{\n            'v': 1170,\n            'f': \"1170\",\n        },\n\"Bits of advice I wish I had known\",\n\"2022-04-01 15:35:05\"],\n [{\n            'v': 1171,\n            'f': \"1171\",\n        },\n\"The Twelve-Factor App\",\n\"2022-04-01 15:35:05\"],\n [{\n            'v': 1172,\n            'f': \"1172\",\n        },\n\"Tips for a Healthier Postgres Database\",\n\"2022-04-01 15:35:06\"],\n [{\n            'v': 1173,\n            'f': \"1173\",\n        },\n\"Postgres Auditing in 150 lines of SQL\",\n\"2022-04-01 15:35:07\"],\n [{\n            'v': 1174,\n            'f': \"1174\",\n        },\n\"Zero downtime Postgres migration, done right\",\n\"2022-04-01 16:11:44\"],\n [{\n            'v': 1175,\n            'f': \"1175\",\n        },\n\"Postgres is a great pub/sub and job server\",\n\"2022-04-01 16:45:13\"],\n [{\n            'v': 1176,\n            'f': \"1176\",\n        },\n\"A Philosophy of Software Design \\u2013 Book Summary and Notes\",\n\"2022-04-02 09:13:58\"],\n [{\n            'v': 1177,\n            'f': \"1177\",\n        },\n\"I finally got Twitter after years of not getting it\",\n\"2022-04-02 15:49:55\"],\n [{\n            'v': 1178,\n            'f': \"1178\",\n        },\n\"Cheapest/easiest way to host a static site?\",\n\"2022-04-02 16:09:39\"],\n [{\n            'v': 1179,\n            'f': \"1179\",\n        },\n\"Bits of Advice I Wish I Had Known\",\n\"2022-04-02 16:32:48\"],\n [{\n            'v': 1180,\n            'f': \"1180\",\n        },\n\"An Introduction to Probabilistic Programming\",\n\"2022-04-03 08:33:31\"],\n [{\n            'v': 1181,\n            'f': \"1181\",\n        },\n\"Olric: Distributed in-memory data structures in Go\",\n\"2022-04-03 08:33:31\"],\n [{\n            'v': 1182,\n            'f': \"1182\",\n        },\n\"Tricking PostgreSQL into using an insane, but faster, query plan\",\n\"2022-04-03 09:50:17\"],\n [{\n            'v': 1183,\n            'f': \"1183\",\n        },\n\"What are some good tech magazines?\",\n\"2022-04-03 09:52:44\"],\n [{\n            'v': 1184,\n            'f': \"1184\",\n        },\n\"My seatbelt rule for judgment\",\n\"2022-04-03 09:55:06\"],\n [{\n            'v': 1185,\n            'f': \"1185\",\n        },\n\"How do you get started as independent consultant or contractor\",\n\"2022-04-03 09:57:34\"],\n [{\n            'v': 1186,\n            'f': \"1186\",\n        },\n\"Tools to visualize data in SQL databases?\",\n\"2022-04-03 09:57:37\"],\n [{\n            'v': 1187,\n            'f': \"1187\",\n        },\n\"A database of broken things to identify common failure modes and how to fix them\",\n\"2022-04-03 09:57:39\"],\n [{\n            'v': 1188,\n            'f': \"1188\",\n        },\n\"Include diagrams in your Markdown files with Mermaid\",\n\"2022-04-03 10:03:51\"],\n [{\n            'v': 1189,\n            'f': \"1189\",\n        },\n\"BLAS-level CPU Performance in 100 Lines of C\",\n\"2022-04-03 10:04:29\"],\n [{\n            'v': 1190,\n            'f': \"1190\",\n        },\n\"How do you search large codebases before adding a feature or fixing bug?\",\n\"2022-04-03 10:04:31\"],\n [{\n            'v': 1191,\n            'f': \"1191\",\n        },\n\"Tao of Node \\u2013 Design, Architecture and Best Practices\",\n\"2022-04-03 10:09:26\"],\n [{\n            'v': 1192,\n            'f': \"1192\",\n        },\n\"\\u201cNo convincing evidence\\u201d that depression is caused by low serotonin levels\",\n\"2022-04-03 10:19:03\"],\n [{\n            'v': 1193,\n            'f': \"1193\",\n        },\n\"The serotonin theory of depression: a systematic umbrella review of the evidence\",\n\"2022-04-03 10:19:05\"],\n [{\n            'v': 1194,\n            'f': \"1194\",\n        },\n\"pg_netstat, a Postgres extension to monitor database network traffic\",\n\"2022-04-04 12:50:41\"],\n [{\n            'v': 1195,\n            'f': \"1195\",\n        },\n\"I realise data science is not for me and feel depressed\",\n\"2022-04-06 16:48:33\"],\n [{\n            'v': 1196,\n            'f': \"1196\",\n        },\n\"When eBPF meets TLS. Defeating TLS encryption with eBPF tricks\",\n\"2022-04-06 22:51:22\"],\n [{\n            'v': 1197,\n            'f': \"1197\",\n        },\n\"How Airbnb Built \\u201cWall\\u201d to prevent data bugs\",\n\"2022-04-06 22:51:59\"],\n [{\n            'v': 1198,\n            'f': \"1198\",\n        },\n\"Share your personal site\",\n\"2022-04-07 09:54:14\"],\n [{\n            'v': 1199,\n            'f': \"1199\",\n        },\n\"Phases of Netflix\\u2019s real-time data infrastructure\",\n\"2022-04-07 10:21:06\"],\n [{\n            'v': 1200,\n            'f': \"1200\",\n        },\n\"Pointers and Memory Management in Python\",\n\"2022-04-07 16:33:15\"],\n [{\n            'v': 1201,\n            'f': \"1201\",\n        },\n\"Running servers and services well is not trivial\",\n\"2022-04-10 04:46:12\"],\n [{\n            'v': 1202,\n            'f': \"1202\",\n        },\n\"Dislike button would improve Spotify's recommendations\",\n\"2022-04-10 17:43:16\"],\n [{\n            'v': 1203,\n            'f': \"1203\",\n        },\n\"What hacking AOL taught a generation of programmers\",\n\"2022-04-12 19:17:11\"],\n [{\n            'v': 1204,\n            'f': \"1204\",\n        },\n\"Your Computer Isn't Yours\",\n\"2022-04-12 20:21:53\"],\n [{\n            'v': 1205,\n            'f': \"1205\",\n        },\n\"Moving from React to Htmx\",\n\"2022-04-13 19:50:46\"],\n [{\n            'v': 1206,\n            'f': \"1206\",\n        },\n\"Notes on the SQLite DuckDB Paper\",\n\"2022-04-13 19:51:04\"],\n [{\n            'v': 1207,\n            'f': \"1207\",\n        },\n\"Building a database buffer pool in Zig using io_uring's new fixed-buffer mode\",\n\"2022-04-13 19:52:53\"],\n [{\n            'v': 1208,\n            'f': \"1208\",\n        },\n\"Dear sir, you have built a compiler\",\n\"2022-04-14 02:29:09\"],\n [{\n            'v': 1209,\n            'f': \"1209\",\n        },\nNaN,\n\"2022-04-14 11:36:30\"],\n [{\n            'v': 1210,\n            'f': \"1210\",\n        },\n\"Donald Knuth on work habits, problem solving, and happiness\",\n\"2022-04-14 11:36:32\"],\n [{\n            'v': 1211,\n            'f': \"1211\",\n        },\n\"Useful Python Decorators for Data Scientists\",\n\"2022-04-14 11:36:34\"],\n [{\n            'v': 1212,\n            'f': \"1212\",\n        },\n\"PlanetScale: Principles for the Future Database\",\n\"2022-04-14 11:36:36\"],\n [{\n            'v': 1213,\n            'f': \"1213\",\n        },\n\"We lost 54k GitHub stars\",\n\"2022-04-15 04:04:04\"],\n [{\n            'v': 1214,\n            'f': \"1214\",\n        },\n\"Dieter Rams' design principles applied to software engineering\",\n\"2022-04-15 04:23:03\"],\n [{\n            'v': 1215,\n            'f': \"1215\",\n        },\n\"On the Weaponisation of Open Source\",\n\"2022-04-15 18:16:08\"],\n [{\n            'v': 1216,\n            'f': \"1216\",\n        },\n\"Why the government took home prices out of its main inflation index\",\n\"2022-04-16 18:03:39\"],\n [{\n            'v': 1217,\n            'f': \"1217\",\n        },\n\"Good CI/CD and SRE Blogs\",\n\"2022-04-16 18:03:55\"],\n [{\n            'v': 1218,\n            'f': \"1218\",\n        },\n\"What interesting problems are you working on?\",\n\"2022-04-16 18:04:52\"],\n [{\n            'v': 1219,\n            'f': \"1219\",\n        },\n\"Algorithmic bias bounty challenge\",\n\"2022-04-16 18:06:42\"],\n [{\n            'v': 1220,\n            'f': \"1220\",\n        },\n\"What can a technologist do about climate change?\",\n\"2022-04-17 23:37:58\"],\n [{\n            'v': 1221,\n            'f': \"1221\",\n        },\n\"Learn C and Build Your Own Lisp\",\n\"2022-04-18 07:22:46\"],\n [{\n            'v': 1222,\n            'f': \"1222\",\n        },\n\"System \\u2013 A resource that aims to explain how everything in the world is related\",\n\"2022-04-18 07:23:06\"],\n [{\n            'v': 1223,\n            'f': \"1223\",\n        },\n\"Why we need Lisp machines\",\n\"2022-04-18 22:35:32\"],\n [{\n            'v': 1224,\n            'f': \"1224\",\n        },\n\"YDB \\u2013 An open-source Distributed SQL Database\",\n\"2022-04-19 20:41:41\"],\n [{\n            'v': 1225,\n            'f': \"1225\",\n        },\n\"How do you keep track of software requirements and test them?\",\n\"2022-04-19 23:37:07\"],\n [{\n            'v': 1226,\n            'f': \"1226\",\n        },\n\"I built a simulator for personal finance\",\n\"2022-04-19 23:37:13\"],\n [{\n            'v': 1227,\n            'f': \"1227\",\n        },\n\"How we upgraded our 4TB Postgres database\",\n\"2022-04-19 23:37:16\"],\n [{\n            'v': 1228,\n            'f': \"1228\",\n        },\n\"College became the default \\u2013 Let's rethink that\",\n\"2022-04-19 23:39:04\"],\n [{\n            'v': 1229,\n            'f': \"1229\",\n        },\n\"Time-Series Compression Algorithms\",\n\"2022-04-20 23:35:40\"],\n [{\n            'v': 1230,\n            'f': \"1230\",\n        },\n\"Implementing Cosine in C from Scratch\",\n\"2022-04-21 21:37:14\"],\n [{\n            'v': 1231,\n            'f': \"1231\",\n        },\n\"Terraform 1.0\",\n\"2022-04-22 17:05:01\"],\n [{\n            'v': 1232,\n            'f': \"1232\",\n        },\n\"Fork() is evil; vfork() is goodness; afork() would be better; clone() is stupid\",\n\"2022-04-22 22:29:35\"],\n [{\n            'v': 1233,\n            'f': \"1233\",\n        },\n\"How to Call B.S. On Big Data: A Practical Guide\",\n\"2022-04-23 05:17:07\"],\n [{\n            'v': 1234,\n            'f': \"1234\",\n        },\n\"Moreutils: A collection of Unix tools that nobody thought to write long ago\",\n\"2022-04-24 04:59:27\"],\n [{\n            'v': 1235,\n            'f': \"1235\",\n        },\n\"A Graduate Course in Applied Cryptography\",\n\"2022-04-25 05:37:13\"],\n [{\n            'v': 1236,\n            'f': \"1236\",\n        },\n\"Have you ever switched cloud?\",\n\"2022-04-25 05:44:03\"],\n [{\n            'v': 1237,\n            'f': \"1237\",\n        },\n\"Why LSP?\",\n\"2022-04-25 11:16:22\"],\n [{\n            'v': 1238,\n            'f': \"1238\",\n        },\n\"Who operates at scale without containers?\",\n\"2022-04-25 11:16:25\"],\n [{\n            'v': 1239,\n            'f': \"1239\",\n        },\n\"LZ4 \\u2013 Extremely fast compression\",\n\"2022-04-25 12:17:25\"],\n [{\n            'v': 1240,\n            'f': \"1240\",\n        },\n\"Reliably Send an HTTP Request as a User Leaves a Page\",\n\"2022-04-26 11:56:01\"],\n [{\n            'v': 1241,\n            'f': \"1241\",\n        },\n\"Redditle.com \\u2013 For those of us who add 'Reddit' to every Google search\",\n\"2022-04-26 13:02:59\"],\n [{\n            'v': 1242,\n            'f': \"1242\",\n        },\n\"Using PostgreSQL as a Data Warehouse\",\n\"2022-04-27 07:52:38\"],\n [{\n            'v': 1243,\n            'f': \"1243\",\n        },\n\"What Every Data Programmer Needs to Know About Disks\",\n\"2022-04-27 07:52:41\"],\n [{\n            'v': 1244,\n            'f': \"1244\",\n        },\n\"ICMP, Ping, and Traceroute \\u2013 What I wish I was taught\",\n\"2022-04-27 08:06:44\"],\n [{\n            'v': 1245,\n            'f': \"1245\",\n        },\n\"Data Engineering Patterns with Apache Airflow [video]\",\n\"2022-04-29 02:39:33\"],\n [{\n            'v': 1246,\n            'f': \"1246\",\n        },\n\"Why AWS loves Rust, and how we\\u2019d like to help\",\n\"2022-04-30 05:42:24\"],\n [{\n            'v': 1247,\n            'f': \"1247\",\n        },\n\"YouTube and how my wife lost 7 years of work\",\n\"2022-04-30 08:29:16\"],\n [{\n            'v': 1248,\n            'f': \"1248\",\n        },\n\"Terraform Provider for Spotify\",\n\"2022-05-01 11:38:36\"],\n [{\n            'v': 1249,\n            'f': \"1249\",\n        },\n\"Is DBA still a good job?\",\n\"2022-05-01 11:38:40\"],\n [{\n            'v': 1250,\n            'f': \"1250\",\n        },\n\"The path to learning SQL and mastering it to become a Data Engineer\",\n\"2022-05-01 13:05:18\"],\n [{\n            'v': 1251,\n            'f': \"1251\",\n        },\n\"On efficiently partitioning a topic in Apache Kafka\",\n\"2022-05-01 13:05:22\"],\n [{\n            'v': 1252,\n            'f': \"1252\",\n        },\n\"Six companies control 90% of what you read, watch, and hear\",\n\"2022-05-01 22:50:20\"],\n [{\n            'v': 1253,\n            'f': \"1253\",\n        },\n\"Function pipelines: Building functional programming into PostgreSQL\",\n\"2022-05-03 09:19:31\"],\n [{\n            'v': 1254,\n            'f': \"1254\",\n        },\n\"ETL Pipelines with Airflow: The Good, the Bad and the Ugly\",\n\"2022-05-03 09:30:04\"],\n [{\n            'v': 1255,\n            'f': \"1255\",\n        },\n\"-2000 Lines of Code\",\n\"2022-05-03 09:37:54\"],\n [{\n            'v': 1256,\n            'f': \"1256\",\n        },\n\"1,900 remote company profiles with tech stacks and employee benefits\",\n\"2022-05-03 13:15:10\"],\n [{\n            'v': 1257,\n            'f': \"1257\",\n        },\n\"Automatic Differentiation: Forward and Reverse\",\n\"2022-05-03 13:17:18\"],\n [{\n            'v': 1258,\n            'f': \"1258\",\n        },\n\"Audiblegate\",\n\"2022-05-04 02:03:45\"],\n [{\n            'v': 1259,\n            'f': \"1259\",\n        },\n\"Postgres \\u2013 Don't Do This\",\n\"2022-05-04 02:04:55\"],\n [{\n            'v': 1260,\n            'f': \"1260\",\n        },\n\"NFT Projects Are Just MLMs for Tech Elites\",\n\"2022-05-04 02:17:27\"],\n [{\n            'v': 1261,\n            'f': \"1261\",\n        },\n\"It's now your fault they don't know about it\",\n\"2022-05-04 02:19:27\"],\n [{\n            'v': 1262,\n            'f': \"1262\",\n        },\n\"How Postgres chooses which index to use for a query\",\n\"2022-05-04 03:27:14\"],\n [{\n            'v': 1263,\n            'f': \"1263\",\n        },\n\"The Haskell Elephant in the Room\",\n\"2022-05-04 09:19:27\"],\n [{\n            'v': 1264,\n            'f': \"1264\",\n        },\n\"I would like a job writing Haskell\",\n\"2022-05-04 09:19:28\"],\n [{\n            'v': 1265,\n            'f': \"1265\",\n        },\n\"Have we screwed ourselves as software engineers?\",\n\"2022-05-04 09:30:33\"],\n [{\n            'v': 1266,\n            'f': \"1266\",\n        },\n\"A visual proof that neural nets can compute any function\",\n\"2022-05-04 09:43:44\"],\n [{\n            'v': 1267,\n            'f': \"1267\",\n        },\n\"Teaching Concurrency\",\n\"2022-05-04 13:10:36\"],\n [{\n            'v': 1268,\n            'f': \"1268\",\n        },\n\"The Probability and Statistics Cookbook\",\n\"2022-05-05 05:45:31\"],\n [{\n            'v': 1269,\n            'f': \"1269\",\n        },\n\"I think I know why you can't hire engineers right now\",\n\"2022-05-05 12:17:21\"],\n [{\n            'v': 1270,\n            'f': \"1270\",\n        },\n\"Write Shitty Code \\u2013 why you should and feel good about it\",\n\"2022-05-05 15:33:55\"],\n [{\n            'v': 1271,\n            'f': \"1271\",\n        },\n\"Should I move to California or Germany as a SWE with 2 small kids?\",\n\"2022-05-06 04:12:09\"],\n [{\n            'v': 1272,\n            'f': \"1272\",\n        },\n\"The temptation of writing shell scripts, illustrated\",\n\"2022-05-06 06:25:07\"],\n [{\n            'v': 1273,\n            'f': \"1273\",\n        },\n\"Some tiny personal programs I've written\",\n\"2022-05-06 10:43:00\"],\n [{\n            'v': 1274,\n            'f': \"1274\",\n        },\n\"BERTopic: The Future of Topic Modeling\",\n\"2022-05-06 13:30:59\"],\n [{\n            'v': 1275,\n            'f': \"1275\",\n        },\n\"PostgreSQL 14\",\n\"2022-05-07 05:20:48\"],\n [{\n            'v': 1276,\n            'f': \"1276\",\n        },\n\"What could a modern database do that PostgreSQL and MySQL can't\",\n\"2022-05-07 05:21:21\"],\n [{\n            'v': 1277,\n            'f': \"1277\",\n        },\n\"Are software engineering \\u201cbest practices\\u201d just developer preferences?\",\n\"2022-05-07 05:22:19\"],\n [{\n            'v': 1278,\n            'f': \"1278\",\n        },\n\"Implementing a safe garbage collector in Rust\",\n\"2022-05-07 15:11:07\"],\n [{\n            'v': 1279,\n            'f': \"1279\",\n        },\n\"Query serving systems: An emerging category of data systems\",\n\"2022-05-08 07:46:53\"],\n [{\n            'v': 1280,\n            'f': \"1280\",\n        },\n\"People underestimate the effect of colleges in making lifelong friends\",\n\"2022-05-08 09:40:59\"],\n [{\n            'v': 1281,\n            'f': \"1281\",\n        },\n\"Simple, beginner friendly ETL / Data Engineering project ideas?\",\n\"2022-05-08 15:25:03\"],\n [{\n            'v': 1282,\n            'f': \"1282\",\n        },\n\"Modernizing AWK, a 45-year old language, by adding CSV support\",\n\"2022-05-09 06:27:10\"],\n [{\n            'v': 1283,\n            'f': \"1283\",\n        },\n\"GitHub incident 2022-03-23\",\n\"2022-05-09 09:11:57\"],\n [{\n            'v': 1284,\n            'f': \"1284\",\n        },\n\"What's your favorite tech talk?\",\n\"2022-05-09 09:12:01\"],\n [{\n            'v': 1285,\n            'f': \"1285\",\n        },\n\"Friendlier SQL with DuckDB\",\n\"2022-05-09 13:54:18\"],\n [{\n            'v': 1286,\n            'f': \"1286\",\n        },\n\"Is anyone else glad the crypto market is crashing?\",\n\"2022-05-09 14:03:45\"],\n [{\n            'v': 1287,\n            'f': \"1287\",\n        },\n\"Tricks I wish I knew when I learned TypeScript\",\n\"2022-05-09 15:33:43\"],\n [{\n            'v': 1288,\n            'f': \"1288\",\n        },\n\"The death of the \\u2018Millionaire Next Door\\u2019 dream\",\n\"2022-05-10 13:34:17\"],\n [{\n            'v': 1289,\n            'f': \"1289\",\n        },\n\"I quit the tech industry\",\n\"2022-05-10 13:34:20\"],\n [{\n            'v': 1290,\n            'f': \"1290\",\n        },\n\"Is Hacker News a good predictor of future tech trends?\",\n\"2022-05-10 13:38:01\"],\n [{\n            'v': 1291,\n            'f': \"1291\",\n        },\n\"It kind of ruined content too. Why it ruined content? You are not the only one t...\",\n\"2022-05-10 15:30:10\"],\n [{\n            'v': 1292,\n            'f': \"1292\",\n        },\n\"Most tech content is bullshit\",\n\"2022-05-10 15:39:36\"],\n [{\n            'v': 1293,\n            'f': \"1293\",\n        },\n\"Map of Reddit\",\n\"2022-05-10 17:14:46\"],\n [{\n            'v': 1294,\n            'f': \"1294\",\n        },\n\"Tech bubbles are bursting all over the place\",\n\"2022-05-11 15:19:13\"],\n [{\n            'v': 1295,\n            'f': \"1295\",\n        },\n\"Why did Heroku fail?\",\n\"2022-05-12 07:50:08\"],\n [{\n            'v': 1296,\n            'f': \"1296\",\n        },\n\"*So, you go back to the mid-nineteenth century and these so-called \\\"factory girl...\",\n\"2022-05-12 07:55:21\"],\n [{\n            'v': 1297,\n            'f': \"1297\",\n        },\n\"Vim prank: alias vim='vim -y'\",\n\"2022-05-12 07:55:21\"],\n [{\n            'v': 1298,\n            'f': \"1298\",\n        },\n\"How to Squash and Rebase in Git\",\n\"2022-05-12 07:55:21\"],\n [{\n            'v': 1299,\n            'f': \"1299\",\n        },\n\"Is there a search engine which excludes the world's biggest websites?\",\n\"2022-05-12 13:02:24\"],\n [{\n            'v': 1300,\n            'f': \"1300\",\n        },\n\"Lessons learned from the recent job hunt\",\n\"2022-05-12 14:50:35\"],\n [{\n            'v': 1301,\n            'f': \"1301\",\n        },\n\"A Fast Excel Formula Parser and Evaluator\",\n\"2022-05-12 16:45:51\"],\n [{\n            'v': 1302,\n            'f': \"1302\",\n        },\n\"CaskDB \\u2013 project to teach you building a key value store\",\n\"2022-05-12 17:35:06\"],\n [{\n            'v': 1303,\n            'f': \"1303\",\n        },\n\"Building a vision of life without work\",\n\"2022-05-13 13:11:15\"],\n [{\n            'v': 1304,\n            'f': \"1304\",\n        },\n\"alankay's comments\",\n\"2022-05-13 13:11:15\"],\n [{\n            'v': 1305,\n            'f': \"1305\",\n        },\n\"Unit Testing Is Overrated\",\n\"2022-05-13 13:13:24\"],\n [{\n            'v': 1306,\n            'f': \"1306\",\n        },\n\"Is it true that any community that grows big enough, gets ruined?\",\n\"2022-05-13 13:53:12\"],\n [{\n            'v': 1307,\n            'f': \"1307\",\n        },\n\"\\\"I don't know how many of you have ever met Dijkstra, but you probably know that...\",\n\"2022-05-13 13:53:14\"],\n [{\n            'v': 1308,\n            'f': \"1308\",\n        },\n\"Alan Kay has agreed to do an AMA today\",\n\"2022-05-13 13:53:17\"],\n [{\n            'v': 1309,\n            'f': \"1309\",\n        },\n\"SQLite in Go, with and Without Cgo\",\n\"2022-05-13 14:06:26\"],\n [{\n            'v': 1310,\n            'f': \"1310\",\n        },\n\"Is there a good \\u201cblog search\\u201d out there?\",\n\"2022-05-13 15:44:17\"],\n [{\n            'v': 1311,\n            'f': \"1311\",\n        },\n\"Learning modern Linux: A handbook for the cloud native practitioner\",\n\"2022-05-13 21:22:52\"],\n [{\n            'v': 1312,\n            'f': \"1312\",\n        },\n\"Overkill objects for everyday life\",\n\"2022-05-14 18:12:50\"],\n [{\n            'v': 1313,\n            'f': \"1313\",\n        },\n\"Containerize Go and SQLite with Docker\",\n\"2022-05-14 20:57:10\"],\n [{\n            'v': 1314,\n            'f': \"1314\",\n        },\n\"Matrix Multiplication\",\n\"2022-05-14 21:08:22\"],\n [{\n            'v': 1315,\n            'f': \"1315\",\n        },\n\"A first lesson in meta-rationality\",\n\"2022-05-15 07:14:19\"],\n [{\n            'v': 1316,\n            'f': \"1316\",\n        },\n\"Things I Wish I'd Known About Bash\",\n\"2022-05-15 10:18:24\"],\n [{\n            'v': 1317,\n            'f': \"1317\",\n        },\n\"Golang Diaries: Generics\",\n\"2022-05-15 13:04:17\"],\n [{\n            'v': 1318,\n            'f': \"1318\",\n        },\n\"Fly.io: The reclaimer of Heroku's magic\",\n\"2022-05-15 19:56:39\"],\n [{\n            'v': 1319,\n            'f': \"1319\",\n        },\n\"Many software companies are a joke\",\n\"2022-05-16 08:12:13\"],\n [{\n            'v': 1320,\n            'f': \"1320\",\n        },\n\"OpenTelemetry Traces and PostgreSQL\",\n\"2022-05-16 13:49:57\"],\n [{\n            'v': 1321,\n            'f': \"1321\",\n        },\n\"Common libraries and data structures for C\",\n\"2022-05-16 23:19:17\"],\n [{\n            'v': 1322,\n            'f': \"1322\",\n        },\n\"Taking a break from social media makes you happier and less anxious\",\n\"2022-05-17 03:54:02\"],\n [{\n            'v': 1323,\n            'f': \"1323\",\n        },\n\"My experience getting a tech job with no degree or relevant work experience\",\n\"2022-05-17 10:32:41\"],\n [{\n            'v': 1324,\n            'f': \"1324\",\n        },\n\"How to break anxiety/fear-avoidance cycle?\",\n\"2022-05-17 10:32:41\"],\n [{\n            'v': 1325,\n            'f': \"1325\",\n        },\n\"The impact of digital media on children\\u2019s intelligence\",\n\"2022-05-17 11:12:06\"],\n [{\n            'v': 1326,\n            'f': \"1326\",\n        },\n\"Everything you ever wanted to know about terminals\",\n\"2022-05-17 20:33:23\"],\n [{\n            'v': 1327,\n            'f': \"1327\",\n        },\n\"GraphBLAS \\u2013 Graph algorithms in the language of linear algebra\",\n\"2022-05-18 05:03:25\"],\n [{\n            'v': 1328,\n            'f': \"1328\",\n        },\n\"Improved distributed algorithms for fundamental graph problems\",\n\"2022-05-18 05:03:26\"],\n [{\n            'v': 1329,\n            'f': \"1329\",\n        },\n\"I spent two years launching tiny projects\",\n\"2022-05-18 11:17:07\"],\n [{\n            'v': 1330,\n            'f': \"1330\",\n        },\n\"Billing systems are a nightmare for engineers\",\n\"2022-05-18 16:06:44\"],\n [{\n            'v': 1331,\n            'f': \"1331\",\n        },\n\"Unfinished Business with Postgres\",\n\"2022-05-18 17:04:44\"],\n [{\n            'v': 1332,\n            'f': \"1332\",\n        },\n\"Thoughts on being \\u201cboring\\u201d\",\n\"2022-05-18 21:09:14\"],\n [{\n            'v': 1333,\n            'f': \"1333\",\n        },\n\"Shopify to Acquire Delivrr for $2.1B\",\n\"2022-05-19 12:42:18\"],\n [{\n            'v': 1334,\n            'f': \"1334\",\n        },\n\"Practical SQL for Data Analysis\",\n\"2022-05-19 12:42:19\"],\n [{\n            'v': 1335,\n            'f': \"1335\",\n        },\n\"Python Standard Library changes in recent years\",\n\"2022-05-19 13:03:07\"],\n [{\n            'v': 1336,\n            'f': \"1336\",\n        },\n\"Andrew Ng updates his Machine Learning course\",\n\"2022-05-19 15:16:44\"],\n [{\n            'v': 1337,\n            'f': \"1337\",\n        },\n\"The loneliness of a pretty good developer\",\n\"2022-05-19 18:39:40\"],\n [{\n            'v': 1338,\n            'f': \"1338\",\n        },\n\"I found a pretty extreme data leak and I'm not sure what to do\",\n\"2022-05-19 23:02:48\"],\n [{\n            'v': 1339,\n            'f': \"1339\",\n        },\n\"Books giving practical advice on starting a solo SaaS business?\",\n\"2022-05-20 06:57:34\"],\n [{\n            'v': 1340,\n            'f': \"1340\",\n        },\n\"Is anyone still using assembly language? You betcha\",\n\"2022-05-20 11:06:20\"],\n [{\n            'v': 1341,\n            'f': \"1341\",\n        },\n\"20 year study of global wealth demolishes the myth of \\u2018trickle-down\\u2019\",\n\"2022-05-20 13:22:10\"],\n [{\n            'v': 1342,\n            'f': \"1342\",\n        },\n\"Wealth doesn't trickle down \\u2013 it just floods offshore, research reveals\",\n\"2022-05-20 16:11:34\"],\n [{\n            'v': 1343,\n            'f': \"1343\",\n        },\n\"What to do about \\u2018Good at programming Bad at Leetcode\\u2019\",\n\"2022-05-20 18:08:24\"],\n [{\n            'v': 1344,\n            'f': \"1344\",\n        },\n\"The hardest program I've ever written\",\n\"2022-05-20 18:48:05\"],\n [{\n            'v': 1345,\n            'f': \"1345\",\n        },\n\"So You Want to Study Philosophy\",\n\"2022-05-20 21:06:53\"],\n [{\n            'v': 1346,\n            'f': \"1346\",\n        },\n\"A minimal C compiler in x86 assembly\",\n\"2022-05-21 02:35:08\"],\n [{\n            'v': 1347,\n            'f': \"1347\",\n        },\n\"40k HN comments mentioning books, extracted using deep learning\",\n\"2022-05-21 02:35:09\"],\n [{\n            'v': 1348,\n            'f': \"1348\",\n        },\n\"Locality of Behavior\",\n\"2022-05-21 02:57:02\"],\n [{\n            'v': 1349,\n            'f': \"1349\",\n        },\n\"Learnlatex.org: A place to learn LaTeX online\",\n\"2022-05-21 06:45:17\"],\n [{\n            'v': 1350,\n            'f': \"1350\",\n        },\n\"The unreasonable effectiveness of f-strings and re.verbose\",\n\"2022-05-21 12:14:35\"],\n [{\n            'v': 1351,\n            'f': \"1351\",\n        },\n\"The computers are fast, but you don't know it\",\n\"2022-05-21 16:35:43\"],\n [{\n            'v': 1352,\n            'f': \"1352\",\n        },\n\"Grandpa\\u2019s Basement House\",\n\"2022-05-22 17:09:37\"],\n [{\n            'v': 1353,\n            'f': \"1353\",\n        },\n\"Felienne Hermans: How patterns in variable names can make code easier to read\",\n\"2022-05-22 18:28:10\"],\n [{\n            'v': 1354,\n            'f': \"1354\",\n        },\n\"The $300B Google-Meta advertising duopoly is under attack\",\n\"2022-05-22 18:28:12\"],\n [{\n            'v': 1355,\n            'f': \"1355\",\n        },\n\"Teach me something new\",\n\"2022-05-22 18:28:13\"],\n [{\n            'v': 1356,\n            'f': \"1356\",\n        },\n\"How This Ends\",\n\"2022-05-22 18:37:00\"],\n [{\n            'v': 1357,\n            'f': \"1357\",\n        },\n\"\\u201cWhat if it changes?\\u201d\",\n\"2022-05-22 21:31:24\"],\n [{\n            'v': 1358,\n            'f': \"1358\",\n        },\n\"Parsing / Recursive Descent Parser\",\n\"2022-05-23 07:21:06\"],\n [{\n            'v': 1359,\n            'f': \"1359\",\n        },\n\"When everything is important but nothing is getting done\",\n\"2022-05-23 17:17:00\"],\n [{\n            'v': 1360,\n            'f': \"1360\",\n        },\n\"beckingz's comments\",\n\"2022-05-23 17:32:42\"],\n [{\n            'v': 1361,\n            'f': \"1361\",\n        },\n\"BigQuery: Required Reading List\",\n\"2022-05-23 21:10:48\"],\n [{\n            'v': 1362,\n            'f': \"1362\",\n        },\n\"Berkeley offers its data science course online for free\",\n\"2022-05-23 22:15:35\"],\n [{\n            'v': 1363,\n            'f': \"1363\",\n        },\n\"A man who uploaded 2M videos to YouTube [video]\",\n\"2022-05-24 05:49:35\"],\n [{\n            'v': 1364,\n            'f': \"1364\",\n        },\n\"(Yet Another) Lisp in Go\",\n\"2022-05-24 13:58:09\"],\n [{\n            'v': 1365,\n            'f': \"1365\",\n        },\n\"Dark pattern: how YouTube makes sure you don\\u2019t always \\u201cskip ad\\u201d\",\n\"2022-05-24 16:56:56\"],\n [{\n            'v': 1366,\n            'f': \"1366\",\n        },\n\"Umami: Own Your Website Analytics\",\n\"2022-05-24 17:02:02\"],\n [{\n            'v': 1367,\n            'f': \"1367\",\n        },\n\"Using Java's Project Loom to build more reliable distributed systems\",\n\"2022-05-24 19:55:35\"],\n [{\n            'v': 1368,\n            'f': \"1368\",\n        },\n\"I can't let go of \\u201cThe Dunning-Kruger Effect is Autocorrelation\\u201d\",\n\"2022-05-25 15:39:42\"],\n [{\n            'v': 1369,\n            'f': \"1369\",\n        },\n\"LLVM 13.0\",\n\"2022-05-25 17:50:12\"],\n [{\n            'v': 1370,\n            'f': \"1370\",\n        },\n\"Notes on Concurrency Bugs\",\n\"2022-05-26 05:06:06\"],\n [{\n            'v': 1371,\n            'f': \"1371\",\n        },\n\"If you\\u2019re not using SSH certificates you\\u2019re doing SSH wrong\",\n\"2022-05-26 08:34:51\"],\n [{\n            'v': 1372,\n            'f': \"1372\",\n        },\n\"Why do we need Flask, Celery, and Redis?\",\n\"2022-05-27 16:27:43\"],\n [{\n            'v': 1373,\n            'f': \"1373\",\n        },\n\"Can growth continue?\",\n\"2022-05-28 00:56:42\"],\n [{\n            'v': 1374,\n            'f': \"1374\",\n        },\n\"Odd DNS Requests that are Normal\",\n\"2022-05-28 13:49:32\"],\n [{\n            'v': 1375,\n            'f': \"1375\",\n        },\n\"Time Series and FoundationDB\",\n\"2022-05-28 14:19:16\"],\n [{\n            'v': 1376,\n            'f': \"1376\",\n        },\n\"Google pilots a search feature that aggregates short videos from TikTok and IG\",\n\"2022-05-29 07:54:46\"],\n [{\n            'v': 1377,\n            'f': \"1377\",\n        },\n\"Reverse Engineering Source Code of the Biontech Pfizer Vaccine: Part 2\",\n\"2022-05-29 07:54:46\"],\n [{\n            'v': 1378,\n            'f': \"1378\",\n        },\n\"What does a developer need to know to build their own Lisp from scratch?\",\n\"2022-05-29 09:28:20\"],\n [{\n            'v': 1379,\n            'f': \"1379\",\n        },\n\"Commercial Surveillance and Data Security Rulemaking\",\n\"2022-05-31 03:31:35\"],\n [{\n            'v': 1380,\n            'f': \"1380\",\n        },\n\"Twilio incident: What Signal users need to know\",\n\"2022-05-31 03:31:50\"],\n [{\n            'v': 1381,\n            'f': \"1381\",\n        },\n\"Snowden, Phony hence Traitor?\",\n\"2022-05-31 12:39:40\"],\n [{\n            'v': 1382,\n            'f': \"1382\",\n        },\n\"All my servers have an 8 GB empty file on disk\",\n\"2022-05-31 12:40:03\"],\n [{\n            'v': 1383,\n            'f': \"1383\",\n        },\n\"How I Built Zig-SQLite\",\n\"2022-06-02 11:05:35\"],\n [{\n            'v': 1384,\n            'f': \"1384\",\n        },\n\"A brief rant on the future of interaction design\",\n\"2022-06-02 11:06:02\"],\n [{\n            'v': 1385,\n            'f': \"1385\",\n        },\n\"Web scraping with Python open knowledge\",\n\"2022-06-02 11:06:41\"],\n [{\n            'v': 1386,\n            'f': \"1386\",\n        },\n\"How to read mathematics\",\n\"2022-06-02 11:06:42\"],\n [{\n            'v': 1387,\n            'f': \"1387\",\n        },\n\"The end of big data\",\n\"2022-06-02 11:14:26\"],\n [{\n            'v': 1388,\n            'f': \"1388\",\n        },\n\"Minimizing correlated failures in distributed systems\",\n\"2022-06-02 11:14:27\"],\n [{\n            'v': 1389,\n            'f': \"1389\",\n        },\n\"AlloyDB for PostgreSQL under the hood: Columnar engine\",\n\"2022-06-02 11:14:27\"],\n [{\n            'v': 1390,\n            'f': \"1390\",\n        },\n\"Questions candidates can ask about equity compensation\",\n\"2022-06-02 14:33:55\"],\n [{\n            'v': 1391,\n            'f': \"1391\",\n        },\n\"Git\\u2019s database internals II: commit history queries\",\n\"2022-06-03 02:09:34\"],\n [{\n            'v': 1392,\n            'f': \"1392\",\n        },\n\"Becoming a Systems Architect\",\n\"2022-06-03 02:19:59\"],\n [{\n            'v': 1393,\n            'f': \"1393\",\n        },\n\"Norway to track all supermarket purchases?\",\n\"2022-06-04 15:02:09\"],\n [{\n            'v': 1394,\n            'f': \"1394\",\n        },\n\"RabbitMQ Streams Overview\",\n\"2022-06-04 21:41:38\"],\n [{\n            'v': 1395,\n            'f': \"1395\",\n        },\n\"Fallacies of distributed systems\",\n\"2022-06-04 23:19:49\"],\n [{\n            'v': 1396,\n            'f': \"1396\",\n        },\n\"Absolute truths I unlearned as junior developer\",\n\"2022-06-06 02:31:50\"],\n [{\n            'v': 1397,\n            'f': \"1397\",\n        },\n\"In Defense of OpenStreetMap's Data Model\",\n\"2022-06-06 09:51:51\"],\n [{\n            'v': 1398,\n            'f': \"1398\",\n        },\n\"The Power of Prolog\",\n\"2022-06-06 14:34:00\"],\n [{\n            'v': 1399,\n            'f': \"1399\",\n        },\n\"Rulex \\u2013 A new, portable, regular expression language\",\n\"2022-06-07 12:31:33\"],\n [{\n            'v': 1400,\n            'f': \"1400\",\n        },\n\"String Diagrams for Linear Algebra\",\n\"2022-06-07 17:44:02\"],\n [{\n            'v': 1401,\n            'f': \"1401\",\n        },\n\"Social Anarchism or Lifestyle Anarchism\",\n\"2022-06-08 07:50:33\"],\n [{\n            'v': 1402,\n            'f': \"1402\",\n        },\n\"How to make (almost) anything\",\n\"2022-06-08 08:26:48\"],\n [{\n            'v': 1403,\n            'f': \"1403\",\n        },\n\"Burnt-out, directionless but want to turn it around\",\n\"2022-06-08 12:12:27\"],\n [{\n            'v': 1404,\n            'f': \"1404\",\n        },\n\"Why software engineers like woodworking\",\n\"2022-06-08 15:42:51\"],\n [{\n            'v': 1405,\n            'f': \"1405\",\n        },\n\"Important PostgreSQL 14 update to avoid silent corruption of indexes\",\n\"2022-06-09 15:53:55\"],\n [{\n            'v': 1406,\n            'f': \"1406\",\n        },\n\"In defense of cryptocurrency\",\n\"2022-06-09 21:50:07\"],\n [{\n            'v': 1407,\n            'f': \"1407\",\n        },\n\"YouTube Channels for the Intellectually Curious\",\n\"2022-06-10 00:16:03\"],\n [{\n            'v': 1408,\n            'f': \"1408\",\n        },\n\"\\u201cCode\\u201d 2nd Edition\",\n\"2022-06-10 06:49:26\"],\n [{\n            'v': 1409,\n            'f': \"1409\",\n        },\n\"Inflation, part 1: On shelter futures\",\n\"2022-06-10 17:14:44\"],\n [{\n            'v': 1410,\n            'f': \"1410\",\n        },\n\"Don't use Kubernetes yet\",\n\"2022-06-10 22:42:22\"],\n [{\n            'v': 1411,\n            'f': \"1411\",\n        },\n\"You\\u2019re muted \\u2013 or are you? Videoconferencing apps listen even when mic is off\",\n\"2022-06-11 04:23:12\"],\n [{\n            'v': 1412,\n            'f': \"1412\",\n        },\n\"What Flips Your Bit: Cosmic Ray Errors at Mozilla\",\n\"2022-06-11 04:25:12\"],\n [{\n            'v': 1413,\n            'f': \"1413\",\n        },\n\"CockroachDB vs. Scylla Benchmark\",\n\"2022-06-11 16:05:05\"],\n [{\n            'v': 1414,\n            'f': \"1414\",\n        },\n\"Lesser-known Postgres features\",\n\"2022-06-13 10:08:43\"],\n [{\n            'v': 1415,\n            'f': \"1415\",\n        },\n\"Proper Use of Git Tags\",\n\"2022-06-13 10:09:18\"],\n [{\n            'v': 1416,\n            'f': \"1416\",\n        },\n\"Human attention has become a commodity\",\n\"2022-06-13 22:32:16\"],\n [{\n            'v': 1417,\n            'f': \"1417\",\n        },\n\"The lucrative economics of expert witnesses\",\n\"2022-06-13 22:34:05\"],\n [{\n            'v': 1418,\n            'f': \"1418\",\n        },\n\"Don't End the Week with Nothing\",\n\"2022-06-14 08:54:52\"],\n [{\n            'v': 1419,\n            'f': \"1419\",\n        },\n\"Moving from Cassandra to Scylla via Apache Spark: The Scylla Migrator\",\n\"2022-06-18 13:18:09\"],\n [{\n            'v': 1420,\n            'f': \"1420\",\n        },\n\"Having trouble getting senior applicants, wondering what to do about it\",\n\"2022-06-18 23:55:24\"],\n [{\n            'v': 1421,\n            'f': \"1421\",\n        },\n\"Why does science news suck so much?\",\n\"2022-06-19 00:49:39\"],\n [{\n            'v': 1422,\n            'f': \"1422\",\n        },\n\"Citybound \\u2013 A city building game using actor-based distributed simulation\",\n\"2022-06-19 08:49:28\"],\n [{\n            'v': 1423,\n            'f': \"1423\",\n        },\n\"Singapore Got Its Manufacturing Mojo Back\",\n\"2022-06-20 08:39:41\"],\n [{\n            'v': 1424,\n            'f': \"1424\",\n        },\n\"Function Dispatch Tables in C\",\n\"2022-06-20 17:14:55\"],\n [{\n            'v': 1425,\n            'f': \"1425\",\n        },\n\"Tailscale SSH\",\n\"2022-06-21 01:59:40\"],\n [{\n            'v': 1426,\n            'f': \"1426\",\n        },\n\"What are some cool but obscure data structures you know about?\",\n\"2022-06-21 05:12:53\"],\n [{\n            'v': 1427,\n            'f': \"1427\",\n        },\n\"What do you use VMs for regularly?\",\n\"2022-06-21 09:13:40\"],\n [{\n            'v': 1428,\n            'f': \"1428\",\n        },\n\"Writing your own search engine is hard\",\n\"2022-06-21 11:14:03\"],\n [{\n            'v': 1429,\n            'f': \"1429\",\n        },\n\"Oh Shit, Git\",\n\"2022-06-21 12:08:53\"],\n [{\n            'v': 1430,\n            'f': \"1430\",\n        },\n\"Writing for distributed teams\",\n\"2022-06-21 13:19:54\"],\n [{\n            'v': 1431,\n            'f': \"1431\",\n        },\n\"A look at search engines with their own indexes\",\n\"2022-06-21 13:59:36\"],\n [{\n            'v': 1432,\n            'f': \"1432\",\n        },\n\"Twitter Notes\",\n\"2022-06-22 15:14:32\"],\n [{\n            'v': 1433,\n            'f': \"1433\",\n        },\n\"The Grug Brained Developer\",\n\"2022-06-22 16:21:42\"],\n [{\n            'v': 1434,\n            'f': \"1434\",\n        },\n\"Does anybody still use bookmarking services?\",\n\"2022-06-22 19:00:18\"],\n [{\n            'v': 1435,\n            'f': \"1435\",\n        },\n\"Zq: An easier and faster alternative to jq\",\n\"2022-06-22 19:11:03\"],\n [{\n            'v': 1436,\n            'f': \"1436\",\n        },\n\"The Wood Database\",\n\"2022-06-23 12:34:39\"],\n [{\n            'v': 1437,\n            'f': \"1437\",\n        },\n\"Reverse Engineering Google Colab\",\n\"2022-06-23 12:40:54\"],\n [{\n            'v': 1438,\n            'f': \"1438\",\n        },\n\"What HN post made you money?\",\n\"2022-06-23 16:03:53\"],\n [{\n            'v': 1439,\n            'f': \"1439\",\n        },\n\"Multiplying and Dividing on the 6502\",\n\"2022-06-25 06:32:19\"],\n [{\n            'v': 1440,\n            'f': \"1440\",\n        },\n\"Where did the long tail go?\",\n\"2022-06-25 11:16:26\"],\n [{\n            'v': 1441,\n            'f': \"1441\",\n        },\n\"Things to know about databases\",\n\"2022-06-26 01:59:59\"],\n [{\n            'v': 1442,\n            'f': \"1442\",\n        },\n\"There are no open issues or pull requests on Flask\",\n\"2022-06-26 11:53:37\"],\n [{\n            'v': 1443,\n            'f': \"1443\",\n        },\n\"What tools are you a 10/10 on?\",\n\"2022-06-26 12:06:49\"],\n [{\n            'v': 1444,\n            'f': \"1444\",\n        },\n\"Job interview questions engineers should ask, but don't\",\n\"2022-06-26 16:02:10\"],\n [{\n            'v': 1445,\n            'f': \"1445\",\n        },\n\"Specialist makers working hard to keep unique skills alive\",\n\"2022-06-27 05:09:30\"],\n [{\n            'v': 1446,\n            'f': \"1446\",\n        },\n\"Three Arrows Capital has defaulted on a loan worth more than $670M\",\n\"2022-06-27 09:39:57\"],\n [{\n            'v': 1447,\n            'f': \"1447\",\n        },\n\"Compound pejoratives on Reddit\",\n\"2022-06-27 15:08:58\"],\n [{\n            'v': 1448,\n            'f': \"1448\",\n        },\n\"Tailscale ate my network (and I love it)\",\n\"2022-06-27 15:21:27\"],\n [{\n            'v': 1449,\n            'f': \"1449\",\n        },\n\"Pen and paper exercises in machine learning\",\n\"2022-06-28 12:45:43\"],\n [{\n            'v': 1450,\n            'f': \"1450\",\n        },\n\"Rolling your own crypto: Everything you need to build AES from scratch\",\n\"2022-06-28 14:33:14\"],\n [{\n            'v': 1451,\n            'f': \"1451\",\n        },\n\"Mastercard and visa are the de facto regulators of porn\",\n\"2022-06-28 18:59:53\"],\n [{\n            'v': 1452,\n            'f': \"1452\",\n        },\n\"SQLite or PostgreSQL? It's Complicated\",\n\"2022-06-28 19:49:45\"],\n [{\n            'v': 1453,\n            'f': \"1453\",\n        },\n\"The Lightning Network: Turning Bitcoin into Money\",\n\"2022-06-28 20:43:29\"],\n [{\n            'v': 1454,\n            'f': \"1454\",\n        },\n\"Authors\\u2019 names have \\u2018astonishing\\u2019 influence on peer reviewers: study\",\n\"2022-06-28 21:11:16\"],\n [{\n            'v': 1455,\n            'f': \"1455\",\n        },\n\"Open source is not about you\",\n\"2022-06-29 18:36:57\"],\n [{\n            'v': 1456,\n            'f': \"1456\",\n        },\n\"Git from the Inside Out\",\n\"2022-07-01 13:09:46\"],\n [{\n            'v': 1457,\n            'f': \"1457\",\n        },\n\"Python for Data Analysis, 3rd Edition\",\n\"2022-07-01 21:50:44\"],\n [{\n            'v': 1458,\n            'f': \"1458\",\n        },\n\"As Silicon Valley fantasizes about Web3, India leaps ahead on payments\",\n\"2022-07-01 23:49:09\"],\n [{\n            'v': 1459,\n            'f': \"1459\",\n        },\n\"How does rsync work?\",\n\"2022-07-02 03:38:00\"],\n [{\n            'v': 1460,\n            'f': \"1460\",\n        },\n\"The Bullshit Web\",\n\"2022-07-02 09:39:39\"],\n [{\n            'v': 1461,\n            'f': \"1461\",\n        },\n\"Ethereum Energy Consumption\",\n\"2022-07-02 10:53:05\"],\n [{\n            'v': 1462,\n            'f': \"1462\",\n        },\n\"An engineer\\u2019s tips for writing documentation devs love\",\n\"2022-07-02 12:41:23\"],\n [{\n            'v': 1463,\n            'f': \"1463\",\n        },\n\"Improving distributed caching performance and efficiency at Pinterest\",\n\"2022-07-02 18:33:38\"],\n [{\n            'v': 1464,\n            'f': \"1464\",\n        },\n\"Which book would you pick to re-read for the rest of your life?\",\n\"2022-07-02 21:38:18\"],\n [{\n            'v': 1465,\n            'f': \"1465\",\n        },\n\"Pirate Library Mirror: Preserving 7TB of books (that are not in Libgen)\",\n\"2022-07-03 03:34:11\"],\n [{\n            'v': 1466,\n            'f': \"1466\",\n        },\n\"Gitlab Architecture Overview\",\n\"2022-07-03 05:44:18\"],\n [{\n            'v': 1467,\n            'f': \"1467\",\n        },\n\"Everything Is Anime\",\n\"2022-07-03 06:38:07\"],\n [{\n            'v': 1468,\n            'f': \"1468\",\n        },\n\"How to keep my daughter busy while tickling her curiosity\",\n\"2022-07-03 14:56:11\"],\n [{\n            'v': 1469,\n            'f': \"1469\",\n        },\n\"HackTheBox: A Hacking Playground\",\n\"2022-07-03 20:39:29\"],\n [{\n            'v': 1470,\n            'f': \"1470\",\n        },\n\"On the use of a life\",\n\"2022-07-03 20:59:48\"],\n [{\n            'v': 1471,\n            'f': \"1471\",\n        },\n\"FedEx to close data centers, retire mainframes\",\n\"2022-07-03 22:52:09\"],\n [{\n            'v': 1472,\n            'f': \"1472\",\n        },\n\"The SQLite Index Suggester\",\n\"2022-07-04 20:34:39\"],\n [{\n            'v': 1473,\n            'f': \"1473\",\n        },\n\"Help me identify possible tracking device found in my car\",\n\"2022-07-05 01:23:25\"],\n [{\n            'v': 1474,\n            'f': \"1474\",\n        },\n\"How to Improve Your Monolith Before Transitioning to Microservices\",\n\"2022-07-05 07:43:25\"],\n [{\n            'v': 1475,\n            'f': \"1475\",\n        },\n\"The Crime That Killed Shinzo Abe\",\n\"2022-07-05 09:38:41\"],\n [{\n            'v': 1476,\n            'f': \"1476\",\n        },\n\"I built an interactive course that helps you learn Vim faster\",\n\"2022-07-05 18:02:52\"],\n [{\n            'v': 1477,\n            'f': \"1477\",\n        },\n\"Books That Changed How I Hear Music\",\n\"2022-07-06 13:31:40\"],\n [{\n            'v': 1478,\n            'f': \"1478\",\n        },\n\"Modern programming languages require generics\",\n\"2022-07-07 14:35:45\"],\n [{\n            'v': 1479,\n            'f': \"1479\",\n        },\n\"Resources on learning System Design (back end/data engineering)?\",\n\"2022-07-07 14:35:45\"],\n [{\n            'v': 1480,\n            'f': \"1480\",\n        },\n\"Postgres 15 improves UNIQUE and NULL\",\n\"2022-07-08 11:02:22\"],\n [{\n            'v': 1481,\n            'f': \"1481\",\n        },\n\"People from elite backgrounds increasingly dominate academia, data shows\",\n\"2022-07-09 12:54:23\"],\n [{\n            'v': 1482,\n            'f': \"1482\",\n        },\n\"SSD will fail at 40k power-on hours\",\n\"2022-07-09 23:21:26\"],\n [{\n            'v': 1483,\n            'f': \"1483\",\n        },\n\"Uber broke laws, duped police and built lobbying operation, leak reveals\",\n\"2022-07-10 05:15:24\"],\n [{\n            'v': 1484,\n            'f': \"1484\",\n        },\n\"Postgres full-text search: A search engine in a database\",\n\"2022-07-10 16:02:56\"],\n [{\n            'v': 1485,\n            'f': \"1485\",\n        },\n\"The euro has tumbled near parity to the US dollar\",\n\"2022-07-10 19:36:58\"],\n [{\n            'v': 1486,\n            'f': \"1486\",\n        },\n\"Column order in PostgreSQL does matter\",\n\"2022-07-11 03:00:26\"],\n [{\n            'v': 1487,\n            'f': \"1487\",\n        },\n\"The Uber leak exposes the global war on workers\",\n\"2022-07-11 07:29:47\"],\n [{\n            'v': 1488,\n            'f': \"1488\",\n        },\n\"Giving a shit as a service\",\n\"2022-07-11 17:34:42\"],\n [{\n            'v': 1489,\n            'f': \"1489\",\n        },\n\"A/B testing gets misused to juice metrics in the short term\",\n\"2022-07-11 18:07:46\"],\n [{\n            'v': 1490,\n            'f': \"1490\",\n        },\n\"Publishing your work increases your luck\",\n\"2022-07-12 09:24:18\"],\n [{\n            'v': 1491,\n            'f': \"1491\",\n        },\n\"James Webb first images \\u2013 complete set of high resolution shots now live\",\n\"2022-07-12 11:46:48\"],\n [{\n            'v': 1492,\n            'f': \"1492\",\n        },\n\"Books to read to understand financial crime\",\n\"2022-07-12 12:05:46\"],\n [{\n            'v': 1493,\n            'f': \"1493\",\n        },\n\"What do you code when learning a new language/framework?\",\n\"2022-07-12 15:03:49\"],\n [{\n            'v': 1494,\n            'f': \"1494\",\n        },\n\"Lessons from Writing a Compiler\",\n\"2022-07-12 15:12:41\"],\n [{\n            'v': 1495,\n            'f': \"1495\",\n        },\n\"Lisp in 99 lines of C and how to write one yourself\",\n\"2022-07-12 15:28:10\"],\n [{\n            'v': 1496,\n            'f': \"1496\",\n        },\n\"Why isn\\u2019t new technology making us more productive?\",\n\"2022-07-13 01:06:56\"],\n [{\n            'v': 1497,\n            'f': \"1497\",\n        },\n\"What every programmer should know about solid-state drives\",\n\"2022-07-13 03:30:52\"],\n [{\n            'v': 1498,\n            'f': \"1498\",\n        },\n\"How we put IPFS in Brave\",\n\"2022-07-13 08:16:28\"],\n [{\n            'v': 1499,\n            'f': \"1499\",\n        },\n\"Prose.sh \\u2013 A blog platform for hackers\",\n\"2022-07-13 11:37:14\"],\n [{\n            'v': 1500,\n            'f': \"1500\",\n        },\n\"The Preprocessor Iceberg Meme\",\n\"2022-07-14 02:24:17\"],\n [{\n            'v': 1501,\n            'f': \"1501\",\n        },\n\"The Book of Shaders\",\n\"2022-07-14 07:12:48\"],\n [{\n            'v': 1502,\n            'f': \"1502\",\n        },\n\"Django 3\",\n\"2022-07-14 07:56:14\"],\n [{\n            'v': 1503,\n            'f': \"1503\",\n        },\n\"Django 3.2\",\n\"2022-07-14 07:56:15\"],\n [{\n            'v': 1504,\n            'f': \"1504\",\n        },\n\"Reining in the thundering herd: Getting to 80% CPU utilization with Django\",\n\"2022-07-14 07:56:16\"],\n [{\n            'v': 1505,\n            'f': \"1505\",\n        },\n\"LinkedIn. The Ultimate dick measuring contest\",\n\"2022-07-14 08:02:09\"],\n [{\n            'v': 1506,\n            'f': \"1506\",\n        },\n\"Interactive course about \\u201ceveryday\\u201d data science\",\n\"2022-07-14 11:53:00\"],\n [{\n            'v': 1507,\n            'f': \"1507\",\n        },\n\"How the SQLite Virtual Machine Works\",\n\"2022-07-14 12:44:57\"],\n [{\n            'v': 1508,\n            'f': \"1508\",\n        },\n\"The C/C++ preprocessor iceberg with explanations\",\n\"2022-07-14 13:08:27\"],\n [{\n            'v': 1509,\n            'f': \"1509\",\n        },\n\"Things you notice when you quit the news\",\n\"2022-07-14 15:25:19\"],\n [{\n            'v': 1510,\n            'f': \"1510\",\n        },\n\"Let's code a TCP/IP stack\",\n\"2022-07-14 17:53:46\"],\n [{\n            'v': 1511,\n            'f': \"1511\",\n        },\n\"DevOps: An idea so good, no one admits they don\\u2019t do it\",\n\"2022-07-14 18:52:56\"],\n [{\n            'v': 1512,\n            'f': \"1512\",\n        },\n\"PostgreSQL Views and Materialized Views and How They Influenced TimescaleDB\",\n\"2022-07-14 18:55:01\"],\n [{\n            'v': 1513,\n            'f': \"1513\",\n        },\n\"The History of User Interfaces\",\n\"2022-07-14 18:55:05\"],\n [{\n            'v': 1514,\n            'f': \"1514\",\n        },\n\"Why Don\\u2019t We Have a Strategy?\",\n\"2022-07-14 18:57:49\"],\n [{\n            'v': 1515,\n            'f': \"1515\",\n        },\n\"Lessons I wish I had been taught\",\n\"2022-07-14 20:09:36\"],\n [{\n            'v': 1516,\n            'f': \"1516\",\n        },\n\"Algorithms for Decision Making\",\n\"2022-07-16 06:30:13\"],\n [{\n            'v': 1517,\n            'f': \"1517\",\n        },\n\"George Orwell\\u2019s 1940 Review of Mein Kampf\",\n\"2022-07-16 12:52:39\"],\n [{\n            'v': 1518,\n            'f': \"1518\",\n        },\n\"I made $1000 with my app and now making $500/mo\",\n\"2022-07-16 14:32:55\"],\n [{\n            'v': 1519,\n            'f': \"1519\",\n        },\n\"Algorithms by Jeff Erickson\",\n\"2022-07-17 04:36:54\"],\n [{\n            'v': 1520,\n            'f': \"1520\",\n        },\n\"A compiler and VM for a simple language, in 150 lines of code\",\n\"2022-07-17 04:37:16\"],\n [{\n            'v': 1521,\n            'f': \"1521\",\n        },\n\"Self-parking Car in 500 Lines of Code\",\n\"2022-07-17 11:09:14\"],\n [{\n            'v': 1522,\n            'f': \"1522\",\n        },\n\"Is this the simplest (and most surprising) sorting algorithm?\",\n\"2022-07-17 15:25:42\"],\n [{\n            'v': 1523,\n            'f': \"1523\",\n        },\n\"My Logging Best Practices\",\n\"2022-07-17 16:08:18\"],\n [{\n            'v': 1524,\n            'f': \"1524\",\n        },\n\"The Datasette Ecosystem\",\n\"2022-07-18 01:29:02\"],\n [{\n            'v': 1525,\n            'f': \"1525\",\n        },\n\"20 years of payment processing problems\",\n\"2022-07-18 13:08:00\"],\n [{\n            'v': 1526,\n            'f': \"1526\",\n        },\n\"How to earn your macroeconomics and finance white belt as a software developer\",\n\"2022-07-18 17:27:52\"],\n [{\n            'v': 1527,\n            'f': \"1527\",\n        },\n\"Paradise Papers: New leak from offshore finance firm\",\n\"2022-07-18 17:27:54\"],\n [{\n            'v': 1528,\n            'f': \"1528\",\n        },\n\"Build Your Own X\",\n\"2022-07-19 05:30:31\"],\n [{\n            'v': 1529,\n            'f': \"1529\",\n        },\n\"What is your Kubernetes nightmare?\",\n\"2022-07-19 05:38:03\"],\n [{\n            'v': 1530,\n            'f': \"1530\",\n        },\n\"Node.js race conditions\",\n\"2022-07-19 07:21:25\"],\n [{\n            'v': 1531,\n            'f': \"1531\",\n        },\n\"Little book about OS development\",\n\"2022-07-19 11:08:58\"],\n [{\n            'v': 1532,\n            'f': \"1532\",\n        },\n\"Why birds can fly over Mount Everest\",\n\"2022-07-19 14:05:16\"],\n [{\n            'v': 1533,\n            'f': \"1533\",\n        },\n\"Why I still recommend Julia\",\n\"2022-07-19 20:49:29\"],\n [{\n            'v': 1534,\n            'f': \"1534\",\n        },\n\"Things I wish everyone knew about Git (Part II)\",\n\"2022-07-20 01:45:15\"],\n [{\n            'v': 1535,\n            'f': \"1535\",\n        },\n\"An Overview of Distributed Caching\",\n\"2022-07-20 03:57:01\"],\n [{\n            'v': 1536,\n            'f': \"1536\",\n        },\n\"The unreasonable effectiveness of just showing up everyday\",\n\"2022-07-21 02:02:50\"],\n [{\n            'v': 1537,\n            'f': \"1537\",\n        },\n\"Be careful how you pay the bills\",\n\"2022-07-21 14:06:31\"],\n [{\n            'v': 1538,\n            'f': \"1538\",\n        },\n\"Writing a SQL database from scratch in Go\",\n\"2022-07-21 16:17:28\"],\n [{\n            'v': 1539,\n            'f': \"1539\",\n        },\n\"ADHD, a Lifelong Struggle\",\n\"2022-07-21 17:56:16\"],\n [{\n            'v': 1540,\n            'f': \"1540\",\n        },\n\"Life is not short\",\n\"2022-07-21 22:50:29\"],\n [{\n            'v': 1541,\n            'f': \"1541\",\n        },\n\"PostgreSQL upgrades are hard\",\n\"2022-07-23 17:34:02\"],\n [{\n            'v': 1542,\n            'f': \"1542\",\n        },\n\"Kubernetes for Developers Who Know How to Develop\",\n\"2022-07-24 14:44:10\"],\n [{\n            'v': 1543,\n            'f': \"1543\",\n        },\n\"Today I made my first \\u201cbucks\\u201d on the web\",\n\"2022-07-24 17:18:18\"],\n [{\n            'v': 1544,\n            'f': \"1544\",\n        },\n\"I regret my website redesign\",\n\"2022-07-24 19:21:39\"],\n [{\n            'v': 1545,\n            'f': \"1545\",\n        },\n\"What they don't teach you about sockets\",\n\"2022-07-25 01:13:38\"],\n [{\n            'v': 1546,\n            'f': \"1546\",\n        },\n\"The benefits of \\u201clow tech\\u201d user interfaces\",\n\"2022-07-25 07:55:56\"],\n [{\n            'v': 1547,\n            'f': \"1547\",\n        },\n\"Want to start hacking?\",\n\"2022-07-27 13:41:01\"],\n [{\n            'v': 1548,\n            'f': \"1548\",\n        },\n\"Is the world suffering from shallow knowledge?\",\n\"2022-07-27 13:55:54\"],\n [{\n            'v': 1549,\n            'f': \"1549\",\n        },\n\"Spotify and Google Announce User Choice Billing\",\n\"2022-07-28 01:17:30\"],\n [{\n            'v': 1550,\n            'f': \"1550\",\n        },\n\"The weirdest book in the world just turned 40. We talked to its creator\",\n\"2022-07-28 11:04:54\"],\n [{\n            'v': 1551,\n            'f': \"1551\",\n        },\n\"I made a book with a hundred UI/UX tips\",\n\"2022-07-28 11:04:59\"],\n [{\n            'v': 1552,\n            'f': \"1552\",\n        },\n\"The Fraud Supply Chain\",\n\"2022-07-28 11:05:03\"],\n [{\n            'v': 1553,\n            'f': \"1553\",\n        },\n\"SQLite Internals: Pages and B-trees\",\n\"2022-07-29 00:21:19\"],\n [{\n            'v': 1554,\n            'f': \"1554\",\n        },\n\"My First Impressions of Web3\",\n\"2022-07-29 01:18:39\"],\n [{\n            'v': 1555,\n            'f': \"1555\",\n        },\n\"A routine gem update ended up creating $73k worth of subscriptions\",\n\"2022-07-29 01:19:00\"],\n [{\n            'v': 1556,\n            'f': \"1556\",\n        },\n\"U.S. citizens no longer have access to most of the world\",\n\"2022-07-29 01:19:06\"],\n [{\n            'v': 1557,\n            'f': \"1557\",\n        },\n\"The UX on this small child is terrible\",\n\"2022-07-29 01:21:18\"],\n [{\n            'v': 1558,\n            'f': \"1558\",\n        },\n\"Overview of Consistency Levels in Database Systems\",\n\"2022-07-29 13:29:18\"],\n [{\n            'v': 1559,\n            'f': \"1559\",\n        },\n\"Collection of the some top HN Posts\",\n\"2022-07-30 10:09:00\"],\n [{\n            'v': 1560,\n            'f': \"1560\",\n        },\n\"Relational databases aren\\u2019t dinosaurs, they\\u2019re sharks\",\n\"2022-07-31 04:43:26\"],\n [{\n            'v': 1561,\n            'f': \"1561\",\n        },\n\"I wrote a book about using data science to solve \\u201ceveryday\\u201d problems\",\n\"2022-07-31 04:43:36\"],\n [{\n            'v': 1562,\n            'f': \"1562\",\n        },\n\"A Data Pipeline Is a Materialized View\",\n\"2022-07-31 04:43:54\"],\n [{\n            'v': 1563,\n            'f': \"1563\",\n        },\n\"Demystifying Database Performance for Developers\",\n\"2022-07-31 04:43:58\"],\n [{\n            'v': 1564,\n            'f': \"1564\",\n        },\n\"Reference count, don't garbage collect\",\n\"2022-08-01 11:22:18\"],\n [{\n            'v': 1565,\n            'f': \"1565\",\n        },\n\"Take care editing bash scripts\",\n\"2022-08-01 23:59:18\"],\n [{\n            'v': 1566,\n            'f': \"1566\",\n        },\n\"D1: Our SQL database\",\n\"2022-08-02 00:12:56\"],\n [{\n            'v': 1567,\n            'f': \"1567\",\n        },\n\"I invoked Rothbard's Law. \\\"everyone specializes in what he is worst at\\\" Chomsky ...\",\n\"2022-08-02 01:12:12\"],\n [{\n            'v': 1568,\n            'f': \"1568\",\n        },\n\"How I regained concentration and focus\",\n\"2022-08-02 02:45:40\"],\n [{\n            'v': 1569,\n            'f': \"1569\",\n        },\n\"Understanding Jane Street\",\n\"2022-08-02 12:10:45\"],\n [{\n            'v': 1570,\n            'f': \"1570\",\n        },\n\"TorchRec, a library for modern production recommendation systems\",\n\"2022-08-02 20:06:35\"],\n [{\n            'v': 1571,\n            'f': \"1571\",\n        },\n\"Commit messages guide\",\n\"2022-08-02 20:16:22\"],\n [{\n            'v': 1572,\n            'f': \"1572\",\n        },\n\"Using Zig as cross-platform C toolchain\",\n\"2022-08-02 20:18:46\"],\n [{\n            'v': 1573,\n            'f': \"1573\",\n        },\n\"Why Fix Kubernetes and Systemd?\",\n\"2022-08-03 00:58:47\"],\n [{\n            'v': 1574,\n            'f': \"1574\",\n        },\n\"How we made data aggregation on PostgreSQL better and faster\",\n\"2022-08-03 00:59:13\"],\n [{\n            'v': 1575,\n            'f': \"1575\",\n        },\n\"Logging C Functions\",\n\"2022-08-03 01:00:45\"],\n [{\n            'v': 1576,\n            'f': \"1576\",\n        },\n\"I'm all-in on server-side SQLite\",\n\"2022-08-03 21:45:10\"],\n [{\n            'v': 1577,\n            'f': \"1577\",\n        },\n\"Why do tree-based models still outperform deep learning on tabular data?\",\n\"2022-08-04 12:26:33\"],\n [{\n            'v': 1578,\n            'f': \"1578\",\n        },\n\"Apache Heron: A realtime, distributed, fault-tolerant stream processing engine\",\n\"2022-08-04 22:44:27\"],\n [{\n            'v': 1579,\n            'f': \"1579\",\n        },\n\"Data Engineer Study Guide\",\n\"2022-08-06 00:40:16\"],\n [{\n            'v': 1580,\n            'f': \"1580\",\n        },\n\"Rust Is Hard, Or: The Misery of Mainstream Programming\",\n\"2022-08-06 00:40:17\"],\n [{\n            'v': 1581,\n            'f': \"1581\",\n        },\n\"Sri Lanka is having a textbook currency crisis, triggered by policy mistakes\",\n\"2022-08-06 07:40:39\"],\n [{\n            'v': 1582,\n            'f': \"1582\",\n        },\n\"Pure Bash Bible\",\n\"2022-08-06 07:40:42\"],\n [{\n            'v': 1583,\n            'f': \"1583\",\n        },\n\"Learn Haskell by building a blog generator \\u2013 a project-oriented Haskell book\",\n\"2022-08-06 10:25:37\"],\n [{\n            'v': 1584,\n            'f': \"1584\",\n        },\n\"Crafting Interpreters: A Review\",\n\"2022-08-06 13:17:39\"],\n [{\n            'v': 1585,\n            'f': \"1585\",\n        },\n\"Python built-ins worth learning\",\n\"2022-08-07 10:25:39\"],\n [{\n            'v': 1586,\n            'f': \"1586\",\n        },\n\"Look at median, and not mean GDP per capita\",\n\"2022-08-07 18:45:49\"],\n [{\n            'v': 1587,\n            'f': \"1587\",\n        },\n\"How We Deal with Data Quality Using Circuit Breakers\",\n\"2022-08-07 21:26:28\"],\n [{\n            'v': 1588,\n            'f': \"1588\",\n        },\n\"What's the next big thing that few people are talking about?\",\n\"2022-08-08 19:05:48\"],\n [{\n            'v': 1589,\n            'f': \"1589\",\n        },\n\"Technical Writing Courses from Google\",\n\"2022-08-09 12:24:16\"],\n [{\n            'v': 1590,\n            'f': \"1590\",\n        },\n\"Baby\\u2019s First Garbage Collector\",\n\"2022-08-09 20:23:26\"],\n [{\n            'v': 1591,\n            'f': \"1591\",\n        },\n\"\\u201cWho Should Write the Terraform?\\u201d\",\n\"2022-08-10 01:25:45\"],\n [{\n            'v': 1592,\n            'f': \"1592\",\n        },\n\"Japanese Complete Book 1 Released\",\n\"2022-08-10 10:20:18\"],\n [{\n            'v': 1593,\n            'f': \"1593\",\n        },\n\"Falling for Kubernetes\",\n\"2022-08-10 14:47:39\"],\n [{\n            'v': 1594,\n            'f': \"1594\",\n        },\n\"Python\\u2019s \\u201ctype hints\\u201d are a bit of a disappointment to me\",\n\"2022-08-11 04:49:40\"],\n [{\n            'v': 1595,\n            'f': \"1595\",\n        },\n\"The Unreasonable Effectiveness of Makefiles\",\n\"2022-08-11 06:22:24\"],\n [{\n            'v': 1596,\n            'f': \"1596\",\n        },\n\"How to learn hard things in tech\",\n\"2022-08-11 06:41:37\"],\n [{\n            'v': 1597,\n            'f': \"1597\",\n        },\n\"How SQLite Helps You Do ACID\",\n\"2022-08-11 06:55:05\"],\n [{\n            'v': 1598,\n            'f': \"1598\",\n        },\n\"Quirky computing books\",\n\"2022-08-11 12:38:33\"],\n [{\n            'v': 1599,\n            'f': \"1599\",\n        },\n\"Don't Pickle Your Data\",\n\"2022-08-11 15:06:24\"],\n [{\n            'v': 1600,\n            'f': \"1600\",\n        },\n\"Algorithms you should know before you take system design interviews\",\n\"2022-08-11 19:58:08\"],\n [{\n            'v': 1601,\n            'f': \"1601\",\n        },\n\"I\\u2019ve Contemplated Suicide Every Day of My Life Since the Age of Eleven\",\n\"2022-08-11 20:03:52\"],\n [{\n            'v': 1602,\n            'f': \"1602\",\n        },\n\"Design of a Modern Cache\",\n\"2022-08-12 03:23:15\"],\n [{\n            'v': 1603,\n            'f': \"1603\",\n        },\n\"What is something you built but never marketed?\",\n\"2022-08-12 11:20:06\"],\n [{\n            'v': 1604,\n            'f': \"1604\",\n        },\n\"Excel is pretty dang cool\",\n\"2022-08-12 13:49:35\"],\n [{\n            'v': 1605,\n            'f': \"1605\",\n        },\n\"Rob Pike's simple C regex matcher in Go\",\n\"2022-08-12 15:23:17\"],\n [{\n            'v': 1606,\n            'f': \"1606\",\n        },\n\"SQLite is not a toy database\",\n\"2022-08-13 11:18:46\"],\n [{\n            'v': 1607,\n            'f': \"1607\",\n        },\n\"What podcasts are you listening to?\",\n\"2022-08-13 18:53:42\"],\n [{\n            'v': 1608,\n            'f': \"1608\",\n        },\n\"Operating well \\u2013 what I learned at Stripe\",\n\"2022-08-13 20:35:14\"],\n [{\n            'v': 1609,\n            'f': \"1609\",\n        },\n\"The WebSocket Handbook\",\n\"2022-08-14 02:42:15\"],\n [{\n            'v': 1610,\n            'f': \"1610\",\n        },\n\"Woe be unto you for using a WebSocket\",\n\"2022-08-14 02:42:22\"],\n [{\n            'v': 1611,\n            'f': \"1611\",\n        },\n\"How do you scale WebSocket?\",\n\"2022-08-14 02:43:05\"],\n [{\n            'v': 1612,\n            'f': \"1612\",\n        },\n\"Good books/courses to learn networking essentials for web developers?\",\n\"2022-08-14 06:25:24\"],\n [{\n            'v': 1613,\n            'f': \"1613\",\n        },\n\"Free Postgres databases for small projects\",\n\"2022-08-14 12:40:22\"],\n [{\n            'v': 1614,\n            'f': \"1614\",\n        },\n\"System design hack: Postgres is a great pub/sub and job server\",\n\"2022-08-14 12:40:54\"],\n [{\n            'v': 1615,\n            'f': \"1615\",\n        },\n\"Pev: Postgres \\u2018Explain\\u2019 Visualizer\",\n\"2022-08-14 12:45:56\"],\n [{\n            'v': 1616,\n            'f': \"1616\",\n        },\n\"The four pillars of data observability: metrics, metadata, lineage, and logs\",\n\"2022-08-14 13:02:06\"],\n [{\n            'v': 1617,\n            'f': \"1617\",\n        },\n\"To reinvent the processor\",\n\"2022-08-15 08:47:05\"],\n [{\n            'v': 1618,\n            'f': \"1618\",\n        },\n\"Git undo: We can do better\",\n\"2022-08-15 10:58:05\"],\n [{\n            'v': 1619,\n            'f': \"1619\",\n        },\n\"Doing something is better than doing nothing for most people: study\",\n\"2022-08-15 11:09:49\"],\n [{\n            'v': 1620,\n            'f': \"1620\",\n        },\n\"Tools for Thinking\",\n\"2022-08-15 11:45:56\"],\n [{\n            'v': 1621,\n            'f': \"1621\",\n        },\n\"How to learn proper systems programming?\",\n\"2022-08-15 12:12:16\"],\n [{\n            'v': 1622,\n            'f': \"1622\",\n        },\n\"Scala 3.0\",\n\"2022-08-15 12:19:53\"],\n [{\n            'v': 1623,\n            'f': \"1623\",\n        },\n\"Scala at scale at Databricks\",\n\"2022-08-15 12:20:21\"],\n [{\n            'v': 1624,\n            'f': \"1624\",\n        },\n\"The new Jupyter Book\",\n\"2022-08-15 12:38:58\"],\n [{\n            'v': 1625,\n            'f': \"1625\",\n        },\n\"Architecture of Lisp Machines\",\n\"2022-08-15 12:52:56\"],\n [{\n            'v': 1626,\n            'f': \"1626\",\n        },\n\"Spotify is killing the open podcast ecosystem\",\n\"2022-08-15 13:01:52\"],\n [{\n            'v': 1627,\n            'f': \"1627\",\n        },\n\"What were your most impactful podcast episodes from 2019?\",\n\"2022-08-15 13:05:22\"],\n [{\n            'v': 1628,\n            'f': \"1628\",\n        },\n\"Favorite Podcast Episode of 2020?\",\n\"2022-08-15 13:34:35\"],\n [{\n            'v': 1629,\n            'f': \"1629\",\n        },\n\"What are some tools / libraries you built yourself?\",\n\"2022-08-15 13:34:40\"],\n [{\n            'v': 1630,\n            'f': \"1630\",\n        },\n\"We killed our end-to-end test suite\",\n\"2022-08-15 13:34:42\"],\n [{\n            'v': 1631,\n            'f': \"1631\",\n        },\n\"Caches, Modes, and Unstable Systems\",\n\"2022-08-15 13:34:43\"],\n [{\n            'v': 1632,\n            'f': \"1632\",\n        },\n\"Do you really need Redis? How to get away with just PostgreSQL\",\n\"2022-08-15 14:01:00\"],\n [{\n            'v': 1633,\n            'f': \"1633\",\n        },\n\"Win at Risk by using systems thinking\",\n\"2022-08-15 14:02:04\"],\n [{\n            'v': 1634,\n            'f': \"1634\",\n        },\n\"Why we should end the data economy\",\n\"2022-08-15 14:07:38\"],\n [{\n            'v': 1635,\n            'f': \"1635\",\n        },\n\"Machine Learning for Systems and Systems for Machine Learning\",\n\"2022-08-15 14:08:40\"],\n [{\n            'v': 1636,\n            'f': \"1636\",\n        },\n\"I built it, nobody came, now what?\",\n\"2022-08-15 14:08:46\"],\n [{\n            'v': 1637,\n            'f': \"1637\",\n        },\n\"Reflections on 10k Hours of Programming\",\n\"2022-08-15 14:16:27\"],\n [{\n            'v': 1638,\n            'f': \"1638\",\n        },\n\"Work Hard\",\n\"2022-08-15 14:41:03\"],\n [{\n            'v': 1639,\n            'f': \"1639\",\n        },\n\"New in Git: switch and restore\",\n\"2022-08-15 15:06:04\"],\n [{\n            'v': 1640,\n            'f': \"1640\",\n        },\n\"The Tyranny of Spreadsheets\",\n\"2022-08-15 15:24:27\"],\n [{\n            'v': 1641,\n            'f': \"1641\",\n        },\n\"Best book to learn C in 2022?\",\n\"2022-08-15 16:14:56\"],\n [{\n            'v': 1642,\n            'f': \"1642\",\n        },\n\"Depressed, need to leave web development, what can I do?\",\n\"2022-08-16 03:32:57\"],\n [{\n            'v': 1643,\n            'f': \"1643\",\n        },\n\"\\\"Why I Hate Frameworks\\\", or Nobody Buys Hammers Anymore\",\n\"2022-08-16 05:50:42\"],\n [{\n            'v': 1644,\n            'f': \"1644\",\n        },\n\"Math Foundations from Scratch\",\n\"2022-08-16 05:50:42\"],\n [{\n            'v': 1645,\n            'f': \"1645\",\n        },\n\"One Guy Keeps the World\\u2019s Computers Running on the Right Time Zone\",\n\"2022-08-16 05:50:43\"],\n [{\n            'v': 1646,\n            'f': \"1646\",\n        },\n\"Raft Consensus Animated\",\n\"2022-08-16 15:22:02\"],\n [{\n            'v': 1647,\n            'f': \"1647\",\n        },\n\"Functional Reactive Programming\",\n\"2022-08-16 15:57:02\"],\n [{\n            'v': 1648,\n            'f': \"1648\",\n        },\n\"Accounting For Developers, Part I\",\n\"2022-08-18 14:45:20\"],\n [{\n            'v': 1649,\n            'f': \"1649\",\n        },\n\"Supabase \\u2013 Realtime: Multiplayer Edition\",\n\"2022-08-18 15:10:28\"],\n [{\n            'v': 1650,\n            'f': \"1650\",\n        },\n\"I built a vector map from scratch\",\n\"2022-08-19 11:53:43\"],\n [{\n            'v': 1651,\n            'f': \"1651\",\n        },\n\"Lessons I wish I had learned before I started teaching differential equations\",\n\"2022-08-19 12:54:26\"],\n [{\n            'v': 1652,\n            'f': \"1652\",\n        },\n\"Serving Netflix Video Traffic at 800Gb/s and Beyond\",\n\"2022-08-19 16:28:03\"],\n [{\n            'v': 1653,\n            'f': \"1653\",\n        },\n\"Advanced Bash-Scripting Guide\",\n\"2022-08-20 05:34:41\"],\n [{\n            'v': 1654,\n            'f': \"1654\",\n        },\n\"AWS switch from gzip to zstd \\u2013 about 30% reduction in compressed S3 storage\",\n\"2022-08-20 07:31:02\"],\n [{\n            'v': 1655,\n            'f': \"1655\",\n        },\n\"40k HN comments mentioning books, extracted using deep learning\\u00b4\",\n\"2022-08-20 07:38:15\"],\n [{\n            'v': 1656,\n            'f': \"1656\",\n        },\n\"Analyzing Every Clojure Project on GitHub\",\n\"2022-08-20 18:14:12\"],\n [{\n            'v': 1657,\n            'f': \"1657\",\n        },\n\"Django 4.0\",\n\"2022-08-20 18:15:10\"],\n [{\n            'v': 1658,\n            'f': \"1658\",\n        },\n\"Django, HTMX and Alpine.js: Modern websites, JavaScript optional\",\n\"2022-08-21 03:52:37\"],\n [{\n            'v': 1659,\n            'f': \"1659\",\n        },\n\"Things I do every time I start a Django project\",\n\"2022-08-21 05:34:20\"],\n [{\n            'v': 1660,\n            'f': \"1660\",\n        },\n\"Everything I Know About SSDs\",\n\"2022-08-21 10:28:04\"],\n [{\n            'v': 1661,\n            'f': \"1661\",\n        },\n\"Everything I know about freelancing\",\n\"2022-08-21 10:29:12\"],\n [{\n            'v': 1662,\n            'f': \"1662\",\n        },\n\"Everything I Know\",\n\"2022-08-21 10:30:10\"],\n [{\n            'v': 1663,\n            'f': \"1663\",\n        },\n\"Let's Not Dumb Down the History of Computer Science\",\n\"2022-08-21 10:30:10\"],\n [{\n            'v': 1664,\n            'f': \"1664\",\n        },\n\"Remote workers in a non-tech city, what's your experience?\",\n\"2022-08-21 10:30:10\"],\n [{\n            'v': 1665,\n            'f': \"1665\",\n        },\n\"The Elements of Computing Systems, Second Edition\",\n\"2022-08-21 10:30:20\"],\n [{\n            'v': 1666,\n            'f': \"1666\",\n        },\n\"The Mediocre Programmer\",\n\"2022-08-21 10:30:32\"],\n [{\n            'v': 1667,\n            'f': \"1667\",\n        },\n\"Leveraging the Go Type System\",\n\"2022-08-21 10:30:58\"],\n [{\n            'v': 1668,\n            'f': \"1668\",\n        },\n\"How People Get Rich Now\",\n\"2022-08-21 10:31:40\"],\n [{\n            'v': 1669,\n            'f': \"1669\",\n        },\n\"What under-the-radar technology are you excited about?\",\n\"2022-08-21 10:33:17\"],\n [{\n            'v': 1670,\n            'f': \"1670\",\n        },\n\"How I Practice Piano\",\n\"2022-08-21 10:34:49\"],\n [{\n            'v': 1671,\n            'f': \"1671\",\n        },\n\"Why do we buy into the 'cult' of overwork?\",\n\"2022-08-21 10:35:05\"],\n [{\n            'v': 1672,\n            'f': \"1672\",\n        },\n\"Strategy and Complex Systems\",\n\"2022-08-21 10:37:07\"],\n [{\n            'v': 1673,\n            'f': \"1673\",\n        },\n\"An incomplete list of skills senior engineers need, beyond coding\",\n\"2022-08-21 10:37:27\"],\n [{\n            'v': 1674,\n            'f': \"1674\",\n        },\n\"Don't let social media think for you\",\n\"2022-08-21 10:40:21\"],\n [{\n            'v': 1675,\n            'f': \"1675\",\n        },\n\"A Project of One\\u2019s Own\",\n\"2022-08-21 10:41:21\"],\n [{\n            'v': 1676,\n            'f': \"1676\",\n        },\n\"Mathematics Cheat Sheet\",\n\"2022-08-21 10:41:32\"],\n [{\n            'v': 1677,\n            'f': \"1677\",\n        },\n\"Luna Founder Requests Police Protection as Investors Are Visiting His House\",\n\"2022-08-21 10:42:01\"],\n [{\n            'v': 1678,\n            'f': \"1678\",\n        },\n\"A guide to getting started with embedded systems\",\n\"2022-08-21 10:42:50\"],\n [{\n            'v': 1679,\n            'f': \"1679\",\n        },\n\"One year as a solo dev building open-source data tools without funding\",\n\"2022-08-21 12:22:56\"],\n [{\n            'v': 1680,\n            'f': \"1680\",\n        },\n\"Good conversations have lots of doorknobs\",\n\"2022-08-21 14:22:48\"],\n [{\n            'v': 1681,\n            'f': \"1681\",\n        },\n\"Coping with Copilot\",\n\"2022-08-21 17:18:05\"],\n [{\n            'v': 1682,\n            'f': \"1682\",\n        },\n\"I Reached $4k/Mo. But How Many Great Startup Ideas Have Died?\",\n\"2022-08-22 06:39:36\"],\n [{\n            'v': 1683,\n            'f': \"1683\",\n        },\n\"Stable Diffusion Public Release\",\n\"2022-08-22 14:54:02\"],\n [{\n            'v': 1684,\n            'f': \"1684\",\n        },\n\"A general overview of what happens before main()\",\n\"2022-08-22 18:08:23\"],\n [{\n            'v': 1685,\n            'f': \"1685\",\n        },\n\"Falsehoods programmers believe about time\",\n\"2022-08-22 19:27:14\"],\n [{\n            'v': 1686,\n            'f': \"1686\",\n        },\n\"On Corpspeak\",\n\"2022-08-23 00:30:52\"],\n [{\n            'v': 1687,\n            'f': \"1687\",\n        },\n\"Writing a toy WebSocket server from scratch\",\n\"2022-08-23 00:42:52\"],\n [{\n            'v': 1688,\n            'f': \"1688\",\n        },\n\"A quick tutorial on implementing C memory management functions\",\n\"2022-08-23 00:42:54\"],\n [{\n            'v': 1689,\n            'f': \"1689\",\n        },\n\"Introduction to TCP and Sockets\",\n\"2022-08-23 00:42:58\"],\n [{\n            'v': 1690,\n            'f': \"1690\",\n        },\n\"You should not be using AWS. Probably.\",\n\"2022-08-23 00:45:01\"],\n [{\n            'v': 1691,\n            'f': \"1691\",\n        },\n\"Git\\u2019s database internals I: packed object store\",\n\"2022-08-23 00:56:43\"],\n [{\n            'v': 1692,\n            'f': \"1692\",\n        },\n\"A Call to Build Models Like We Build Open-Source Software\",\n\"2022-08-23 06:00:17\"],\n [{\n            'v': 1693,\n            'f': \"1693\",\n        },\n\"\\u201cI survived the TCP transition\\u201d\",\n\"2022-08-23 08:30:46\"],\n [{\n            'v': 1694,\n            'f': \"1694\",\n        },\n\"Where do I get started on ASICs, FPGA, RTL, Verilog et. al?\",\n\"2022-08-23 09:08:13\"],\n [{\n            'v': 1695,\n            'f': \"1695\",\n        },\n\"The future of Nginx: Getting back to our open source roots\",\n\"2022-08-23 15:58:09\"],\n [{\n            'v': 1696,\n            'f': \"1696\",\n        },\n\"What's the big deal about embedded key-value databases?\",\n\"2022-08-23 20:52:54\"],\n [{\n            'v': 1697,\n            'f': \"1697\",\n        },\n\"What are the best-designed personal blogs you\\u2019ve come across?\",\n\"2022-08-23 21:43:35\"],\n [{\n            'v': 1698,\n            'f': \"1698\",\n        },\n\"Issues with upstream DNS provider\",\n\"2022-08-23 22:00:45\"],\n [{\n            'v': 1699,\n            'f': \"1699\",\n        },\n\"The Futures of Inform\",\n\"2022-08-23 23:23:32\"],\n [{\n            'v': 1700,\n            'f': \"1700\",\n        },\n\"A Critique of SQL, 40 Years Later\",\n\"2022-08-24 10:38:22\"],\n [{\n            'v': 1701,\n            'f': \"1701\",\n        },\n\"Patent Trolls Inbound: Our First Lawsuit\",\n\"2022-08-24 12:48:57\"],\n [{\n            'v': 1702,\n            'f': \"1702\",\n        },\n\"Common tech jobs described as cabals of Mesoamerican wizards\",\n\"2022-08-24 12:50:40\"],\n [{\n            'v': 1703,\n            'f': \"1703\",\n        },\n\"How to pay your rent with your open source project\",\n\"2022-08-24 14:24:54\"],\n [{\n            'v': 1704,\n            'f': \"1704\",\n        },\n\"How SQLite scales read concurrency\",\n\"2022-08-24 14:36:11\"],\n [{\n            'v': 1705,\n            'f': \"1705\",\n        },\n\"Accounting for Developers, Part II\",\n\"2022-08-24 19:51:38\"],\n [{\n            'v': 1706,\n            'f': \"1706\",\n        },\n\"Rust \\u2013 A hard decision pays off\",\n\"2022-08-24 22:51:13\"],\n [{\n            'v': 1707,\n            'f': \"1707\",\n        },\n\"I want to dive into how to make search engines\",\n\"2022-08-25 13:06:19\"],\n [{\n            'v': 1708,\n            'f': \"1708\",\n        },\n\"PostgreSQL 14 Internals book \\u2013 Part II\",\n\"2022-08-25 14:15:37\"],\n [{\n            'v': 1709,\n            'f': \"1709\",\n        },\n\"Notes on Theory of Distributed Systems\",\n\"2022-08-25 14:16:48\"],\n [{\n            'v': 1710,\n            'f': \"1710\",\n        },\n\"The coming tsunami of fakery\",\n\"2022-08-25 14:16:48\"],\n [{\n            'v': 1711,\n            'f': \"1711\",\n        },\n\"Becoming a Centaur\",\n\"2022-08-25 23:13:10\"],\n [{\n            'v': 1712,\n            'f': \"1712\",\n        },\n\"Engineer distributes resume via IPv6 traceroute\",\n\"2022-08-26 16:33:44\"],\n [{\n            'v': 1713,\n            'f': \"1713\",\n        },\n\"Slack\\u2019s free plan change is causing an exodus\",\n\"2022-08-26 22:23:42\"],\n [{\n            'v': 1714,\n            'f': \"1714\",\n        },\n\"What to read to understand how economists think\",\n\"2022-08-27 12:57:05\"],\n [{\n            'v': 1715,\n            'f': \"1715\",\n        },\n\"A year of RISC-V adventures: embracing chaos in your software journey [video]\",\n\"2022-08-28 06:24:26\"],\n [{\n            'v': 1716,\n            'f': \"1716\",\n        },\n\"What book changed your life?\",\n\"2022-08-28 08:31:36\"],\n [{\n            'v': 1717,\n            'f': \"1717\",\n        },\n\"Structured Concurrency\",\n\"2022-08-28 08:32:29\"],\n [{\n            'v': 1718,\n            'f': \"1718\",\n        },\n\"How the Consumer Computer Is Consuming Computing\",\n\"2022-08-29 09:03:07\"],\n [{\n            'v': 1719,\n            'f': \"1719\",\n        },\n\"Bayes Rules \\u2013 An Introduction to Applied Bayesian Modeling\",\n\"2022-08-29 16:16:27\"],\n [{\n            'v': 1720,\n            'f': \"1720\",\n        },\n\"Why are you so busy?\",\n\"2022-08-29 22:17:34\"],\n [{\n            'v': 1721,\n            'f': \"1721\",\n        },\n\"Bloom Filters: More than a space-efficient hashmap\",\n\"2022-08-30 02:05:17\"],\n [{\n            'v': 1722,\n            'f': \"1722\",\n        },\n\"Single-person creations that have stood the test of time?\",\n\"2022-08-30 04:42:14\"],\n [{\n            'v': 1723,\n            'f': \"1723\",\n        },\n\"Tips for Developers Who Want to Build a SaaS Startup\",\n\"2022-08-30 05:59:31\"],\n [{\n            'v': 1724,\n            'f': \"1724\",\n        },\n\"How do you get side gigs?\",\n\"2022-08-30 11:19:57\"],\n [{\n            'v': 1725,\n            'f': \"1725\",\n        },\n\"Understanding Google\\u2019s File System\",\n\"2022-08-30 15:31:58\"],\n [{\n            'v': 1726,\n            'f': \"1726\",\n        },\n\"Be good-argument-driven, not data-driven\",\n\"2022-08-30 15:45:51\"],\n [{\n            'v': 1727,\n            'f': \"1727\",\n        },\n\"Mining Bitcoin with pencil and paper: 0.67 hashes per day\",\n\"2022-08-31 01:02:33\"],\n [{\n            'v': 1728,\n            'f': \"1728\",\n        },\n\"chaosphere2112's comments\",\n\"2022-08-31 01:02:33\"],\n [{\n            'v': 1729,\n            'f': \"1729\",\n        },\n\"HashiCorp\\u2019s multi-product strategy\",\n\"2022-08-31 01:06:20\"],\n [{\n            'v': 1730,\n            'f': \"1730\",\n        },\n\"Building apps in minutes, not months\",\n\"2022-08-31 01:11:49\"],\n [{\n            'v': 1731,\n            'f': \"1731\",\n        },\n\"Goodreads plans to retire API access, disables existing API keys\",\n\"2022-08-31 01:22:17\"],\n [{\n            'v': 1732,\n            'f': \"1732\",\n        },\n\"Want to found a startup? Work at one first\",\n\"2022-08-31 10:35:15\"],\n [{\n            'v': 1733,\n            'f': \"1733\",\n        },\n\"Do you use SSH certificates (not mere public-key authentication)?\",\n\"2022-08-31 11:26:36\"],\n [{\n            'v': 1734,\n            'f': \"1734\",\n        },\n\"Building a fullstack app with Flask and HTMx\",\n\"2022-08-31 13:56:09\"],\n [{\n            'v': 1735,\n            'f': \"1735\",\n        },\n\"Where Did Architecture Go?\",\n\"2022-09-01 00:56:18\"],\n [{\n            'v': 1736,\n            'f': \"1736\",\n        },\n\"Cognitive loads in programming\",\n\"2022-09-01 02:07:41\"],\n [{\n            'v': 1737,\n            'f': \"1737\",\n        },\n\"A Simple Entity Component System\",\n\"2022-09-01 02:07:42\"],\n [{\n            'v': 1738,\n            'f': \"1738\",\n        },\n\"Offline Algorithms in Low-Frequency Trading\",\n\"2022-09-01 02:23:04\"],\n [{\n            'v': 1739,\n            'f': \"1739\",\n        },\n\"Lambda the Ultimate is now running in a new, more stable environment\",\n\"2022-09-01 02:28:48\"],\n [{\n            'v': 1740,\n            'f': \"1740\",\n        },\n\"Some ways to get better at debugging\",\n\"2022-09-01 02:28:49\"],\n [{\n            'v': 1741,\n            'f': \"1741\",\n        },\n\"Software engineering topics I changed my mind on\",\n\"2022-09-01 02:28:50\"],\n [{\n            'v': 1742,\n            'f': \"1742\",\n        },\n\"Dark Patterns at Scale: Findings from a Crawl of 11K Shopping Websites\",\n\"2022-09-01 08:02:24\"],\n [{\n            'v': 1743,\n            'f': \"1743\",\n        },\n\"What ORMs have taught me: just learn SQL\",\n\"2022-09-02 00:48:04\"],\n [{\n            'v': 1744,\n            'f': \"1744\",\n        },\n\"Data science is different now\",\n\"2022-09-02 00:48:09\"],\n [{\n            'v': 1745,\n            'f': \"1745\",\n        },\n\"Advice on Transitioning from Data Scientist to ML Ops Engineer\",\n\"2022-09-02 00:48:26\"],\n [{\n            'v': 1746,\n            'f': \"1746\",\n        },\n\"Mastery with SQL: Learn Modern SQL with Postgres\",\n\"2022-09-02 06:21:58\"],\n [{\n            'v': 1747,\n            'f': \"1747\",\n        },\n\"Open-source infra for building embedded data pipelines\",\n\"2022-09-02 06:23:50\"],\n [{\n            'v': 1748,\n            'f': \"1748\",\n        },\n\"I'm a terrible developer, what now?\",\n\"2022-09-02 06:44:14\"],\n [{\n            'v': 1749,\n            'f': \"1749\",\n        },\n\"One Serverless Principle to Rule Them All: Idempotency [video]\",\n\"2022-09-02 12:53:37\"],\n [{\n            'v': 1750,\n            'f': \"1750\",\n        },\n\"The forty-year programmer\",\n\"2022-09-02 13:55:12\"],\n [{\n            'v': 1751,\n            'f': \"1751\",\n        },\n\"Countering the achievement society\",\n\"2022-09-03 06:57:38\"],\n [{\n            'v': 1752,\n            'f': \"1752\",\n        },\n\"A Short Chronology of Deep Learning for Tabular Data\",\n\"2022-09-04 08:37:08\"],\n [{\n            'v': 1753,\n            'f': \"1753\",\n        },\n\"I tricked myself into working out 3 times per week\",\n\"2022-09-04 16:26:03\"],\n [{\n            'v': 1754,\n            'f': \"1754\",\n        },\n\"After self-hosting my email for twenty-three years I have thrown in the towel\",\n\"2022-09-04 17:28:40\"],\n [{\n            'v': 1755,\n            'f': \"1755\",\n        },\n\"Zstandard \\u2013 Real-time data compression algorithm\",\n\"2022-09-04 18:12:44\"],\n [{\n            'v': 1756,\n            'f': \"1756\",\n        },\n\"North Korean Tactics\",\n\"2022-09-04 20:13:46\"],\n [{\n            'v': 1757,\n            'f': \"1757\",\n        },\n\"Shopify's Data Science and Engineering Foundations\",\n\"2022-09-04 20:13:47\"],\n [{\n            'v': 1758,\n            'f': \"1758\",\n        },\n\"Bad Data and Data Engineering: Dissecting Google Play Music Takeout Data\",\n\"2022-09-04 20:13:48\"],\n [{\n            'v': 1759,\n            'f': \"1759\",\n        },\n\"Scraping data from an app: real world example\",\n\"2022-09-04 20:20:58\"],\n [{\n            'v': 1760,\n            'f': \"1760\",\n        },\n\"Why being an effective environmentalist can often feel like being a bad one\",\n\"2022-09-05 21:16:03\"],\n [{\n            'v': 1761,\n            'f': \"1761\",\n        },\n\"WakaQ - a Python distributed task queue\",\n\"2022-09-05 22:03:39\"],\n [{\n            'v': 1762,\n            'f': \"1762\",\n        },\n\"All poverty is energy poverty\",\n\"2022-09-05 22:43:07\"],\n [{\n            'v': 1763,\n            'f': \"1763\",\n        },\n\"Do you use foreign keys in relational databases?\",\n\"2022-09-06 02:15:57\"],\n [{\n            'v': 1764,\n            'f': \"1764\",\n        },\n\"What Should You Work On?\",\n\"2022-09-06 14:27:32\"],\n [{\n            'v': 1765,\n            'f': \"1765\",\n        },\n\"Is eval evil? Just-in-time compiling\",\n\"2022-09-06 16:46:39\"],\n [{\n            'v': 1766,\n            'f': \"1766\",\n        },\n\"PGM Indexes: Learned indexes that match B-tree performance with 83x less space\",\n\"2022-09-06 16:47:02\"],\n [{\n            'v': 1767,\n            'f': \"1767\",\n        },\n\"Future Plans for Autotools\",\n\"2022-09-06 16:48:09\"],\n [{\n            'v': 1768,\n            'f': \"1768\",\n        },\n\"CS 168: The Modern Algorithmic Toolbox, Spring 2022\",\n\"2022-09-06 17:56:36\"],\n [{\n            'v': 1769,\n            'f': \"1769\",\n        },\n\"The Lost Art of System Administration\",\n\"2022-09-06 17:56:37\"],\n [{\n            'v': 1770,\n            'f': \"1770\",\n        },\n\"Why is Kubernetes getting so popular?\",\n\"2022-09-07 00:36:17\"],\n [{\n            'v': 1771,\n            'f': \"1771\",\n        },\n\"Kubernetes by Example\",\n\"2022-09-07 02:23:53\"],\n [{\n            'v': 1772,\n            'f': \"1772\",\n        },\n\"Common mistakes using Kubernetes\",\n\"2022-09-07 02:24:07\"],\n [{\n            'v': 1773,\n            'f': \"1773\",\n        },\n\"Kubernetes Failure Stories\",\n\"2022-09-07 02:24:09\"],\n [{\n            'v': 1774,\n            'f': \"1774\",\n        },\n\"Kubernetes is a red flag signalling premature optimisation\",\n\"2022-09-07 02:24:11\"],\n [{\n            'v': 1775,\n            'f': \"1775\",\n        },\n\"A Gentle introduction to Kubernetes with more than just the basics\",\n\"2022-09-07 02:24:15\"],\n [{\n            'v': 1776,\n            'f': \"1776\",\n        },\n\"Maybe You Don't Need Kubernetes\",\n\"2022-09-07 02:24:21\"],\n [{\n            'v': 1777,\n            'f': \"1777\",\n        },\n\"Kubernetes for personal projects? No thanks\",\n\"2022-09-07 02:24:24\"],\n [{\n            'v': 1778,\n            'f': \"1778\",\n        },\n\"If Kubernetes is the solution, why are there so many DevOps jobs?\",\n\"2022-09-07 02:24:26\"],\n [{\n            'v': 1779,\n            'f': \"1779\",\n        },\n\"Reasons Kubernetes is so complex\",\n\"2022-09-07 02:24:31\"],\n [{\n            'v': 1780,\n            'f': \"1780\",\n        },\n\"The Cult of Kubernetes\",\n\"2022-09-07 02:24:39\"],\n [{\n            'v': 1781,\n            'f': \"1781\",\n        },\n\"Kubernetes at GitHub\",\n\"2022-09-07 02:24:43\"],\n [{\n            'v': 1782,\n            'f': \"1782\",\n        },\n\"Scann: Scalable Nearest Neighbors\",\n\"2022-09-07 02:24:50\"],\n [{\n            'v': 1783,\n            'f': \"1783\",\n        },\n\"Verilator: Fast, Free Verilog HDL Simulator\",\n\"2022-09-07 02:24:52\"],\n [{\n            'v': 1784,\n            'f': \"1784\",\n        },\n\"\\u201cLet\\u2019s use Kubernetes.\\u201d Now you have eight problems\",\n\"2022-09-07 02:24:55\"],\n [{\n            'v': 1785,\n            'f': \"1785\",\n        },\n\"Excuse me but why are you eating so many frogs\",\n\"2022-09-07 06:02:53\"],\n [{\n            'v': 1786,\n            'f': \"1786\",\n        },\n\"UDP vs TCP\",\n\"2022-09-07 17:18:00\"],\n [{\n            'v': 1787,\n            'f': \"1787\",\n        },\n\"Software Architecture Patterns: 5 minute read\",\n\"2022-09-07 21:18:54\"],\n [{\n            'v': 1788,\n            'f': \"1788\",\n        },\n\"What to read to understand central banking\",\n\"2022-09-08 05:09:45\"],\n [{\n            'v': 1789,\n            'f': \"1789\",\n        },\n\"The Changes for the 2nd Edition of \\u201cCode\\u201d\",\n\"2022-09-08 07:31:35\"],\n [{\n            'v': 1790,\n            'f': \"1790\",\n        },\n\"I Got Banned for Life from Airbnb\",\n\"2022-09-08 08:41:47\"],\n [{\n            'v': 1791,\n            'f': \"1791\",\n        },\n\"Transitioning from Docker to Podman\",\n\"2022-09-08 12:22:34\"],\n [{\n            'v': 1792,\n            'f': \"1792\",\n        },\n\"Best practices around creating production ready web apps with Docker Compose\",\n\"2022-09-08 12:22:47\"],\n [{\n            'v': 1793,\n            'f': \"1793\",\n        },\n\"We Don\\u2019t Use Docker\",\n\"2022-09-08 12:22:49\"],\n [{\n            'v': 1794,\n            'f': \"1794\",\n        },\n\"My VM is lighter (and safer) than your container\",\n\"2022-09-08 12:26:46\"],\n [{\n            'v': 1795,\n            'f': \"1795\",\n        },\n\"Protohackers: Server Programming Challenge\",\n\"2022-09-08 15:43:49\"],\n [{\n            'v': 1796,\n            'f': \"1796\",\n        },\n\"Hacker News with a twist\",\n\"2022-09-08 17:50:25\"],\n [{\n            'v': 1797,\n            'f': \"1797\",\n        },\n\"Python type hints are Turing complete\",\n\"2022-09-09 13:56:55\"],\n [{\n            'v': 1798,\n            'f': \"1798\",\n        },\n\"A serverless architecture for high performance financial modelling\",\n\"2022-09-09 15:22:07\"],\n [{\n            'v': 1799,\n            'f': \"1799\",\n        },\n\"Graydon Hoare: 21 compilers and 3 orders of magnitude in 60 minutes\",\n\"2022-09-09 15:33:57\"],\n [{\n            'v': 1800,\n            'f': \"1800\",\n        },\n\"The Next Chapter for Learning on YouTube\",\n\"2022-09-09 19:25:01\"],\n [{\n            'v': 1801,\n            'f': \"1801\",\n        },\n\"Best empirical papers on software development?\",\n\"2022-09-10 10:59:09\"],\n [{\n            'v': 1802,\n            'f': \"1802\",\n        },\n\"Which books do you consider real gems in your field of work/study?\",\n\"2022-09-10 12:35:03\"],\n [{\n            'v': 1803,\n            'f': \"1803\",\n        },\n\"No, I am referring to the virtual machine defined by the C language.\",\n\"2022-09-10 12:35:17\"],\n [{\n            'v': 1804,\n            'f': \"1804\",\n        },\n\"Machine learning won't solve natural language understanding\",\n\"2022-09-10 12:35:26\"],\n [{\n            'v': 1805,\n            'f': \"1805\",\n        },\n\"Cloudflare Warp\",\n\"2022-09-10 17:57:11\"],\n [{\n            'v': 1806,\n            'f': \"1806\",\n        },\n\"Zoho became a $1B company without external investment\",\n\"2022-09-10 19:26:46\"],\n [{\n            'v': 1807,\n            'f': \"1807\",\n        },\n\"Living Like Nothing Matters\",\n\"2022-09-10 21:07:26\"],\n [{\n            'v': 1808,\n            'f': \"1808\",\n        },\n\"Solopreneurs, how do you maintain a professional/social network?\",\n\"2022-09-11 01:09:56\"],\n [{\n            'v': 1809,\n            'f': \"1809\",\n        },\n\"The case for building something wonderful alone\",\n\"2022-09-11 02:05:43\"],\n [{\n            'v': 1810,\n            'f': \"1810\",\n        },\n\"Discussion: structured, leveled logging\",\n\"2022-09-11 15:44:58\"],\n [{\n            'v': 1811,\n            'f': \"1811\",\n        },\n\"What's the best source code you've read?\",\n\"2022-09-11 18:27:02\"],\n [{\n            'v': 1812,\n            'f': \"1812\",\n        },\n\"What are some of the best documentaries you've seen?\",\n\"2022-09-11 18:41:34\"],\n [{\n            'v': 1813,\n            'f': \"1813\",\n        },\n\"Jane Street Market Prediction ($100k Kaggle competition)\",\n\"2022-09-11 23:53:44\"],\n [{\n            'v': 1814,\n            'f': \"1814\",\n        },\n\"The new silent majority: People who don't tweet\",\n\"2022-09-11 23:55:15\"],\n [{\n            'v': 1815,\n            'f': \"1815\",\n        },\n\"BookWyrm is a federated Goodreads replacement\",\n\"2022-09-12 00:07:11\"],\n [{\n            'v': 1816,\n            'f': \"1816\",\n        },\n\"On YouTube\\u2019s recommendation system\",\n\"2022-09-12 00:08:42\"],\n [{\n            'v': 1817,\n            'f': \"1817\",\n        },\n\"Vim tricks\",\n\"2022-09-12 18:03:02\"],\n [{\n            'v': 1818,\n            'f': \"1818\",\n        },\n\"What makes a senior engineer? Writing software vs. building systems\",\n\"2022-09-13 01:05:47\"],\n [{\n            'v': 1819,\n            'f': \"1819\",\n        },\n\"A deep dive into the official Docker image for Python\",\n\"2022-09-13 01:05:48\"],\n [{\n            'v': 1820,\n            'f': \"1820\",\n        },\n\"Optimizing Docker image size and why it matters\",\n\"2022-09-13 01:19:26\"],\n [{\n            'v': 1821,\n            'f': \"1821\",\n        },\n\"Non-Obvious Docker Uses\",\n\"2022-09-13 01:22:47\"],\n [{\n            'v': 1822,\n            'f': \"1822\",\n        },\n\"Docker, Kubernetes, Terraform, and AWS crash course series\",\n\"2022-09-13 01:23:13\"],\n [{\n            'v': 1823,\n            'f': \"1823\",\n        },\n\"Docker Compose best practices for dev and prod\",\n\"2022-09-13 01:23:18\"],\n [{\n            'v': 1824,\n            'f': \"1824\",\n        },\n\"Data engineering learning path with recommended resources\",\n\"2022-09-13 01:23:44\"],\n [{\n            'v': 1825,\n            'f': \"1825\",\n        },\n\"Bocker \\u2013 Docker implemented in 100 lines of bash\",\n\"2022-09-13 01:24:06\"],\n [{\n            'v': 1826,\n            'f': \"1826\",\n        },\n\"The Little Prover\",\n\"2022-09-13 10:02:51\"],\n [{\n            'v': 1827,\n            'f': \"1827\",\n        },\n\"What are examples of companies dying due to many people quitting?\",\n\"2022-09-14 00:05:12\"],\n [{\n            'v': 1828,\n            'f': \"1828\",\n        },\n\"Speeding up sort performance in Postgres 15\",\n\"2022-09-14 00:14:14\"],\n [{\n            'v': 1829,\n            'f': \"1829\",\n        },\n\"PBS SpaceTime\",\n\"2022-09-14 00:14:14\"],\n [{\n            'v': 1830,\n            'f': \"1830\",\n        },\n\"Debugging the Postgres query planner\",\n\"2022-09-14 07:13:38\"],\n [{\n            'v': 1831,\n            'f': \"1831\",\n        },\n\"Privacy vs. \\u201cI have nothing to hide\\u201d\",\n\"2022-09-14 12:02:00\"],\n [{\n            'v': 1832,\n            'f': \"1832\",\n        },\n\"StackAid \\u2013 Fund all your open-source dependencies\",\n\"2022-09-14 14:35:11\"],\n [{\n            'v': 1833,\n            'f': \"1833\",\n        },\n\"Scikit-Learn Version 1.0\",\n\"2022-09-14 17:23:38\"],\n [{\n            'v': 1834,\n            'f': \"1834\",\n        },\n\"How percentile approximation works and why it's more useful than averages\",\n\"2022-09-14 18:09:07\"],\n [{\n            'v': 1835,\n            'f': \"1835\",\n        },\n\"Growing Neural Cellular Automata\",\n\"2022-09-14 18:09:35\"],\n [{\n            'v': 1836,\n            'f': \"1836\",\n        },\n\"How much should you be earning as a Data Engineer?\",\n\"2022-09-15 02:08:14\"],\n [{\n            'v': 1837,\n            'f': \"1837\",\n        },\n\"Joy of Elixir\",\n\"2022-09-15 11:11:42\"],\n [{\n            'v': 1838,\n            'f': \"1838\",\n        },\n\"Pop culture has become an oligopoly\",\n\"2022-09-15 21:10:11\"],\n [{\n            'v': 1839,\n            'f': \"1839\",\n        },\n\"Reasons you aren't updating your personal site\",\n\"2022-09-16 08:13:00\"],\n [{\n            'v': 1840,\n            'f': \"1840\",\n        },\n\"Use one big server\",\n\"2022-09-16 16:43:08\"],\n [{\n            'v': 1841,\n            'f': \"1841\",\n        },\n\"20B-parameter Alexa model sets new marks in few-shot learning\",\n\"2022-09-16 16:51:43\"],\n [{\n            'v': 1842,\n            'f': \"1842\",\n        },\n\"Software Engineering at Google\",\n\"2022-09-17 01:37:48\"],\n [{\n            'v': 1843,\n            'f': \"1843\",\n        },\n\"How to validate a startup idea whilst employed?\",\n\"2022-09-17 06:23:07\"],\n [{\n            'v': 1844,\n            'f': \"1844\",\n        },\n\"How to disagree with someone more powerful than you\",\n\"2022-09-17 14:47:33\"],\n [{\n            'v': 1845,\n            'f': \"1845\",\n        },\n\"What will you do with the stories entrusted to you?\",\n\"2022-09-18 01:27:24\"],\n [{\n            'v': 1846,\n            'f': \"1846\",\n        },\n\"Inherited the worst code and tech team I have ever seen. How to fix it?\",\n\"2022-09-18 01:51:13\"],\n [{\n            'v': 1847,\n            'f': \"1847\",\n        },\n\"My productivity system\",\n\"2022-09-18 10:37:26\"],\n [{\n            'v': 1848,\n            'f': \"1848\",\n        },\n\"What brought down Airlift, Pakistan's first would-be unicorn\",\n\"2022-09-18 12:43:55\"],\n [{\n            'v': 1849,\n            'f': \"1849\",\n        },\n\"The Business of SaaS\",\n\"2022-09-19 00:23:54\"],\n [{\n            'v': 1850,\n            'f': \"1850\",\n        },\n\"Introduction to Apache Airflow\",\n\"2022-09-19 06:54:23\"],\n [{\n            'v': 1851,\n            'f': \"1851\",\n        },\n\"Most of what you read on the internet is written by insane people\",\n\"2022-09-19 13:09:56\"],\n [{\n            'v': 1852,\n            'f': \"1852\",\n        },\n\"The Various Kinds of IO \\u2013 Blocking, Non-Blocking, Multiplexed and Async\",\n\"2022-09-20 00:28:11\"],\n [{\n            'v': 1853,\n            'f': \"1853\",\n        },\n\"Name 3-5 books that had the most impact on your career and knowledge?\",\n\"2022-09-20 00:38:33\"],\n [{\n            'v': 1854,\n            'f': \"1854\",\n        },\n\"How do you switch between programming languages?\",\n\"2022-09-20 00:38:34\"],\n [{\n            'v': 1855,\n            'f': \"1855\",\n        },\n\"What we learned after I deleted the main production database by mistake\",\n\"2022-09-20 03:11:50\"],\n [{\n            'v': 1856,\n            'f': \"1856\",\n        },\n\"Developers spend most of their time figuring the system out\",\n\"2022-09-20 10:11:29\"],\n [{\n            'v': 1857,\n            'f': \"1857\",\n        },\n\"Concurrency in Python: CSP and Coroutines\",\n\"2022-09-20 10:11:30\"],\n [{\n            'v': 1858,\n            'f': \"1858\",\n        },\n\"Jqp: A TUI playground for exploring jq\",\n\"2022-09-20 10:11:30\"],\n [{\n            'v': 1859,\n            'f': \"1859\",\n        },\n\"Your computer is a distributed system\",\n\"2022-09-20 10:11:30\"],\n [{\n            'v': 1860,\n            'f': \"1860\",\n        },\n\"How does your company handle late running projects?\",\n\"2022-09-20 13:03:46\"],\n [{\n            'v': 1861,\n            'f': \"1861\",\n        },\n\"What I\\u2019ve learned from users\",\n\"2022-09-20 13:13:50\"],\n [{\n            'v': 1862,\n            'f': \"1862\",\n        },\n\"Somebody implemented something I wrote a blog about\",\n\"2022-09-20 13:22:48\"],\n [{\n            'v': 1863,\n            'f': \"1863\",\n        },\n\"Watching 'Spirited Away' again, and again\",\n\"2022-09-20 22:52:52\"],\n [{\n            'v': 1864,\n            'f': \"1864\",\n        },\n\"Whisper \\u2013 open source speech recognition by OpenAI\",\n\"2022-09-21 16:16:16\"],\n [{\n            'v': 1865,\n            'f': \"1865\",\n        },\n\"AWS vs. GCP reliability is wildly different\",\n\"2022-09-21 20:29:53\"],\n [{\n            'v': 1866,\n            'f': \"1866\",\n        },\n\"Which books you have read till now that were worth investing time in?\",\n\"2022-09-22 06:31:44\"],\n [{\n            'v': 1867,\n            'f': \"1867\",\n        },\n\"Rocketry \\u2013 Statement-based scheduling framework for Python\",\n\"2022-09-22 06:44:30\"],\n [{\n            'v': 1868,\n            'f': \"1868\",\n        },\n\"Using an ETL framework vs. writing yet another ETL script\",\n\"2022-09-22 07:01:15\"],\n [{\n            'v': 1869,\n            'f': \"1869\",\n        },\n\"Building real-time ETL pipelines with Apache Kafka\",\n\"2022-09-22 07:01:16\"],\n [{\n            'v': 1870,\n            'f': \"1870\",\n        },\n\"Beyond CRUD and ETL \\u2013 How to Grow Professionally?\",\n\"2022-09-22 08:44:58\"],\n [{\n            'v': 1871,\n            'f': \"1871\",\n        },\n\"Engineers Shouldn\\u2019t Write ETL\",\n\"2022-09-22 08:44:58\"],\n [{\n            'v': 1872,\n            'f': \"1872\",\n        },\n\"Issues we've encountered while building a Kafka based data processing pipeline\",\n\"2022-09-22 08:44:59\"],\n [{\n            'v': 1873,\n            'f': \"1873\",\n        },\n\"Streamz: Python pipelines to manage continuous streams of data\",\n\"2022-09-22 08:44:59\"],\n [{\n            'v': 1874,\n            'f': \"1874\",\n        },\n\"Billions of Messages a Day \\u2013 Yelp's Real-Time Data Pipeline\",\n\"2022-09-22 08:45:19\"],\n [{\n            'v': 1875,\n            'f': \"1875\",\n        },\n\"MeiliSearch: A Minimalist Full-Text Search Engine\",\n\"2022-09-22 08:48:20\"],\n [{\n            'v': 1876,\n            'f': \"1876\",\n        },\n\"Building a full-text search engine in 150 lines of Python code\",\n\"2022-09-22 08:48:24\"],\n [{\n            'v': 1877,\n            'f': \"1877\",\n        },\n\"Let's build a full-text search engine\",\n\"2022-09-22 08:48:26\"],\n [{\n            'v': 1878,\n            'f': \"1878\",\n        },\n\"Scala Data Pipelines for Music Recommendations at Spotify\",\n\"2022-09-22 08:49:35\"],\n [{\n            'v': 1879,\n            'f': \"1879\",\n        },\n\"Building a Real-Time Bike-Share Data Pipeline with StreamSets, Kafka and MapD\",\n\"2022-09-22 08:49:35\"],\n [{\n            'v': 1880,\n            'f': \"1880\",\n        },\n\"How Pippa Built a Data Pipeline for 400M Podcast Listens\",\n\"2022-09-22 08:49:38\"],\n [{\n            'v': 1881,\n            'f': \"1881\",\n        },\n\"Any pragmatic guides to building large data pipelines?\",\n\"2022-09-22 08:49:38\"],\n [{\n            'v': 1882,\n            'f': \"1882\",\n        },\n\"Building a Forex Data Pipeline with Python, Airflow, Postgres and Redis\",\n\"2022-09-22 08:49:39\"],\n [{\n            'v': 1883,\n            'f': \"1883\",\n        },\n\"Airflow 101: Automating your workflow for complex data pipelines\",\n\"2022-09-22 08:49:39\"],\n [{\n            'v': 1884,\n            'f': \"1884\",\n        },\n\"ETL Data Pipelines to Google BigQuery\",\n\"2022-09-22 08:49:43\"],\n [{\n            'v': 1885,\n            'f': \"1885\",\n        },\n\"Data Pipelines at Lyft\",\n\"2022-09-22 08:49:44\"],\n [{\n            'v': 1886,\n            'f': \"1886\",\n        },\n\"End-to-end implementation of a machine learning pipeline\",\n\"2022-09-22 08:49:44\"],\n [{\n            'v': 1887,\n            'f': \"1887\",\n        },\n\"Python generators: Neatly manage stream processing pipelines for medium data\",\n\"2022-09-22 08:49:44\"],\n [{\n            'v': 1888,\n            'f': \"1888\",\n        },\n\"Hacker News\",\n\"2022-09-22 08:49:44\"],\n [{\n            'v': 1889,\n            'f': \"1889\",\n        },\n\"Netflix's Metaflow: Reproducible machine learning pipelines\",\n\"2022-09-22 08:49:45\"],\n [{\n            'v': 1890,\n            'f': \"1890\",\n        },\n\"Fast analysis with DuckDB and Pyarrow\",\n\"2022-09-22 08:49:46\"],\n [{\n            'v': 1891,\n            'f': \"1891\",\n        },\n\"Postgres Full-Text Search: A search engine in a database\",\n\"2022-09-22 08:50:03\"],\n [{\n            'v': 1892,\n            'f': \"1892\",\n        },\n\"The Psychology of not wanting to know\",\n\"2022-09-22 09:28:31\"],\n [{\n            'v': 1893,\n            'f': \"1893\",\n        },\n\"Rust 2024 the Year of Everywhere?\",\n\"2022-09-22 23:28:08\"],\n [{\n            'v': 1894,\n            'f': \"1894\",\n        },\n\"Software I\\u2019m thankful for\",\n\"2022-09-23 16:02:47\"],\n [{\n            'v': 1895,\n            'f': \"1895\",\n        },\n\"Technology Choices for My SaaS in Retrospect\",\n\"2022-09-24 00:05:32\"],\n [{\n            'v': 1896,\n            'f': \"1896\",\n        },\n\"Aging programmer\",\n\"2022-09-24 12:35:22\"],\n [{\n            'v': 1897,\n            'f': \"1897\",\n        },\n\"Want cleaner code? Use the rule of six\",\n\"2022-09-24 14:39:58\"],\n [{\n            'v': 1898,\n            'f': \"1898\",\n        },\n\"Software engineering changed my life\",\n\"2022-09-24 16:32:15\"],\n [{\n            'v': 1899,\n            'f': \"1899\",\n        },\n\"Airflow's Problem\",\n\"2022-09-25 05:25:56\"],\n [{\n            'v': 1900,\n            'f': \"1900\",\n        },\n\"Dabbling with Dagster vs. Airflow\",\n\"2022-09-25 05:25:58\"],\n [{\n            'v': 1901,\n            'f': \"1901\",\n        },\n\"Understanding Awk\",\n\"2022-09-25 05:26:11\"],\n [{\n            'v': 1902,\n            'f': \"1902\",\n        },\n\"Lessons learned from running Apache Airflow at scale\",\n\"2022-09-25 06:13:06\"],\n [{\n            'v': 1903,\n            'f': \"1903\",\n        },\n\"How Netflix keeps its data infrastructure cost-effective\",\n\"2022-09-25 06:34:40\"],\n [{\n            'v': 1904,\n            'f': \"1904\",\n        },\n\"GitHub Actions Pitfalls\",\n\"2022-09-25 10:32:04\"],\n [{\n            'v': 1905,\n            'f': \"1905\",\n        },\n\"Not Mysticizing System Dynamics\",\n\"2022-09-25 10:54:03\"],\n [{\n            'v': 1906,\n            'f': \"1906\",\n        },\n\"Do you think many posts don't get the front page attention they deserve?\",\n\"2022-09-25 11:31:43\"],\n [{\n            'v': 1907,\n            'f': \"1907\",\n        },\n\"Analysis of Apple Watch running data\",\n\"2022-09-25 13:23:15\"],\n [{\n            'v': 1908,\n            'f': \"1908\",\n        },\n\"Resumes and cover letters: An extension school resource\",\n\"2022-09-26 08:58:21\"],\n [{\n            'v': 1909,\n            'f': \"1909\",\n        },\n\"Open Source Bait and Switch\",\n\"2022-09-26 11:59:54\"],\n [{\n            'v': 1910,\n            'f': \"1910\",\n        },\n\"SaaS services behind a startup\",\n\"2022-09-26 12:47:00\"],\n [{\n            'v': 1911,\n            'f': \"1911\",\n        },\n\"Why we moved from AWS RDS to Postgres in Kubernetes\",\n\"2022-09-26 18:15:00\"],\n [{\n            'v': 1912,\n            'f': \"1912\",\n        },\n\"Deployment and infrastructure for a bootstrapped webapp with 150k monthly visits\",\n\"2022-09-26 19:08:21\"],\n [{\n            'v': 1913,\n            'f': \"1913\",\n        },\n\"A CTO should be technical\",\n\"2022-09-26 19:19:31\"],\n [{\n            'v': 1914,\n            'f': \"1914\",\n        },\n\"A Framework for Engineering Managers\",\n\"2022-09-27 11:24:10\"],\n [{\n            'v': 1915,\n            'f': \"1915\",\n        },\n\"Workerd: Open-source Cloudflare workers runtime\",\n\"2022-09-27 13:01:05\"],\n [{\n            'v': 1916,\n            'f': \"1916\",\n        },\n\"WhatsApp Remote Code Execution in Video Call\",\n\"2022-09-27 14:43:09\"],\n [{\n            'v': 1917,\n            'f': \"1917\",\n        },\n\"We reduced our server costs by moving away from AWS\",\n\"2022-09-28 13:47:39\"],\n [{\n            'v': 1918,\n            'f': \"1918\",\n        },\n\"Modern Serverless Job Schedulers\",\n\"2022-09-28 17:53:24\"],\n [{\n            'v': 1919,\n            'f': \"1919\",\n        },\n\"Learn Rust by implementing a SHA-1 hash cracker\",\n\"2022-09-29 14:50:19\"],\n [{\n            'v': 1920,\n            'f': \"1920\",\n        },\n\"Understanding Rust futures by going way too deep\",\n\"2022-09-29 15:59:05\"],\n [{\n            'v': 1921,\n            'f': \"1921\",\n        },\n\"Building Fast Interpreters in Rust\",\n\"2022-09-29 16:01:38\"],\n [{\n            'v': 1922,\n            'f': \"1922\",\n        },\n\"Implications of Rewriting a Browser Component in Rust\",\n\"2022-09-29 16:01:39\"],\n [{\n            'v': 1923,\n            'f': \"1923\",\n        },\n\"Weld: Accelerating numpy, scikit and pandas as much as 100x with Rust and LLVM\",\n\"2022-09-29 16:01:41\"],\n [{\n            'v': 1924,\n            'f': \"1924\",\n        },\n\"CityBound \\u2013 An open source city simulation game in Rust\",\n\"2022-09-29 16:01:43\"],\n [{\n            'v': 1925,\n            'f': \"1925\",\n        },\n\"The Protobuf Language Specification\",\n\"2022-09-29 16:01:45\"],\n [{\n            'v': 1926,\n            'f': \"1926\",\n        },\n\"Google is shutting down Stadia\",\n\"2022-09-29 16:17:10\"],\n [{\n            'v': 1927,\n            'f': \"1927\",\n        },\n\"Many indoor air quality sensor products are a scam\",\n\"2022-09-29 19:40:21\"],\n [{\n            'v': 1928,\n            'f': \"1928\",\n        },\n\"For me the next step after print debugging was adding an `import pdb; pdb.set_tr...\",\n\"2022-09-30 08:45:41\"],\n [{\n            'v': 1929,\n            'f': \"1929\",\n        },\n\"Kubernetes Security: 10 Best Practices from the Industry and Community\",\n\"2022-09-30 08:47:14\"],\n [{\n            'v': 1930,\n            'f': \"1930\",\n        },\n\"Select * from cloud\",\n\"2022-09-30 13:08:10\"],\n [{\n            'v': 1931,\n            'f': \"1931\",\n        },\n\"Citrix acquired and merged with Tibco for $16.5B\",\n\"2022-09-30 21:12:31\"],\n [{\n            'v': 1932,\n            'f': \"1932\",\n        },\n\"Why are plants green? To reduce the noise in photosynthesis\",\n\"2022-10-01 19:27:43\"],\n [{\n            'v': 1933,\n            'f': \"1933\",\n        },\n\"How to Reliably Scale Your Data Platform for High Volumes\",\n\"2022-10-02 12:43:38\"],\n [{\n            'v': 1934,\n            'f': \"1934\",\n        },\n\"Building our Data Platform: Why we have chosen Databricks over Snowflake\",\n\"2022-10-02 12:43:38\"],\n [{\n            'v': 1935,\n            'f': \"1935\",\n        },\n\"Uber\\u2019s Big Data Platform: 100+ Petabytes with Minute Latency\",\n\"2022-10-02 13:25:25\"],\n [{\n            'v': 1936,\n            'f': \"1936\",\n        },\n\"First make the change easy, then make the easy change\",\n\"2022-10-02 20:29:38\"],\n [{\n            'v': 1937,\n            'f': \"1937\",\n        },\n\"What is best way to do hands-on practice for system design?\",\n\"2022-10-03 10:05:30\"],\n [{\n            'v': 1938,\n            'f': \"1938\",\n        },\n\"Postgres WASM\",\n\"2022-10-03 14:25:58\"],\n [{\n            'v': 1939,\n            'f': \"1939\",\n        },\n\"Raft Is So Fetch: The Raft Consensus Algorithm Explained Through Mean Girls\",\n\"2022-10-03 17:48:19\"],\n [{\n            'v': 1940,\n            'f': \"1940\",\n        },\n\"The Fundamentals of Control Theory\",\n\"2022-10-03 17:51:25\"],\n [{\n            'v': 1941,\n            'f': \"1941\",\n        },\n\"Practical advises on recommendation systems in production\",\n\"2022-10-04 01:02:11\"],\n [{\n            'v': 1942,\n            'f': \"1942\",\n        },\n\"How fateful?\",\n\"2022-10-04 07:29:39\"],\n [{\n            'v': 1943,\n            'f': \"1943\",\n        },\n\"ClickHouse Cloud is now in Public Beta\",\n\"2022-10-04 14:10:17\"],\n [{\n            'v': 1944,\n            'f': \"1944\",\n        },\n\"Pg_squeeze: An extension to fix table bloat\",\n\"2022-10-04 15:25:59\"],\n [{\n            'v': 1945,\n            'f': \"1945\",\n        },\n\"PostgresML, now with analytics and project management\",\n\"2022-10-05 08:05:25\"],\n [{\n            'v': 1946,\n            'f': \"1946\",\n        },\n\"Classic SE Mistakes\",\n\"2022-10-06 04:57:37\"],\n [{\n            'v': 1947,\n            'f': \"1947\",\n        },\n\"Giving meaning to 100B analytics events a day with Kafka, Dataflow and BigQuery\",\n\"2022-10-06 11:05:43\"],\n [{\n            'v': 1948,\n            'f': \"1948\",\n        },\n\"Take Advantage of Git Rebase\",\n\"2022-10-06 13:07:48\"],\n [{\n            'v': 1949,\n            'f': \"1949\",\n        },\n\"Staff Engineer Archetypes\",\n\"2022-10-06 19:34:06\"],\n [{\n            'v': 1950,\n            'f': \"1950\",\n        },\n\"What's Your Biggest Regret?\",\n\"2022-10-07 08:06:57\"],\n [{\n            'v': 1951,\n            'f': \"1951\",\n        },\n\"The struggles of building a feed reader\",\n\"2022-10-07 11:01:39\"],\n [{\n            'v': 1952,\n            'f': \"1952\",\n        },\n\"Reality is just a game now\",\n\"2022-10-07 11:23:18\"],\n [{\n            'v': 1953,\n            'f': \"1953\",\n        },\n\"Cassandra at Apple: 1000s of Clusters, 300k Nodes, 100 PB\",\n\"2022-10-07 17:46:07\"],\n [{\n            'v': 1954,\n            'f': \"1954\",\n        },\n\"Gcloud storage: Faster data transfers for Cloud Storage\",\n\"2022-10-07 18:31:49\"],\n [{\n            'v': 1955,\n            'f': \"1955\",\n        },\n\"Medium-hard SQL interview questions\",\n\"2022-10-08 02:33:23\"],\n [{\n            'v': 1956,\n            'f': \"1956\",\n        },\n\"Teaching a cheap ethernet switch new tricks\",\n\"2022-10-08 14:58:19\"],\n [{\n            'v': 1957,\n            'f': \"1957\",\n        },\n\"I Listened to 1000 B2B SaaS Sales Calls\",\n\"2022-10-08 15:11:29\"],\n [{\n            'v': 1958,\n            'f': \"1958\",\n        },\n\"Leap: Neovim\\u2019s Answer to the Mouse\",\n\"2022-10-08 17:18:08\"],\n [{\n            'v': 1959,\n            'f': \"1959\",\n        },\n\"When to use memory safe languages\",\n\"2022-10-08 19:47:49\"],\n [{\n            'v': 1960,\n            'f': \"1960\",\n        },\n\"JSON Crack \\u2013 A tool that generates graph diagrams from JSON objects\",\n\"2022-10-08 21:50:54\"],\n [{\n            'v': 1961,\n            'f': \"1961\",\n        },\n\"Stop using utcnow and utcfromtimestamp\",\n\"2022-10-09 04:35:31\"],\n [{\n            'v': 1962,\n            'f': \"1962\",\n        },\n\"Take a break\",\n\"2022-10-09 09:12:51\"],\n [{\n            'v': 1963,\n            'f': \"1963\",\n        },\n\"One-liner for running queries against CSV files with SQLite\",\n\"2022-10-09 13:32:00\"],\n [{\n            'v': 1964,\n            'f': \"1964\",\n        },\n\"How to Become a Data Engineer in 2021\",\n\"2022-10-09 14:48:32\"],\n [{\n            'v': 1965,\n            'f': \"1965\",\n        },\n\"A lock-free, concurrent, generic queue in 32 bits\",\n\"2022-10-09 14:55:36\"],\n [{\n            'v': 1966,\n            'f': \"1966\",\n        },\n\"How to level up as a Data Engineer\",\n\"2022-10-09 14:56:13\"],\n [{\n            'v': 1967,\n            'f': \"1967\",\n        },\n\"Why Uber Engineering Switched from Postgres to MySQL\",\n\"2022-10-09 17:00:42\"],\n [{\n            'v': 1968,\n            'f': \"1968\",\n        },\n\"I built a site that lets users find playlists by songs they contain\",\n\"2022-10-10 11:30:21\"],\n [{\n            'v': 1969,\n            'f': \"1969\",\n        },\n\"How Wine works 101\",\n\"2022-10-10 21:43:26\"],\n [{\n            'v': 1970,\n            'f': \"1970\",\n        },\n\"Where can I see many examples of real companies' software architecture?\",\n\"2022-10-11 04:03:37\"],\n [{\n            'v': 1971,\n            'f': \"1971\",\n        },\n\"Leslie Lamport revolutionized computer science with math [video]\",\n\"2022-10-11 23:20:45\"]],\n        columns: [[\"number\", \"index\"], [\"string\", \"title\"], [\"string\", \"timestamp\"]],\n        columnOptions: [{\"width\": \"1px\", \"className\": \"index_column\"}],\n        rowsPerPage: 25,\n        helpUrl: \"https://colab.research.google.com/notebooks/data_table.ipynb\",\n        suppressOutputScrolling: true,\n        minimumWidth: undefined,\n      });\n    "
          },
          "metadata": {},
          "execution_count": 84
        }
      ]
    },
    {
      "cell_type": "markdown",
      "source": [
        "##### Creating Test Set"
      ],
      "metadata": {
        "id": "lz-QLuAWjR14"
      }
    },
    {
      "cell_type": "code",
      "source": [
        "validation_set = sessions_df.loc[sessions_df.timestamp < df_stories_new.timestamp.min()].copy()\n",
        "test_set = sessions_df.loc[sessions_df.timestamp >= df_stories_new.timestamp.min()].copy()"
      ],
      "metadata": {
        "id": "Dp5iA8UKjVHr"
      },
      "execution_count": null,
      "outputs": []
    },
    {
      "cell_type": "code",
      "source": [
        "validation_set.timestamp.max(), test_set.timestamp.min(), df_stories_new.timestamp.min()"
      ],
      "metadata": {
        "colab": {
          "base_uri": "https://localhost:8080/"
        },
        "id": "TLkgUphljex_",
        "outputId": "a40f4527-e310-434f-f1dc-e1471dc6ebee"
      },
      "execution_count": null,
      "outputs": [
        {
          "output_type": "execute_result",
          "data": {
            "text/plain": [
              "(Timestamp('2022-10-11 23:20:45'),\n",
              " Timestamp('2022-10-14 14:30:38'),\n",
              " '2022-10-14 00:01:15')"
            ]
          },
          "metadata": {},
          "execution_count": 88
        }
      ]
    },
    {
      "cell_type": "code",
      "source": [
        "test_data = df_stories_new.sort_values('timestamp', ignore_index=True)"
      ],
      "metadata": {
        "id": "azrn7vhSkfRt"
      },
      "execution_count": null,
      "outputs": []
    },
    {
      "cell_type": "code",
      "source": [
        "validation_set.to_csv('validation_set.csv', index=False)\n",
        "test_set.to_csv('test_set.csv', index=False)\n",
        "test_data.to_csv('test_data.csv', index=False)"
      ],
      "metadata": {
        "id": "Hxjhux1ojidA"
      },
      "execution_count": null,
      "outputs": []
    },
    {
      "cell_type": "code",
      "source": [
        "!du -h *.csv"
      ],
      "metadata": {
        "colab": {
          "base_uri": "https://localhost:8080/"
        },
        "id": "HhJLlmQHkOc-",
        "outputId": "b35b55ac-5fc7-42d6-c0e4-fcd126376c9c"
      },
      "execution_count": null,
      "outputs": [
        {
          "output_type": "stream",
          "name": "stdout",
          "text": [
            "404K\ttest_data.csv\n",
            "4.0K\ttest_set.csv\n",
            "128K\tvalidation_set.csv\n"
          ]
        }
      ]
    },
    {
      "cell_type": "code",
      "source": [
        "!head -n 3 *.csv"
      ],
      "metadata": {
        "colab": {
          "base_uri": "https://localhost:8080/"
        },
        "id": "oaH6g52tkSru",
        "outputId": "1c4254c3-de95-4a67-fcf3-55454de9e5fc"
      },
      "execution_count": null,
      "outputs": [
        {
          "output_type": "stream",
          "name": "stdout",
          "text": [
            "==> test_data.csv <==\n",
            "title,timestamp\n",
            "The comparative recency of the proximal ancestors of SARS-CoV-1 and SARS-CoV-2,2022-10-14 00:01:15\n",
            "A new algorithm predicts response to Sertraline with 83 percent accuracy,2022-10-14 00:01:41\n",
            "\n",
            "==> test_set.csv <==\n",
            "title,timestamp\n",
            "The Deadlock Empire: A game that teaches locking and concurrency,2022-10-14 14:30:38\n",
            "Implementing Hash Tables in C,2022-10-15 06:13:23\n",
            "\n",
            "==> validation_set.csv <==\n",
            "title,timestamp\n",
            "Why I Use Nim instead of Python for Data Processing,2015-10-31 19:12:46\n",
            "What distinguishes great software engineers?,2016-09-22 19:50:03\n"
          ]
        }
      ]
    },
    {
      "cell_type": "markdown",
      "source": [
        "#### Recommendations"
      ],
      "metadata": {
        "id": "1aiXCvC0N2QM"
      }
    },
    {
      "cell_type": "markdown",
      "source": [
        "##### Load Validation & Test Set"
      ],
      "metadata": {
        "id": "EIcI-cYWPNkf"
      }
    },
    {
      "cell_type": "code",
      "source": [
        "validation_set = pd.read_csv(validation_set_path, usecols=[0])\n",
        "test_set = pd.read_csv(test_set_path, usecols=[0])\n",
        "test_data = pd.read_csv(test_data_path, usecols=[0])"
      ],
      "metadata": {
        "id": "MNRhq318PQQY"
      },
      "execution_count": null,
      "outputs": []
    },
    {
      "cell_type": "code",
      "source": [
        "validation_set = validation_set.dropna().reset_index(drop=True)"
      ],
      "metadata": {
        "id": "Gq2co237eES5"
      },
      "execution_count": null,
      "outputs": []
    },
    {
      "cell_type": "code",
      "source": [
        "test_data = test_data.dropna().reset_index(drop=True)"
      ],
      "metadata": {
        "id": "1qJuFhv_vIpO"
      },
      "execution_count": null,
      "outputs": []
    },
    {
      "cell_type": "markdown",
      "source": [
        "##### Load Best Model"
      ],
      "metadata": {
        "id": "lLQixqWJNzVB"
      }
    },
    {
      "cell_type": "code",
      "source": [
        "topic_model = BERTopic.load(model_path)\n",
        "topic_model"
      ],
      "metadata": {
        "colab": {
          "base_uri": "https://localhost:8080/"
        },
        "id": "zrLqkQXqN1x5",
        "outputId": "07696cf6-ea83-4bed-8589-cf4460abad12"
      },
      "execution_count": null,
      "outputs": [
        {
          "output_type": "execute_result",
          "data": {
            "text/plain": [
              "<bertopic._bertopic.BERTopic at 0x7fc3db0ba1d0>"
            ]
          },
          "metadata": {},
          "execution_count": 30
        }
      ]
    },
    {
      "cell_type": "code",
      "source": [
        "topic_model.topics_[:5]"
      ],
      "metadata": {
        "colab": {
          "base_uri": "https://localhost:8080/"
        },
        "id": "f77kDaRNQrcd",
        "outputId": "e6d4832e-17a2-46be-9648-87a7362e486b"
      },
      "execution_count": null,
      "outputs": [
        {
          "output_type": "execute_result",
          "data": {
            "text/plain": [
              "[139, 7, 66, 172, 71]"
            ]
          },
          "metadata": {},
          "execution_count": 31
        }
      ]
    },
    {
      "cell_type": "code",
      "source": [
        "example_sentence = \"Rust – A hard decision pays off \"\n",
        "similar_topics, similarity = topic_model.find_topics(example_sentence, top_n=5)\n",
        "print(similar_topics)\n",
        "topic_model.get_topic(similar_topics[0])"
      ],
      "metadata": {
        "colab": {
          "base_uri": "https://localhost:8080/"
        },
        "id": "f2C4orMBQw4l",
        "outputId": "45bd60cf-5593-4178-f1eb-0e95a89a2ddb"
      },
      "execution_count": null,
      "outputs": [
        {
          "output_type": "stream",
          "name": "stdout",
          "text": [
            "[243, 125, 274, 152, 268]\n"
          ]
        },
        {
          "output_type": "execute_result",
          "data": {
            "text/plain": [
              "[('rust', 0.12366704106289697),\n",
              " ('tonic', 0.04407518897360686),\n",
              " ('struct', 0.044067035774610144),\n",
              " ('ownership', 0.04126284745146919),\n",
              " ('golang', 0.0412602428722053),\n",
              " ('redux', 0.04125893708775355),\n",
              " ('cobalt', 0.035869093590621404),\n",
              " ('swift', 0.0348532585896845),\n",
              " ('guys', 0.03476520347221694),\n",
              " ('mod', 0.033813923883795456)]"
            ]
          },
          "metadata": {},
          "execution_count": 32
        }
      ]
    },
    {
      "cell_type": "markdown",
      "source": [
        "##### Getting The Topics"
      ],
      "metadata": {
        "id": "UpS0i3sfOp87"
      }
    },
    {
      "cell_type": "code",
      "source": [
        "def get_similar_topics(title):\n",
        "    # ignores similarity values\n",
        "    similar_topics, _ = topic_model.find_topics(title, top_n=5)\n",
        "    return similar_topics"
      ],
      "metadata": {
        "id": "bFPTqmjmv2Aj"
      },
      "execution_count": null,
      "outputs": []
    },
    {
      "cell_type": "code",
      "source": [
        "# Use this if similarity values is needed\n",
        "\"\"\"\n",
        "def get_topics(title):\n",
        "    return topic_model.find_topics(title, top_n=5)\n",
        "\n",
        "topics_and_similarity = validation_set[\"title\"].apply(lambda x: get_topics(x))\n",
        "val_attr = pd.DataFrame(topics_and_similarity.tolist(),\n",
        "                        columns=['similar_topics', 'similarity'],\n",
        "                        index=topics_and_similarity.index)\n",
        "val_attr.head()\n",
        "\"\"\""
      ],
      "metadata": {
        "id": "qr0-re0IfaNx"
      },
      "execution_count": null,
      "outputs": []
    },
    {
      "cell_type": "code",
      "source": [
        "# Similar topics only\n",
        "validation_set[\"similar_topics\"] = validation_set[\"title\"].apply(lambda x: get_similar_topics(x))\n",
        "validation_set.head()"
      ],
      "metadata": {
        "colab": {
          "base_uri": "https://localhost:8080/",
          "height": 200
        },
        "id": "zAwfiJ1ahlM7",
        "outputId": "cb518c78-5b5b-4217-d92c-1b354faac407"
      },
      "execution_count": null,
      "outputs": [
        {
          "output_type": "execute_result",
          "data": {
            "text/plain": [
              "                                               title  \\\n",
              "0  Why I Use Nim instead of Python for Data Proce...   \n",
              "1       What distinguishes great software engineers?   \n",
              "2                               How to learn hacking   \n",
              "3  How to improve as a struggling junior software...   \n",
              "4          I don't want to learn your query language   \n",
              "\n",
              "              similar_topics  \n",
              "0     [129, 225, 135, 65, 9]  \n",
              "1   [104, 253, 109, 158, 56]  \n",
              "2   [276, 36, 297, 105, 109]  \n",
              "3  [104, 253, 109, 148, 250]  \n",
              "4   [144, 229, 117, 17, 109]  "
            ],
            "text/html": [
              "\n",
              "  <div id=\"df-253b8be5-18fb-4535-b97a-a7f85021636e\">\n",
              "    <div class=\"colab-df-container\">\n",
              "      <div>\n",
              "<style scoped>\n",
              "    .dataframe tbody tr th:only-of-type {\n",
              "        vertical-align: middle;\n",
              "    }\n",
              "\n",
              "    .dataframe tbody tr th {\n",
              "        vertical-align: top;\n",
              "    }\n",
              "\n",
              "    .dataframe thead th {\n",
              "        text-align: right;\n",
              "    }\n",
              "</style>\n",
              "<table border=\"1\" class=\"dataframe\">\n",
              "  <thead>\n",
              "    <tr style=\"text-align: right;\">\n",
              "      <th></th>\n",
              "      <th>title</th>\n",
              "      <th>similar_topics</th>\n",
              "    </tr>\n",
              "  </thead>\n",
              "  <tbody>\n",
              "    <tr>\n",
              "      <th>0</th>\n",
              "      <td>Why I Use Nim instead of Python for Data Proce...</td>\n",
              "      <td>[129, 225, 135, 65, 9]</td>\n",
              "    </tr>\n",
              "    <tr>\n",
              "      <th>1</th>\n",
              "      <td>What distinguishes great software engineers?</td>\n",
              "      <td>[104, 253, 109, 158, 56]</td>\n",
              "    </tr>\n",
              "    <tr>\n",
              "      <th>2</th>\n",
              "      <td>How to learn hacking</td>\n",
              "      <td>[276, 36, 297, 105, 109]</td>\n",
              "    </tr>\n",
              "    <tr>\n",
              "      <th>3</th>\n",
              "      <td>How to improve as a struggling junior software...</td>\n",
              "      <td>[104, 253, 109, 148, 250]</td>\n",
              "    </tr>\n",
              "    <tr>\n",
              "      <th>4</th>\n",
              "      <td>I don't want to learn your query language</td>\n",
              "      <td>[144, 229, 117, 17, 109]</td>\n",
              "    </tr>\n",
              "  </tbody>\n",
              "</table>\n",
              "</div>\n",
              "      <button class=\"colab-df-convert\" onclick=\"convertToInteractive('df-253b8be5-18fb-4535-b97a-a7f85021636e')\"\n",
              "              title=\"Convert this dataframe to an interactive table.\"\n",
              "              style=\"display:none;\">\n",
              "        \n",
              "  <svg xmlns=\"http://www.w3.org/2000/svg\" height=\"24px\"viewBox=\"0 0 24 24\"\n",
              "       width=\"24px\">\n",
              "    <path d=\"M0 0h24v24H0V0z\" fill=\"none\"/>\n",
              "    <path d=\"M18.56 5.44l.94 2.06.94-2.06 2.06-.94-2.06-.94-.94-2.06-.94 2.06-2.06.94zm-11 1L8.5 8.5l.94-2.06 2.06-.94-2.06-.94L8.5 2.5l-.94 2.06-2.06.94zm10 10l.94 2.06.94-2.06 2.06-.94-2.06-.94-.94-2.06-.94 2.06-2.06.94z\"/><path d=\"M17.41 7.96l-1.37-1.37c-.4-.4-.92-.59-1.43-.59-.52 0-1.04.2-1.43.59L10.3 9.45l-7.72 7.72c-.78.78-.78 2.05 0 2.83L4 21.41c.39.39.9.59 1.41.59.51 0 1.02-.2 1.41-.59l7.78-7.78 2.81-2.81c.8-.78.8-2.07 0-2.86zM5.41 20L4 18.59l7.72-7.72 1.47 1.35L5.41 20z\"/>\n",
              "  </svg>\n",
              "      </button>\n",
              "      \n",
              "  <style>\n",
              "    .colab-df-container {\n",
              "      display:flex;\n",
              "      flex-wrap:wrap;\n",
              "      gap: 12px;\n",
              "    }\n",
              "\n",
              "    .colab-df-convert {\n",
              "      background-color: #E8F0FE;\n",
              "      border: none;\n",
              "      border-radius: 50%;\n",
              "      cursor: pointer;\n",
              "      display: none;\n",
              "      fill: #1967D2;\n",
              "      height: 32px;\n",
              "      padding: 0 0 0 0;\n",
              "      width: 32px;\n",
              "    }\n",
              "\n",
              "    .colab-df-convert:hover {\n",
              "      background-color: #E2EBFA;\n",
              "      box-shadow: 0px 1px 2px rgba(60, 64, 67, 0.3), 0px 1px 3px 1px rgba(60, 64, 67, 0.15);\n",
              "      fill: #174EA6;\n",
              "    }\n",
              "\n",
              "    [theme=dark] .colab-df-convert {\n",
              "      background-color: #3B4455;\n",
              "      fill: #D2E3FC;\n",
              "    }\n",
              "\n",
              "    [theme=dark] .colab-df-convert:hover {\n",
              "      background-color: #434B5C;\n",
              "      box-shadow: 0px 1px 3px 1px rgba(0, 0, 0, 0.15);\n",
              "      filter: drop-shadow(0px 1px 2px rgba(0, 0, 0, 0.3));\n",
              "      fill: #FFFFFF;\n",
              "    }\n",
              "  </style>\n",
              "\n",
              "      <script>\n",
              "        const buttonEl =\n",
              "          document.querySelector('#df-253b8be5-18fb-4535-b97a-a7f85021636e button.colab-df-convert');\n",
              "        buttonEl.style.display =\n",
              "          google.colab.kernel.accessAllowed ? 'block' : 'none';\n",
              "\n",
              "        async function convertToInteractive(key) {\n",
              "          const element = document.querySelector('#df-253b8be5-18fb-4535-b97a-a7f85021636e');\n",
              "          const dataTable =\n",
              "            await google.colab.kernel.invokeFunction('convertToInteractive',\n",
              "                                                     [key], {});\n",
              "          if (!dataTable) return;\n",
              "\n",
              "          const docLinkHtml = 'Like what you see? Visit the ' +\n",
              "            '<a target=\"_blank\" href=https://colab.research.google.com/notebooks/data_table.ipynb>data table notebook</a>'\n",
              "            + ' to learn more about interactive tables.';\n",
              "          element.innerHTML = '';\n",
              "          dataTable['output_type'] = 'display_data';\n",
              "          await google.colab.output.renderOutput(dataTable, element);\n",
              "          const docLink = document.createElement('div');\n",
              "          docLink.innerHTML = docLinkHtml;\n",
              "          element.appendChild(docLink);\n",
              "        }\n",
              "      </script>\n",
              "    </div>\n",
              "  </div>\n",
              "  "
            ],
            "application/vnd.google.colaboratory.module+javascript": "\n      import \"https://ssl.gstatic.com/colaboratory/data_table/a8bd4d5e58f96183/data_table.js\";\n\n      window.createDataTable({\n        data: [[{\n            'v': 0,\n            'f': \"0\",\n        },\n\"Why I Use Nim instead of Python for Data Processing\",\n[129, 225, 135, 65, 9]],\n [{\n            'v': 1,\n            'f': \"1\",\n        },\n\"What distinguishes great software engineers?\",\n[104, 253, 109, 158, 56]],\n [{\n            'v': 2,\n            'f': \"2\",\n        },\n\"How to learn hacking\",\n[276, 36, 297, 105, 109]],\n [{\n            'v': 3,\n            'f': \"3\",\n        },\n\"How to improve as a struggling junior software engineer?\",\n[104, 253, 109, 148, 250]],\n [{\n            'v': 4,\n            'f': \"4\",\n        },\n\"I don't want to learn your query language\",\n[144, 229, 117, 17, 109]]],\n        columns: [[\"number\", \"index\"], [\"string\", \"title\"], [\"string\", \"similar_topics\"]],\n        columnOptions: [{\"width\": \"1px\", \"className\": \"index_column\"}],\n        rowsPerPage: 25,\n        helpUrl: \"https://colab.research.google.com/notebooks/data_table.ipynb\",\n        suppressOutputScrolling: true,\n        minimumWidth: undefined,\n      });\n    "
          },
          "metadata": {},
          "execution_count": 145
        }
      ]
    },
    {
      "cell_type": "code",
      "source": [
        "# Similar topics only\n",
        "test_set[\"similar_topics\"] = test_set[\"title\"].apply(lambda x: get_similar_topics(x))\n",
        "test_set.head()"
      ],
      "metadata": {
        "colab": {
          "base_uri": "https://localhost:8080/",
          "height": 200
        },
        "id": "cp1rwy6Yu57E",
        "outputId": "68652ca5-94d6-46bd-8bac-ca6e6336f0cd"
      },
      "execution_count": null,
      "outputs": [
        {
          "output_type": "execute_result",
          "data": {
            "text/plain": [
              "                                               title            similar_topics\n",
              "0  The Deadlock Empire: A game that teaches locki...    [170, 184, 65, 43, 84]\n",
              "1                      Implementing Hash Tables in C   [125, 64, 144, 248, 54]\n",
              "2                 What to do to be healthy when old?     [262, 0, 213, 96, 33]\n",
              "3  If you used to be socially awkward and shy, ho...  [235, 250, 148, 29, 239]\n",
              "4                          Moving from React to htmx   [68, 278, 181, 53, 191]"
            ],
            "text/html": [
              "\n",
              "  <div id=\"df-c5c0b534-d8a4-4b92-82ae-b39febbb85e2\">\n",
              "    <div class=\"colab-df-container\">\n",
              "      <div>\n",
              "<style scoped>\n",
              "    .dataframe tbody tr th:only-of-type {\n",
              "        vertical-align: middle;\n",
              "    }\n",
              "\n",
              "    .dataframe tbody tr th {\n",
              "        vertical-align: top;\n",
              "    }\n",
              "\n",
              "    .dataframe thead th {\n",
              "        text-align: right;\n",
              "    }\n",
              "</style>\n",
              "<table border=\"1\" class=\"dataframe\">\n",
              "  <thead>\n",
              "    <tr style=\"text-align: right;\">\n",
              "      <th></th>\n",
              "      <th>title</th>\n",
              "      <th>similar_topics</th>\n",
              "    </tr>\n",
              "  </thead>\n",
              "  <tbody>\n",
              "    <tr>\n",
              "      <th>0</th>\n",
              "      <td>The Deadlock Empire: A game that teaches locki...</td>\n",
              "      <td>[170, 184, 65, 43, 84]</td>\n",
              "    </tr>\n",
              "    <tr>\n",
              "      <th>1</th>\n",
              "      <td>Implementing Hash Tables in C</td>\n",
              "      <td>[125, 64, 144, 248, 54]</td>\n",
              "    </tr>\n",
              "    <tr>\n",
              "      <th>2</th>\n",
              "      <td>What to do to be healthy when old?</td>\n",
              "      <td>[262, 0, 213, 96, 33]</td>\n",
              "    </tr>\n",
              "    <tr>\n",
              "      <th>3</th>\n",
              "      <td>If you used to be socially awkward and shy, ho...</td>\n",
              "      <td>[235, 250, 148, 29, 239]</td>\n",
              "    </tr>\n",
              "    <tr>\n",
              "      <th>4</th>\n",
              "      <td>Moving from React to htmx</td>\n",
              "      <td>[68, 278, 181, 53, 191]</td>\n",
              "    </tr>\n",
              "  </tbody>\n",
              "</table>\n",
              "</div>\n",
              "      <button class=\"colab-df-convert\" onclick=\"convertToInteractive('df-c5c0b534-d8a4-4b92-82ae-b39febbb85e2')\"\n",
              "              title=\"Convert this dataframe to an interactive table.\"\n",
              "              style=\"display:none;\">\n",
              "        \n",
              "  <svg xmlns=\"http://www.w3.org/2000/svg\" height=\"24px\"viewBox=\"0 0 24 24\"\n",
              "       width=\"24px\">\n",
              "    <path d=\"M0 0h24v24H0V0z\" fill=\"none\"/>\n",
              "    <path d=\"M18.56 5.44l.94 2.06.94-2.06 2.06-.94-2.06-.94-.94-2.06-.94 2.06-2.06.94zm-11 1L8.5 8.5l.94-2.06 2.06-.94-2.06-.94L8.5 2.5l-.94 2.06-2.06.94zm10 10l.94 2.06.94-2.06 2.06-.94-2.06-.94-.94-2.06-.94 2.06-2.06.94z\"/><path d=\"M17.41 7.96l-1.37-1.37c-.4-.4-.92-.59-1.43-.59-.52 0-1.04.2-1.43.59L10.3 9.45l-7.72 7.72c-.78.78-.78 2.05 0 2.83L4 21.41c.39.39.9.59 1.41.59.51 0 1.02-.2 1.41-.59l7.78-7.78 2.81-2.81c.8-.78.8-2.07 0-2.86zM5.41 20L4 18.59l7.72-7.72 1.47 1.35L5.41 20z\"/>\n",
              "  </svg>\n",
              "      </button>\n",
              "      \n",
              "  <style>\n",
              "    .colab-df-container {\n",
              "      display:flex;\n",
              "      flex-wrap:wrap;\n",
              "      gap: 12px;\n",
              "    }\n",
              "\n",
              "    .colab-df-convert {\n",
              "      background-color: #E8F0FE;\n",
              "      border: none;\n",
              "      border-radius: 50%;\n",
              "      cursor: pointer;\n",
              "      display: none;\n",
              "      fill: #1967D2;\n",
              "      height: 32px;\n",
              "      padding: 0 0 0 0;\n",
              "      width: 32px;\n",
              "    }\n",
              "\n",
              "    .colab-df-convert:hover {\n",
              "      background-color: #E2EBFA;\n",
              "      box-shadow: 0px 1px 2px rgba(60, 64, 67, 0.3), 0px 1px 3px 1px rgba(60, 64, 67, 0.15);\n",
              "      fill: #174EA6;\n",
              "    }\n",
              "\n",
              "    [theme=dark] .colab-df-convert {\n",
              "      background-color: #3B4455;\n",
              "      fill: #D2E3FC;\n",
              "    }\n",
              "\n",
              "    [theme=dark] .colab-df-convert:hover {\n",
              "      background-color: #434B5C;\n",
              "      box-shadow: 0px 1px 3px 1px rgba(0, 0, 0, 0.15);\n",
              "      filter: drop-shadow(0px 1px 2px rgba(0, 0, 0, 0.3));\n",
              "      fill: #FFFFFF;\n",
              "    }\n",
              "  </style>\n",
              "\n",
              "      <script>\n",
              "        const buttonEl =\n",
              "          document.querySelector('#df-c5c0b534-d8a4-4b92-82ae-b39febbb85e2 button.colab-df-convert');\n",
              "        buttonEl.style.display =\n",
              "          google.colab.kernel.accessAllowed ? 'block' : 'none';\n",
              "\n",
              "        async function convertToInteractive(key) {\n",
              "          const element = document.querySelector('#df-c5c0b534-d8a4-4b92-82ae-b39febbb85e2');\n",
              "          const dataTable =\n",
              "            await google.colab.kernel.invokeFunction('convertToInteractive',\n",
              "                                                     [key], {});\n",
              "          if (!dataTable) return;\n",
              "\n",
              "          const docLinkHtml = 'Like what you see? Visit the ' +\n",
              "            '<a target=\"_blank\" href=https://colab.research.google.com/notebooks/data_table.ipynb>data table notebook</a>'\n",
              "            + ' to learn more about interactive tables.';\n",
              "          element.innerHTML = '';\n",
              "          dataTable['output_type'] = 'display_data';\n",
              "          await google.colab.output.renderOutput(dataTable, element);\n",
              "          const docLink = document.createElement('div');\n",
              "          docLink.innerHTML = docLinkHtml;\n",
              "          element.appendChild(docLink);\n",
              "        }\n",
              "      </script>\n",
              "    </div>\n",
              "  </div>\n",
              "  "
            ],
            "application/vnd.google.colaboratory.module+javascript": "\n      import \"https://ssl.gstatic.com/colaboratory/data_table/a8bd4d5e58f96183/data_table.js\";\n\n      window.createDataTable({\n        data: [[{\n            'v': 0,\n            'f': \"0\",\n        },\n\"The Deadlock Empire: A game that teaches locking and concurrency\",\n[170, 184, 65, 43, 84]],\n [{\n            'v': 1,\n            'f': \"1\",\n        },\n\"Implementing Hash Tables in C\",\n[125, 64, 144, 248, 54]],\n [{\n            'v': 2,\n            'f': \"2\",\n        },\n\"What to do to be healthy when old?\",\n[262, 0, 213, 96, 33]],\n [{\n            'v': 3,\n            'f': \"3\",\n        },\n\"If you used to be socially awkward and shy, how did you improve?\",\n[235, 250, 148, 29, 239]],\n [{\n            'v': 4,\n            'f': \"4\",\n        },\n\"Moving from React to htmx\",\n[68, 278, 181, 53, 191]]],\n        columns: [[\"number\", \"index\"], [\"string\", \"title\"], [\"string\", \"similar_topics\"]],\n        columnOptions: [{\"width\": \"1px\", \"className\": \"index_column\"}],\n        rowsPerPage: 25,\n        helpUrl: \"https://colab.research.google.com/notebooks/data_table.ipynb\",\n        suppressOutputScrolling: true,\n        minimumWidth: undefined,\n      });\n    "
          },
          "metadata": {},
          "execution_count": 137
        }
      ]
    },
    {
      "cell_type": "code",
      "source": [
        "test_data[\"similar_topics\"] = test_data[\"title\"].apply(lambda x: get_similar_topics(x))\n",
        "test_data.head()"
      ],
      "metadata": {
        "colab": {
          "base_uri": "https://localhost:8080/",
          "height": 283
        },
        "id": "FQwfjS4YvDCD",
        "outputId": "29331a35-8bf7-4524-bab8-73035274c48c"
      },
      "execution_count": null,
      "outputs": [
        {
          "output_type": "execute_result",
          "data": {
            "text/plain": [
              "                                               title            timestamp  \\\n",
              "0  The comparative recency of the proximal ancest...  2022-10-14 00:01:15   \n",
              "1  A new algorithm predicts response to Sertralin...  2022-10-14 00:01:41   \n",
              "2  AI Image Generation Is Advancing at Astronomic...  2022-10-14 00:16:07   \n",
              "3  The Russian Space Program Is Falling Back to E...  2022-10-14 00:17:16   \n",
              "4               It was all downhill after the Cuecat  2022-10-14 00:22:40   \n",
              "\n",
              "              similar_topics  \n",
              "0    [87, 286, 203, 48, 130]  \n",
              "1      [96, 9, 151, 204, 54]  \n",
              "2         [201, 9, 4, 27, 2]  \n",
              "3  [130, 118, 102, 205, 280]  \n",
              "4   [274, 40, 168, 155, 272]  "
            ],
            "text/html": [
              "\n",
              "  <div id=\"df-71b70344-b4fc-41ea-8a24-ada0ae4bde38\">\n",
              "    <div class=\"colab-df-container\">\n",
              "      <div>\n",
              "<style scoped>\n",
              "    .dataframe tbody tr th:only-of-type {\n",
              "        vertical-align: middle;\n",
              "    }\n",
              "\n",
              "    .dataframe tbody tr th {\n",
              "        vertical-align: top;\n",
              "    }\n",
              "\n",
              "    .dataframe thead th {\n",
              "        text-align: right;\n",
              "    }\n",
              "</style>\n",
              "<table border=\"1\" class=\"dataframe\">\n",
              "  <thead>\n",
              "    <tr style=\"text-align: right;\">\n",
              "      <th></th>\n",
              "      <th>title</th>\n",
              "      <th>timestamp</th>\n",
              "      <th>similar_topics</th>\n",
              "    </tr>\n",
              "  </thead>\n",
              "  <tbody>\n",
              "    <tr>\n",
              "      <th>0</th>\n",
              "      <td>The comparative recency of the proximal ancest...</td>\n",
              "      <td>2022-10-14 00:01:15</td>\n",
              "      <td>[87, 286, 203, 48, 130]</td>\n",
              "    </tr>\n",
              "    <tr>\n",
              "      <th>1</th>\n",
              "      <td>A new algorithm predicts response to Sertralin...</td>\n",
              "      <td>2022-10-14 00:01:41</td>\n",
              "      <td>[96, 9, 151, 204, 54]</td>\n",
              "    </tr>\n",
              "    <tr>\n",
              "      <th>2</th>\n",
              "      <td>AI Image Generation Is Advancing at Astronomic...</td>\n",
              "      <td>2022-10-14 00:16:07</td>\n",
              "      <td>[201, 9, 4, 27, 2]</td>\n",
              "    </tr>\n",
              "    <tr>\n",
              "      <th>3</th>\n",
              "      <td>The Russian Space Program Is Falling Back to E...</td>\n",
              "      <td>2022-10-14 00:17:16</td>\n",
              "      <td>[130, 118, 102, 205, 280]</td>\n",
              "    </tr>\n",
              "    <tr>\n",
              "      <th>4</th>\n",
              "      <td>It was all downhill after the Cuecat</td>\n",
              "      <td>2022-10-14 00:22:40</td>\n",
              "      <td>[274, 40, 168, 155, 272]</td>\n",
              "    </tr>\n",
              "  </tbody>\n",
              "</table>\n",
              "</div>\n",
              "      <button class=\"colab-df-convert\" onclick=\"convertToInteractive('df-71b70344-b4fc-41ea-8a24-ada0ae4bde38')\"\n",
              "              title=\"Convert this dataframe to an interactive table.\"\n",
              "              style=\"display:none;\">\n",
              "        \n",
              "  <svg xmlns=\"http://www.w3.org/2000/svg\" height=\"24px\"viewBox=\"0 0 24 24\"\n",
              "       width=\"24px\">\n",
              "    <path d=\"M0 0h24v24H0V0z\" fill=\"none\"/>\n",
              "    <path d=\"M18.56 5.44l.94 2.06.94-2.06 2.06-.94-2.06-.94-.94-2.06-.94 2.06-2.06.94zm-11 1L8.5 8.5l.94-2.06 2.06-.94-2.06-.94L8.5 2.5l-.94 2.06-2.06.94zm10 10l.94 2.06.94-2.06 2.06-.94-2.06-.94-.94-2.06-.94 2.06-2.06.94z\"/><path d=\"M17.41 7.96l-1.37-1.37c-.4-.4-.92-.59-1.43-.59-.52 0-1.04.2-1.43.59L10.3 9.45l-7.72 7.72c-.78.78-.78 2.05 0 2.83L4 21.41c.39.39.9.59 1.41.59.51 0 1.02-.2 1.41-.59l7.78-7.78 2.81-2.81c.8-.78.8-2.07 0-2.86zM5.41 20L4 18.59l7.72-7.72 1.47 1.35L5.41 20z\"/>\n",
              "  </svg>\n",
              "      </button>\n",
              "      \n",
              "  <style>\n",
              "    .colab-df-container {\n",
              "      display:flex;\n",
              "      flex-wrap:wrap;\n",
              "      gap: 12px;\n",
              "    }\n",
              "\n",
              "    .colab-df-convert {\n",
              "      background-color: #E8F0FE;\n",
              "      border: none;\n",
              "      border-radius: 50%;\n",
              "      cursor: pointer;\n",
              "      display: none;\n",
              "      fill: #1967D2;\n",
              "      height: 32px;\n",
              "      padding: 0 0 0 0;\n",
              "      width: 32px;\n",
              "    }\n",
              "\n",
              "    .colab-df-convert:hover {\n",
              "      background-color: #E2EBFA;\n",
              "      box-shadow: 0px 1px 2px rgba(60, 64, 67, 0.3), 0px 1px 3px 1px rgba(60, 64, 67, 0.15);\n",
              "      fill: #174EA6;\n",
              "    }\n",
              "\n",
              "    [theme=dark] .colab-df-convert {\n",
              "      background-color: #3B4455;\n",
              "      fill: #D2E3FC;\n",
              "    }\n",
              "\n",
              "    [theme=dark] .colab-df-convert:hover {\n",
              "      background-color: #434B5C;\n",
              "      box-shadow: 0px 1px 3px 1px rgba(0, 0, 0, 0.15);\n",
              "      filter: drop-shadow(0px 1px 2px rgba(0, 0, 0, 0.3));\n",
              "      fill: #FFFFFF;\n",
              "    }\n",
              "  </style>\n",
              "\n",
              "      <script>\n",
              "        const buttonEl =\n",
              "          document.querySelector('#df-71b70344-b4fc-41ea-8a24-ada0ae4bde38 button.colab-df-convert');\n",
              "        buttonEl.style.display =\n",
              "          google.colab.kernel.accessAllowed ? 'block' : 'none';\n",
              "\n",
              "        async function convertToInteractive(key) {\n",
              "          const element = document.querySelector('#df-71b70344-b4fc-41ea-8a24-ada0ae4bde38');\n",
              "          const dataTable =\n",
              "            await google.colab.kernel.invokeFunction('convertToInteractive',\n",
              "                                                     [key], {});\n",
              "          if (!dataTable) return;\n",
              "\n",
              "          const docLinkHtml = 'Like what you see? Visit the ' +\n",
              "            '<a target=\"_blank\" href=https://colab.research.google.com/notebooks/data_table.ipynb>data table notebook</a>'\n",
              "            + ' to learn more about interactive tables.';\n",
              "          element.innerHTML = '';\n",
              "          dataTable['output_type'] = 'display_data';\n",
              "          await google.colab.output.renderOutput(dataTable, element);\n",
              "          const docLink = document.createElement('div');\n",
              "          docLink.innerHTML = docLinkHtml;\n",
              "          element.appendChild(docLink);\n",
              "        }\n",
              "      </script>\n",
              "    </div>\n",
              "  </div>\n",
              "  "
            ],
            "application/vnd.google.colaboratory.module+javascript": "\n      import \"https://ssl.gstatic.com/colaboratory/data_table/a8bd4d5e58f96183/data_table.js\";\n\n      window.createDataTable({\n        data: [[{\n            'v': 0,\n            'f': \"0\",\n        },\n\"The comparative recency of the proximal ancestors of SARS-CoV-1 and SARS-CoV-2\",\n\"2022-10-14 00:01:15\",\n[87, 286, 203, 48, 130]],\n [{\n            'v': 1,\n            'f': \"1\",\n        },\n\"A new algorithm predicts response to Sertraline with 83 percent accuracy\",\n\"2022-10-14 00:01:41\",\n[96, 9, 151, 204, 54]],\n [{\n            'v': 2,\n            'f': \"2\",\n        },\n\"AI Image Generation Is Advancing at Astronomical Speeds. Can We Still Tell If\",\n\"2022-10-14 00:16:07\",\n[201, 9, 4, 27, 2]],\n [{\n            'v': 3,\n            'f': \"3\",\n        },\n\"The Russian Space Program Is Falling Back to Earth\",\n\"2022-10-14 00:17:16\",\n[130, 118, 102, 205, 280]],\n [{\n            'v': 4,\n            'f': \"4\",\n        },\n\"It was all downhill after the Cuecat\",\n\"2022-10-14 00:22:40\",\n[274, 40, 168, 155, 272]]],\n        columns: [[\"number\", \"index\"], [\"string\", \"title\"], [\"string\", \"timestamp\"], [\"string\", \"similar_topics\"]],\n        columnOptions: [{\"width\": \"1px\", \"className\": \"index_column\"}],\n        rowsPerPage: 25,\n        helpUrl: \"https://colab.research.google.com/notebooks/data_table.ipynb\",\n        suppressOutputScrolling: true,\n        minimumWidth: undefined,\n      });\n    "
          },
          "metadata": {},
          "execution_count": 34
        }
      ]
    },
    {
      "cell_type": "code",
      "source": [
        "sets = [\n",
        "    ('validation_set', validation_set),\n",
        "    ('test_set', test_set),\n",
        "    ('test_data', test_data),\n",
        "]\n",
        "\n",
        "for (name, df) in sets:\n",
        "    if \"similar_topics\" not in df.columns:\n",
        "        print(f'Getting topics for {name}')\n",
        "        df[\"similar_topics\"] = df[\"title\"].apply(lambda x: get_similar_topics(x))\n",
        "    print(f'Dumping {name}')\n",
        "    df.to_csv(f'{name}_with_topics.csv', index=False)"
      ],
      "metadata": {
        "colab": {
          "base_uri": "https://localhost:8080/"
        },
        "id": "irvkdj13v-5X",
        "outputId": "d91ca4dc-261b-4413-b956-f5dec8dde71f"
      },
      "execution_count": null,
      "outputs": [
        {
          "output_type": "stream",
          "name": "stdout",
          "text": [
            "Dumping validation_set\n",
            "Dumping test_set\n",
            "Dumping test_data\n"
          ]
        }
      ]
    },
    {
      "cell_type": "markdown",
      "source": [
        "##### Fixing My Test Set"
      ],
      "metadata": {
        "id": "KiZZg0k8vrV6"
      }
    },
    {
      "cell_type": "code",
      "source": [
        "validation_set = pd.read_csv(validation_set_with_topics_path)\n",
        "test_set = pd.read_csv(test_set_with_topics_path)\n",
        "test_data = pd.read_csv(test_data_with_topics_path)"
      ],
      "metadata": {
        "id": "8zthVDApL1lH"
      },
      "execution_count": null,
      "outputs": []
    },
    {
      "cell_type": "code",
      "source": [
        "# Test set in test_data\n",
        "test_set[test_set.title.isin(test_data.title)]"
      ],
      "metadata": {
        "colab": {
          "base_uri": "https://localhost:8080/",
          "height": 644
        },
        "id": "Umqdw8JPTggK",
        "outputId": "7441180c-1810-49c4-b841-5717cf396077"
      },
      "execution_count": null,
      "outputs": [
        {
          "output_type": "execute_result",
          "data": {
            "text/plain": [
              "                                                title  \\\n",
              "4                           Moving from React to htmx   \n",
              "9        Carefulwords.com, a more inspiring thesaurus   \n",
              "10  Streaming data in Postgres to 1M clients with ...   \n",
              "11                                   Yagni Exceptions   \n",
              "12                  How to build software like an SRE   \n",
              "13  Projectbook – a free collection of 100 project...   \n",
              "14  I am endlessly fascinated with content tagging...   \n",
              "15  81% of IT teams directed to reduce or halt clo...   \n",
              "16                         Wait vs. Interrupt Culture   \n",
              "17  Has anyone managed to find enjoyment in their ...   \n",
              "18                        Write better error messages   \n",
              "19                                   DevOps is broken   \n",
              "20             Quirks, Caveats, and Gotchas in SQLite   \n",
              "21  Kill Bill – Open-Source Subscription Billing a...   \n",
              "22            Leveraging mispriced AWS spot instances   \n",
              "23          GlueSQL: SQL database engine as a library   \n",
              "24  Accounting for developers part III – building ...   \n",
              "25              Pure Data as a plugin, with a new GUI   \n",
              "26      A guide for getting started with self hosting   \n",
              "27  I was tired of being a perfectionist so I buil...   \n",
              "28                          Incremental Parsing in Go   \n",
              "29  How to show a not “so perfect” MVP to potentia...   \n",
              "30  Cloudflare Pages: Best server tech since CGI-bin?   \n",
              "31  Gamification affects software developers: Caut...   \n",
              "32         Maintaining sufficient free space with ZFS   \n",
              "33               Buffers on the Edge: Python and Rust   \n",
              "34  Sonic: Fast, lightweight and schema-less searc...   \n",
              "\n",
              "               similar_topics  \n",
              "4     [68, 278, 181, 53, 191]  \n",
              "9      [3, 295, 17, 281, 257]  \n",
              "10    [229, 34, 21, 173, 294]  \n",
              "11    [29, 154, 73, 263, 143]  \n",
              "12   [253, 152, 109, 158, 94]  \n",
              "13   [148, 75, 253, 109, 122]  \n",
              "14      [141, 47, 281, 17, 3]  \n",
              "15    [21, 216, 137, 23, 123]  \n",
              "16    [83, 279, 256, 289, 56]  \n",
              "17    [186, 167, 189, 13, 26]  \n",
              "18   [64, 295, 144, 128, 186]  \n",
              "19   [39, 253, 106, 140, 152]  \n",
              "20     [34, 144, 16, 294, 21]  \n",
              "21     [121, 10, 98, 92, 176]  \n",
              "22    [233, 216, 187, 21, 23]  \n",
              "23     [34, 294, 21, 20, 229]  \n",
              "24      [253, 76, 22, 10, 92]  \n",
              "25     [229, 94, 34, 68, 103]  \n",
              "26    [164, 170, 81, 34, 216]  \n",
              "27   [25, 234, 298, 162, 253]  \n",
              "28    [17, 125, 64, 236, 226]  \n",
              "29    [163, 167, 92, 14, 261]  \n",
              "30    [21, 216, 164, 187, 23]  \n",
              "31    [253, 140, 32, 25, 106]  \n",
              "32   [21, 170, 294, 125, 169]  \n",
              "33  [125, 243, 256, 152, 274]  \n",
              "34     [117, 86, 70, 294, 16]  "
            ],
            "text/html": [
              "\n",
              "  <div id=\"df-0d2dec9e-76ce-490d-8539-578938b9981d\">\n",
              "    <div class=\"colab-df-container\">\n",
              "      <div>\n",
              "<style scoped>\n",
              "    .dataframe tbody tr th:only-of-type {\n",
              "        vertical-align: middle;\n",
              "    }\n",
              "\n",
              "    .dataframe tbody tr th {\n",
              "        vertical-align: top;\n",
              "    }\n",
              "\n",
              "    .dataframe thead th {\n",
              "        text-align: right;\n",
              "    }\n",
              "</style>\n",
              "<table border=\"1\" class=\"dataframe\">\n",
              "  <thead>\n",
              "    <tr style=\"text-align: right;\">\n",
              "      <th></th>\n",
              "      <th>title</th>\n",
              "      <th>similar_topics</th>\n",
              "    </tr>\n",
              "  </thead>\n",
              "  <tbody>\n",
              "    <tr>\n",
              "      <th>4</th>\n",
              "      <td>Moving from React to htmx</td>\n",
              "      <td>[68, 278, 181, 53, 191]</td>\n",
              "    </tr>\n",
              "    <tr>\n",
              "      <th>9</th>\n",
              "      <td>Carefulwords.com, a more inspiring thesaurus</td>\n",
              "      <td>[3, 295, 17, 281, 257]</td>\n",
              "    </tr>\n",
              "    <tr>\n",
              "      <th>10</th>\n",
              "      <td>Streaming data in Postgres to 1M clients with ...</td>\n",
              "      <td>[229, 34, 21, 173, 294]</td>\n",
              "    </tr>\n",
              "    <tr>\n",
              "      <th>11</th>\n",
              "      <td>Yagni Exceptions</td>\n",
              "      <td>[29, 154, 73, 263, 143]</td>\n",
              "    </tr>\n",
              "    <tr>\n",
              "      <th>12</th>\n",
              "      <td>How to build software like an SRE</td>\n",
              "      <td>[253, 152, 109, 158, 94]</td>\n",
              "    </tr>\n",
              "    <tr>\n",
              "      <th>13</th>\n",
              "      <td>Projectbook – a free collection of 100 project...</td>\n",
              "      <td>[148, 75, 253, 109, 122]</td>\n",
              "    </tr>\n",
              "    <tr>\n",
              "      <th>14</th>\n",
              "      <td>I am endlessly fascinated with content tagging...</td>\n",
              "      <td>[141, 47, 281, 17, 3]</td>\n",
              "    </tr>\n",
              "    <tr>\n",
              "      <th>15</th>\n",
              "      <td>81% of IT teams directed to reduce or halt clo...</td>\n",
              "      <td>[21, 216, 137, 23, 123]</td>\n",
              "    </tr>\n",
              "    <tr>\n",
              "      <th>16</th>\n",
              "      <td>Wait vs. Interrupt Culture</td>\n",
              "      <td>[83, 279, 256, 289, 56]</td>\n",
              "    </tr>\n",
              "    <tr>\n",
              "      <th>17</th>\n",
              "      <td>Has anyone managed to find enjoyment in their ...</td>\n",
              "      <td>[186, 167, 189, 13, 26]</td>\n",
              "    </tr>\n",
              "    <tr>\n",
              "      <th>18</th>\n",
              "      <td>Write better error messages</td>\n",
              "      <td>[64, 295, 144, 128, 186]</td>\n",
              "    </tr>\n",
              "    <tr>\n",
              "      <th>19</th>\n",
              "      <td>DevOps is broken</td>\n",
              "      <td>[39, 253, 106, 140, 152]</td>\n",
              "    </tr>\n",
              "    <tr>\n",
              "      <th>20</th>\n",
              "      <td>Quirks, Caveats, and Gotchas in SQLite</td>\n",
              "      <td>[34, 144, 16, 294, 21]</td>\n",
              "    </tr>\n",
              "    <tr>\n",
              "      <th>21</th>\n",
              "      <td>Kill Bill – Open-Source Subscription Billing a...</td>\n",
              "      <td>[121, 10, 98, 92, 176]</td>\n",
              "    </tr>\n",
              "    <tr>\n",
              "      <th>22</th>\n",
              "      <td>Leveraging mispriced AWS spot instances</td>\n",
              "      <td>[233, 216, 187, 21, 23]</td>\n",
              "    </tr>\n",
              "    <tr>\n",
              "      <th>23</th>\n",
              "      <td>GlueSQL: SQL database engine as a library</td>\n",
              "      <td>[34, 294, 21, 20, 229]</td>\n",
              "    </tr>\n",
              "    <tr>\n",
              "      <th>24</th>\n",
              "      <td>Accounting for developers part III – building ...</td>\n",
              "      <td>[253, 76, 22, 10, 92]</td>\n",
              "    </tr>\n",
              "    <tr>\n",
              "      <th>25</th>\n",
              "      <td>Pure Data as a plugin, with a new GUI</td>\n",
              "      <td>[229, 94, 34, 68, 103]</td>\n",
              "    </tr>\n",
              "    <tr>\n",
              "      <th>26</th>\n",
              "      <td>A guide for getting started with self hosting</td>\n",
              "      <td>[164, 170, 81, 34, 216]</td>\n",
              "    </tr>\n",
              "    <tr>\n",
              "      <th>27</th>\n",
              "      <td>I was tired of being a perfectionist so I buil...</td>\n",
              "      <td>[25, 234, 298, 162, 253]</td>\n",
              "    </tr>\n",
              "    <tr>\n",
              "      <th>28</th>\n",
              "      <td>Incremental Parsing in Go</td>\n",
              "      <td>[17, 125, 64, 236, 226]</td>\n",
              "    </tr>\n",
              "    <tr>\n",
              "      <th>29</th>\n",
              "      <td>How to show a not “so perfect” MVP to potentia...</td>\n",
              "      <td>[163, 167, 92, 14, 261]</td>\n",
              "    </tr>\n",
              "    <tr>\n",
              "      <th>30</th>\n",
              "      <td>Cloudflare Pages: Best server tech since CGI-bin?</td>\n",
              "      <td>[21, 216, 164, 187, 23]</td>\n",
              "    </tr>\n",
              "    <tr>\n",
              "      <th>31</th>\n",
              "      <td>Gamification affects software developers: Caut...</td>\n",
              "      <td>[253, 140, 32, 25, 106]</td>\n",
              "    </tr>\n",
              "    <tr>\n",
              "      <th>32</th>\n",
              "      <td>Maintaining sufficient free space with ZFS</td>\n",
              "      <td>[21, 170, 294, 125, 169]</td>\n",
              "    </tr>\n",
              "    <tr>\n",
              "      <th>33</th>\n",
              "      <td>Buffers on the Edge: Python and Rust</td>\n",
              "      <td>[125, 243, 256, 152, 274]</td>\n",
              "    </tr>\n",
              "    <tr>\n",
              "      <th>34</th>\n",
              "      <td>Sonic: Fast, lightweight and schema-less searc...</td>\n",
              "      <td>[117, 86, 70, 294, 16]</td>\n",
              "    </tr>\n",
              "  </tbody>\n",
              "</table>\n",
              "</div>\n",
              "      <button class=\"colab-df-convert\" onclick=\"convertToInteractive('df-0d2dec9e-76ce-490d-8539-578938b9981d')\"\n",
              "              title=\"Convert this dataframe to an interactive table.\"\n",
              "              style=\"display:none;\">\n",
              "        \n",
              "  <svg xmlns=\"http://www.w3.org/2000/svg\" height=\"24px\"viewBox=\"0 0 24 24\"\n",
              "       width=\"24px\">\n",
              "    <path d=\"M0 0h24v24H0V0z\" fill=\"none\"/>\n",
              "    <path d=\"M18.56 5.44l.94 2.06.94-2.06 2.06-.94-2.06-.94-.94-2.06-.94 2.06-2.06.94zm-11 1L8.5 8.5l.94-2.06 2.06-.94-2.06-.94L8.5 2.5l-.94 2.06-2.06.94zm10 10l.94 2.06.94-2.06 2.06-.94-2.06-.94-.94-2.06-.94 2.06-2.06.94z\"/><path d=\"M17.41 7.96l-1.37-1.37c-.4-.4-.92-.59-1.43-.59-.52 0-1.04.2-1.43.59L10.3 9.45l-7.72 7.72c-.78.78-.78 2.05 0 2.83L4 21.41c.39.39.9.59 1.41.59.51 0 1.02-.2 1.41-.59l7.78-7.78 2.81-2.81c.8-.78.8-2.07 0-2.86zM5.41 20L4 18.59l7.72-7.72 1.47 1.35L5.41 20z\"/>\n",
              "  </svg>\n",
              "      </button>\n",
              "      \n",
              "  <style>\n",
              "    .colab-df-container {\n",
              "      display:flex;\n",
              "      flex-wrap:wrap;\n",
              "      gap: 12px;\n",
              "    }\n",
              "\n",
              "    .colab-df-convert {\n",
              "      background-color: #E8F0FE;\n",
              "      border: none;\n",
              "      border-radius: 50%;\n",
              "      cursor: pointer;\n",
              "      display: none;\n",
              "      fill: #1967D2;\n",
              "      height: 32px;\n",
              "      padding: 0 0 0 0;\n",
              "      width: 32px;\n",
              "    }\n",
              "\n",
              "    .colab-df-convert:hover {\n",
              "      background-color: #E2EBFA;\n",
              "      box-shadow: 0px 1px 2px rgba(60, 64, 67, 0.3), 0px 1px 3px 1px rgba(60, 64, 67, 0.15);\n",
              "      fill: #174EA6;\n",
              "    }\n",
              "\n",
              "    [theme=dark] .colab-df-convert {\n",
              "      background-color: #3B4455;\n",
              "      fill: #D2E3FC;\n",
              "    }\n",
              "\n",
              "    [theme=dark] .colab-df-convert:hover {\n",
              "      background-color: #434B5C;\n",
              "      box-shadow: 0px 1px 3px 1px rgba(0, 0, 0, 0.15);\n",
              "      filter: drop-shadow(0px 1px 2px rgba(0, 0, 0, 0.3));\n",
              "      fill: #FFFFFF;\n",
              "    }\n",
              "  </style>\n",
              "\n",
              "      <script>\n",
              "        const buttonEl =\n",
              "          document.querySelector('#df-0d2dec9e-76ce-490d-8539-578938b9981d button.colab-df-convert');\n",
              "        buttonEl.style.display =\n",
              "          google.colab.kernel.accessAllowed ? 'block' : 'none';\n",
              "\n",
              "        async function convertToInteractive(key) {\n",
              "          const element = document.querySelector('#df-0d2dec9e-76ce-490d-8539-578938b9981d');\n",
              "          const dataTable =\n",
              "            await google.colab.kernel.invokeFunction('convertToInteractive',\n",
              "                                                     [key], {});\n",
              "          if (!dataTable) return;\n",
              "\n",
              "          const docLinkHtml = 'Like what you see? Visit the ' +\n",
              "            '<a target=\"_blank\" href=https://colab.research.google.com/notebooks/data_table.ipynb>data table notebook</a>'\n",
              "            + ' to learn more about interactive tables.';\n",
              "          element.innerHTML = '';\n",
              "          dataTable['output_type'] = 'display_data';\n",
              "          await google.colab.output.renderOutput(dataTable, element);\n",
              "          const docLink = document.createElement('div');\n",
              "          docLink.innerHTML = docLinkHtml;\n",
              "          element.appendChild(docLink);\n",
              "        }\n",
              "      </script>\n",
              "    </div>\n",
              "  </div>\n",
              "  "
            ],
            "application/vnd.google.colaboratory.module+javascript": "\n      import \"https://ssl.gstatic.com/colaboratory/data_table/a8bd4d5e58f96183/data_table.js\";\n\n      window.createDataTable({\n        data: [[{\n            'v': 4,\n            'f': \"4\",\n        },\n\"Moving from React to htmx\",\n\"[68, 278, 181, 53, 191]\"],\n [{\n            'v': 9,\n            'f': \"9\",\n        },\n\"Carefulwords.com, a more inspiring thesaurus\",\n\"[3, 295, 17, 281, 257]\"],\n [{\n            'v': 10,\n            'f': \"10\",\n        },\n\"Streaming data in Postgres to 1M clients with GraphQL\",\n\"[229, 34, 21, 173, 294]\"],\n [{\n            'v': 11,\n            'f': \"11\",\n        },\n\"Yagni Exceptions\",\n\"[29, 154, 73, 263, 143]\"],\n [{\n            'v': 12,\n            'f': \"12\",\n        },\n\"How to build software like an SRE\",\n\"[253, 152, 109, 158, 94]\"],\n [{\n            'v': 13,\n            'f': \"13\",\n        },\n\"Projectbook \\u2013 a free collection of 100 project ideas for learning\",\n\"[148, 75, 253, 109, 122]\"],\n [{\n            'v': 14,\n            'f': \"14\",\n        },\n\"I am endlessly fascinated with content tagging systems\",\n\"[141, 47, 281, 17, 3]\"],\n [{\n            'v': 15,\n            'f': \"15\",\n        },\n\"81% of IT teams directed to reduce or halt cloud spending\",\n\"[21, 216, 137, 23, 123]\"],\n [{\n            'v': 16,\n            'f': \"16\",\n        },\n\"Wait vs. Interrupt Culture\",\n\"[83, 279, 256, 289, 56]\"],\n [{\n            'v': 17,\n            'f': \"17\",\n        },\n\"Has anyone managed to find enjoyment in their work after burnout?\",\n\"[186, 167, 189, 13, 26]\"],\n [{\n            'v': 18,\n            'f': \"18\",\n        },\n\"Write better error messages\",\n\"[64, 295, 144, 128, 186]\"],\n [{\n            'v': 19,\n            'f': \"19\",\n        },\n\"DevOps is broken\",\n\"[39, 253, 106, 140, 152]\"],\n [{\n            'v': 20,\n            'f': \"20\",\n        },\n\"Quirks, Caveats, and Gotchas in SQLite\",\n\"[34, 144, 16, 294, 21]\"],\n [{\n            'v': 21,\n            'f': \"21\",\n        },\n\"Kill Bill \\u2013 Open-Source Subscription Billing and Payments Platform\",\n\"[121, 10, 98, 92, 176]\"],\n [{\n            'v': 22,\n            'f': \"22\",\n        },\n\"Leveraging mispriced AWS spot instances\",\n\"[233, 216, 187, 21, 23]\"],\n [{\n            'v': 23,\n            'f': \"23\",\n        },\n\"GlueSQL: SQL database engine as a library\",\n\"[34, 294, 21, 20, 229]\"],\n [{\n            'v': 24,\n            'f': \"24\",\n        },\n\"Accounting for developers part III \\u2013 building a lending marketplace\",\n\"[253, 76, 22, 10, 92]\"],\n [{\n            'v': 25,\n            'f': \"25\",\n        },\n\"Pure Data as a plugin, with a new GUI\",\n\"[229, 94, 34, 68, 103]\"],\n [{\n            'v': 26,\n            'f': \"26\",\n        },\n\"A guide for getting started with self hosting\",\n\"[164, 170, 81, 34, 216]\"],\n [{\n            'v': 27,\n            'f': \"27\",\n        },\n\"I was tired of being a perfectionist so I built an app within 24 hours\",\n\"[25, 234, 298, 162, 253]\"],\n [{\n            'v': 28,\n            'f': \"28\",\n        },\n\"Incremental Parsing in Go\",\n\"[17, 125, 64, 236, 226]\"],\n [{\n            'v': 29,\n            'f': \"29\",\n        },\n\"How to show a not \\u201cso perfect\\u201d MVP to potential customers?\",\n\"[163, 167, 92, 14, 261]\"],\n [{\n            'v': 30,\n            'f': \"30\",\n        },\n\"Cloudflare Pages: Best server tech since CGI-bin?\",\n\"[21, 216, 164, 187, 23]\"],\n [{\n            'v': 31,\n            'f': \"31\",\n        },\n\"Gamification affects software developers: Cautionary evidence from GitHub\",\n\"[253, 140, 32, 25, 106]\"],\n [{\n            'v': 32,\n            'f': \"32\",\n        },\n\"Maintaining sufficient free space with ZFS\",\n\"[21, 170, 294, 125, 169]\"],\n [{\n            'v': 33,\n            'f': \"33\",\n        },\n\"Buffers on the Edge: Python and Rust\",\n\"[125, 243, 256, 152, 274]\"],\n [{\n            'v': 34,\n            'f': \"34\",\n        },\n\"Sonic: Fast, lightweight and schema-less search backend\",\n\"[117, 86, 70, 294, 16]\"]],\n        columns: [[\"number\", \"index\"], [\"string\", \"title\"], [\"string\", \"similar_topics\"]],\n        columnOptions: [{\"width\": \"1px\", \"className\": \"index_column\"}],\n        rowsPerPage: 25,\n        helpUrl: \"https://colab.research.google.com/notebooks/data_table.ipynb\",\n        suppressOutputScrolling: true,\n        minimumWidth: undefined,\n      });\n    "
          },
          "metadata": {},
          "execution_count": 14
        }
      ]
    },
    {
      "cell_type": "code",
      "source": [
        "# Test set NOT in test_data\n",
        "# Update: upon further introspection, these entries are actually from before\n",
        "#         14-10-2022 and I somehow opened them in my tab after 14-10-2022.\n",
        "#         to fix it, add it to the validation set\n",
        "test_set_fix = test_set[~test_set.title.isin(test_data.title)].copy()\n",
        "test_set_fix"
      ],
      "metadata": {
        "colab": {
          "base_uri": "https://localhost:8080/",
          "height": 266
        },
        "id": "dzozlG2JTo5Z",
        "outputId": "8bf20923-82b1-49f6-dbc7-69c1796eb0b3"
      },
      "execution_count": null,
      "outputs": [
        {
          "output_type": "execute_result",
          "data": {
            "text/plain": [
              "                                               title            similar_topics\n",
              "0  The Deadlock Empire: A game that teaches locki...    [170, 184, 65, 43, 84]\n",
              "1                      Implementing Hash Tables in C   [125, 64, 144, 248, 54]\n",
              "2                 What to do to be healthy when old?     [262, 0, 213, 96, 33]\n",
              "3  If you used to be socially awkward and shy, ho...  [235, 250, 148, 29, 239]\n",
              "5                               Git Command Explorer  [106, 152, 140, 39, 253]\n",
              "6          One million queries per second with MySQL   [256, 294, 2, 229, 236]\n",
              "7                  SQLite: Past, Present, and Future    [34, 16, 294, 144, 70]\n",
              "8         Structural pattern matching in Python 3.10    [225, 129, 65, 54, 29]"
            ],
            "text/html": [
              "\n",
              "  <div id=\"df-ea984ade-3b69-47c8-b414-f9bcff95b2c2\">\n",
              "    <div class=\"colab-df-container\">\n",
              "      <div>\n",
              "<style scoped>\n",
              "    .dataframe tbody tr th:only-of-type {\n",
              "        vertical-align: middle;\n",
              "    }\n",
              "\n",
              "    .dataframe tbody tr th {\n",
              "        vertical-align: top;\n",
              "    }\n",
              "\n",
              "    .dataframe thead th {\n",
              "        text-align: right;\n",
              "    }\n",
              "</style>\n",
              "<table border=\"1\" class=\"dataframe\">\n",
              "  <thead>\n",
              "    <tr style=\"text-align: right;\">\n",
              "      <th></th>\n",
              "      <th>title</th>\n",
              "      <th>similar_topics</th>\n",
              "    </tr>\n",
              "  </thead>\n",
              "  <tbody>\n",
              "    <tr>\n",
              "      <th>0</th>\n",
              "      <td>The Deadlock Empire: A game that teaches locki...</td>\n",
              "      <td>[170, 184, 65, 43, 84]</td>\n",
              "    </tr>\n",
              "    <tr>\n",
              "      <th>1</th>\n",
              "      <td>Implementing Hash Tables in C</td>\n",
              "      <td>[125, 64, 144, 248, 54]</td>\n",
              "    </tr>\n",
              "    <tr>\n",
              "      <th>2</th>\n",
              "      <td>What to do to be healthy when old?</td>\n",
              "      <td>[262, 0, 213, 96, 33]</td>\n",
              "    </tr>\n",
              "    <tr>\n",
              "      <th>3</th>\n",
              "      <td>If you used to be socially awkward and shy, ho...</td>\n",
              "      <td>[235, 250, 148, 29, 239]</td>\n",
              "    </tr>\n",
              "    <tr>\n",
              "      <th>5</th>\n",
              "      <td>Git Command Explorer</td>\n",
              "      <td>[106, 152, 140, 39, 253]</td>\n",
              "    </tr>\n",
              "    <tr>\n",
              "      <th>6</th>\n",
              "      <td>One million queries per second with MySQL</td>\n",
              "      <td>[256, 294, 2, 229, 236]</td>\n",
              "    </tr>\n",
              "    <tr>\n",
              "      <th>7</th>\n",
              "      <td>SQLite: Past, Present, and Future</td>\n",
              "      <td>[34, 16, 294, 144, 70]</td>\n",
              "    </tr>\n",
              "    <tr>\n",
              "      <th>8</th>\n",
              "      <td>Structural pattern matching in Python 3.10</td>\n",
              "      <td>[225, 129, 65, 54, 29]</td>\n",
              "    </tr>\n",
              "  </tbody>\n",
              "</table>\n",
              "</div>\n",
              "      <button class=\"colab-df-convert\" onclick=\"convertToInteractive('df-ea984ade-3b69-47c8-b414-f9bcff95b2c2')\"\n",
              "              title=\"Convert this dataframe to an interactive table.\"\n",
              "              style=\"display:none;\">\n",
              "        \n",
              "  <svg xmlns=\"http://www.w3.org/2000/svg\" height=\"24px\"viewBox=\"0 0 24 24\"\n",
              "       width=\"24px\">\n",
              "    <path d=\"M0 0h24v24H0V0z\" fill=\"none\"/>\n",
              "    <path d=\"M18.56 5.44l.94 2.06.94-2.06 2.06-.94-2.06-.94-.94-2.06-.94 2.06-2.06.94zm-11 1L8.5 8.5l.94-2.06 2.06-.94-2.06-.94L8.5 2.5l-.94 2.06-2.06.94zm10 10l.94 2.06.94-2.06 2.06-.94-2.06-.94-.94-2.06-.94 2.06-2.06.94z\"/><path d=\"M17.41 7.96l-1.37-1.37c-.4-.4-.92-.59-1.43-.59-.52 0-1.04.2-1.43.59L10.3 9.45l-7.72 7.72c-.78.78-.78 2.05 0 2.83L4 21.41c.39.39.9.59 1.41.59.51 0 1.02-.2 1.41-.59l7.78-7.78 2.81-2.81c.8-.78.8-2.07 0-2.86zM5.41 20L4 18.59l7.72-7.72 1.47 1.35L5.41 20z\"/>\n",
              "  </svg>\n",
              "      </button>\n",
              "      \n",
              "  <style>\n",
              "    .colab-df-container {\n",
              "      display:flex;\n",
              "      flex-wrap:wrap;\n",
              "      gap: 12px;\n",
              "    }\n",
              "\n",
              "    .colab-df-convert {\n",
              "      background-color: #E8F0FE;\n",
              "      border: none;\n",
              "      border-radius: 50%;\n",
              "      cursor: pointer;\n",
              "      display: none;\n",
              "      fill: #1967D2;\n",
              "      height: 32px;\n",
              "      padding: 0 0 0 0;\n",
              "      width: 32px;\n",
              "    }\n",
              "\n",
              "    .colab-df-convert:hover {\n",
              "      background-color: #E2EBFA;\n",
              "      box-shadow: 0px 1px 2px rgba(60, 64, 67, 0.3), 0px 1px 3px 1px rgba(60, 64, 67, 0.15);\n",
              "      fill: #174EA6;\n",
              "    }\n",
              "\n",
              "    [theme=dark] .colab-df-convert {\n",
              "      background-color: #3B4455;\n",
              "      fill: #D2E3FC;\n",
              "    }\n",
              "\n",
              "    [theme=dark] .colab-df-convert:hover {\n",
              "      background-color: #434B5C;\n",
              "      box-shadow: 0px 1px 3px 1px rgba(0, 0, 0, 0.15);\n",
              "      filter: drop-shadow(0px 1px 2px rgba(0, 0, 0, 0.3));\n",
              "      fill: #FFFFFF;\n",
              "    }\n",
              "  </style>\n",
              "\n",
              "      <script>\n",
              "        const buttonEl =\n",
              "          document.querySelector('#df-ea984ade-3b69-47c8-b414-f9bcff95b2c2 button.colab-df-convert');\n",
              "        buttonEl.style.display =\n",
              "          google.colab.kernel.accessAllowed ? 'block' : 'none';\n",
              "\n",
              "        async function convertToInteractive(key) {\n",
              "          const element = document.querySelector('#df-ea984ade-3b69-47c8-b414-f9bcff95b2c2');\n",
              "          const dataTable =\n",
              "            await google.colab.kernel.invokeFunction('convertToInteractive',\n",
              "                                                     [key], {});\n",
              "          if (!dataTable) return;\n",
              "\n",
              "          const docLinkHtml = 'Like what you see? Visit the ' +\n",
              "            '<a target=\"_blank\" href=https://colab.research.google.com/notebooks/data_table.ipynb>data table notebook</a>'\n",
              "            + ' to learn more about interactive tables.';\n",
              "          element.innerHTML = '';\n",
              "          dataTable['output_type'] = 'display_data';\n",
              "          await google.colab.output.renderOutput(dataTable, element);\n",
              "          const docLink = document.createElement('div');\n",
              "          docLink.innerHTML = docLinkHtml;\n",
              "          element.appendChild(docLink);\n",
              "        }\n",
              "      </script>\n",
              "    </div>\n",
              "  </div>\n",
              "  "
            ],
            "application/vnd.google.colaboratory.module+javascript": "\n      import \"https://ssl.gstatic.com/colaboratory/data_table/a8bd4d5e58f96183/data_table.js\";\n\n      window.createDataTable({\n        data: [[{\n            'v': 0,\n            'f': \"0\",\n        },\n\"The Deadlock Empire: A game that teaches locking and concurrency\",\n\"[170, 184, 65, 43, 84]\"],\n [{\n            'v': 1,\n            'f': \"1\",\n        },\n\"Implementing Hash Tables in C\",\n\"[125, 64, 144, 248, 54]\"],\n [{\n            'v': 2,\n            'f': \"2\",\n        },\n\"What to do to be healthy when old?\",\n\"[262, 0, 213, 96, 33]\"],\n [{\n            'v': 3,\n            'f': \"3\",\n        },\n\"If you used to be socially awkward and shy, how did you improve?\",\n\"[235, 250, 148, 29, 239]\"],\n [{\n            'v': 5,\n            'f': \"5\",\n        },\n\"Git Command Explorer\",\n\"[106, 152, 140, 39, 253]\"],\n [{\n            'v': 6,\n            'f': \"6\",\n        },\n\"One million queries per second with MySQL\",\n\"[256, 294, 2, 229, 236]\"],\n [{\n            'v': 7,\n            'f': \"7\",\n        },\n\"SQLite: Past, Present, and Future\",\n\"[34, 16, 294, 144, 70]\"],\n [{\n            'v': 8,\n            'f': \"8\",\n        },\n\"Structural pattern matching in Python 3.10\",\n\"[225, 129, 65, 54, 29]\"]],\n        columns: [[\"number\", \"index\"], [\"string\", \"title\"], [\"string\", \"similar_topics\"]],\n        columnOptions: [{\"width\": \"1px\", \"className\": \"index_column\"}],\n        rowsPerPage: 25,\n        helpUrl: \"https://colab.research.google.com/notebooks/data_table.ipynb\",\n        suppressOutputScrolling: true,\n        minimumWidth: undefined,\n      });\n    "
          },
          "metadata": {},
          "execution_count": 18
        }
      ]
    },
    {
      "cell_type": "code",
      "source": [
        "# Add test_set_fix to the the validation_set\n",
        "validation_set_fix = pd.concat([validation_set, test_set_fix]).reset_index(drop=True)"
      ],
      "metadata": {
        "id": "VXea7-CPg_2j"
      },
      "execution_count": null,
      "outputs": []
    },
    {
      "cell_type": "code",
      "source": [
        "# Remove test_set_fix from the validation_set\n",
        "test_set = test_set[test_set.title.isin(test_data.title)].copy()"
      ],
      "metadata": {
        "id": "Cekzbf7Dh6xY"
      },
      "execution_count": null,
      "outputs": []
    },
    {
      "cell_type": "code",
      "source": [
        "validation_set_fix.to_csv(validation_set_with_topics_path, index=False)\n",
        "test_set.to_csv(test_set_with_topics_path, index=False)"
      ],
      "metadata": {
        "id": "DVyLwMiMhy0X"
      },
      "execution_count": null,
      "outputs": []
    },
    {
      "cell_type": "markdown",
      "source": [
        "##### Constructing User's Profile"
      ],
      "metadata": {
        "id": "Ie-8djCtj3Yx"
      }
    },
    {
      "cell_type": "code",
      "source": [
        "validation_set = pd.read_csv(validation_set_with_topics_path, converters={'similar_topics': eval})\n",
        "test_set = pd.read_csv(test_set_with_topics_path, converters={'similar_topics': eval})\n",
        "test_data = pd.read_csv(test_data_with_topics_path, parse_dates=['timestamp'], converters={'similar_topics': eval})"
      ],
      "metadata": {
        "id": "fKK_eM_0rQAx"
      },
      "execution_count": null,
      "outputs": []
    },
    {
      "cell_type": "code",
      "source": [
        "validation_set = validation_set.explode('similar_topics')\n",
        "# test_set = test_set.explode('similar_topics')\n",
        "# test_data = test_data.explode('similar_topics')"
      ],
      "metadata": {
        "id": "cU5MOck-QvBw"
      },
      "execution_count": null,
      "outputs": []
    },
    {
      "cell_type": "code",
      "source": [
        "user_profile = (\n",
        "    validation_set\n",
        "        .similar_topics\n",
        "        .value_counts(normalize=True)\n",
        ")\n",
        "user_profile"
      ],
      "metadata": {
        "colab": {
          "base_uri": "https://localhost:8080/"
        },
        "id": "lsi1m8v6r-TU",
        "outputId": "e4e5a397-e8ed-4111-b8cc-c610798d9e25"
      },
      "execution_count": null,
      "outputs": [
        {
          "output_type": "execute_result",
          "data": {
            "text/plain": [
              "109    0.029611\n",
              "64     0.023547\n",
              "21     0.022335\n",
              "144    0.020718\n",
              "253    0.018696\n",
              "         ...   \n",
              "259    0.000202\n",
              "157    0.000202\n",
              "99     0.000101\n",
              "134    0.000101\n",
              "116    0.000101\n",
              "Name: similar_topics, Length: 300, dtype: float64"
            ]
          },
          "metadata": {},
          "execution_count": 46
        }
      ]
    },
    {
      "cell_type": "markdown",
      "source": [
        "##### Testing"
      ],
      "metadata": {
        "id": "bZ_8rhR0OvS-"
      }
    },
    {
      "cell_type": "code",
      "source": [
        "test_data.head()"
      ],
      "metadata": {
        "colab": {
          "base_uri": "https://localhost:8080/",
          "height": 283
        },
        "id": "2kp36I-5sUw-",
        "outputId": "cb9ce55c-82c6-44c9-cc7f-ef5479042036"
      },
      "execution_count": null,
      "outputs": [
        {
          "output_type": "execute_result",
          "data": {
            "text/plain": [
              "                                               title            timestamp  \\\n",
              "0  The comparative recency of the proximal ancest...  2022-10-14 00:01:15   \n",
              "1  A new algorithm predicts response to Sertralin...  2022-10-14 00:01:41   \n",
              "2  AI Image Generation Is Advancing at Astronomic...  2022-10-14 00:16:07   \n",
              "3  The Russian Space Program Is Falling Back to E...  2022-10-14 00:17:16   \n",
              "4               It was all downhill after the Cuecat  2022-10-14 00:22:40   \n",
              "\n",
              "              similar_topics  \n",
              "0    [87, 286, 203, 48, 130]  \n",
              "1      [96, 9, 151, 204, 54]  \n",
              "2         [201, 9, 4, 27, 2]  \n",
              "3  [130, 118, 102, 205, 280]  \n",
              "4   [274, 40, 168, 155, 272]  "
            ],
            "text/html": [
              "\n",
              "  <div id=\"df-fac55194-0bc3-42e8-bdbe-14688d3d164d\">\n",
              "    <div class=\"colab-df-container\">\n",
              "      <div>\n",
              "<style scoped>\n",
              "    .dataframe tbody tr th:only-of-type {\n",
              "        vertical-align: middle;\n",
              "    }\n",
              "\n",
              "    .dataframe tbody tr th {\n",
              "        vertical-align: top;\n",
              "    }\n",
              "\n",
              "    .dataframe thead th {\n",
              "        text-align: right;\n",
              "    }\n",
              "</style>\n",
              "<table border=\"1\" class=\"dataframe\">\n",
              "  <thead>\n",
              "    <tr style=\"text-align: right;\">\n",
              "      <th></th>\n",
              "      <th>title</th>\n",
              "      <th>timestamp</th>\n",
              "      <th>similar_topics</th>\n",
              "    </tr>\n",
              "  </thead>\n",
              "  <tbody>\n",
              "    <tr>\n",
              "      <th>0</th>\n",
              "      <td>The comparative recency of the proximal ancest...</td>\n",
              "      <td>2022-10-14 00:01:15</td>\n",
              "      <td>[87, 286, 203, 48, 130]</td>\n",
              "    </tr>\n",
              "    <tr>\n",
              "      <th>1</th>\n",
              "      <td>A new algorithm predicts response to Sertralin...</td>\n",
              "      <td>2022-10-14 00:01:41</td>\n",
              "      <td>[96, 9, 151, 204, 54]</td>\n",
              "    </tr>\n",
              "    <tr>\n",
              "      <th>2</th>\n",
              "      <td>AI Image Generation Is Advancing at Astronomic...</td>\n",
              "      <td>2022-10-14 00:16:07</td>\n",
              "      <td>[201, 9, 4, 27, 2]</td>\n",
              "    </tr>\n",
              "    <tr>\n",
              "      <th>3</th>\n",
              "      <td>The Russian Space Program Is Falling Back to E...</td>\n",
              "      <td>2022-10-14 00:17:16</td>\n",
              "      <td>[130, 118, 102, 205, 280]</td>\n",
              "    </tr>\n",
              "    <tr>\n",
              "      <th>4</th>\n",
              "      <td>It was all downhill after the Cuecat</td>\n",
              "      <td>2022-10-14 00:22:40</td>\n",
              "      <td>[274, 40, 168, 155, 272]</td>\n",
              "    </tr>\n",
              "  </tbody>\n",
              "</table>\n",
              "</div>\n",
              "      <button class=\"colab-df-convert\" onclick=\"convertToInteractive('df-fac55194-0bc3-42e8-bdbe-14688d3d164d')\"\n",
              "              title=\"Convert this dataframe to an interactive table.\"\n",
              "              style=\"display:none;\">\n",
              "        \n",
              "  <svg xmlns=\"http://www.w3.org/2000/svg\" height=\"24px\"viewBox=\"0 0 24 24\"\n",
              "       width=\"24px\">\n",
              "    <path d=\"M0 0h24v24H0V0z\" fill=\"none\"/>\n",
              "    <path d=\"M18.56 5.44l.94 2.06.94-2.06 2.06-.94-2.06-.94-.94-2.06-.94 2.06-2.06.94zm-11 1L8.5 8.5l.94-2.06 2.06-.94-2.06-.94L8.5 2.5l-.94 2.06-2.06.94zm10 10l.94 2.06.94-2.06 2.06-.94-2.06-.94-.94-2.06-.94 2.06-2.06.94z\"/><path d=\"M17.41 7.96l-1.37-1.37c-.4-.4-.92-.59-1.43-.59-.52 0-1.04.2-1.43.59L10.3 9.45l-7.72 7.72c-.78.78-.78 2.05 0 2.83L4 21.41c.39.39.9.59 1.41.59.51 0 1.02-.2 1.41-.59l7.78-7.78 2.81-2.81c.8-.78.8-2.07 0-2.86zM5.41 20L4 18.59l7.72-7.72 1.47 1.35L5.41 20z\"/>\n",
              "  </svg>\n",
              "      </button>\n",
              "      \n",
              "  <style>\n",
              "    .colab-df-container {\n",
              "      display:flex;\n",
              "      flex-wrap:wrap;\n",
              "      gap: 12px;\n",
              "    }\n",
              "\n",
              "    .colab-df-convert {\n",
              "      background-color: #E8F0FE;\n",
              "      border: none;\n",
              "      border-radius: 50%;\n",
              "      cursor: pointer;\n",
              "      display: none;\n",
              "      fill: #1967D2;\n",
              "      height: 32px;\n",
              "      padding: 0 0 0 0;\n",
              "      width: 32px;\n",
              "    }\n",
              "\n",
              "    .colab-df-convert:hover {\n",
              "      background-color: #E2EBFA;\n",
              "      box-shadow: 0px 1px 2px rgba(60, 64, 67, 0.3), 0px 1px 3px 1px rgba(60, 64, 67, 0.15);\n",
              "      fill: #174EA6;\n",
              "    }\n",
              "\n",
              "    [theme=dark] .colab-df-convert {\n",
              "      background-color: #3B4455;\n",
              "      fill: #D2E3FC;\n",
              "    }\n",
              "\n",
              "    [theme=dark] .colab-df-convert:hover {\n",
              "      background-color: #434B5C;\n",
              "      box-shadow: 0px 1px 3px 1px rgba(0, 0, 0, 0.15);\n",
              "      filter: drop-shadow(0px 1px 2px rgba(0, 0, 0, 0.3));\n",
              "      fill: #FFFFFF;\n",
              "    }\n",
              "  </style>\n",
              "\n",
              "      <script>\n",
              "        const buttonEl =\n",
              "          document.querySelector('#df-fac55194-0bc3-42e8-bdbe-14688d3d164d button.colab-df-convert');\n",
              "        buttonEl.style.display =\n",
              "          google.colab.kernel.accessAllowed ? 'block' : 'none';\n",
              "\n",
              "        async function convertToInteractive(key) {\n",
              "          const element = document.querySelector('#df-fac55194-0bc3-42e8-bdbe-14688d3d164d');\n",
              "          const dataTable =\n",
              "            await google.colab.kernel.invokeFunction('convertToInteractive',\n",
              "                                                     [key], {});\n",
              "          if (!dataTable) return;\n",
              "\n",
              "          const docLinkHtml = 'Like what you see? Visit the ' +\n",
              "            '<a target=\"_blank\" href=https://colab.research.google.com/notebooks/data_table.ipynb>data table notebook</a>'\n",
              "            + ' to learn more about interactive tables.';\n",
              "          element.innerHTML = '';\n",
              "          dataTable['output_type'] = 'display_data';\n",
              "          await google.colab.output.renderOutput(dataTable, element);\n",
              "          const docLink = document.createElement('div');\n",
              "          docLink.innerHTML = docLinkHtml;\n",
              "          element.appendChild(docLink);\n",
              "        }\n",
              "      </script>\n",
              "    </div>\n",
              "  </div>\n",
              "  "
            ],
            "application/vnd.google.colaboratory.module+javascript": "\n      import \"https://ssl.gstatic.com/colaboratory/data_table/a8bd4d5e58f96183/data_table.js\";\n\n      window.createDataTable({\n        data: [[{\n            'v': 0,\n            'f': \"0\",\n        },\n\"The comparative recency of the proximal ancestors of SARS-CoV-1 and SARS-CoV-2\",\n\"2022-10-14 00:01:15\",\n\"[87, 286, 203, 48, 130]\"],\n [{\n            'v': 1,\n            'f': \"1\",\n        },\n\"A new algorithm predicts response to Sertraline with 83 percent accuracy\",\n\"2022-10-14 00:01:41\",\n\"[96, 9, 151, 204, 54]\"],\n [{\n            'v': 2,\n            'f': \"2\",\n        },\n\"AI Image Generation Is Advancing at Astronomical Speeds. Can We Still Tell If\",\n\"2022-10-14 00:16:07\",\n\"[201, 9, 4, 27, 2]\"],\n [{\n            'v': 3,\n            'f': \"3\",\n        },\n\"The Russian Space Program Is Falling Back to Earth\",\n\"2022-10-14 00:17:16\",\n\"[130, 118, 102, 205, 280]\"],\n [{\n            'v': 4,\n            'f': \"4\",\n        },\n\"It was all downhill after the Cuecat\",\n\"2022-10-14 00:22:40\",\n\"[274, 40, 168, 155, 272]\"]],\n        columns: [[\"number\", \"index\"], [\"string\", \"title\"], [\"string\", \"timestamp\"], [\"string\", \"similar_topics\"]],\n        columnOptions: [{\"width\": \"1px\", \"className\": \"index_column\"}],\n        rowsPerPage: 25,\n        helpUrl: \"https://colab.research.google.com/notebooks/data_table.ipynb\",\n        suppressOutputScrolling: true,\n        minimumWidth: undefined,\n      });\n    "
          },
          "metadata": {},
          "execution_count": 56
        }
      ]
    },
    {
      "cell_type": "code",
      "source": [
        "def similarity_calculation(similar_topic):\n",
        "    return sum([user_profile[topic_index]\n",
        "                for topic_index in similar_topic]) * 1000"
      ],
      "metadata": {
        "id": "KOMTfodIugcQ"
      },
      "execution_count": null,
      "outputs": []
    },
    {
      "cell_type": "code",
      "source": [
        "test_set['similarity_score'] = (\n",
        "    test_set.similar_topics\n",
        "             .apply(similarity_calculation)\n",
        ")"
      ],
      "metadata": {
        "id": "PL8xd2LvzeLi"
      },
      "execution_count": null,
      "outputs": []
    },
    {
      "cell_type": "code",
      "source": [
        "print(f'Statistics for Test Set')\n",
        "print(f'-----------------------')\n",
        "print('Min: {}'.format(test_set['similarity_score'].min()))\n",
        "print('Max: {}'.format(test_set['similarity_score'].max()))\n",
        "print('Mean: {}'.format(test_set['similarity_score'].mean()))\n",
        "print('Median: {}'.format(test_set['similarity_score'].quantile(.5)))"
      ],
      "metadata": {
        "colab": {
          "base_uri": "https://localhost:8080/"
        },
        "id": "Fwjw4bhFy-So",
        "outputId": "604bd1d1-6ba8-432a-ed82-ae494b4b3452"
      },
      "execution_count": null,
      "outputs": [
        {
          "output_type": "stream",
          "name": "stdout",
          "text": [
            "Statistics for Test Set\n",
            "-----------------------\n",
            "Min: 9.39868620515412\n",
            "Max: 85.09348155634159\n",
            "Mean: 41.62221847921696\n",
            "Median: 42.14249621020718\n"
          ]
        }
      ]
    },
    {
      "cell_type": "code",
      "source": [
        "test_set.sort_values('similarity_score')"
      ],
      "metadata": {
        "colab": {
          "base_uri": "https://localhost:8080/",
          "height": 644
        },
        "id": "6P8mzXfqzhom",
        "outputId": "a512e52a-511e-4812-ec50-b8df68702536"
      },
      "execution_count": null,
      "outputs": [
        {
          "output_type": "execute_result",
          "data": {
            "text/plain": [
              "                                                title  \\\n",
              "0                           Moving from React to htmx   \n",
              "13  Kill Bill – Open-Source Subscription Billing a...   \n",
              "3                                    Yagni Exceptions   \n",
              "9   Has anyone managed to find enjoyment in their ...   \n",
              "21  How to show a not “so perfect” MVP to potentia...   \n",
              "8                          Wait vs. Interrupt Culture   \n",
              "1        Carefulwords.com, a more inspiring thesaurus   \n",
              "19  I was tired of being a perfectionist so I buil...   \n",
              "6   I am endlessly fascinated with content tagging...   \n",
              "25               Buffers on the Edge: Python and Rust   \n",
              "17              Pure Data as a plugin, with a new GUI   \n",
              "18      A guide for getting started with self hosting   \n",
              "7   81% of IT teams directed to reduce or halt clo...   \n",
              "16  Accounting for developers part III – building ...   \n",
              "20                          Incremental Parsing in Go   \n",
              "26  Sonic: Fast, lightweight and schema-less searc...   \n",
              "14            Leveraging mispriced AWS spot instances   \n",
              "22  Cloudflare Pages: Best server tech since CGI-bin?   \n",
              "23  Gamification affects software developers: Caut...   \n",
              "10                        Write better error messages   \n",
              "24         Maintaining sufficient free space with ZFS   \n",
              "11                                   DevOps is broken   \n",
              "2   Streaming data in Postgres to 1M clients with ...   \n",
              "15          GlueSQL: SQL database engine as a library   \n",
              "5   Projectbook – a free collection of 100 project...   \n",
              "4                   How to build software like an SRE   \n",
              "12             Quirks, Caveats, and Gotchas in SQLite   \n",
              "\n",
              "               similar_topics  similarity_score  \n",
              "0     [68, 278, 181, 53, 191]          9.398686  \n",
              "13     [121, 10, 98, 92, 176]         12.733704  \n",
              "3     [29, 154, 73, 263, 143]         13.441132  \n",
              "9     [186, 167, 189, 13, 26]         15.765538  \n",
              "21    [163, 167, 92, 14, 261]         15.866599  \n",
              "8     [83, 279, 256, 289, 56]         19.403739  \n",
              "1      [3, 295, 17, 281, 257]         22.940879  \n",
              "19   [25, 234, 298, 162, 253]         25.164224  \n",
              "6       [141, 47, 281, 17, 3]         29.408792  \n",
              "25  [125, 243, 256, 152, 274]         34.663972  \n",
              "17     [229, 94, 34, 68, 103]         37.493684  \n",
              "18    [164, 170, 81, 34, 216]         37.998989  \n",
              "7     [21, 216, 137, 23, 123]         38.403234  \n",
              "16      [253, 76, 22, 10, 92]         42.142496  \n",
              "20    [17, 125, 64, 236, 226]         42.748863  \n",
              "26     [117, 86, 70, 294, 16]         45.780697  \n",
              "14    [233, 216, 187, 21, 23]         46.387064  \n",
              "22    [21, 216, 164, 187, 23]         47.094492  \n",
              "23    [253, 140, 32, 25, 106]         47.902981  \n",
              "10   [64, 295, 144, 128, 186]         56.897423  \n",
              "24   [21, 170, 294, 125, 169]         56.897423  \n",
              "11   [39, 253, 106, 140, 152]         61.647297  \n",
              "2     [229, 34, 21, 173, 294]         61.748358  \n",
              "15     [34, 294, 21, 20, 229]         62.556847  \n",
              "5    [148, 75, 253, 109, 122]         73.673573  \n",
              "4    [253, 152, 109, 158, 94]         80.545730  \n",
              "12     [34, 144, 16, 294, 21]         85.093482  "
            ],
            "text/html": [
              "\n",
              "  <div id=\"df-55d41bcb-cbe8-4be1-a445-6be0e42bc036\">\n",
              "    <div class=\"colab-df-container\">\n",
              "      <div>\n",
              "<style scoped>\n",
              "    .dataframe tbody tr th:only-of-type {\n",
              "        vertical-align: middle;\n",
              "    }\n",
              "\n",
              "    .dataframe tbody tr th {\n",
              "        vertical-align: top;\n",
              "    }\n",
              "\n",
              "    .dataframe thead th {\n",
              "        text-align: right;\n",
              "    }\n",
              "</style>\n",
              "<table border=\"1\" class=\"dataframe\">\n",
              "  <thead>\n",
              "    <tr style=\"text-align: right;\">\n",
              "      <th></th>\n",
              "      <th>title</th>\n",
              "      <th>similar_topics</th>\n",
              "      <th>similarity_score</th>\n",
              "    </tr>\n",
              "  </thead>\n",
              "  <tbody>\n",
              "    <tr>\n",
              "      <th>0</th>\n",
              "      <td>Moving from React to htmx</td>\n",
              "      <td>[68, 278, 181, 53, 191]</td>\n",
              "      <td>9.398686</td>\n",
              "    </tr>\n",
              "    <tr>\n",
              "      <th>13</th>\n",
              "      <td>Kill Bill – Open-Source Subscription Billing a...</td>\n",
              "      <td>[121, 10, 98, 92, 176]</td>\n",
              "      <td>12.733704</td>\n",
              "    </tr>\n",
              "    <tr>\n",
              "      <th>3</th>\n",
              "      <td>Yagni Exceptions</td>\n",
              "      <td>[29, 154, 73, 263, 143]</td>\n",
              "      <td>13.441132</td>\n",
              "    </tr>\n",
              "    <tr>\n",
              "      <th>9</th>\n",
              "      <td>Has anyone managed to find enjoyment in their ...</td>\n",
              "      <td>[186, 167, 189, 13, 26]</td>\n",
              "      <td>15.765538</td>\n",
              "    </tr>\n",
              "    <tr>\n",
              "      <th>21</th>\n",
              "      <td>How to show a not “so perfect” MVP to potentia...</td>\n",
              "      <td>[163, 167, 92, 14, 261]</td>\n",
              "      <td>15.866599</td>\n",
              "    </tr>\n",
              "    <tr>\n",
              "      <th>8</th>\n",
              "      <td>Wait vs. Interrupt Culture</td>\n",
              "      <td>[83, 279, 256, 289, 56]</td>\n",
              "      <td>19.403739</td>\n",
              "    </tr>\n",
              "    <tr>\n",
              "      <th>1</th>\n",
              "      <td>Carefulwords.com, a more inspiring thesaurus</td>\n",
              "      <td>[3, 295, 17, 281, 257]</td>\n",
              "      <td>22.940879</td>\n",
              "    </tr>\n",
              "    <tr>\n",
              "      <th>19</th>\n",
              "      <td>I was tired of being a perfectionist so I buil...</td>\n",
              "      <td>[25, 234, 298, 162, 253]</td>\n",
              "      <td>25.164224</td>\n",
              "    </tr>\n",
              "    <tr>\n",
              "      <th>6</th>\n",
              "      <td>I am endlessly fascinated with content tagging...</td>\n",
              "      <td>[141, 47, 281, 17, 3]</td>\n",
              "      <td>29.408792</td>\n",
              "    </tr>\n",
              "    <tr>\n",
              "      <th>25</th>\n",
              "      <td>Buffers on the Edge: Python and Rust</td>\n",
              "      <td>[125, 243, 256, 152, 274]</td>\n",
              "      <td>34.663972</td>\n",
              "    </tr>\n",
              "    <tr>\n",
              "      <th>17</th>\n",
              "      <td>Pure Data as a plugin, with a new GUI</td>\n",
              "      <td>[229, 94, 34, 68, 103]</td>\n",
              "      <td>37.493684</td>\n",
              "    </tr>\n",
              "    <tr>\n",
              "      <th>18</th>\n",
              "      <td>A guide for getting started with self hosting</td>\n",
              "      <td>[164, 170, 81, 34, 216]</td>\n",
              "      <td>37.998989</td>\n",
              "    </tr>\n",
              "    <tr>\n",
              "      <th>7</th>\n",
              "      <td>81% of IT teams directed to reduce or halt clo...</td>\n",
              "      <td>[21, 216, 137, 23, 123]</td>\n",
              "      <td>38.403234</td>\n",
              "    </tr>\n",
              "    <tr>\n",
              "      <th>16</th>\n",
              "      <td>Accounting for developers part III – building ...</td>\n",
              "      <td>[253, 76, 22, 10, 92]</td>\n",
              "      <td>42.142496</td>\n",
              "    </tr>\n",
              "    <tr>\n",
              "      <th>20</th>\n",
              "      <td>Incremental Parsing in Go</td>\n",
              "      <td>[17, 125, 64, 236, 226]</td>\n",
              "      <td>42.748863</td>\n",
              "    </tr>\n",
              "    <tr>\n",
              "      <th>26</th>\n",
              "      <td>Sonic: Fast, lightweight and schema-less searc...</td>\n",
              "      <td>[117, 86, 70, 294, 16]</td>\n",
              "      <td>45.780697</td>\n",
              "    </tr>\n",
              "    <tr>\n",
              "      <th>14</th>\n",
              "      <td>Leveraging mispriced AWS spot instances</td>\n",
              "      <td>[233, 216, 187, 21, 23]</td>\n",
              "      <td>46.387064</td>\n",
              "    </tr>\n",
              "    <tr>\n",
              "      <th>22</th>\n",
              "      <td>Cloudflare Pages: Best server tech since CGI-bin?</td>\n",
              "      <td>[21, 216, 164, 187, 23]</td>\n",
              "      <td>47.094492</td>\n",
              "    </tr>\n",
              "    <tr>\n",
              "      <th>23</th>\n",
              "      <td>Gamification affects software developers: Caut...</td>\n",
              "      <td>[253, 140, 32, 25, 106]</td>\n",
              "      <td>47.902981</td>\n",
              "    </tr>\n",
              "    <tr>\n",
              "      <th>10</th>\n",
              "      <td>Write better error messages</td>\n",
              "      <td>[64, 295, 144, 128, 186]</td>\n",
              "      <td>56.897423</td>\n",
              "    </tr>\n",
              "    <tr>\n",
              "      <th>24</th>\n",
              "      <td>Maintaining sufficient free space with ZFS</td>\n",
              "      <td>[21, 170, 294, 125, 169]</td>\n",
              "      <td>56.897423</td>\n",
              "    </tr>\n",
              "    <tr>\n",
              "      <th>11</th>\n",
              "      <td>DevOps is broken</td>\n",
              "      <td>[39, 253, 106, 140, 152]</td>\n",
              "      <td>61.647297</td>\n",
              "    </tr>\n",
              "    <tr>\n",
              "      <th>2</th>\n",
              "      <td>Streaming data in Postgres to 1M clients with ...</td>\n",
              "      <td>[229, 34, 21, 173, 294]</td>\n",
              "      <td>61.748358</td>\n",
              "    </tr>\n",
              "    <tr>\n",
              "      <th>15</th>\n",
              "      <td>GlueSQL: SQL database engine as a library</td>\n",
              "      <td>[34, 294, 21, 20, 229]</td>\n",
              "      <td>62.556847</td>\n",
              "    </tr>\n",
              "    <tr>\n",
              "      <th>5</th>\n",
              "      <td>Projectbook – a free collection of 100 project...</td>\n",
              "      <td>[148, 75, 253, 109, 122]</td>\n",
              "      <td>73.673573</td>\n",
              "    </tr>\n",
              "    <tr>\n",
              "      <th>4</th>\n",
              "      <td>How to build software like an SRE</td>\n",
              "      <td>[253, 152, 109, 158, 94]</td>\n",
              "      <td>80.545730</td>\n",
              "    </tr>\n",
              "    <tr>\n",
              "      <th>12</th>\n",
              "      <td>Quirks, Caveats, and Gotchas in SQLite</td>\n",
              "      <td>[34, 144, 16, 294, 21]</td>\n",
              "      <td>85.093482</td>\n",
              "    </tr>\n",
              "  </tbody>\n",
              "</table>\n",
              "</div>\n",
              "      <button class=\"colab-df-convert\" onclick=\"convertToInteractive('df-55d41bcb-cbe8-4be1-a445-6be0e42bc036')\"\n",
              "              title=\"Convert this dataframe to an interactive table.\"\n",
              "              style=\"display:none;\">\n",
              "        \n",
              "  <svg xmlns=\"http://www.w3.org/2000/svg\" height=\"24px\"viewBox=\"0 0 24 24\"\n",
              "       width=\"24px\">\n",
              "    <path d=\"M0 0h24v24H0V0z\" fill=\"none\"/>\n",
              "    <path d=\"M18.56 5.44l.94 2.06.94-2.06 2.06-.94-2.06-.94-.94-2.06-.94 2.06-2.06.94zm-11 1L8.5 8.5l.94-2.06 2.06-.94-2.06-.94L8.5 2.5l-.94 2.06-2.06.94zm10 10l.94 2.06.94-2.06 2.06-.94-2.06-.94-.94-2.06-.94 2.06-2.06.94z\"/><path d=\"M17.41 7.96l-1.37-1.37c-.4-.4-.92-.59-1.43-.59-.52 0-1.04.2-1.43.59L10.3 9.45l-7.72 7.72c-.78.78-.78 2.05 0 2.83L4 21.41c.39.39.9.59 1.41.59.51 0 1.02-.2 1.41-.59l7.78-7.78 2.81-2.81c.8-.78.8-2.07 0-2.86zM5.41 20L4 18.59l7.72-7.72 1.47 1.35L5.41 20z\"/>\n",
              "  </svg>\n",
              "      </button>\n",
              "      \n",
              "  <style>\n",
              "    .colab-df-container {\n",
              "      display:flex;\n",
              "      flex-wrap:wrap;\n",
              "      gap: 12px;\n",
              "    }\n",
              "\n",
              "    .colab-df-convert {\n",
              "      background-color: #E8F0FE;\n",
              "      border: none;\n",
              "      border-radius: 50%;\n",
              "      cursor: pointer;\n",
              "      display: none;\n",
              "      fill: #1967D2;\n",
              "      height: 32px;\n",
              "      padding: 0 0 0 0;\n",
              "      width: 32px;\n",
              "    }\n",
              "\n",
              "    .colab-df-convert:hover {\n",
              "      background-color: #E2EBFA;\n",
              "      box-shadow: 0px 1px 2px rgba(60, 64, 67, 0.3), 0px 1px 3px 1px rgba(60, 64, 67, 0.15);\n",
              "      fill: #174EA6;\n",
              "    }\n",
              "\n",
              "    [theme=dark] .colab-df-convert {\n",
              "      background-color: #3B4455;\n",
              "      fill: #D2E3FC;\n",
              "    }\n",
              "\n",
              "    [theme=dark] .colab-df-convert:hover {\n",
              "      background-color: #434B5C;\n",
              "      box-shadow: 0px 1px 3px 1px rgba(0, 0, 0, 0.15);\n",
              "      filter: drop-shadow(0px 1px 2px rgba(0, 0, 0, 0.3));\n",
              "      fill: #FFFFFF;\n",
              "    }\n",
              "  </style>\n",
              "\n",
              "      <script>\n",
              "        const buttonEl =\n",
              "          document.querySelector('#df-55d41bcb-cbe8-4be1-a445-6be0e42bc036 button.colab-df-convert');\n",
              "        buttonEl.style.display =\n",
              "          google.colab.kernel.accessAllowed ? 'block' : 'none';\n",
              "\n",
              "        async function convertToInteractive(key) {\n",
              "          const element = document.querySelector('#df-55d41bcb-cbe8-4be1-a445-6be0e42bc036');\n",
              "          const dataTable =\n",
              "            await google.colab.kernel.invokeFunction('convertToInteractive',\n",
              "                                                     [key], {});\n",
              "          if (!dataTable) return;\n",
              "\n",
              "          const docLinkHtml = 'Like what you see? Visit the ' +\n",
              "            '<a target=\"_blank\" href=https://colab.research.google.com/notebooks/data_table.ipynb>data table notebook</a>'\n",
              "            + ' to learn more about interactive tables.';\n",
              "          element.innerHTML = '';\n",
              "          dataTable['output_type'] = 'display_data';\n",
              "          await google.colab.output.renderOutput(dataTable, element);\n",
              "          const docLink = document.createElement('div');\n",
              "          docLink.innerHTML = docLinkHtml;\n",
              "          element.appendChild(docLink);\n",
              "        }\n",
              "      </script>\n",
              "    </div>\n",
              "  </div>\n",
              "  "
            ],
            "application/vnd.google.colaboratory.module+javascript": "\n      import \"https://ssl.gstatic.com/colaboratory/data_table/a8bd4d5e58f96183/data_table.js\";\n\n      window.createDataTable({\n        data: [[{\n            'v': 0,\n            'f': \"0\",\n        },\n\"Moving from React to htmx\",\n[68, 278, 181, 53, 191],\n{\n            'v': 9.39868620515412,\n            'f': \"9.39868620515412\",\n        }],\n [{\n            'v': 13,\n            'f': \"13\",\n        },\n\"Kill Bill \\u2013 Open-Source Subscription Billing and Payments Platform\",\n[121, 10, 98, 92, 176],\n{\n            'v': 12.733703890853969,\n            'f': \"12.733703890853969\",\n        }],\n [{\n            'v': 3,\n            'f': \"3\",\n        },\n\"Yagni Exceptions\",\n[29, 154, 73, 263, 143],\n{\n            'v': 13.441131884790298,\n            'f': \"13.441131884790298\",\n        }],\n [{\n            'v': 9,\n            'f': \"9\",\n        },\n\"Has anyone managed to find enjoyment in their work after burnout?\",\n[186, 167, 189, 13, 26],\n{\n            'v': 15.765538150581103,\n            'f': \"15.765538150581103\",\n        }],\n [{\n            'v': 21,\n            'f': \"21\",\n        },\n\"How to show a not \\u201cso perfect\\u201d MVP to potential customers?\",\n[163, 167, 92, 14, 261],\n{\n            'v': 15.866599292572007,\n            'f': \"15.866599292572007\",\n        }],\n [{\n            'v': 8,\n            'f': \"8\",\n        },\n\"Wait vs. Interrupt Culture\",\n[83, 279, 256, 289, 56],\n{\n            'v': 19.403739262253662,\n            'f': \"19.403739262253662\",\n        }],\n [{\n            'v': 1,\n            'f': \"1\",\n        },\n\"Carefulwords.com, a more inspiring thesaurus\",\n[3, 295, 17, 281, 257],\n{\n            'v': 22.940879231935323,\n            'f': \"22.940879231935323\",\n        }],\n [{\n            'v': 19,\n            'f': \"19\",\n        },\n\"I was tired of being a perfectionist so I built an app within 24 hours\",\n[25, 234, 298, 162, 253],\n{\n            'v': 25.164224355735218,\n            'f': \"25.164224355735218\",\n        }],\n [{\n            'v': 6,\n            'f': \"6\",\n        },\n\"I am endlessly fascinated with content tagging systems\",\n[141, 47, 281, 17, 3],\n{\n            'v': 29.40879231935321,\n            'f': \"29.40879231935321\",\n        }],\n [{\n            'v': 25,\n            'f': \"25\",\n        },\n\"Buffers on the Edge: Python and Rust\",\n[125, 243, 256, 152, 274],\n{\n            'v': 34.66397170288024,\n            'f': \"34.66397170288024\",\n        }],\n [{\n            'v': 17,\n            'f': \"17\",\n        },\n\"Pure Data as a plugin, with a new GUI\",\n[229, 94, 34, 68, 103],\n{\n            'v': 37.493683678625565,\n            'f': \"37.493683678625565\",\n        }],\n [{\n            'v': 18,\n            'f': \"18\",\n        },\n\"A guide for getting started with self hosting\",\n[164, 170, 81, 34, 216],\n{\n            'v': 37.998989388580085,\n            'f': \"37.998989388580085\",\n        }],\n [{\n            'v': 7,\n            'f': \"7\",\n        },\n\"81% of IT teams directed to reduce or halt cloud spending\",\n[21, 216, 137, 23, 123],\n{\n            'v': 38.403233956543716,\n            'f': \"38.403233956543716\",\n        }],\n [{\n            'v': 16,\n            'f': \"16\",\n        },\n\"Accounting for developers part III \\u2013 building a lending marketplace\",\n[253, 76, 22, 10, 92],\n{\n            'v': 42.14249621020718,\n            'f': \"42.14249621020718\",\n        }],\n [{\n            'v': 20,\n            'f': \"20\",\n        },\n\"Incremental Parsing in Go\",\n[17, 125, 64, 236, 226],\n{\n            'v': 42.7488630621526,\n            'f': \"42.7488630621526\",\n        }],\n [{\n            'v': 26,\n            'f': \"26\",\n        },\n\"Sonic: Fast, lightweight and schema-less search backend\",\n[117, 86, 70, 294, 16],\n{\n            'v': 45.78069732187974,\n            'f': \"45.78069732187974\",\n        }],\n [{\n            'v': 14,\n            'f': \"14\",\n        },\n\"Leveraging mispriced AWS spot instances\",\n[233, 216, 187, 21, 23],\n{\n            'v': 46.38706417382516,\n            'f': \"46.38706417382516\",\n        }],\n [{\n            'v': 22,\n            'f': \"22\",\n        },\n\"Cloudflare Pages: Best server tech since CGI-bin?\",\n[21, 216, 164, 187, 23],\n{\n            'v': 47.094492167761494,\n            'f': \"47.094492167761494\",\n        }],\n [{\n            'v': 23,\n            'f': \"23\",\n        },\n\"Gamification affects software developers: Cautionary evidence from GitHub\",\n[253, 140, 32, 25, 106],\n{\n            'v': 47.902981303688726,\n            'f': \"47.902981303688726\",\n        }],\n [{\n            'v': 10,\n            'f': \"10\",\n        },\n\"Write better error messages\",\n[64, 295, 144, 128, 186],\n{\n            'v': 56.89742294087923,\n            'f': \"56.89742294087923\",\n        }],\n [{\n            'v': 24,\n            'f': \"24\",\n        },\n\"Maintaining sufficient free space with ZFS\",\n[21, 170, 294, 125, 169],\n{\n            'v': 56.89742294087924,\n            'f': \"56.89742294087924\",\n        }],\n [{\n            'v': 11,\n            'f': \"11\",\n        },\n\"DevOps is broken\",\n[39, 253, 106, 140, 152],\n{\n            'v': 61.64729661445174,\n            'f': \"61.64729661445174\",\n        }],\n [{\n            'v': 2,\n            'f': \"2\",\n        },\n\"Streaming data in Postgres to 1M clients with GraphQL\",\n[229, 34, 21, 173, 294],\n{\n            'v': 61.74835775644265,\n            'f': \"61.74835775644265\",\n        }],\n [{\n            'v': 15,\n            'f': \"15\",\n        },\n\"GlueSQL: SQL database engine as a library\",\n[34, 294, 21, 20, 229],\n{\n            'v': 62.55684689236988,\n            'f': \"62.55684689236988\",\n        }],\n [{\n            'v': 5,\n            'f': \"5\",\n        },\n\"Projectbook \\u2013 a free collection of 100 project ideas for learning\",\n[148, 75, 253, 109, 122],\n{\n            'v': 73.67357251136937,\n            'f': \"73.67357251136937\",\n        }],\n [{\n            'v': 4,\n            'f': \"4\",\n        },\n\"How to build software like an SRE\",\n[253, 152, 109, 158, 94],\n{\n            'v': 80.54573016675089,\n            'f': \"80.54573016675089\",\n        }],\n [{\n            'v': 12,\n            'f': \"12\",\n        },\n\"Quirks, Caveats, and Gotchas in SQLite\",\n[34, 144, 16, 294, 21],\n{\n            'v': 85.09348155634159,\n            'f': \"85.09348155634159\",\n        }]],\n        columns: [[\"number\", \"index\"], [\"string\", \"title\"], [\"string\", \"similar_topics\"], [\"number\", \"similarity_score\"]],\n        columnOptions: [{\"width\": \"1px\", \"className\": \"index_column\"}],\n        rowsPerPage: 25,\n        helpUrl: \"https://colab.research.google.com/notebooks/data_table.ipynb\",\n        suppressOutputScrolling: true,\n        minimumWidth: undefined,\n      });\n    "
          },
          "metadata": {},
          "execution_count": 107
        }
      ]
    },
    {
      "cell_type": "code",
      "source": [
        "test_data['similarity_score'] = (\n",
        "    test_data.similar_topics\n",
        "             .apply(similarity_calculation)\n",
        ")\n",
        "test_data['similarity_score'].mean()"
      ],
      "metadata": {
        "colab": {
          "base_uri": "https://localhost:8080/"
        },
        "id": "4KAiu0ZKwVd5",
        "outputId": "d6edd0cb-1c07-4f48-dd3f-d0534380d897"
      },
      "execution_count": null,
      "outputs": [
        {
          "output_type": "execute_result",
          "data": {
            "text/plain": [
              "23.400888442182687"
            ]
          },
          "metadata": {},
          "execution_count": 96
        }
      ]
    },
    {
      "cell_type": "code",
      "source": [
        "take = 1000\n",
        "top_result = test_data.sort_values('similarity_score', ascending=False)[:take]\n",
        "got = top_result[top_result.title.isin(test_set.title)]\n",
        "got"
      ],
      "metadata": {
        "colab": {
          "base_uri": "https://localhost:8080/",
          "height": 551
        },
        "id": "2Fd4aO-EyIRO",
        "outputId": "d9947045-5c86-4d50-f4e0-0772e1574db3"
      },
      "execution_count": null,
      "outputs": [
        {
          "output_type": "execute_result",
          "data": {
            "text/plain": [
              "                                                  title            timestamp  \\\n",
              "1155             Quirks, Caveats, and Gotchas in SQLite  2022-10-15 13:54:09   \n",
              "4574                  How to build software like an SRE  2022-10-19 20:08:53   \n",
              "2656  Projectbook – a free collection of 100 project...  2022-10-17 17:11:37   \n",
              "7627          GlueSQL: SQL database engine as a library  2022-10-24 08:47:14   \n",
              "2514  Streaming data in Postgres to 1M clients with ...  2022-10-17 14:41:00   \n",
              "1830                                   DevOps is broken  2022-10-16 15:18:12   \n",
              "6734         Maintaining sufficient free space with ZFS  2022-10-22 14:47:31   \n",
              "4150                        Write better error messages  2022-10-19 12:27:18   \n",
              "8136  Gamification affects software developers: Caut...  2022-10-24 20:30:27   \n",
              "7436  Cloudflare Pages: Best server tech since CGI-bin?  2022-10-23 22:01:55   \n",
              "7503            Leveraging mispriced AWS spot instances  2022-10-24 01:24:29   \n",
              "7175  Sonic: Fast, lightweight and schema-less searc...  2022-10-23 12:48:17   \n",
              "\n",
              "                similar_topics  similarity_score  \n",
              "1155    [34, 144, 16, 294, 21]         85.093482  \n",
              "4574  [253, 152, 109, 158, 94]         80.545730  \n",
              "2656  [148, 75, 253, 109, 122]         73.673573  \n",
              "7627    [34, 294, 21, 20, 229]         62.556847  \n",
              "2514   [229, 34, 21, 173, 294]         61.748358  \n",
              "1830  [39, 253, 106, 140, 152]         61.647297  \n",
              "6734  [21, 170, 294, 125, 169]         56.897423  \n",
              "4150  [64, 295, 144, 128, 186]         56.897423  \n",
              "8136   [253, 140, 32, 25, 106]         47.902981  \n",
              "7436   [21, 216, 164, 187, 23]         47.094492  \n",
              "7503   [233, 216, 187, 21, 23]         46.387064  \n",
              "7175    [117, 86, 70, 294, 16]         45.780697  "
            ],
            "text/html": [
              "\n",
              "  <div id=\"df-10dfd599-b9f1-497d-81aa-a0cc87494011\">\n",
              "    <div class=\"colab-df-container\">\n",
              "      <div>\n",
              "<style scoped>\n",
              "    .dataframe tbody tr th:only-of-type {\n",
              "        vertical-align: middle;\n",
              "    }\n",
              "\n",
              "    .dataframe tbody tr th {\n",
              "        vertical-align: top;\n",
              "    }\n",
              "\n",
              "    .dataframe thead th {\n",
              "        text-align: right;\n",
              "    }\n",
              "</style>\n",
              "<table border=\"1\" class=\"dataframe\">\n",
              "  <thead>\n",
              "    <tr style=\"text-align: right;\">\n",
              "      <th></th>\n",
              "      <th>title</th>\n",
              "      <th>timestamp</th>\n",
              "      <th>similar_topics</th>\n",
              "      <th>similarity_score</th>\n",
              "    </tr>\n",
              "  </thead>\n",
              "  <tbody>\n",
              "    <tr>\n",
              "      <th>1155</th>\n",
              "      <td>Quirks, Caveats, and Gotchas in SQLite</td>\n",
              "      <td>2022-10-15 13:54:09</td>\n",
              "      <td>[34, 144, 16, 294, 21]</td>\n",
              "      <td>85.093482</td>\n",
              "    </tr>\n",
              "    <tr>\n",
              "      <th>4574</th>\n",
              "      <td>How to build software like an SRE</td>\n",
              "      <td>2022-10-19 20:08:53</td>\n",
              "      <td>[253, 152, 109, 158, 94]</td>\n",
              "      <td>80.545730</td>\n",
              "    </tr>\n",
              "    <tr>\n",
              "      <th>2656</th>\n",
              "      <td>Projectbook – a free collection of 100 project...</td>\n",
              "      <td>2022-10-17 17:11:37</td>\n",
              "      <td>[148, 75, 253, 109, 122]</td>\n",
              "      <td>73.673573</td>\n",
              "    </tr>\n",
              "    <tr>\n",
              "      <th>7627</th>\n",
              "      <td>GlueSQL: SQL database engine as a library</td>\n",
              "      <td>2022-10-24 08:47:14</td>\n",
              "      <td>[34, 294, 21, 20, 229]</td>\n",
              "      <td>62.556847</td>\n",
              "    </tr>\n",
              "    <tr>\n",
              "      <th>2514</th>\n",
              "      <td>Streaming data in Postgres to 1M clients with ...</td>\n",
              "      <td>2022-10-17 14:41:00</td>\n",
              "      <td>[229, 34, 21, 173, 294]</td>\n",
              "      <td>61.748358</td>\n",
              "    </tr>\n",
              "    <tr>\n",
              "      <th>1830</th>\n",
              "      <td>DevOps is broken</td>\n",
              "      <td>2022-10-16 15:18:12</td>\n",
              "      <td>[39, 253, 106, 140, 152]</td>\n",
              "      <td>61.647297</td>\n",
              "    </tr>\n",
              "    <tr>\n",
              "      <th>6734</th>\n",
              "      <td>Maintaining sufficient free space with ZFS</td>\n",
              "      <td>2022-10-22 14:47:31</td>\n",
              "      <td>[21, 170, 294, 125, 169]</td>\n",
              "      <td>56.897423</td>\n",
              "    </tr>\n",
              "    <tr>\n",
              "      <th>4150</th>\n",
              "      <td>Write better error messages</td>\n",
              "      <td>2022-10-19 12:27:18</td>\n",
              "      <td>[64, 295, 144, 128, 186]</td>\n",
              "      <td>56.897423</td>\n",
              "    </tr>\n",
              "    <tr>\n",
              "      <th>8136</th>\n",
              "      <td>Gamification affects software developers: Caut...</td>\n",
              "      <td>2022-10-24 20:30:27</td>\n",
              "      <td>[253, 140, 32, 25, 106]</td>\n",
              "      <td>47.902981</td>\n",
              "    </tr>\n",
              "    <tr>\n",
              "      <th>7436</th>\n",
              "      <td>Cloudflare Pages: Best server tech since CGI-bin?</td>\n",
              "      <td>2022-10-23 22:01:55</td>\n",
              "      <td>[21, 216, 164, 187, 23]</td>\n",
              "      <td>47.094492</td>\n",
              "    </tr>\n",
              "    <tr>\n",
              "      <th>7503</th>\n",
              "      <td>Leveraging mispriced AWS spot instances</td>\n",
              "      <td>2022-10-24 01:24:29</td>\n",
              "      <td>[233, 216, 187, 21, 23]</td>\n",
              "      <td>46.387064</td>\n",
              "    </tr>\n",
              "    <tr>\n",
              "      <th>7175</th>\n",
              "      <td>Sonic: Fast, lightweight and schema-less searc...</td>\n",
              "      <td>2022-10-23 12:48:17</td>\n",
              "      <td>[117, 86, 70, 294, 16]</td>\n",
              "      <td>45.780697</td>\n",
              "    </tr>\n",
              "  </tbody>\n",
              "</table>\n",
              "</div>\n",
              "      <button class=\"colab-df-convert\" onclick=\"convertToInteractive('df-10dfd599-b9f1-497d-81aa-a0cc87494011')\"\n",
              "              title=\"Convert this dataframe to an interactive table.\"\n",
              "              style=\"display:none;\">\n",
              "        \n",
              "  <svg xmlns=\"http://www.w3.org/2000/svg\" height=\"24px\"viewBox=\"0 0 24 24\"\n",
              "       width=\"24px\">\n",
              "    <path d=\"M0 0h24v24H0V0z\" fill=\"none\"/>\n",
              "    <path d=\"M18.56 5.44l.94 2.06.94-2.06 2.06-.94-2.06-.94-.94-2.06-.94 2.06-2.06.94zm-11 1L8.5 8.5l.94-2.06 2.06-.94-2.06-.94L8.5 2.5l-.94 2.06-2.06.94zm10 10l.94 2.06.94-2.06 2.06-.94-2.06-.94-.94-2.06-.94 2.06-2.06.94z\"/><path d=\"M17.41 7.96l-1.37-1.37c-.4-.4-.92-.59-1.43-.59-.52 0-1.04.2-1.43.59L10.3 9.45l-7.72 7.72c-.78.78-.78 2.05 0 2.83L4 21.41c.39.39.9.59 1.41.59.51 0 1.02-.2 1.41-.59l7.78-7.78 2.81-2.81c.8-.78.8-2.07 0-2.86zM5.41 20L4 18.59l7.72-7.72 1.47 1.35L5.41 20z\"/>\n",
              "  </svg>\n",
              "      </button>\n",
              "      \n",
              "  <style>\n",
              "    .colab-df-container {\n",
              "      display:flex;\n",
              "      flex-wrap:wrap;\n",
              "      gap: 12px;\n",
              "    }\n",
              "\n",
              "    .colab-df-convert {\n",
              "      background-color: #E8F0FE;\n",
              "      border: none;\n",
              "      border-radius: 50%;\n",
              "      cursor: pointer;\n",
              "      display: none;\n",
              "      fill: #1967D2;\n",
              "      height: 32px;\n",
              "      padding: 0 0 0 0;\n",
              "      width: 32px;\n",
              "    }\n",
              "\n",
              "    .colab-df-convert:hover {\n",
              "      background-color: #E2EBFA;\n",
              "      box-shadow: 0px 1px 2px rgba(60, 64, 67, 0.3), 0px 1px 3px 1px rgba(60, 64, 67, 0.15);\n",
              "      fill: #174EA6;\n",
              "    }\n",
              "\n",
              "    [theme=dark] .colab-df-convert {\n",
              "      background-color: #3B4455;\n",
              "      fill: #D2E3FC;\n",
              "    }\n",
              "\n",
              "    [theme=dark] .colab-df-convert:hover {\n",
              "      background-color: #434B5C;\n",
              "      box-shadow: 0px 1px 3px 1px rgba(0, 0, 0, 0.15);\n",
              "      filter: drop-shadow(0px 1px 2px rgba(0, 0, 0, 0.3));\n",
              "      fill: #FFFFFF;\n",
              "    }\n",
              "  </style>\n",
              "\n",
              "      <script>\n",
              "        const buttonEl =\n",
              "          document.querySelector('#df-10dfd599-b9f1-497d-81aa-a0cc87494011 button.colab-df-convert');\n",
              "        buttonEl.style.display =\n",
              "          google.colab.kernel.accessAllowed ? 'block' : 'none';\n",
              "\n",
              "        async function convertToInteractive(key) {\n",
              "          const element = document.querySelector('#df-10dfd599-b9f1-497d-81aa-a0cc87494011');\n",
              "          const dataTable =\n",
              "            await google.colab.kernel.invokeFunction('convertToInteractive',\n",
              "                                                     [key], {});\n",
              "          if (!dataTable) return;\n",
              "\n",
              "          const docLinkHtml = 'Like what you see? Visit the ' +\n",
              "            '<a target=\"_blank\" href=https://colab.research.google.com/notebooks/data_table.ipynb>data table notebook</a>'\n",
              "            + ' to learn more about interactive tables.';\n",
              "          element.innerHTML = '';\n",
              "          dataTable['output_type'] = 'display_data';\n",
              "          await google.colab.output.renderOutput(dataTable, element);\n",
              "          const docLink = document.createElement('div');\n",
              "          docLink.innerHTML = docLinkHtml;\n",
              "          element.appendChild(docLink);\n",
              "        }\n",
              "      </script>\n",
              "    </div>\n",
              "  </div>\n",
              "  "
            ],
            "application/vnd.google.colaboratory.module+javascript": "\n      import \"https://ssl.gstatic.com/colaboratory/data_table/a8bd4d5e58f96183/data_table.js\";\n\n      window.createDataTable({\n        data: [[{\n            'v': 1155,\n            'f': \"1155\",\n        },\n\"Quirks, Caveats, and Gotchas in SQLite\",\n\"2022-10-15 13:54:09\",\n[34, 144, 16, 294, 21],\n{\n            'v': 85.09348155634159,\n            'f': \"85.09348155634159\",\n        }],\n [{\n            'v': 4574,\n            'f': \"4574\",\n        },\n\"How to build software like an SRE\",\n\"2022-10-19 20:08:53\",\n[253, 152, 109, 158, 94],\n{\n            'v': 80.54573016675089,\n            'f': \"80.54573016675089\",\n        }],\n [{\n            'v': 2656,\n            'f': \"2656\",\n        },\n\"Projectbook \\u2013 a free collection of 100 project ideas for learning\",\n\"2022-10-17 17:11:37\",\n[148, 75, 253, 109, 122],\n{\n            'v': 73.67357251136937,\n            'f': \"73.67357251136937\",\n        }],\n [{\n            'v': 7627,\n            'f': \"7627\",\n        },\n\"GlueSQL: SQL database engine as a library\",\n\"2022-10-24 08:47:14\",\n[34, 294, 21, 20, 229],\n{\n            'v': 62.55684689236988,\n            'f': \"62.55684689236988\",\n        }],\n [{\n            'v': 2514,\n            'f': \"2514\",\n        },\n\"Streaming data in Postgres to 1M clients with GraphQL\",\n\"2022-10-17 14:41:00\",\n[229, 34, 21, 173, 294],\n{\n            'v': 61.74835775644265,\n            'f': \"61.74835775644265\",\n        }],\n [{\n            'v': 1830,\n            'f': \"1830\",\n        },\n\"DevOps is broken\",\n\"2022-10-16 15:18:12\",\n[39, 253, 106, 140, 152],\n{\n            'v': 61.64729661445174,\n            'f': \"61.64729661445174\",\n        }],\n [{\n            'v': 6734,\n            'f': \"6734\",\n        },\n\"Maintaining sufficient free space with ZFS\",\n\"2022-10-22 14:47:31\",\n[21, 170, 294, 125, 169],\n{\n            'v': 56.89742294087924,\n            'f': \"56.89742294087924\",\n        }],\n [{\n            'v': 4150,\n            'f': \"4150\",\n        },\n\"Write better error messages\",\n\"2022-10-19 12:27:18\",\n[64, 295, 144, 128, 186],\n{\n            'v': 56.89742294087923,\n            'f': \"56.89742294087923\",\n        }],\n [{\n            'v': 8136,\n            'f': \"8136\",\n        },\n\"Gamification affects software developers: Cautionary evidence from GitHub\",\n\"2022-10-24 20:30:27\",\n[253, 140, 32, 25, 106],\n{\n            'v': 47.902981303688726,\n            'f': \"47.902981303688726\",\n        }],\n [{\n            'v': 7436,\n            'f': \"7436\",\n        },\n\"Cloudflare Pages: Best server tech since CGI-bin?\",\n\"2022-10-23 22:01:55\",\n[21, 216, 164, 187, 23],\n{\n            'v': 47.094492167761494,\n            'f': \"47.094492167761494\",\n        }],\n [{\n            'v': 7503,\n            'f': \"7503\",\n        },\n\"Leveraging mispriced AWS spot instances\",\n\"2022-10-24 01:24:29\",\n[233, 216, 187, 21, 23],\n{\n            'v': 46.38706417382516,\n            'f': \"46.38706417382516\",\n        }],\n [{\n            'v': 7175,\n            'f': \"7175\",\n        },\n\"Sonic: Fast, lightweight and schema-less search backend\",\n\"2022-10-23 12:48:17\",\n[117, 86, 70, 294, 16],\n{\n            'v': 45.78069732187974,\n            'f': \"45.78069732187974\",\n        }]],\n        columns: [[\"number\", \"index\"], [\"string\", \"title\"], [\"string\", \"timestamp\"], [\"string\", \"similar_topics\"], [\"number\", \"similarity_score\"]],\n        columnOptions: [{\"width\": \"1px\", \"className\": \"index_column\"}],\n        rowsPerPage: 25,\n        helpUrl: \"https://colab.research.google.com/notebooks/data_table.ipynb\",\n        suppressOutputScrolling: true,\n        minimumWidth: undefined,\n      });\n    "
          },
          "metadata": {},
          "execution_count": 111
        }
      ]
    },
    {
      "cell_type": "code",
      "source": [
        "got.shape[0] / take  # ACCURACY OF 12 / 1000 ? LMAO"
      ],
      "metadata": {
        "colab": {
          "base_uri": "https://localhost:8080/"
        },
        "id": "vLtAjZhL1pSB",
        "outputId": "a8f36154-15fb-4ca7-e357-a37b7883d70d"
      },
      "execution_count": null,
      "outputs": [
        {
          "output_type": "execute_result",
          "data": {
            "text/plain": [
              "0.012"
            ]
          },
          "metadata": {},
          "execution_count": 112
        }
      ]
    },
    {
      "cell_type": "markdown",
      "source": [
        "##### Recommendation"
      ],
      "metadata": {
        "id": "386He0KN3T_b"
      }
    },
    {
      "cell_type": "code",
      "source": [
        "top_result['timestamp'] = pd.to_datetime(top_result['timestamp'], format='%Y-%m-%d %H:%M:%S')"
      ],
      "metadata": {
        "colab": {
          "base_uri": "https://localhost:8080/"
        },
        "id": "ofjaCtdx3rp_",
        "outputId": "d6ac8a4b-bb47-43f4-d4d4-b0402b73302d"
      },
      "execution_count": null,
      "outputs": [
        {
          "output_type": "execute_result",
          "data": {
            "text/plain": [
              "title                       object\n",
              "timestamp           datetime64[ns]\n",
              "similar_topics              object\n",
              "similarity_score           float64\n",
              "dtype: object"
            ]
          },
          "metadata": {},
          "execution_count": 123
        }
      ]
    },
    {
      "cell_type": "code",
      "source": [
        "top_result['date'] = top_result['timestamp'].dt.date"
      ],
      "metadata": {
        "id": "XD85mPw_5Gm4"
      },
      "execution_count": null,
      "outputs": []
    },
    {
      "cell_type": "code",
      "source": [
        "# https://stackoverflow.com/a/45992898/8996974\n",
        "(\n",
        "    top_result\n",
        "    .sort_values(['date', 'similarity_score'], ascending=[True, False])\n",
        "    .groupby('date')\n",
        "    .head(3)\n",
        ")  # seems like it's overfitting on \"compiler\" and \"programming language\" topics?"
      ],
      "metadata": {
        "colab": {
          "base_uri": "https://localhost:8080/",
          "height": 1058
        },
        "id": "YWpNPF2_4d6N",
        "outputId": "a82a1473-e588-40f8-d52f-ed053e99081d"
      },
      "execution_count": null,
      "outputs": [
        {
          "output_type": "execute_result",
          "data": {
            "text/plain": [
              "                                                  title           timestamp  \\\n",
              "588       Formal Methods at Microsoft – Nikolaj Bjørner 2022-10-14 17:04:38   \n",
              "730             A Minimalist Guide To Program Synthesis 2022-10-14 19:55:18   \n",
              "624         How I Code at the Speed of Thought (Part 1) 2022-10-14 17:47:18   \n",
              "999   TMG (language): A self-hosted compiler from sc... 2022-10-15 08:21:17   \n",
              "1464  Understanding the different flavors of Clang C... 2022-10-15 21:38:02   \n",
              "873   Typosquatting programming language package man... 2022-10-15 01:00:12   \n",
              "1862  An Overview of Generic Programming: Writing Co... 2022-10-16 15:56:15   \n",
              "1721  When programs grovel into undocumented structures 2022-10-16 11:05:43   \n",
              "1754                The TeX program: A program of study 2022-10-16 12:18:43   \n",
              "2534  Differentiable Programming on Discrete Stochas... 2022-10-17 15:01:35   \n",
              "2429              Hedy – A Gradual Programming Language 2022-10-17 13:08:56   \n",
              "2727               Using the Free Pascal IDE for a Week 2022-10-17 18:43:05   \n",
              "3229           A Tour of the Adobe Director File Format 2022-10-18 12:43:07   \n",
              "3416  A Primer on Separation Logic (Automatic Progra... 2022-10-18 15:36:05   \n",
              "3110   An exploration of each of the coreutils commands 2022-10-18 09:18:48   \n",
              "4482     What I’ve learned creating a large C++ project 2022-10-19 18:25:59   \n",
              "4322                    Writing Small And Fast Software 2022-10-19 15:38:07   \n",
              "4521  The Unnecessary OOP vs. Functional Programming... 2022-10-19 19:07:35   \n",
              "4966  Absolute Minimum Developers Must Know About Un... 2022-10-20 10:29:45   \n",
              "4958  Gren – A programming language for simple and c... 2022-10-20 10:23:40   \n",
              "5412  Software Stories: a novel approach to present ... 2022-10-20 18:05:46   \n",
              "6200  Why Functional Programming Should Be the Futur... 2022-10-21 15:47:33   \n",
              "6333    Reasons Go Will Take over the Programming World 2022-10-21 19:05:20   \n",
              "6350  Programming language comparison by reimplement... 2022-10-21 19:36:32   \n",
              "6624  VDD or the Solution of Logic Errors in Softwar... 2022-10-22 09:25:56   \n",
              "6977  Odin – The Data-Oriented Programming Language ... 2022-10-22 23:21:10   \n",
              "6834           Interview with inventors of C, C++, Java 2022-10-22 17:51:29   \n",
              "7419   Noether: Symmetry in Programming Language Design 2022-10-23 21:19:45   \n",
              "7209  Programming Principles at Id Software by John ... 2022-10-23 14:20:23   \n",
              "7093  C Injection Compiler – Program your text files... 2022-10-23 08:19:55   \n",
              "7542          Bazel introduction to build Java packages 2022-10-24 03:16:59   \n",
              "8005              Moldable Live Programming for Clojure 2022-10-24 18:02:02   \n",
              "8153  An Overview of Debugging Tools for C and C++ A... 2022-10-24 21:07:02   \n",
              "\n",
              "                similar_topics  similarity_score        date  \n",
              "588    [94, 144, 109, 64, 249]         98.635675  2022-10-14  \n",
              "730    [64, 109, 144, 225, 94]         96.715513  2022-10-14  \n",
              "624     [250, 64, 144, 109, 2]         96.311268  2022-10-14  \n",
              "999    [64, 109, 253, 144, 94]        103.082365  2022-10-15  \n",
              "1464  [64, 109, 144, 253, 152]        102.273876  2022-10-15  \n",
              "873   [109, 64, 253, 144, 295]         97.625063  2022-10-15  \n",
              "1862   [64, 109, 144, 225, 94]         96.715513  2022-10-16  \n",
              "1721   [64, 109, 144, 94, 225]         96.715513  2022-10-16  \n",
              "1754  [109, 225, 144, 250, 64]         96.311268  2022-10-16  \n",
              "2534   [109, 144, 225, 64, 65]         96.109146  2022-10-17  \n",
              "2429   [109, 225, 64, 144, 65]         96.109146  2022-10-17  \n",
              "2727  [144, 225, 122, 64, 109]         94.492168  2022-10-17  \n",
              "3229  [64, 253, 144, 249, 109]        106.821627  2022-10-18  \n",
              "3416   [64, 144, 225, 94, 109]         96.715513  2022-10-18  \n",
              "3110   [64, 158, 94, 109, 144]         96.412329  2022-10-18  \n",
              "4482    [109, 64, 253, 144, 2]        104.901465  2022-10-19  \n",
              "4322    [109, 144, 2, 64, 253]        104.901465  2022-10-19  \n",
              "4521     [64, 109, 144, 65, 2]         96.109146  2022-10-19  \n",
              "4966  [109, 253, 64, 104, 144]        105.103588  2022-10-20  \n",
              "4958   [109, 144, 225, 64, 94]         96.715513  2022-10-20  \n",
              "5412  [253, 64, 109, 144, 128]         96.412329  2022-10-20  \n",
              "6200  [109, 253, 144, 104, 64]        105.103588  2022-10-21  \n",
              "6333  [109, 144, 253, 125, 64]        100.960081  2022-10-21  \n",
              "6350   [109, 94, 144, 225, 64]         96.715513  2022-10-21  \n",
              "6624  [253, 109, 64, 144, 104]        105.103588  2022-10-22  \n",
              "6977  [64, 109, 253, 144, 158]        104.598282  2022-10-22  \n",
              "6834  [250, 109, 104, 144, 64]         96.513391  2022-10-22  \n",
              "7419   [64, 109, 144, 94, 225]         96.715513  2022-10-23  \n",
              "7209  [144, 64, 109, 225, 250]         96.311268  2022-10-23  \n",
              "7093   [64, 109, 144, 225, 65]         96.109146  2022-10-23  \n",
              "7542   [253, 64, 144, 94, 109]        103.082365  2022-10-24  \n",
              "8005   [64, 109, 144, 253, 75]         97.928247  2022-10-24  \n",
              "8153  [64, 253, 109, 128, 144]         96.412329  2022-10-24  "
            ],
            "text/html": [
              "\n",
              "  <div id=\"df-bcc38c3d-3681-467d-ab64-fdf956e56943\">\n",
              "    <div class=\"colab-df-container\">\n",
              "      <div>\n",
              "<style scoped>\n",
              "    .dataframe tbody tr th:only-of-type {\n",
              "        vertical-align: middle;\n",
              "    }\n",
              "\n",
              "    .dataframe tbody tr th {\n",
              "        vertical-align: top;\n",
              "    }\n",
              "\n",
              "    .dataframe thead th {\n",
              "        text-align: right;\n",
              "    }\n",
              "</style>\n",
              "<table border=\"1\" class=\"dataframe\">\n",
              "  <thead>\n",
              "    <tr style=\"text-align: right;\">\n",
              "      <th></th>\n",
              "      <th>title</th>\n",
              "      <th>timestamp</th>\n",
              "      <th>similar_topics</th>\n",
              "      <th>similarity_score</th>\n",
              "      <th>date</th>\n",
              "    </tr>\n",
              "  </thead>\n",
              "  <tbody>\n",
              "    <tr>\n",
              "      <th>588</th>\n",
              "      <td>Formal Methods at Microsoft – Nikolaj Bjørner</td>\n",
              "      <td>2022-10-14 17:04:38</td>\n",
              "      <td>[94, 144, 109, 64, 249]</td>\n",
              "      <td>98.635675</td>\n",
              "      <td>2022-10-14</td>\n",
              "    </tr>\n",
              "    <tr>\n",
              "      <th>730</th>\n",
              "      <td>A Minimalist Guide To Program Synthesis</td>\n",
              "      <td>2022-10-14 19:55:18</td>\n",
              "      <td>[64, 109, 144, 225, 94]</td>\n",
              "      <td>96.715513</td>\n",
              "      <td>2022-10-14</td>\n",
              "    </tr>\n",
              "    <tr>\n",
              "      <th>624</th>\n",
              "      <td>How I Code at the Speed of Thought (Part 1)</td>\n",
              "      <td>2022-10-14 17:47:18</td>\n",
              "      <td>[250, 64, 144, 109, 2]</td>\n",
              "      <td>96.311268</td>\n",
              "      <td>2022-10-14</td>\n",
              "    </tr>\n",
              "    <tr>\n",
              "      <th>999</th>\n",
              "      <td>TMG (language): A self-hosted compiler from sc...</td>\n",
              "      <td>2022-10-15 08:21:17</td>\n",
              "      <td>[64, 109, 253, 144, 94]</td>\n",
              "      <td>103.082365</td>\n",
              "      <td>2022-10-15</td>\n",
              "    </tr>\n",
              "    <tr>\n",
              "      <th>1464</th>\n",
              "      <td>Understanding the different flavors of Clang C...</td>\n",
              "      <td>2022-10-15 21:38:02</td>\n",
              "      <td>[64, 109, 144, 253, 152]</td>\n",
              "      <td>102.273876</td>\n",
              "      <td>2022-10-15</td>\n",
              "    </tr>\n",
              "    <tr>\n",
              "      <th>873</th>\n",
              "      <td>Typosquatting programming language package man...</td>\n",
              "      <td>2022-10-15 01:00:12</td>\n",
              "      <td>[109, 64, 253, 144, 295]</td>\n",
              "      <td>97.625063</td>\n",
              "      <td>2022-10-15</td>\n",
              "    </tr>\n",
              "    <tr>\n",
              "      <th>1862</th>\n",
              "      <td>An Overview of Generic Programming: Writing Co...</td>\n",
              "      <td>2022-10-16 15:56:15</td>\n",
              "      <td>[64, 109, 144, 225, 94]</td>\n",
              "      <td>96.715513</td>\n",
              "      <td>2022-10-16</td>\n",
              "    </tr>\n",
              "    <tr>\n",
              "      <th>1721</th>\n",
              "      <td>When programs grovel into undocumented structures</td>\n",
              "      <td>2022-10-16 11:05:43</td>\n",
              "      <td>[64, 109, 144, 94, 225]</td>\n",
              "      <td>96.715513</td>\n",
              "      <td>2022-10-16</td>\n",
              "    </tr>\n",
              "    <tr>\n",
              "      <th>1754</th>\n",
              "      <td>The TeX program: A program of study</td>\n",
              "      <td>2022-10-16 12:18:43</td>\n",
              "      <td>[109, 225, 144, 250, 64]</td>\n",
              "      <td>96.311268</td>\n",
              "      <td>2022-10-16</td>\n",
              "    </tr>\n",
              "    <tr>\n",
              "      <th>2534</th>\n",
              "      <td>Differentiable Programming on Discrete Stochas...</td>\n",
              "      <td>2022-10-17 15:01:35</td>\n",
              "      <td>[109, 144, 225, 64, 65]</td>\n",
              "      <td>96.109146</td>\n",
              "      <td>2022-10-17</td>\n",
              "    </tr>\n",
              "    <tr>\n",
              "      <th>2429</th>\n",
              "      <td>Hedy – A Gradual Programming Language</td>\n",
              "      <td>2022-10-17 13:08:56</td>\n",
              "      <td>[109, 225, 64, 144, 65]</td>\n",
              "      <td>96.109146</td>\n",
              "      <td>2022-10-17</td>\n",
              "    </tr>\n",
              "    <tr>\n",
              "      <th>2727</th>\n",
              "      <td>Using the Free Pascal IDE for a Week</td>\n",
              "      <td>2022-10-17 18:43:05</td>\n",
              "      <td>[144, 225, 122, 64, 109]</td>\n",
              "      <td>94.492168</td>\n",
              "      <td>2022-10-17</td>\n",
              "    </tr>\n",
              "    <tr>\n",
              "      <th>3229</th>\n",
              "      <td>A Tour of the Adobe Director File Format</td>\n",
              "      <td>2022-10-18 12:43:07</td>\n",
              "      <td>[64, 253, 144, 249, 109]</td>\n",
              "      <td>106.821627</td>\n",
              "      <td>2022-10-18</td>\n",
              "    </tr>\n",
              "    <tr>\n",
              "      <th>3416</th>\n",
              "      <td>A Primer on Separation Logic (Automatic Progra...</td>\n",
              "      <td>2022-10-18 15:36:05</td>\n",
              "      <td>[64, 144, 225, 94, 109]</td>\n",
              "      <td>96.715513</td>\n",
              "      <td>2022-10-18</td>\n",
              "    </tr>\n",
              "    <tr>\n",
              "      <th>3110</th>\n",
              "      <td>An exploration of each of the coreutils commands</td>\n",
              "      <td>2022-10-18 09:18:48</td>\n",
              "      <td>[64, 158, 94, 109, 144]</td>\n",
              "      <td>96.412329</td>\n",
              "      <td>2022-10-18</td>\n",
              "    </tr>\n",
              "    <tr>\n",
              "      <th>4482</th>\n",
              "      <td>What I’ve learned creating a large C++ project</td>\n",
              "      <td>2022-10-19 18:25:59</td>\n",
              "      <td>[109, 64, 253, 144, 2]</td>\n",
              "      <td>104.901465</td>\n",
              "      <td>2022-10-19</td>\n",
              "    </tr>\n",
              "    <tr>\n",
              "      <th>4322</th>\n",
              "      <td>Writing Small And Fast Software</td>\n",
              "      <td>2022-10-19 15:38:07</td>\n",
              "      <td>[109, 144, 2, 64, 253]</td>\n",
              "      <td>104.901465</td>\n",
              "      <td>2022-10-19</td>\n",
              "    </tr>\n",
              "    <tr>\n",
              "      <th>4521</th>\n",
              "      <td>The Unnecessary OOP vs. Functional Programming...</td>\n",
              "      <td>2022-10-19 19:07:35</td>\n",
              "      <td>[64, 109, 144, 65, 2]</td>\n",
              "      <td>96.109146</td>\n",
              "      <td>2022-10-19</td>\n",
              "    </tr>\n",
              "    <tr>\n",
              "      <th>4966</th>\n",
              "      <td>Absolute Minimum Developers Must Know About Un...</td>\n",
              "      <td>2022-10-20 10:29:45</td>\n",
              "      <td>[109, 253, 64, 104, 144]</td>\n",
              "      <td>105.103588</td>\n",
              "      <td>2022-10-20</td>\n",
              "    </tr>\n",
              "    <tr>\n",
              "      <th>4958</th>\n",
              "      <td>Gren – A programming language for simple and c...</td>\n",
              "      <td>2022-10-20 10:23:40</td>\n",
              "      <td>[109, 144, 225, 64, 94]</td>\n",
              "      <td>96.715513</td>\n",
              "      <td>2022-10-20</td>\n",
              "    </tr>\n",
              "    <tr>\n",
              "      <th>5412</th>\n",
              "      <td>Software Stories: a novel approach to present ...</td>\n",
              "      <td>2022-10-20 18:05:46</td>\n",
              "      <td>[253, 64, 109, 144, 128]</td>\n",
              "      <td>96.412329</td>\n",
              "      <td>2022-10-20</td>\n",
              "    </tr>\n",
              "    <tr>\n",
              "      <th>6200</th>\n",
              "      <td>Why Functional Programming Should Be the Futur...</td>\n",
              "      <td>2022-10-21 15:47:33</td>\n",
              "      <td>[109, 253, 144, 104, 64]</td>\n",
              "      <td>105.103588</td>\n",
              "      <td>2022-10-21</td>\n",
              "    </tr>\n",
              "    <tr>\n",
              "      <th>6333</th>\n",
              "      <td>Reasons Go Will Take over the Programming World</td>\n",
              "      <td>2022-10-21 19:05:20</td>\n",
              "      <td>[109, 144, 253, 125, 64]</td>\n",
              "      <td>100.960081</td>\n",
              "      <td>2022-10-21</td>\n",
              "    </tr>\n",
              "    <tr>\n",
              "      <th>6350</th>\n",
              "      <td>Programming language comparison by reimplement...</td>\n",
              "      <td>2022-10-21 19:36:32</td>\n",
              "      <td>[109, 94, 144, 225, 64]</td>\n",
              "      <td>96.715513</td>\n",
              "      <td>2022-10-21</td>\n",
              "    </tr>\n",
              "    <tr>\n",
              "      <th>6624</th>\n",
              "      <td>VDD or the Solution of Logic Errors in Softwar...</td>\n",
              "      <td>2022-10-22 09:25:56</td>\n",
              "      <td>[253, 109, 64, 144, 104]</td>\n",
              "      <td>105.103588</td>\n",
              "      <td>2022-10-22</td>\n",
              "    </tr>\n",
              "    <tr>\n",
              "      <th>6977</th>\n",
              "      <td>Odin – The Data-Oriented Programming Language ...</td>\n",
              "      <td>2022-10-22 23:21:10</td>\n",
              "      <td>[64, 109, 253, 144, 158]</td>\n",
              "      <td>104.598282</td>\n",
              "      <td>2022-10-22</td>\n",
              "    </tr>\n",
              "    <tr>\n",
              "      <th>6834</th>\n",
              "      <td>Interview with inventors of C, C++, Java</td>\n",
              "      <td>2022-10-22 17:51:29</td>\n",
              "      <td>[250, 109, 104, 144, 64]</td>\n",
              "      <td>96.513391</td>\n",
              "      <td>2022-10-22</td>\n",
              "    </tr>\n",
              "    <tr>\n",
              "      <th>7419</th>\n",
              "      <td>Noether: Symmetry in Programming Language Design</td>\n",
              "      <td>2022-10-23 21:19:45</td>\n",
              "      <td>[64, 109, 144, 94, 225]</td>\n",
              "      <td>96.715513</td>\n",
              "      <td>2022-10-23</td>\n",
              "    </tr>\n",
              "    <tr>\n",
              "      <th>7209</th>\n",
              "      <td>Programming Principles at Id Software by John ...</td>\n",
              "      <td>2022-10-23 14:20:23</td>\n",
              "      <td>[144, 64, 109, 225, 250]</td>\n",
              "      <td>96.311268</td>\n",
              "      <td>2022-10-23</td>\n",
              "    </tr>\n",
              "    <tr>\n",
              "      <th>7093</th>\n",
              "      <td>C Injection Compiler – Program your text files...</td>\n",
              "      <td>2022-10-23 08:19:55</td>\n",
              "      <td>[64, 109, 144, 225, 65]</td>\n",
              "      <td>96.109146</td>\n",
              "      <td>2022-10-23</td>\n",
              "    </tr>\n",
              "    <tr>\n",
              "      <th>7542</th>\n",
              "      <td>Bazel introduction to build Java packages</td>\n",
              "      <td>2022-10-24 03:16:59</td>\n",
              "      <td>[253, 64, 144, 94, 109]</td>\n",
              "      <td>103.082365</td>\n",
              "      <td>2022-10-24</td>\n",
              "    </tr>\n",
              "    <tr>\n",
              "      <th>8005</th>\n",
              "      <td>Moldable Live Programming for Clojure</td>\n",
              "      <td>2022-10-24 18:02:02</td>\n",
              "      <td>[64, 109, 144, 253, 75]</td>\n",
              "      <td>97.928247</td>\n",
              "      <td>2022-10-24</td>\n",
              "    </tr>\n",
              "    <tr>\n",
              "      <th>8153</th>\n",
              "      <td>An Overview of Debugging Tools for C and C++ A...</td>\n",
              "      <td>2022-10-24 21:07:02</td>\n",
              "      <td>[64, 253, 109, 128, 144]</td>\n",
              "      <td>96.412329</td>\n",
              "      <td>2022-10-24</td>\n",
              "    </tr>\n",
              "  </tbody>\n",
              "</table>\n",
              "</div>\n",
              "      <button class=\"colab-df-convert\" onclick=\"convertToInteractive('df-bcc38c3d-3681-467d-ab64-fdf956e56943')\"\n",
              "              title=\"Convert this dataframe to an interactive table.\"\n",
              "              style=\"display:none;\">\n",
              "        \n",
              "  <svg xmlns=\"http://www.w3.org/2000/svg\" height=\"24px\"viewBox=\"0 0 24 24\"\n",
              "       width=\"24px\">\n",
              "    <path d=\"M0 0h24v24H0V0z\" fill=\"none\"/>\n",
              "    <path d=\"M18.56 5.44l.94 2.06.94-2.06 2.06-.94-2.06-.94-.94-2.06-.94 2.06-2.06.94zm-11 1L8.5 8.5l.94-2.06 2.06-.94-2.06-.94L8.5 2.5l-.94 2.06-2.06.94zm10 10l.94 2.06.94-2.06 2.06-.94-2.06-.94-.94-2.06-.94 2.06-2.06.94z\"/><path d=\"M17.41 7.96l-1.37-1.37c-.4-.4-.92-.59-1.43-.59-.52 0-1.04.2-1.43.59L10.3 9.45l-7.72 7.72c-.78.78-.78 2.05 0 2.83L4 21.41c.39.39.9.59 1.41.59.51 0 1.02-.2 1.41-.59l7.78-7.78 2.81-2.81c.8-.78.8-2.07 0-2.86zM5.41 20L4 18.59l7.72-7.72 1.47 1.35L5.41 20z\"/>\n",
              "  </svg>\n",
              "      </button>\n",
              "      \n",
              "  <style>\n",
              "    .colab-df-container {\n",
              "      display:flex;\n",
              "      flex-wrap:wrap;\n",
              "      gap: 12px;\n",
              "    }\n",
              "\n",
              "    .colab-df-convert {\n",
              "      background-color: #E8F0FE;\n",
              "      border: none;\n",
              "      border-radius: 50%;\n",
              "      cursor: pointer;\n",
              "      display: none;\n",
              "      fill: #1967D2;\n",
              "      height: 32px;\n",
              "      padding: 0 0 0 0;\n",
              "      width: 32px;\n",
              "    }\n",
              "\n",
              "    .colab-df-convert:hover {\n",
              "      background-color: #E2EBFA;\n",
              "      box-shadow: 0px 1px 2px rgba(60, 64, 67, 0.3), 0px 1px 3px 1px rgba(60, 64, 67, 0.15);\n",
              "      fill: #174EA6;\n",
              "    }\n",
              "\n",
              "    [theme=dark] .colab-df-convert {\n",
              "      background-color: #3B4455;\n",
              "      fill: #D2E3FC;\n",
              "    }\n",
              "\n",
              "    [theme=dark] .colab-df-convert:hover {\n",
              "      background-color: #434B5C;\n",
              "      box-shadow: 0px 1px 3px 1px rgba(0, 0, 0, 0.15);\n",
              "      filter: drop-shadow(0px 1px 2px rgba(0, 0, 0, 0.3));\n",
              "      fill: #FFFFFF;\n",
              "    }\n",
              "  </style>\n",
              "\n",
              "      <script>\n",
              "        const buttonEl =\n",
              "          document.querySelector('#df-bcc38c3d-3681-467d-ab64-fdf956e56943 button.colab-df-convert');\n",
              "        buttonEl.style.display =\n",
              "          google.colab.kernel.accessAllowed ? 'block' : 'none';\n",
              "\n",
              "        async function convertToInteractive(key) {\n",
              "          const element = document.querySelector('#df-bcc38c3d-3681-467d-ab64-fdf956e56943');\n",
              "          const dataTable =\n",
              "            await google.colab.kernel.invokeFunction('convertToInteractive',\n",
              "                                                     [key], {});\n",
              "          if (!dataTable) return;\n",
              "\n",
              "          const docLinkHtml = 'Like what you see? Visit the ' +\n",
              "            '<a target=\"_blank\" href=https://colab.research.google.com/notebooks/data_table.ipynb>data table notebook</a>'\n",
              "            + ' to learn more about interactive tables.';\n",
              "          element.innerHTML = '';\n",
              "          dataTable['output_type'] = 'display_data';\n",
              "          await google.colab.output.renderOutput(dataTable, element);\n",
              "          const docLink = document.createElement('div');\n",
              "          docLink.innerHTML = docLinkHtml;\n",
              "          element.appendChild(docLink);\n",
              "        }\n",
              "      </script>\n",
              "    </div>\n",
              "  </div>\n",
              "  "
            ],
            "application/vnd.google.colaboratory.module+javascript": "\n      import \"https://ssl.gstatic.com/colaboratory/data_table/a8bd4d5e58f96183/data_table.js\";\n\n      window.createDataTable({\n        data: [[{\n            'v': 588,\n            'f': \"588\",\n        },\n\"Formal Methods at Microsoft \\u2013 Nikolaj Bj\\u00f8rner\",\n\"2022-10-14 17:04:38\",\n[94, 144, 109, 64, 249],\n{\n            'v': 98.63567458312278,\n            'f': \"98.63567458312278\",\n        },\n\"2022-10-14\"],\n [{\n            'v': 730,\n            'f': \"730\",\n        },\n\"A Minimalist Guide To Program Synthesis\",\n\"2022-10-14 19:55:18\",\n[64, 109, 144, 225, 94],\n{\n            'v': 96.71551288529562,\n            'f': \"96.71551288529562\",\n        },\n\"2022-10-14\"],\n [{\n            'v': 624,\n            'f': \"624\",\n        },\n\"How I Code at the Speed of Thought (Part 1)\",\n\"2022-10-14 17:47:18\",\n[250, 64, 144, 109, 2],\n{\n            'v': 96.31126831733198,\n            'f': \"96.31126831733198\",\n        },\n\"2022-10-14\"],\n [{\n            'v': 999,\n            'f': \"999\",\n        },\n\"TMG (language): A self-hosted compiler from scratch on paper\",\n\"2022-10-15 08:21:17\",\n[64, 109, 253, 144, 94],\n{\n            'v': 103.0823648307226,\n            'f': \"103.0823648307226\",\n        },\n\"2022-10-15\"],\n [{\n            'v': 1464,\n            'f': \"1464\",\n        },\n\"Understanding the different flavors of Clang C and C++ compilers in Windows\",\n\"2022-10-15 21:38:02\",\n[64, 109, 144, 253, 152],\n{\n            'v': 102.27387569479536,\n            'f': \"102.27387569479536\",\n        },\n\"2022-10-15\"],\n [{\n            'v': 873,\n            'f': \"873\",\n        },\n\"Typosquatting programming language package managers\",\n\"2022-10-15 01:00:12\",\n[109, 64, 253, 144, 295],\n{\n            'v': 97.62506316321375,\n            'f': \"97.62506316321375\",\n        },\n\"2022-10-15\"],\n [{\n            'v': 1862,\n            'f': \"1862\",\n        },\n\"An Overview of Generic Programming: Writing Code with Arbitrary Types\",\n\"2022-10-16 15:56:15\",\n[64, 109, 144, 225, 94],\n{\n            'v': 96.71551288529562,\n            'f': \"96.71551288529562\",\n        },\n\"2022-10-16\"],\n [{\n            'v': 1721,\n            'f': \"1721\",\n        },\n\"When programs grovel into undocumented structures\",\n\"2022-10-16 11:05:43\",\n[64, 109, 144, 94, 225],\n{\n            'v': 96.71551288529562,\n            'f': \"96.71551288529562\",\n        },\n\"2022-10-16\"],\n [{\n            'v': 1754,\n            'f': \"1754\",\n        },\n\"The TeX program: A program of study\",\n\"2022-10-16 12:18:43\",\n[109, 225, 144, 250, 64],\n{\n            'v': 96.31126831733198,\n            'f': \"96.31126831733198\",\n        },\n\"2022-10-16\"],\n [{\n            'v': 2534,\n            'f': \"2534\",\n        },\n\"Differentiable Programming on Discrete Stochastic Programs\",\n\"2022-10-17 15:01:35\",\n[109, 144, 225, 64, 65],\n{\n            'v': 96.10914603335017,\n            'f': \"96.10914603335017\",\n        },\n\"2022-10-17\"],\n [{\n            'v': 2429,\n            'f': \"2429\",\n        },\n\"Hedy \\u2013 A Gradual Programming Language\",\n\"2022-10-17 13:08:56\",\n[109, 225, 64, 144, 65],\n{\n            'v': 96.10914603335017,\n            'f': \"96.10914603335017\",\n        },\n\"2022-10-17\"],\n [{\n            'v': 2727,\n            'f': \"2727\",\n        },\n\"Using the Free Pascal IDE for a Week\",\n\"2022-10-17 18:43:05\",\n[144, 225, 122, 64, 109],\n{\n            'v': 94.49216776149572,\n            'f': \"94.49216776149572\",\n        },\n\"2022-10-17\"],\n [{\n            'v': 3229,\n            'f': \"3229\",\n        },\n\"A Tour of the Adobe Director File Format\",\n\"2022-10-18 12:43:07\",\n[64, 253, 144, 249, 109],\n{\n            'v': 106.82162708438605,\n            'f': \"106.82162708438605\",\n        },\n\"2022-10-18\"],\n [{\n            'v': 3416,\n            'f': \"3416\",\n        },\n\"A Primer on Separation Logic (Automatic Program Verification and Analysis)(2011)\",\n\"2022-10-18 15:36:05\",\n[64, 144, 225, 94, 109],\n{\n            'v': 96.7155128852956,\n            'f': \"96.7155128852956\",\n        },\n\"2022-10-18\"],\n [{\n            'v': 3110,\n            'f': \"3110\",\n        },\n\"An exploration of each of the coreutils commands\",\n\"2022-10-18 09:18:48\",\n[64, 158, 94, 109, 144],\n{\n            'v': 96.4123294593229,\n            'f': \"96.4123294593229\",\n        },\n\"2022-10-18\"],\n [{\n            'v': 4482,\n            'f': \"4482\",\n        },\n\"What I\\u2019ve learned creating a large C++ project\",\n\"2022-10-19 18:25:59\",\n[109, 64, 253, 144, 2],\n{\n            'v': 104.90146538655888,\n            'f': \"104.90146538655888\",\n        },\n\"2022-10-19\"],\n [{\n            'v': 4322,\n            'f': \"4322\",\n        },\n\"Writing Small And Fast Software\",\n\"2022-10-19 15:38:07\",\n[109, 144, 2, 64, 253],\n{\n            'v': 104.90146538655887,\n            'f': \"104.90146538655887\",\n        },\n\"2022-10-19\"],\n [{\n            'v': 4521,\n            'f': \"4521\",\n        },\n\"The Unnecessary OOP vs. Functional Programming Battle\",\n\"2022-10-19 19:07:35\",\n[64, 109, 144, 65, 2],\n{\n            'v': 96.10914603335019,\n            'f': \"96.10914603335019\",\n        },\n\"2022-10-19\"],\n [{\n            'v': 4966,\n            'f': \"4966\",\n        },\n\"Absolute Minimum Developers Must Know About Unicode, Character Sets\",\n\"2022-10-20 10:29:45\",\n[109, 253, 64, 104, 144],\n{\n            'v': 105.10358767054068,\n            'f': \"105.10358767054068\",\n        },\n\"2022-10-20\"],\n [{\n            'v': 4958,\n            'f': \"4958\",\n        },\n\"Gren \\u2013 A programming language for simple and correct applications\",\n\"2022-10-20 10:23:40\",\n[109, 144, 225, 64, 94],\n{\n            'v': 96.71551288529561,\n            'f': \"96.71551288529561\",\n        },\n\"2022-10-20\"],\n [{\n            'v': 5412,\n            'f': \"5412\",\n        },\n\"Software Stories: a novel approach to present landmark legacy code\",\n\"2022-10-20 18:05:46\",\n[253, 64, 109, 144, 128],\n{\n            'v': 96.4123294593229,\n            'f': \"96.4123294593229\",\n        },\n\"2022-10-20\"],\n [{\n            'v': 6200,\n            'f': \"6200\",\n        },\n\"Why Functional Programming Should Be the Future of Software Development\",\n\"2022-10-21 15:47:33\",\n[109, 253, 144, 104, 64],\n{\n            'v': 105.10358767054068,\n            'f': \"105.10358767054068\",\n        },\n\"2022-10-21\"],\n [{\n            'v': 6333,\n            'f': \"6333\",\n        },\n\"Reasons Go Will Take over the Programming World\",\n\"2022-10-21 19:05:20\",\n[109, 144, 253, 125, 64],\n{\n            'v': 100.96008084891359,\n            'f': \"100.96008084891359\",\n        },\n\"2022-10-21\"],\n [{\n            'v': 6350,\n            'f': \"6350\",\n        },\n\"Programming language comparison by reimplementing the same transit data app\",\n\"2022-10-21 19:36:32\",\n[109, 94, 144, 225, 64],\n{\n            'v': 96.71551288529561,\n            'f': \"96.71551288529561\",\n        },\n\"2022-10-21\"],\n [{\n            'v': 6624,\n            'f': \"6624\",\n        },\n\"VDD or the Solution of Logic Errors in Software Development?\",\n\"2022-10-22 09:25:56\",\n[253, 109, 64, 144, 104],\n{\n            'v': 105.10358767054068,\n            'f': \"105.10358767054068\",\n        },\n\"2022-10-22\"],\n [{\n            'v': 6977,\n            'f': \"6977\",\n        },\n\"Odin \\u2013 The Data-Oriented Programming Language for Sane Software Development\",\n\"2022-10-22 23:21:10\",\n[64, 109, 253, 144, 158],\n{\n            'v': 104.59828196058616,\n            'f': \"104.59828196058616\",\n        },\n\"2022-10-22\"],\n [{\n            'v': 6834,\n            'f': \"6834\",\n        },\n\"Interview with inventors of C, C++, Java\",\n\"2022-10-22 17:51:29\",\n[250, 109, 104, 144, 64],\n{\n            'v': 96.5133906013138,\n            'f': \"96.5133906013138\",\n        },\n\"2022-10-22\"],\n [{\n            'v': 7419,\n            'f': \"7419\",\n        },\n\"Noether: Symmetry in Programming Language Design\",\n\"2022-10-23 21:19:45\",\n[64, 109, 144, 94, 225],\n{\n            'v': 96.71551288529562,\n            'f': \"96.71551288529562\",\n        },\n\"2022-10-23\"],\n [{\n            'v': 7209,\n            'f': \"7209\",\n        },\n\"Programming Principles at Id Software by John Romero (Strange Loop 2022)\",\n\"2022-10-23 14:20:23\",\n[144, 64, 109, 225, 250],\n{\n            'v': 96.311268317332,\n            'f': \"96.311268317332\",\n        },\n\"2022-10-23\"],\n [{\n            'v': 7093,\n            'f': \"7093\",\n        },\n\"C Injection Compiler \\u2013 Program your text files in C\",\n\"2022-10-23 08:19:55\",\n[64, 109, 144, 225, 65],\n{\n            'v': 96.10914603335019,\n            'f': \"96.10914603335019\",\n        },\n\"2022-10-23\"],\n [{\n            'v': 7542,\n            'f': \"7542\",\n        },\n\"Bazel introduction to build Java packages\",\n\"2022-10-24 03:16:59\",\n[253, 64, 144, 94, 109],\n{\n            'v': 103.08236483072258,\n            'f': \"103.08236483072258\",\n        },\n\"2022-10-24\"],\n [{\n            'v': 8005,\n            'f': \"8005\",\n        },\n\"Moldable Live Programming for Clojure\",\n\"2022-10-24 18:02:02\",\n[64, 109, 144, 253, 75],\n{\n            'v': 97.92824658918646,\n            'f': \"97.92824658918646\",\n        },\n\"2022-10-24\"],\n [{\n            'v': 8153,\n            'f': \"8153\",\n        },\n\"An Overview of Debugging Tools for C and C++ Applications\",\n\"2022-10-24 21:07:02\",\n[64, 253, 109, 128, 144],\n{\n            'v': 96.4123294593229,\n            'f': \"96.4123294593229\",\n        },\n\"2022-10-24\"]],\n        columns: [[\"number\", \"index\"], [\"string\", \"title\"], [\"string\", \"timestamp\"], [\"string\", \"similar_topics\"], [\"number\", \"similarity_score\"], [\"string\", \"date\"]],\n        columnOptions: [{\"width\": \"1px\", \"className\": \"index_column\"}],\n        rowsPerPage: 25,\n        helpUrl: \"https://colab.research.google.com/notebooks/data_table.ipynb\",\n        suppressOutputScrolling: true,\n        minimumWidth: undefined,\n      });\n    "
          },
          "metadata": {},
          "execution_count": 132
        }
      ]
    }
  ],
  "metadata": {
    "colab": {
      "collapsed_sections": [
        "DGLunsQyxPPd",
        "UhZaCt0Up52G",
        "ZTYsF1gxSpIo",
        "Dbex2Ht4mdYB",
        "2WhqADYQxSGC",
        "5O-Is_SBmuMt",
        "kp4X9qS_c8Ab",
        "0s00Ipi6Sjwm",
        "DSUww7u6-bCR",
        "qwbzRKM8xYWt",
        "sOTVE6yOxigi",
        "Vfweta7ByTNw",
        "ZTy5BWY17NMY",
        "1Pzw0MSr7WIc",
        "S8Dcgld7OwSd",
        "vZQ0Rk7eM_ud",
        "9fdqTjmzwgTx",
        "7xm6doa1-uus",
        "gqKHyDEEySfP",
        "QOC6dA9lfzpA",
        "lz-QLuAWjR14",
        "1aiXCvC0N2QM",
        "EIcI-cYWPNkf",
        "lLQixqWJNzVB",
        "UpS0i3sfOp87",
        "KiZZg0k8vrV6"
      ],
      "provenance": [],
      "toc_visible": true
    },
    "kernelspec": {
      "display_name": "Python 3",
      "name": "python3"
    },
    "language_info": {
      "name": "python"
    },
    "widgets": {
      "application/vnd.jupyter.widget-state+json": {
        "00991d3106cc472a98be1cd681efcd27": {
          "model_module": "@jupyter-widgets/base",
          "model_module_version": "1.2.0",
          "model_name": "LayoutModel",
          "state": {
            "_model_module": "@jupyter-widgets/base",
            "_model_module_version": "1.2.0",
            "_model_name": "LayoutModel",
            "_view_count": null,
            "_view_module": "@jupyter-widgets/base",
            "_view_module_version": "1.2.0",
            "_view_name": "LayoutView",
            "align_content": null,
            "align_items": null,
            "align_self": null,
            "border": null,
            "bottom": null,
            "display": null,
            "flex": null,
            "flex_flow": null,
            "grid_area": null,
            "grid_auto_columns": null,
            "grid_auto_flow": null,
            "grid_auto_rows": null,
            "grid_column": null,
            "grid_gap": null,
            "grid_row": null,
            "grid_template_areas": null,
            "grid_template_columns": null,
            "grid_template_rows": null,
            "height": null,
            "justify_content": null,
            "justify_items": null,
            "left": null,
            "margin": null,
            "max_height": null,
            "max_width": null,
            "min_height": null,
            "min_width": null,
            "object_fit": null,
            "object_position": null,
            "order": null,
            "overflow": null,
            "overflow_x": null,
            "overflow_y": null,
            "padding": null,
            "right": null,
            "top": null,
            "visibility": null,
            "width": null
          }
        },
        "01f74ffdcb6d404faf03a5e6880e4442": {
          "model_module": "@jupyter-widgets/controls",
          "model_module_version": "1.5.0",
          "model_name": "FloatProgressModel",
          "state": {
            "_dom_classes": [],
            "_model_module": "@jupyter-widgets/controls",
            "_model_module_version": "1.5.0",
            "_model_name": "FloatProgressModel",
            "_view_count": null,
            "_view_module": "@jupyter-widgets/controls",
            "_view_module_version": "1.5.0",
            "_view_name": "ProgressView",
            "bar_style": "success",
            "description": "",
            "description_tooltip": null,
            "layout": "IPY_MODEL_1ea62956bff54b6dbb1ad7f4dcc6523b",
            "max": 6024,
            "min": 0,
            "orientation": "horizontal",
            "style": "IPY_MODEL_a0caf7cb2d6f46a7bd58d4d18d041272",
            "value": 6024
          }
        },
        "031ca9c08d6242c8b11333a8aa85f821": {
          "model_module": "@jupyter-widgets/controls",
          "model_module_version": "1.5.0",
          "model_name": "ProgressStyleModel",
          "state": {
            "_model_module": "@jupyter-widgets/controls",
            "_model_module_version": "1.5.0",
            "_model_name": "ProgressStyleModel",
            "_view_count": null,
            "_view_module": "@jupyter-widgets/base",
            "_view_module_version": "1.2.0",
            "_view_name": "StyleView",
            "bar_color": null,
            "description_width": ""
          }
        },
        "05fa18b7d4ee4430bde82e44e8b14c28": {
          "model_module": "@jupyter-widgets/controls",
          "model_module_version": "1.5.0",
          "model_name": "FloatProgressModel",
          "state": {
            "_dom_classes": [],
            "_model_module": "@jupyter-widgets/controls",
            "_model_module_version": "1.5.0",
            "_model_name": "FloatProgressModel",
            "_view_count": null,
            "_view_module": "@jupyter-widgets/controls",
            "_view_module_version": "1.5.0",
            "_view_name": "ProgressView",
            "bar_style": "success",
            "description": "",
            "description_tooltip": null,
            "layout": "IPY_MODEL_08268c9698e940f698d78a9da734fffe",
            "max": 350,
            "min": 0,
            "orientation": "horizontal",
            "style": "IPY_MODEL_95559afac12e4f0f9802aa64791384ea",
            "value": 350
          }
        },
        "066571fc4168405faa69c5d2c2ab4d5e": {
          "model_module": "@jupyter-widgets/base",
          "model_module_version": "1.2.0",
          "model_name": "LayoutModel",
          "state": {
            "_model_module": "@jupyter-widgets/base",
            "_model_module_version": "1.2.0",
            "_model_name": "LayoutModel",
            "_view_count": null,
            "_view_module": "@jupyter-widgets/base",
            "_view_module_version": "1.2.0",
            "_view_name": "LayoutView",
            "align_content": null,
            "align_items": null,
            "align_self": null,
            "border": null,
            "bottom": null,
            "display": null,
            "flex": null,
            "flex_flow": null,
            "grid_area": null,
            "grid_auto_columns": null,
            "grid_auto_flow": null,
            "grid_auto_rows": null,
            "grid_column": null,
            "grid_gap": null,
            "grid_row": null,
            "grid_template_areas": null,
            "grid_template_columns": null,
            "grid_template_rows": null,
            "height": null,
            "justify_content": null,
            "justify_items": null,
            "left": null,
            "margin": null,
            "max_height": null,
            "max_width": null,
            "min_height": null,
            "min_width": null,
            "object_fit": null,
            "object_position": null,
            "order": null,
            "overflow": null,
            "overflow_x": null,
            "overflow_y": null,
            "padding": null,
            "right": null,
            "top": null,
            "visibility": null,
            "width": null
          }
        },
        "0736892f741e4a3a81cc4d1bb8e10dd2": {
          "model_module": "@jupyter-widgets/controls",
          "model_module_version": "1.5.0",
          "model_name": "HTMLModel",
          "state": {
            "_dom_classes": [],
            "_model_module": "@jupyter-widgets/controls",
            "_model_module_version": "1.5.0",
            "_model_name": "HTMLModel",
            "_view_count": null,
            "_view_module": "@jupyter-widgets/controls",
            "_view_module_version": "1.5.0",
            "_view_name": "HTMLView",
            "description": "",
            "description_tooltip": null,
            "layout": "IPY_MODEL_f9b8f8974dba43d4a071bccc625f0bde",
            "placeholder": "​",
            "style": "IPY_MODEL_3b690ed1a14740278da6461faaf8d1c8",
            "value": " 112/112 [00:00&lt;00:00, 3.38kB/s]"
          }
        },
        "076bf7d3f82f4b37b25f0eb73b4e3c69": {
          "model_module": "@jupyter-widgets/controls",
          "model_module_version": "1.5.0",
          "model_name": "ProgressStyleModel",
          "state": {
            "_model_module": "@jupyter-widgets/controls",
            "_model_module_version": "1.5.0",
            "_model_name": "ProgressStyleModel",
            "_view_count": null,
            "_view_module": "@jupyter-widgets/base",
            "_view_module_version": "1.2.0",
            "_view_name": "StyleView",
            "bar_color": null,
            "description_width": ""
          }
        },
        "078b6c6a33c241ca8804649f36a562b1": {
          "model_module": "@jupyter-widgets/base",
          "model_module_version": "1.2.0",
          "model_name": "LayoutModel",
          "state": {
            "_model_module": "@jupyter-widgets/base",
            "_model_module_version": "1.2.0",
            "_model_name": "LayoutModel",
            "_view_count": null,
            "_view_module": "@jupyter-widgets/base",
            "_view_module_version": "1.2.0",
            "_view_name": "LayoutView",
            "align_content": null,
            "align_items": null,
            "align_self": null,
            "border": null,
            "bottom": null,
            "display": null,
            "flex": null,
            "flex_flow": null,
            "grid_area": null,
            "grid_auto_columns": null,
            "grid_auto_flow": null,
            "grid_auto_rows": null,
            "grid_column": null,
            "grid_gap": null,
            "grid_row": null,
            "grid_template_areas": null,
            "grid_template_columns": null,
            "grid_template_rows": null,
            "height": null,
            "justify_content": null,
            "justify_items": null,
            "left": null,
            "margin": null,
            "max_height": null,
            "max_width": null,
            "min_height": null,
            "min_width": null,
            "object_fit": null,
            "object_position": null,
            "order": null,
            "overflow": null,
            "overflow_x": null,
            "overflow_y": null,
            "padding": null,
            "right": null,
            "top": null,
            "visibility": null,
            "width": null
          }
        },
        "07bc4bd9231d451ba7dc0cd5acacfd3b": {
          "model_module": "@jupyter-widgets/controls",
          "model_module_version": "1.5.0",
          "model_name": "HBoxModel",
          "state": {
            "_dom_classes": [],
            "_model_module": "@jupyter-widgets/controls",
            "_model_module_version": "1.5.0",
            "_model_name": "HBoxModel",
            "_view_count": null,
            "_view_module": "@jupyter-widgets/controls",
            "_view_module_version": "1.5.0",
            "_view_name": "HBoxView",
            "box_style": "",
            "children": [
              "IPY_MODEL_2823e1b6c86e49f6a600cd79737779d6",
              "IPY_MODEL_683a9c3a54654c1d87b4a29b5611be33",
              "IPY_MODEL_6b9f3e75561b4195aeeccb7a93b098f2"
            ],
            "layout": "IPY_MODEL_d26d59564af44451bced8013cdf13b52"
          }
        },
        "08268c9698e940f698d78a9da734fffe": {
          "model_module": "@jupyter-widgets/base",
          "model_module_version": "1.2.0",
          "model_name": "LayoutModel",
          "state": {
            "_model_module": "@jupyter-widgets/base",
            "_model_module_version": "1.2.0",
            "_model_name": "LayoutModel",
            "_view_count": null,
            "_view_module": "@jupyter-widgets/base",
            "_view_module_version": "1.2.0",
            "_view_name": "LayoutView",
            "align_content": null,
            "align_items": null,
            "align_self": null,
            "border": null,
            "bottom": null,
            "display": null,
            "flex": null,
            "flex_flow": null,
            "grid_area": null,
            "grid_auto_columns": null,
            "grid_auto_flow": null,
            "grid_auto_rows": null,
            "grid_column": null,
            "grid_gap": null,
            "grid_row": null,
            "grid_template_areas": null,
            "grid_template_columns": null,
            "grid_template_rows": null,
            "height": null,
            "justify_content": null,
            "justify_items": null,
            "left": null,
            "margin": null,
            "max_height": null,
            "max_width": null,
            "min_height": null,
            "min_width": null,
            "object_fit": null,
            "object_position": null,
            "order": null,
            "overflow": null,
            "overflow_x": null,
            "overflow_y": null,
            "padding": null,
            "right": null,
            "top": null,
            "visibility": null,
            "width": null
          }
        },
        "084c94312abd45238f49984d93338371": {
          "model_module": "@jupyter-widgets/base",
          "model_module_version": "1.2.0",
          "model_name": "LayoutModel",
          "state": {
            "_model_module": "@jupyter-widgets/base",
            "_model_module_version": "1.2.0",
            "_model_name": "LayoutModel",
            "_view_count": null,
            "_view_module": "@jupyter-widgets/base",
            "_view_module_version": "1.2.0",
            "_view_name": "LayoutView",
            "align_content": null,
            "align_items": null,
            "align_self": null,
            "border": null,
            "bottom": null,
            "display": null,
            "flex": null,
            "flex_flow": null,
            "grid_area": null,
            "grid_auto_columns": null,
            "grid_auto_flow": null,
            "grid_auto_rows": null,
            "grid_column": null,
            "grid_gap": null,
            "grid_row": null,
            "grid_template_areas": null,
            "grid_template_columns": null,
            "grid_template_rows": null,
            "height": null,
            "justify_content": null,
            "justify_items": null,
            "left": null,
            "margin": null,
            "max_height": null,
            "max_width": null,
            "min_height": null,
            "min_width": null,
            "object_fit": null,
            "object_position": null,
            "order": null,
            "overflow": null,
            "overflow_x": null,
            "overflow_y": null,
            "padding": null,
            "right": null,
            "top": null,
            "visibility": null,
            "width": null
          }
        },
        "0b42b37835e44702b8f0220618288838": {
          "model_module": "@jupyter-widgets/controls",
          "model_module_version": "1.5.0",
          "model_name": "DescriptionStyleModel",
          "state": {
            "_model_module": "@jupyter-widgets/controls",
            "_model_module_version": "1.5.0",
            "_model_name": "DescriptionStyleModel",
            "_view_count": null,
            "_view_module": "@jupyter-widgets/base",
            "_view_module_version": "1.2.0",
            "_view_name": "StyleView",
            "description_width": ""
          }
        },
        "0c24bd204504444982769403f7925ace": {
          "model_module": "@jupyter-widgets/controls",
          "model_module_version": "1.5.0",
          "model_name": "DescriptionStyleModel",
          "state": {
            "_model_module": "@jupyter-widgets/controls",
            "_model_module_version": "1.5.0",
            "_model_name": "DescriptionStyleModel",
            "_view_count": null,
            "_view_module": "@jupyter-widgets/base",
            "_view_module_version": "1.2.0",
            "_view_name": "StyleView",
            "description_width": ""
          }
        },
        "100d79d6c1544c948db015021e739c30": {
          "model_module": "@jupyter-widgets/base",
          "model_module_version": "1.2.0",
          "model_name": "LayoutModel",
          "state": {
            "_model_module": "@jupyter-widgets/base",
            "_model_module_version": "1.2.0",
            "_model_name": "LayoutModel",
            "_view_count": null,
            "_view_module": "@jupyter-widgets/base",
            "_view_module_version": "1.2.0",
            "_view_name": "LayoutView",
            "align_content": null,
            "align_items": null,
            "align_self": null,
            "border": null,
            "bottom": null,
            "display": null,
            "flex": null,
            "flex_flow": null,
            "grid_area": null,
            "grid_auto_columns": null,
            "grid_auto_flow": null,
            "grid_auto_rows": null,
            "grid_column": null,
            "grid_gap": null,
            "grid_row": null,
            "grid_template_areas": null,
            "grid_template_columns": null,
            "grid_template_rows": null,
            "height": null,
            "justify_content": null,
            "justify_items": null,
            "left": null,
            "margin": null,
            "max_height": null,
            "max_width": null,
            "min_height": null,
            "min_width": null,
            "object_fit": null,
            "object_position": null,
            "order": null,
            "overflow": null,
            "overflow_x": null,
            "overflow_y": null,
            "padding": null,
            "right": null,
            "top": null,
            "visibility": null,
            "width": null
          }
        },
        "1123059e320946b680d7c570be762b5b": {
          "model_module": "@jupyter-widgets/base",
          "model_module_version": "1.2.0",
          "model_name": "LayoutModel",
          "state": {
            "_model_module": "@jupyter-widgets/base",
            "_model_module_version": "1.2.0",
            "_model_name": "LayoutModel",
            "_view_count": null,
            "_view_module": "@jupyter-widgets/base",
            "_view_module_version": "1.2.0",
            "_view_name": "LayoutView",
            "align_content": null,
            "align_items": null,
            "align_self": null,
            "border": null,
            "bottom": null,
            "display": null,
            "flex": null,
            "flex_flow": null,
            "grid_area": null,
            "grid_auto_columns": null,
            "grid_auto_flow": null,
            "grid_auto_rows": null,
            "grid_column": null,
            "grid_gap": null,
            "grid_row": null,
            "grid_template_areas": null,
            "grid_template_columns": null,
            "grid_template_rows": null,
            "height": null,
            "justify_content": null,
            "justify_items": null,
            "left": null,
            "margin": null,
            "max_height": null,
            "max_width": null,
            "min_height": null,
            "min_width": null,
            "object_fit": null,
            "object_position": null,
            "order": null,
            "overflow": null,
            "overflow_x": null,
            "overflow_y": null,
            "padding": null,
            "right": null,
            "top": null,
            "visibility": null,
            "width": null
          }
        },
        "14138a2ab27d4c9cad20810d8348acac": {
          "model_module": "@jupyter-widgets/base",
          "model_module_version": "1.2.0",
          "model_name": "LayoutModel",
          "state": {
            "_model_module": "@jupyter-widgets/base",
            "_model_module_version": "1.2.0",
            "_model_name": "LayoutModel",
            "_view_count": null,
            "_view_module": "@jupyter-widgets/base",
            "_view_module_version": "1.2.0",
            "_view_name": "LayoutView",
            "align_content": null,
            "align_items": null,
            "align_self": null,
            "border": null,
            "bottom": null,
            "display": null,
            "flex": null,
            "flex_flow": null,
            "grid_area": null,
            "grid_auto_columns": null,
            "grid_auto_flow": null,
            "grid_auto_rows": null,
            "grid_column": null,
            "grid_gap": null,
            "grid_row": null,
            "grid_template_areas": null,
            "grid_template_columns": null,
            "grid_template_rows": null,
            "height": null,
            "justify_content": null,
            "justify_items": null,
            "left": null,
            "margin": null,
            "max_height": null,
            "max_width": null,
            "min_height": null,
            "min_width": null,
            "object_fit": null,
            "object_position": null,
            "order": null,
            "overflow": null,
            "overflow_x": null,
            "overflow_y": null,
            "padding": null,
            "right": null,
            "top": null,
            "visibility": null,
            "width": null
          }
        },
        "17bf203241e64dd3ae0db1634798ea11": {
          "model_module": "@jupyter-widgets/controls",
          "model_module_version": "1.5.0",
          "model_name": "FloatProgressModel",
          "state": {
            "_dom_classes": [],
            "_model_module": "@jupyter-widgets/controls",
            "_model_module_version": "1.5.0",
            "_model_name": "FloatProgressModel",
            "_view_count": null,
            "_view_module": "@jupyter-widgets/controls",
            "_view_module_version": "1.5.0",
            "_view_name": "ProgressView",
            "bar_style": "success",
            "description": "",
            "description_tooltip": null,
            "layout": "IPY_MODEL_2877b15a0647447eaa649b6511bf38f4",
            "max": 231508,
            "min": 0,
            "orientation": "horizontal",
            "style": "IPY_MODEL_2fc06733359a48358bf57a40724e3382",
            "value": 231508
          }
        },
        "180d00d73021479a92f770bb74414ee8": {
          "model_module": "@jupyter-widgets/controls",
          "model_module_version": "1.5.0",
          "model_name": "DescriptionStyleModel",
          "state": {
            "_model_module": "@jupyter-widgets/controls",
            "_model_module_version": "1.5.0",
            "_model_name": "DescriptionStyleModel",
            "_view_count": null,
            "_view_module": "@jupyter-widgets/base",
            "_view_module_version": "1.2.0",
            "_view_name": "StyleView",
            "description_width": ""
          }
        },
        "1adba0ca0d32436385a61fab2b51cada": {
          "model_module": "@jupyter-widgets/base",
          "model_module_version": "1.2.0",
          "model_name": "LayoutModel",
          "state": {
            "_model_module": "@jupyter-widgets/base",
            "_model_module_version": "1.2.0",
            "_model_name": "LayoutModel",
            "_view_count": null,
            "_view_module": "@jupyter-widgets/base",
            "_view_module_version": "1.2.0",
            "_view_name": "LayoutView",
            "align_content": null,
            "align_items": null,
            "align_self": null,
            "border": null,
            "bottom": null,
            "display": null,
            "flex": null,
            "flex_flow": null,
            "grid_area": null,
            "grid_auto_columns": null,
            "grid_auto_flow": null,
            "grid_auto_rows": null,
            "grid_column": null,
            "grid_gap": null,
            "grid_row": null,
            "grid_template_areas": null,
            "grid_template_columns": null,
            "grid_template_rows": null,
            "height": null,
            "justify_content": null,
            "justify_items": null,
            "left": null,
            "margin": null,
            "max_height": null,
            "max_width": null,
            "min_height": null,
            "min_width": null,
            "object_fit": null,
            "object_position": null,
            "order": null,
            "overflow": null,
            "overflow_x": null,
            "overflow_y": null,
            "padding": null,
            "right": null,
            "top": null,
            "visibility": null,
            "width": null
          }
        },
        "1e214594792d492989f6ed06e257f2b5": {
          "model_module": "@jupyter-widgets/controls",
          "model_module_version": "1.5.0",
          "model_name": "DescriptionStyleModel",
          "state": {
            "_model_module": "@jupyter-widgets/controls",
            "_model_module_version": "1.5.0",
            "_model_name": "DescriptionStyleModel",
            "_view_count": null,
            "_view_module": "@jupyter-widgets/base",
            "_view_module_version": "1.2.0",
            "_view_name": "StyleView",
            "description_width": ""
          }
        },
        "1e993be318c84460a132cfc9e43204a0": {
          "model_module": "@jupyter-widgets/base",
          "model_module_version": "1.2.0",
          "model_name": "LayoutModel",
          "state": {
            "_model_module": "@jupyter-widgets/base",
            "_model_module_version": "1.2.0",
            "_model_name": "LayoutModel",
            "_view_count": null,
            "_view_module": "@jupyter-widgets/base",
            "_view_module_version": "1.2.0",
            "_view_name": "LayoutView",
            "align_content": null,
            "align_items": null,
            "align_self": null,
            "border": null,
            "bottom": null,
            "display": null,
            "flex": null,
            "flex_flow": null,
            "grid_area": null,
            "grid_auto_columns": null,
            "grid_auto_flow": null,
            "grid_auto_rows": null,
            "grid_column": null,
            "grid_gap": null,
            "grid_row": null,
            "grid_template_areas": null,
            "grid_template_columns": null,
            "grid_template_rows": null,
            "height": null,
            "justify_content": null,
            "justify_items": null,
            "left": null,
            "margin": null,
            "max_height": null,
            "max_width": null,
            "min_height": null,
            "min_width": null,
            "object_fit": null,
            "object_position": null,
            "order": null,
            "overflow": null,
            "overflow_x": null,
            "overflow_y": null,
            "padding": null,
            "right": null,
            "top": null,
            "visibility": null,
            "width": null
          }
        },
        "1ea62956bff54b6dbb1ad7f4dcc6523b": {
          "model_module": "@jupyter-widgets/base",
          "model_module_version": "1.2.0",
          "model_name": "LayoutModel",
          "state": {
            "_model_module": "@jupyter-widgets/base",
            "_model_module_version": "1.2.0",
            "_model_name": "LayoutModel",
            "_view_count": null,
            "_view_module": "@jupyter-widgets/base",
            "_view_module_version": "1.2.0",
            "_view_name": "LayoutView",
            "align_content": null,
            "align_items": null,
            "align_self": null,
            "border": null,
            "bottom": null,
            "display": null,
            "flex": null,
            "flex_flow": null,
            "grid_area": null,
            "grid_auto_columns": null,
            "grid_auto_flow": null,
            "grid_auto_rows": null,
            "grid_column": null,
            "grid_gap": null,
            "grid_row": null,
            "grid_template_areas": null,
            "grid_template_columns": null,
            "grid_template_rows": null,
            "height": null,
            "justify_content": null,
            "justify_items": null,
            "left": null,
            "margin": null,
            "max_height": null,
            "max_width": null,
            "min_height": null,
            "min_width": null,
            "object_fit": null,
            "object_position": null,
            "order": null,
            "overflow": null,
            "overflow_x": null,
            "overflow_y": null,
            "padding": null,
            "right": null,
            "top": null,
            "visibility": null,
            "width": null
          }
        },
        "1efd3979cbda44f493906ced332aee35": {
          "model_module": "@jupyter-widgets/controls",
          "model_module_version": "1.5.0",
          "model_name": "DescriptionStyleModel",
          "state": {
            "_model_module": "@jupyter-widgets/controls",
            "_model_module_version": "1.5.0",
            "_model_name": "DescriptionStyleModel",
            "_view_count": null,
            "_view_module": "@jupyter-widgets/base",
            "_view_module_version": "1.2.0",
            "_view_name": "StyleView",
            "description_width": ""
          }
        },
        "1f40fc5c79284024bd51fa8f86a760e6": {
          "model_module": "@jupyter-widgets/controls",
          "model_module_version": "1.5.0",
          "model_name": "DescriptionStyleModel",
          "state": {
            "_model_module": "@jupyter-widgets/controls",
            "_model_module_version": "1.5.0",
            "_model_name": "DescriptionStyleModel",
            "_view_count": null,
            "_view_module": "@jupyter-widgets/base",
            "_view_module_version": "1.2.0",
            "_view_name": "StyleView",
            "description_width": ""
          }
        },
        "200c72bf55e44c01952c05a4f9ff65da": {
          "model_module": "@jupyter-widgets/base",
          "model_module_version": "1.2.0",
          "model_name": "LayoutModel",
          "state": {
            "_model_module": "@jupyter-widgets/base",
            "_model_module_version": "1.2.0",
            "_model_name": "LayoutModel",
            "_view_count": null,
            "_view_module": "@jupyter-widgets/base",
            "_view_module_version": "1.2.0",
            "_view_name": "LayoutView",
            "align_content": null,
            "align_items": null,
            "align_self": null,
            "border": null,
            "bottom": null,
            "display": null,
            "flex": null,
            "flex_flow": null,
            "grid_area": null,
            "grid_auto_columns": null,
            "grid_auto_flow": null,
            "grid_auto_rows": null,
            "grid_column": null,
            "grid_gap": null,
            "grid_row": null,
            "grid_template_areas": null,
            "grid_template_columns": null,
            "grid_template_rows": null,
            "height": null,
            "justify_content": null,
            "justify_items": null,
            "left": null,
            "margin": null,
            "max_height": null,
            "max_width": null,
            "min_height": null,
            "min_width": null,
            "object_fit": null,
            "object_position": null,
            "order": null,
            "overflow": null,
            "overflow_x": null,
            "overflow_y": null,
            "padding": null,
            "right": null,
            "top": null,
            "visibility": null,
            "width": null
          }
        },
        "220619e1d6d94c12b6ca44f3f90814a0": {
          "model_module": "@jupyter-widgets/controls",
          "model_module_version": "1.5.0",
          "model_name": "FloatProgressModel",
          "state": {
            "_dom_classes": [],
            "_model_module": "@jupyter-widgets/controls",
            "_model_module_version": "1.5.0",
            "_model_name": "FloatProgressModel",
            "_view_count": null,
            "_view_module": "@jupyter-widgets/controls",
            "_view_module_version": "1.5.0",
            "_view_name": "ProgressView",
            "bar_style": "success",
            "description": "",
            "description_tooltip": null,
            "layout": "IPY_MODEL_d1e4b49a991a44f7bbca748ae96fd40e",
            "max": 53,
            "min": 0,
            "orientation": "horizontal",
            "style": "IPY_MODEL_076bf7d3f82f4b37b25f0eb73b4e3c69",
            "value": 53
          }
        },
        "22934e6590d24750b18c85dc4b426df4": {
          "model_module": "@jupyter-widgets/controls",
          "model_module_version": "1.5.0",
          "model_name": "DescriptionStyleModel",
          "state": {
            "_model_module": "@jupyter-widgets/controls",
            "_model_module_version": "1.5.0",
            "_model_name": "DescriptionStyleModel",
            "_view_count": null,
            "_view_module": "@jupyter-widgets/base",
            "_view_module_version": "1.2.0",
            "_view_name": "StyleView",
            "description_width": ""
          }
        },
        "23d24498b73343258e5e8ec4540bbac3": {
          "model_module": "@jupyter-widgets/controls",
          "model_module_version": "1.5.0",
          "model_name": "HTMLModel",
          "state": {
            "_dom_classes": [],
            "_model_module": "@jupyter-widgets/controls",
            "_model_module_version": "1.5.0",
            "_model_name": "HTMLModel",
            "_view_count": null,
            "_view_module": "@jupyter-widgets/controls",
            "_view_module_version": "1.5.0",
            "_view_name": "HTMLView",
            "description": "",
            "description_tooltip": null,
            "layout": "IPY_MODEL_8630253b78e0487bbe88a982f2d55ec2",
            "placeholder": "​",
            "style": "IPY_MODEL_a1abd43b334a49948f7186322953f06c",
            "value": "Downloading: 100%"
          }
        },
        "2591d37a62544f9badcf300ed23dfa6a": {
          "model_module": "@jupyter-widgets/controls",
          "model_module_version": "1.5.0",
          "model_name": "DescriptionStyleModel",
          "state": {
            "_model_module": "@jupyter-widgets/controls",
            "_model_module_version": "1.5.0",
            "_model_name": "DescriptionStyleModel",
            "_view_count": null,
            "_view_module": "@jupyter-widgets/base",
            "_view_module_version": "1.2.0",
            "_view_name": "StyleView",
            "description_width": ""
          }
        },
        "2823e1b6c86e49f6a600cd79737779d6": {
          "model_module": "@jupyter-widgets/controls",
          "model_module_version": "1.5.0",
          "model_name": "HTMLModel",
          "state": {
            "_dom_classes": [],
            "_model_module": "@jupyter-widgets/controls",
            "_model_module_version": "1.5.0",
            "_model_name": "HTMLModel",
            "_view_count": null,
            "_view_module": "@jupyter-widgets/controls",
            "_view_module_version": "1.5.0",
            "_view_name": "HTMLView",
            "description": "",
            "description_tooltip": null,
            "layout": "IPY_MODEL_f2b0ba5d393047118f71bcf99419a507",
            "placeholder": "​",
            "style": "IPY_MODEL_cca99cddb6b04c419e9a47fb110dadff",
            "value": "Downloading: 100%"
          }
        },
        "2877b15a0647447eaa649b6511bf38f4": {
          "model_module": "@jupyter-widgets/base",
          "model_module_version": "1.2.0",
          "model_name": "LayoutModel",
          "state": {
            "_model_module": "@jupyter-widgets/base",
            "_model_module_version": "1.2.0",
            "_model_name": "LayoutModel",
            "_view_count": null,
            "_view_module": "@jupyter-widgets/base",
            "_view_module_version": "1.2.0",
            "_view_name": "LayoutView",
            "align_content": null,
            "align_items": null,
            "align_self": null,
            "border": null,
            "bottom": null,
            "display": null,
            "flex": null,
            "flex_flow": null,
            "grid_area": null,
            "grid_auto_columns": null,
            "grid_auto_flow": null,
            "grid_auto_rows": null,
            "grid_column": null,
            "grid_gap": null,
            "grid_row": null,
            "grid_template_areas": null,
            "grid_template_columns": null,
            "grid_template_rows": null,
            "height": null,
            "justify_content": null,
            "justify_items": null,
            "left": null,
            "margin": null,
            "max_height": null,
            "max_width": null,
            "min_height": null,
            "min_width": null,
            "object_fit": null,
            "object_position": null,
            "order": null,
            "overflow": null,
            "overflow_x": null,
            "overflow_y": null,
            "padding": null,
            "right": null,
            "top": null,
            "visibility": null,
            "width": null
          }
        },
        "2981510065ed4617b2785316b9d4137e": {
          "model_module": "@jupyter-widgets/controls",
          "model_module_version": "1.5.0",
          "model_name": "HTMLModel",
          "state": {
            "_dom_classes": [],
            "_model_module": "@jupyter-widgets/controls",
            "_model_module_version": "1.5.0",
            "_model_name": "HTMLModel",
            "_view_count": null,
            "_view_module": "@jupyter-widgets/controls",
            "_view_module_version": "1.5.0",
            "_view_name": "HTMLView",
            "description": "",
            "description_tooltip": null,
            "layout": "IPY_MODEL_76d8c543f9cb42a6a52e4a7c1d16cf11",
            "placeholder": "​",
            "style": "IPY_MODEL_0b42b37835e44702b8f0220618288838",
            "value": " 612/612 [00:00&lt;00:00, 18.9kB/s]"
          }
        },
        "29e6f44b668342a9aff2124be5d39f47": {
          "model_module": "@jupyter-widgets/controls",
          "model_module_version": "1.5.0",
          "model_name": "ProgressStyleModel",
          "state": {
            "_model_module": "@jupyter-widgets/controls",
            "_model_module_version": "1.5.0",
            "_model_name": "ProgressStyleModel",
            "_view_count": null,
            "_view_module": "@jupyter-widgets/base",
            "_view_module_version": "1.2.0",
            "_view_name": "StyleView",
            "bar_color": null,
            "description_width": ""
          }
        },
        "2d23b0d08cd44754bd7f247f3b9a6b34": {
          "model_module": "@jupyter-widgets/base",
          "model_module_version": "1.2.0",
          "model_name": "LayoutModel",
          "state": {
            "_model_module": "@jupyter-widgets/base",
            "_model_module_version": "1.2.0",
            "_model_name": "LayoutModel",
            "_view_count": null,
            "_view_module": "@jupyter-widgets/base",
            "_view_module_version": "1.2.0",
            "_view_name": "LayoutView",
            "align_content": null,
            "align_items": null,
            "align_self": null,
            "border": null,
            "bottom": null,
            "display": null,
            "flex": null,
            "flex_flow": null,
            "grid_area": null,
            "grid_auto_columns": null,
            "grid_auto_flow": null,
            "grid_auto_rows": null,
            "grid_column": null,
            "grid_gap": null,
            "grid_row": null,
            "grid_template_areas": null,
            "grid_template_columns": null,
            "grid_template_rows": null,
            "height": null,
            "justify_content": null,
            "justify_items": null,
            "left": null,
            "margin": null,
            "max_height": null,
            "max_width": null,
            "min_height": null,
            "min_width": null,
            "object_fit": null,
            "object_position": null,
            "order": null,
            "overflow": null,
            "overflow_x": null,
            "overflow_y": null,
            "padding": null,
            "right": null,
            "top": null,
            "visibility": null,
            "width": null
          }
        },
        "2fc06733359a48358bf57a40724e3382": {
          "model_module": "@jupyter-widgets/controls",
          "model_module_version": "1.5.0",
          "model_name": "ProgressStyleModel",
          "state": {
            "_model_module": "@jupyter-widgets/controls",
            "_model_module_version": "1.5.0",
            "_model_name": "ProgressStyleModel",
            "_view_count": null,
            "_view_module": "@jupyter-widgets/base",
            "_view_module_version": "1.2.0",
            "_view_name": "StyleView",
            "bar_color": null,
            "description_width": ""
          }
        },
        "3034aace9f284eb4b97020429a554c38": {
          "model_module": "@jupyter-widgets/controls",
          "model_module_version": "1.5.0",
          "model_name": "ProgressStyleModel",
          "state": {
            "_model_module": "@jupyter-widgets/controls",
            "_model_module_version": "1.5.0",
            "_model_name": "ProgressStyleModel",
            "_view_count": null,
            "_view_module": "@jupyter-widgets/base",
            "_view_module_version": "1.2.0",
            "_view_name": "StyleView",
            "bar_color": null,
            "description_width": ""
          }
        },
        "30ad01962f454a7d9264f7db7a1757fe": {
          "model_module": "@jupyter-widgets/controls",
          "model_module_version": "1.5.0",
          "model_name": "HBoxModel",
          "state": {
            "_dom_classes": [],
            "_model_module": "@jupyter-widgets/controls",
            "_model_module_version": "1.5.0",
            "_model_name": "HBoxModel",
            "_view_count": null,
            "_view_module": "@jupyter-widgets/controls",
            "_view_module_version": "1.5.0",
            "_view_name": "HBoxView",
            "box_style": "",
            "children": [
              "IPY_MODEL_383f1ecfacee41d2a57edfb1c0070d4c",
              "IPY_MODEL_e73452593014424e91257f17c248fcb8",
              "IPY_MODEL_41b69bc06c324ee891ddea570766252e"
            ],
            "layout": "IPY_MODEL_417fe7476b04451fb872c7d55afa4226"
          }
        },
        "33a9d6d1fd9644238e57f095f2c7c27e": {
          "model_module": "@jupyter-widgets/base",
          "model_module_version": "1.2.0",
          "model_name": "LayoutModel",
          "state": {
            "_model_module": "@jupyter-widgets/base",
            "_model_module_version": "1.2.0",
            "_model_name": "LayoutModel",
            "_view_count": null,
            "_view_module": "@jupyter-widgets/base",
            "_view_module_version": "1.2.0",
            "_view_name": "LayoutView",
            "align_content": null,
            "align_items": null,
            "align_self": null,
            "border": null,
            "bottom": null,
            "display": null,
            "flex": null,
            "flex_flow": null,
            "grid_area": null,
            "grid_auto_columns": null,
            "grid_auto_flow": null,
            "grid_auto_rows": null,
            "grid_column": null,
            "grid_gap": null,
            "grid_row": null,
            "grid_template_areas": null,
            "grid_template_columns": null,
            "grid_template_rows": null,
            "height": null,
            "justify_content": null,
            "justify_items": null,
            "left": null,
            "margin": null,
            "max_height": null,
            "max_width": null,
            "min_height": null,
            "min_width": null,
            "object_fit": null,
            "object_position": null,
            "order": null,
            "overflow": null,
            "overflow_x": null,
            "overflow_y": null,
            "padding": null,
            "right": null,
            "top": null,
            "visibility": null,
            "width": null
          }
        },
        "35a7e140b73c499e95a3e7765658a6a3": {
          "model_module": "@jupyter-widgets/controls",
          "model_module_version": "1.5.0",
          "model_name": "HTMLModel",
          "state": {
            "_dom_classes": [],
            "_model_module": "@jupyter-widgets/controls",
            "_model_module_version": "1.5.0",
            "_model_name": "HTMLModel",
            "_view_count": null,
            "_view_module": "@jupyter-widgets/controls",
            "_view_module_version": "1.5.0",
            "_view_name": "HTMLView",
            "description": "",
            "description_tooltip": null,
            "layout": "IPY_MODEL_1123059e320946b680d7c570be762b5b",
            "placeholder": "​",
            "style": "IPY_MODEL_8684d08454bd450586f8fd7f8381e1a1",
            "value": "Downloading: 100%"
          }
        },
        "3743b8e5598f4aba900c14751080ea61": {
          "model_module": "@jupyter-widgets/controls",
          "model_module_version": "1.5.0",
          "model_name": "HTMLModel",
          "state": {
            "_dom_classes": [],
            "_model_module": "@jupyter-widgets/controls",
            "_model_module_version": "1.5.0",
            "_model_name": "HTMLModel",
            "_view_count": null,
            "_view_module": "@jupyter-widgets/controls",
            "_view_module_version": "1.5.0",
            "_view_name": "HTMLView",
            "description": "",
            "description_tooltip": null,
            "layout": "IPY_MODEL_200c72bf55e44c01952c05a4f9ff65da",
            "placeholder": "​",
            "style": "IPY_MODEL_8bcc19cb81a844caa72a32cc7b3bdcf6",
            "value": " 190/190 [00:00&lt;00:00, 5.84kB/s]"
          }
        },
        "37665b39ed5d4d2ba9508474bb7093a4": {
          "model_module": "@jupyter-widgets/base",
          "model_module_version": "1.2.0",
          "model_name": "LayoutModel",
          "state": {
            "_model_module": "@jupyter-widgets/base",
            "_model_module_version": "1.2.0",
            "_model_name": "LayoutModel",
            "_view_count": null,
            "_view_module": "@jupyter-widgets/base",
            "_view_module_version": "1.2.0",
            "_view_name": "LayoutView",
            "align_content": null,
            "align_items": null,
            "align_self": null,
            "border": null,
            "bottom": null,
            "display": null,
            "flex": null,
            "flex_flow": null,
            "grid_area": null,
            "grid_auto_columns": null,
            "grid_auto_flow": null,
            "grid_auto_rows": null,
            "grid_column": null,
            "grid_gap": null,
            "grid_row": null,
            "grid_template_areas": null,
            "grid_template_columns": null,
            "grid_template_rows": null,
            "height": null,
            "justify_content": null,
            "justify_items": null,
            "left": null,
            "margin": null,
            "max_height": null,
            "max_width": null,
            "min_height": null,
            "min_width": null,
            "object_fit": null,
            "object_position": null,
            "order": null,
            "overflow": null,
            "overflow_x": null,
            "overflow_y": null,
            "padding": null,
            "right": null,
            "top": null,
            "visibility": null,
            "width": null
          }
        },
        "383f1ecfacee41d2a57edfb1c0070d4c": {
          "model_module": "@jupyter-widgets/controls",
          "model_module_version": "1.5.0",
          "model_name": "HTMLModel",
          "state": {
            "_dom_classes": [],
            "_model_module": "@jupyter-widgets/controls",
            "_model_module_version": "1.5.0",
            "_model_name": "HTMLModel",
            "_view_count": null,
            "_view_module": "@jupyter-widgets/controls",
            "_view_module_version": "1.5.0",
            "_view_name": "HTMLView",
            "description": "",
            "description_tooltip": null,
            "layout": "IPY_MODEL_7df014e64f3c4bbd96892821d4985397",
            "placeholder": "​",
            "style": "IPY_MODEL_180d00d73021479a92f770bb74414ee8",
            "value": "Downloading: 100%"
          }
        },
        "38be0c35fe6e451c88aa0ad21098e82a": {
          "model_module": "@jupyter-widgets/controls",
          "model_module_version": "1.5.0",
          "model_name": "HBoxModel",
          "state": {
            "_dom_classes": [],
            "_model_module": "@jupyter-widgets/controls",
            "_model_module_version": "1.5.0",
            "_model_name": "HBoxModel",
            "_view_count": null,
            "_view_module": "@jupyter-widgets/controls",
            "_view_module_version": "1.5.0",
            "_view_name": "HBoxView",
            "box_style": "",
            "children": [
              "IPY_MODEL_3e15142d93a04aaf91fc36d1c7887329",
              "IPY_MODEL_17bf203241e64dd3ae0db1634798ea11",
              "IPY_MODEL_393bf56f106d465cada858da937e6e4b"
            ],
            "layout": "IPY_MODEL_f808124010a14eb9afd4c206813a1630"
          }
        },
        "393bf56f106d465cada858da937e6e4b": {
          "model_module": "@jupyter-widgets/controls",
          "model_module_version": "1.5.0",
          "model_name": "HTMLModel",
          "state": {
            "_dom_classes": [],
            "_model_module": "@jupyter-widgets/controls",
            "_model_module_version": "1.5.0",
            "_model_name": "HTMLModel",
            "_view_count": null,
            "_view_module": "@jupyter-widgets/controls",
            "_view_module_version": "1.5.0",
            "_view_name": "HTMLView",
            "description": "",
            "description_tooltip": null,
            "layout": "IPY_MODEL_084c94312abd45238f49984d93338371",
            "placeholder": "​",
            "style": "IPY_MODEL_8bb24c339e3a470b97b692b73fb62d2a",
            "value": " 232k/232k [00:00&lt;00:00, 596kB/s]"
          }
        },
        "3ab91bd2d4a849eea7b49d30b4a4357c": {
          "model_module": "@jupyter-widgets/controls",
          "model_module_version": "1.5.0",
          "model_name": "DescriptionStyleModel",
          "state": {
            "_model_module": "@jupyter-widgets/controls",
            "_model_module_version": "1.5.0",
            "_model_name": "DescriptionStyleModel",
            "_view_count": null,
            "_view_module": "@jupyter-widgets/base",
            "_view_module_version": "1.2.0",
            "_view_name": "StyleView",
            "description_width": ""
          }
        },
        "3b68fcceb8f7475b98d651de3a83fdb1": {
          "model_module": "@jupyter-widgets/base",
          "model_module_version": "1.2.0",
          "model_name": "LayoutModel",
          "state": {
            "_model_module": "@jupyter-widgets/base",
            "_model_module_version": "1.2.0",
            "_model_name": "LayoutModel",
            "_view_count": null,
            "_view_module": "@jupyter-widgets/base",
            "_view_module_version": "1.2.0",
            "_view_name": "LayoutView",
            "align_content": null,
            "align_items": null,
            "align_self": null,
            "border": null,
            "bottom": null,
            "display": null,
            "flex": null,
            "flex_flow": null,
            "grid_area": null,
            "grid_auto_columns": null,
            "grid_auto_flow": null,
            "grid_auto_rows": null,
            "grid_column": null,
            "grid_gap": null,
            "grid_row": null,
            "grid_template_areas": null,
            "grid_template_columns": null,
            "grid_template_rows": null,
            "height": null,
            "justify_content": null,
            "justify_items": null,
            "left": null,
            "margin": null,
            "max_height": null,
            "max_width": null,
            "min_height": null,
            "min_width": null,
            "object_fit": null,
            "object_position": null,
            "order": null,
            "overflow": null,
            "overflow_x": null,
            "overflow_y": null,
            "padding": null,
            "right": null,
            "top": null,
            "visibility": null,
            "width": null
          }
        },
        "3b690ed1a14740278da6461faaf8d1c8": {
          "model_module": "@jupyter-widgets/controls",
          "model_module_version": "1.5.0",
          "model_name": "DescriptionStyleModel",
          "state": {
            "_model_module": "@jupyter-widgets/controls",
            "_model_module_version": "1.5.0",
            "_model_name": "DescriptionStyleModel",
            "_view_count": null,
            "_view_module": "@jupyter-widgets/base",
            "_view_module_version": "1.2.0",
            "_view_name": "StyleView",
            "description_width": ""
          }
        },
        "3cd919cae9e5452ab79caddf963eb8bf": {
          "model_module": "@jupyter-widgets/base",
          "model_module_version": "1.2.0",
          "model_name": "LayoutModel",
          "state": {
            "_model_module": "@jupyter-widgets/base",
            "_model_module_version": "1.2.0",
            "_model_name": "LayoutModel",
            "_view_count": null,
            "_view_module": "@jupyter-widgets/base",
            "_view_module_version": "1.2.0",
            "_view_name": "LayoutView",
            "align_content": null,
            "align_items": null,
            "align_self": null,
            "border": null,
            "bottom": null,
            "display": null,
            "flex": null,
            "flex_flow": null,
            "grid_area": null,
            "grid_auto_columns": null,
            "grid_auto_flow": null,
            "grid_auto_rows": null,
            "grid_column": null,
            "grid_gap": null,
            "grid_row": null,
            "grid_template_areas": null,
            "grid_template_columns": null,
            "grid_template_rows": null,
            "height": null,
            "justify_content": null,
            "justify_items": null,
            "left": null,
            "margin": null,
            "max_height": null,
            "max_width": null,
            "min_height": null,
            "min_width": null,
            "object_fit": null,
            "object_position": null,
            "order": null,
            "overflow": null,
            "overflow_x": null,
            "overflow_y": null,
            "padding": null,
            "right": null,
            "top": null,
            "visibility": null,
            "width": null
          }
        },
        "3d3d42cd5324428d93865bc7dd6a410b": {
          "model_module": "@jupyter-widgets/controls",
          "model_module_version": "1.5.0",
          "model_name": "HTMLModel",
          "state": {
            "_dom_classes": [],
            "_model_module": "@jupyter-widgets/controls",
            "_model_module_version": "1.5.0",
            "_model_name": "HTMLModel",
            "_view_count": null,
            "_view_module": "@jupyter-widgets/controls",
            "_view_module_version": "1.5.0",
            "_view_name": "HTMLView",
            "description": "",
            "description_tooltip": null,
            "layout": "IPY_MODEL_74a3d60cea694b549f6fe66c509084db",
            "placeholder": "​",
            "style": "IPY_MODEL_510ef1bef9354636adc04991b1d2901b",
            "value": " 53.0/53.0 [00:00&lt;00:00, 1.73kB/s]"
          }
        },
        "3d649fecd315491b97ad3d8393da7874": {
          "model_module": "@jupyter-widgets/base",
          "model_module_version": "1.2.0",
          "model_name": "LayoutModel",
          "state": {
            "_model_module": "@jupyter-widgets/base",
            "_model_module_version": "1.2.0",
            "_model_name": "LayoutModel",
            "_view_count": null,
            "_view_module": "@jupyter-widgets/base",
            "_view_module_version": "1.2.0",
            "_view_name": "LayoutView",
            "align_content": null,
            "align_items": null,
            "align_self": null,
            "border": null,
            "bottom": null,
            "display": null,
            "flex": null,
            "flex_flow": null,
            "grid_area": null,
            "grid_auto_columns": null,
            "grid_auto_flow": null,
            "grid_auto_rows": null,
            "grid_column": null,
            "grid_gap": null,
            "grid_row": null,
            "grid_template_areas": null,
            "grid_template_columns": null,
            "grid_template_rows": null,
            "height": null,
            "justify_content": null,
            "justify_items": null,
            "left": null,
            "margin": null,
            "max_height": null,
            "max_width": null,
            "min_height": null,
            "min_width": null,
            "object_fit": null,
            "object_position": null,
            "order": null,
            "overflow": null,
            "overflow_x": null,
            "overflow_y": null,
            "padding": null,
            "right": null,
            "top": null,
            "visibility": null,
            "width": null
          }
        },
        "3e15142d93a04aaf91fc36d1c7887329": {
          "model_module": "@jupyter-widgets/controls",
          "model_module_version": "1.5.0",
          "model_name": "HTMLModel",
          "state": {
            "_dom_classes": [],
            "_model_module": "@jupyter-widgets/controls",
            "_model_module_version": "1.5.0",
            "_model_name": "HTMLModel",
            "_view_count": null,
            "_view_module": "@jupyter-widgets/controls",
            "_view_module_version": "1.5.0",
            "_view_name": "HTMLView",
            "description": "",
            "description_tooltip": null,
            "layout": "IPY_MODEL_f4ba42e243c34372ad1aaa79792a25a8",
            "placeholder": "​",
            "style": "IPY_MODEL_92f9cc2d70ee459b80fbd25b1bd3e6de",
            "value": "Downloading: 100%"
          }
        },
        "3fc5d3a426c14eb7ad7f058259d11d04": {
          "model_module": "@jupyter-widgets/base",
          "model_module_version": "1.2.0",
          "model_name": "LayoutModel",
          "state": {
            "_model_module": "@jupyter-widgets/base",
            "_model_module_version": "1.2.0",
            "_model_name": "LayoutModel",
            "_view_count": null,
            "_view_module": "@jupyter-widgets/base",
            "_view_module_version": "1.2.0",
            "_view_name": "LayoutView",
            "align_content": null,
            "align_items": null,
            "align_self": null,
            "border": null,
            "bottom": null,
            "display": null,
            "flex": null,
            "flex_flow": null,
            "grid_area": null,
            "grid_auto_columns": null,
            "grid_auto_flow": null,
            "grid_auto_rows": null,
            "grid_column": null,
            "grid_gap": null,
            "grid_row": null,
            "grid_template_areas": null,
            "grid_template_columns": null,
            "grid_template_rows": null,
            "height": null,
            "justify_content": null,
            "justify_items": null,
            "left": null,
            "margin": null,
            "max_height": null,
            "max_width": null,
            "min_height": null,
            "min_width": null,
            "object_fit": null,
            "object_position": null,
            "order": null,
            "overflow": null,
            "overflow_x": null,
            "overflow_y": null,
            "padding": null,
            "right": null,
            "top": null,
            "visibility": null,
            "width": null
          }
        },
        "417fe7476b04451fb872c7d55afa4226": {
          "model_module": "@jupyter-widgets/base",
          "model_module_version": "1.2.0",
          "model_name": "LayoutModel",
          "state": {
            "_model_module": "@jupyter-widgets/base",
            "_model_module_version": "1.2.0",
            "_model_name": "LayoutModel",
            "_view_count": null,
            "_view_module": "@jupyter-widgets/base",
            "_view_module_version": "1.2.0",
            "_view_name": "LayoutView",
            "align_content": null,
            "align_items": null,
            "align_self": null,
            "border": null,
            "bottom": null,
            "display": null,
            "flex": null,
            "flex_flow": null,
            "grid_area": null,
            "grid_auto_columns": null,
            "grid_auto_flow": null,
            "grid_auto_rows": null,
            "grid_column": null,
            "grid_gap": null,
            "grid_row": null,
            "grid_template_areas": null,
            "grid_template_columns": null,
            "grid_template_rows": null,
            "height": null,
            "justify_content": null,
            "justify_items": null,
            "left": null,
            "margin": null,
            "max_height": null,
            "max_width": null,
            "min_height": null,
            "min_width": null,
            "object_fit": null,
            "object_position": null,
            "order": null,
            "overflow": null,
            "overflow_x": null,
            "overflow_y": null,
            "padding": null,
            "right": null,
            "top": null,
            "visibility": null,
            "width": null
          }
        },
        "41b69bc06c324ee891ddea570766252e": {
          "model_module": "@jupyter-widgets/controls",
          "model_module_version": "1.5.0",
          "model_name": "HTMLModel",
          "state": {
            "_dom_classes": [],
            "_model_module": "@jupyter-widgets/controls",
            "_model_module_version": "1.5.0",
            "_model_name": "HTMLModel",
            "_view_count": null,
            "_view_module": "@jupyter-widgets/controls",
            "_view_module_version": "1.5.0",
            "_view_name": "HTMLView",
            "description": "",
            "description_tooltip": null,
            "layout": "IPY_MODEL_eda49769720c4d41a949e81dafc05406",
            "placeholder": "​",
            "style": "IPY_MODEL_83d85d5ad0dc49ffb084f58aae395f54",
            "value": " 10.6k/10.6k [00:00&lt;00:00, 297kB/s]"
          }
        },
        "4f9d185afd6643669b2c27904f05e104": {
          "model_module": "@jupyter-widgets/base",
          "model_module_version": "1.2.0",
          "model_name": "LayoutModel",
          "state": {
            "_model_module": "@jupyter-widgets/base",
            "_model_module_version": "1.2.0",
            "_model_name": "LayoutModel",
            "_view_count": null,
            "_view_module": "@jupyter-widgets/base",
            "_view_module_version": "1.2.0",
            "_view_name": "LayoutView",
            "align_content": null,
            "align_items": null,
            "align_self": null,
            "border": null,
            "bottom": null,
            "display": null,
            "flex": null,
            "flex_flow": null,
            "grid_area": null,
            "grid_auto_columns": null,
            "grid_auto_flow": null,
            "grid_auto_rows": null,
            "grid_column": null,
            "grid_gap": null,
            "grid_row": null,
            "grid_template_areas": null,
            "grid_template_columns": null,
            "grid_template_rows": null,
            "height": null,
            "justify_content": null,
            "justify_items": null,
            "left": null,
            "margin": null,
            "max_height": null,
            "max_width": null,
            "min_height": null,
            "min_width": null,
            "object_fit": null,
            "object_position": null,
            "order": null,
            "overflow": null,
            "overflow_x": null,
            "overflow_y": null,
            "padding": null,
            "right": null,
            "top": null,
            "visibility": null,
            "width": null
          }
        },
        "4ffc468ee3a749dc9e611d561c98d1d4": {
          "model_module": "@jupyter-widgets/controls",
          "model_module_version": "1.5.0",
          "model_name": "HBoxModel",
          "state": {
            "_dom_classes": [],
            "_model_module": "@jupyter-widgets/controls",
            "_model_module_version": "1.5.0",
            "_model_name": "HBoxModel",
            "_view_count": null,
            "_view_module": "@jupyter-widgets/controls",
            "_view_module_version": "1.5.0",
            "_view_name": "HBoxView",
            "box_style": "",
            "children": [
              "IPY_MODEL_f9b551835779499fac5b8b38d5654558",
              "IPY_MODEL_01f74ffdcb6d404faf03a5e6880e4442",
              "IPY_MODEL_e6268fecda9c4c76989637284444727f"
            ],
            "layout": "IPY_MODEL_066571fc4168405faa69c5d2c2ab4d5e"
          }
        },
        "510ef1bef9354636adc04991b1d2901b": {
          "model_module": "@jupyter-widgets/controls",
          "model_module_version": "1.5.0",
          "model_name": "DescriptionStyleModel",
          "state": {
            "_model_module": "@jupyter-widgets/controls",
            "_model_module_version": "1.5.0",
            "_model_name": "DescriptionStyleModel",
            "_view_count": null,
            "_view_module": "@jupyter-widgets/base",
            "_view_module_version": "1.2.0",
            "_view_name": "StyleView",
            "description_width": ""
          }
        },
        "51c34ae7052e496c9762a998a1acedd6": {
          "model_module": "@jupyter-widgets/base",
          "model_module_version": "1.2.0",
          "model_name": "LayoutModel",
          "state": {
            "_model_module": "@jupyter-widgets/base",
            "_model_module_version": "1.2.0",
            "_model_name": "LayoutModel",
            "_view_count": null,
            "_view_module": "@jupyter-widgets/base",
            "_view_module_version": "1.2.0",
            "_view_name": "LayoutView",
            "align_content": null,
            "align_items": null,
            "align_self": null,
            "border": null,
            "bottom": null,
            "display": null,
            "flex": null,
            "flex_flow": null,
            "grid_area": null,
            "grid_auto_columns": null,
            "grid_auto_flow": null,
            "grid_auto_rows": null,
            "grid_column": null,
            "grid_gap": null,
            "grid_row": null,
            "grid_template_areas": null,
            "grid_template_columns": null,
            "grid_template_rows": null,
            "height": null,
            "justify_content": null,
            "justify_items": null,
            "left": null,
            "margin": null,
            "max_height": null,
            "max_width": null,
            "min_height": null,
            "min_width": null,
            "object_fit": null,
            "object_position": null,
            "order": null,
            "overflow": null,
            "overflow_x": null,
            "overflow_y": null,
            "padding": null,
            "right": null,
            "top": null,
            "visibility": null,
            "width": null
          }
        },
        "5376eb28cd924aa58f92ee8fc25579cd": {
          "model_module": "@jupyter-widgets/controls",
          "model_module_version": "1.5.0",
          "model_name": "HBoxModel",
          "state": {
            "_dom_classes": [],
            "_model_module": "@jupyter-widgets/controls",
            "_model_module_version": "1.5.0",
            "_model_name": "HBoxModel",
            "_view_count": null,
            "_view_module": "@jupyter-widgets/controls",
            "_view_module_version": "1.5.0",
            "_view_name": "HBoxView",
            "box_style": "",
            "children": [
              "IPY_MODEL_eb230cc8c6e24580a2f3636a1577af82",
              "IPY_MODEL_68c6bdfea1084dfa8b0e595c2e6077ab",
              "IPY_MODEL_3743b8e5598f4aba900c14751080ea61"
            ],
            "layout": "IPY_MODEL_80cabc5701064450b3b67b0fb45a9123"
          }
        },
        "55be13939ee1436c976c72fc8aeddef0": {
          "model_module": "@jupyter-widgets/controls",
          "model_module_version": "1.5.0",
          "model_name": "DescriptionStyleModel",
          "state": {
            "_model_module": "@jupyter-widgets/controls",
            "_model_module_version": "1.5.0",
            "_model_name": "DescriptionStyleModel",
            "_view_count": null,
            "_view_module": "@jupyter-widgets/base",
            "_view_module_version": "1.2.0",
            "_view_name": "StyleView",
            "description_width": ""
          }
        },
        "5627a4388c944cce8504d8141b26e9c2": {
          "model_module": "@jupyter-widgets/controls",
          "model_module_version": "1.5.0",
          "model_name": "HBoxModel",
          "state": {
            "_dom_classes": [],
            "_model_module": "@jupyter-widgets/controls",
            "_model_module_version": "1.5.0",
            "_model_name": "HBoxModel",
            "_view_count": null,
            "_view_module": "@jupyter-widgets/controls",
            "_view_module_version": "1.5.0",
            "_view_name": "HBoxView",
            "box_style": "",
            "children": [
              "IPY_MODEL_da8ad09a26994501896339e6c0eaaced",
              "IPY_MODEL_220619e1d6d94c12b6ca44f3f90814a0",
              "IPY_MODEL_3d3d42cd5324428d93865bc7dd6a410b"
            ],
            "layout": "IPY_MODEL_eff4911d40a543928412877bb7af7738"
          }
        },
        "5c02a6984b4b434fa4012845a185964c": {
          "model_module": "@jupyter-widgets/controls",
          "model_module_version": "1.5.0",
          "model_name": "FloatProgressModel",
          "state": {
            "_dom_classes": [],
            "_model_module": "@jupyter-widgets/controls",
            "_model_module_version": "1.5.0",
            "_model_name": "FloatProgressModel",
            "_view_count": null,
            "_view_module": "@jupyter-widgets/controls",
            "_view_module_version": "1.5.0",
            "_view_name": "ProgressView",
            "bar_style": "success",
            "description": "",
            "description_tooltip": null,
            "layout": "IPY_MODEL_f16b0522f3084d37b3cd80eee730ba32",
            "max": 349,
            "min": 0,
            "orientation": "horizontal",
            "style": "IPY_MODEL_be59e4862be1424aab439b4703e52431",
            "value": 349
          }
        },
        "5ca7a84b68c4486581180409425d9de9": {
          "model_module": "@jupyter-widgets/base",
          "model_module_version": "1.2.0",
          "model_name": "LayoutModel",
          "state": {
            "_model_module": "@jupyter-widgets/base",
            "_model_module_version": "1.2.0",
            "_model_name": "LayoutModel",
            "_view_count": null,
            "_view_module": "@jupyter-widgets/base",
            "_view_module_version": "1.2.0",
            "_view_name": "LayoutView",
            "align_content": null,
            "align_items": null,
            "align_self": null,
            "border": null,
            "bottom": null,
            "display": null,
            "flex": null,
            "flex_flow": null,
            "grid_area": null,
            "grid_auto_columns": null,
            "grid_auto_flow": null,
            "grid_auto_rows": null,
            "grid_column": null,
            "grid_gap": null,
            "grid_row": null,
            "grid_template_areas": null,
            "grid_template_columns": null,
            "grid_template_rows": null,
            "height": null,
            "justify_content": null,
            "justify_items": null,
            "left": null,
            "margin": null,
            "max_height": null,
            "max_width": null,
            "min_height": null,
            "min_width": null,
            "object_fit": null,
            "object_position": null,
            "order": null,
            "overflow": null,
            "overflow_x": null,
            "overflow_y": null,
            "padding": null,
            "right": null,
            "top": null,
            "visibility": null,
            "width": null
          }
        },
        "5d8c1d7f570f479cbe52f32abd5c0bfd": {
          "model_module": "@jupyter-widgets/controls",
          "model_module_version": "1.5.0",
          "model_name": "DescriptionStyleModel",
          "state": {
            "_model_module": "@jupyter-widgets/controls",
            "_model_module_version": "1.5.0",
            "_model_name": "DescriptionStyleModel",
            "_view_count": null,
            "_view_module": "@jupyter-widgets/base",
            "_view_module_version": "1.2.0",
            "_view_name": "StyleView",
            "description_width": ""
          }
        },
        "5fe3f1b978634219a2bf6a61d3d4d9dd": {
          "model_module": "@jupyter-widgets/base",
          "model_module_version": "1.2.0",
          "model_name": "LayoutModel",
          "state": {
            "_model_module": "@jupyter-widgets/base",
            "_model_module_version": "1.2.0",
            "_model_name": "LayoutModel",
            "_view_count": null,
            "_view_module": "@jupyter-widgets/base",
            "_view_module_version": "1.2.0",
            "_view_name": "LayoutView",
            "align_content": null,
            "align_items": null,
            "align_self": null,
            "border": null,
            "bottom": null,
            "display": null,
            "flex": null,
            "flex_flow": null,
            "grid_area": null,
            "grid_auto_columns": null,
            "grid_auto_flow": null,
            "grid_auto_rows": null,
            "grid_column": null,
            "grid_gap": null,
            "grid_row": null,
            "grid_template_areas": null,
            "grid_template_columns": null,
            "grid_template_rows": null,
            "height": null,
            "justify_content": null,
            "justify_items": null,
            "left": null,
            "margin": null,
            "max_height": null,
            "max_width": null,
            "min_height": null,
            "min_width": null,
            "object_fit": null,
            "object_position": null,
            "order": null,
            "overflow": null,
            "overflow_x": null,
            "overflow_y": null,
            "padding": null,
            "right": null,
            "top": null,
            "visibility": null,
            "width": null
          }
        },
        "63f0e52811734df9b5abe8e31dce09c9": {
          "model_module": "@jupyter-widgets/controls",
          "model_module_version": "1.5.0",
          "model_name": "HBoxModel",
          "state": {
            "_dom_classes": [],
            "_model_module": "@jupyter-widgets/controls",
            "_model_module_version": "1.5.0",
            "_model_name": "HBoxModel",
            "_view_count": null,
            "_view_module": "@jupyter-widgets/controls",
            "_view_module_version": "1.5.0",
            "_view_name": "HBoxView",
            "box_style": "",
            "children": [
              "IPY_MODEL_b4584fbef5ed49bca61afc7fec89ab85",
              "IPY_MODEL_d51b4a7806c746a19bd80da28a8af272",
              "IPY_MODEL_2981510065ed4617b2785316b9d4137e"
            ],
            "layout": "IPY_MODEL_14138a2ab27d4c9cad20810d8348acac"
          }
        },
        "63f4a9794d0d4641befa98aecc87c585": {
          "model_module": "@jupyter-widgets/controls",
          "model_module_version": "1.5.0",
          "model_name": "HBoxModel",
          "state": {
            "_dom_classes": [],
            "_model_module": "@jupyter-widgets/controls",
            "_model_module_version": "1.5.0",
            "_model_name": "HBoxModel",
            "_view_count": null,
            "_view_module": "@jupyter-widgets/controls",
            "_view_module_version": "1.5.0",
            "_view_name": "HBoxView",
            "box_style": "",
            "children": [
              "IPY_MODEL_8564a652e51f48c28706bd6c3f077550",
              "IPY_MODEL_05fa18b7d4ee4430bde82e44e8b14c28",
              "IPY_MODEL_b5744e9c57a442b5a387041b19fba962"
            ],
            "layout": "IPY_MODEL_a1ab3e9511114c23816cb7daadacaba2"
          }
        },
        "63f9f7f7325046a89c742f5f2a477a76": {
          "model_module": "@jupyter-widgets/base",
          "model_module_version": "1.2.0",
          "model_name": "LayoutModel",
          "state": {
            "_model_module": "@jupyter-widgets/base",
            "_model_module_version": "1.2.0",
            "_model_name": "LayoutModel",
            "_view_count": null,
            "_view_module": "@jupyter-widgets/base",
            "_view_module_version": "1.2.0",
            "_view_name": "LayoutView",
            "align_content": null,
            "align_items": null,
            "align_self": null,
            "border": null,
            "bottom": null,
            "display": null,
            "flex": null,
            "flex_flow": null,
            "grid_area": null,
            "grid_auto_columns": null,
            "grid_auto_flow": null,
            "grid_auto_rows": null,
            "grid_column": null,
            "grid_gap": null,
            "grid_row": null,
            "grid_template_areas": null,
            "grid_template_columns": null,
            "grid_template_rows": null,
            "height": null,
            "justify_content": null,
            "justify_items": null,
            "left": null,
            "margin": null,
            "max_height": null,
            "max_width": null,
            "min_height": null,
            "min_width": null,
            "object_fit": null,
            "object_position": null,
            "order": null,
            "overflow": null,
            "overflow_x": null,
            "overflow_y": null,
            "padding": null,
            "right": null,
            "top": null,
            "visibility": null,
            "width": null
          }
        },
        "65b3921c61d840edb0c4957f72ee4bee": {
          "model_module": "@jupyter-widgets/controls",
          "model_module_version": "1.5.0",
          "model_name": "HTMLModel",
          "state": {
            "_dom_classes": [],
            "_model_module": "@jupyter-widgets/controls",
            "_model_module_version": "1.5.0",
            "_model_name": "HTMLModel",
            "_view_count": null,
            "_view_module": "@jupyter-widgets/controls",
            "_view_module_version": "1.5.0",
            "_view_name": "HTMLView",
            "description": "",
            "description_tooltip": null,
            "layout": "IPY_MODEL_3fc5d3a426c14eb7ad7f058259d11d04",
            "placeholder": "​",
            "style": "IPY_MODEL_a3634942715b4f90a5ac5c6717f61eac",
            "value": "Downloading: 100%"
          }
        },
        "65f65093f8f743faa8fab916fb7fd882": {
          "model_module": "@jupyter-widgets/controls",
          "model_module_version": "1.5.0",
          "model_name": "ProgressStyleModel",
          "state": {
            "_model_module": "@jupyter-widgets/controls",
            "_model_module_version": "1.5.0",
            "_model_name": "ProgressStyleModel",
            "_view_count": null,
            "_view_module": "@jupyter-widgets/base",
            "_view_module_version": "1.2.0",
            "_view_name": "StyleView",
            "bar_color": null,
            "description_width": ""
          }
        },
        "683a9c3a54654c1d87b4a29b5611be33": {
          "model_module": "@jupyter-widgets/controls",
          "model_module_version": "1.5.0",
          "model_name": "FloatProgressModel",
          "state": {
            "_dom_classes": [],
            "_model_module": "@jupyter-widgets/controls",
            "_model_module_version": "1.5.0",
            "_model_name": "FloatProgressModel",
            "_view_count": null,
            "_view_module": "@jupyter-widgets/controls",
            "_view_module_version": "1.5.0",
            "_view_name": "ProgressView",
            "bar_style": "success",
            "description": "",
            "description_tooltip": null,
            "layout": "IPY_MODEL_bb858611a26d4e469d5e7a481915cb45",
            "max": 13156,
            "min": 0,
            "orientation": "horizontal",
            "style": "IPY_MODEL_3034aace9f284eb4b97020429a554c38",
            "value": 13156
          }
        },
        "68c6bdfea1084dfa8b0e595c2e6077ab": {
          "model_module": "@jupyter-widgets/controls",
          "model_module_version": "1.5.0",
          "model_name": "FloatProgressModel",
          "state": {
            "_dom_classes": [],
            "_model_module": "@jupyter-widgets/controls",
            "_model_module_version": "1.5.0",
            "_model_name": "FloatProgressModel",
            "_view_count": null,
            "_view_module": "@jupyter-widgets/controls",
            "_view_module_version": "1.5.0",
            "_view_name": "ProgressView",
            "bar_style": "success",
            "description": "",
            "description_tooltip": null,
            "layout": "IPY_MODEL_3b68fcceb8f7475b98d651de3a83fdb1",
            "max": 190,
            "min": 0,
            "orientation": "horizontal",
            "style": "IPY_MODEL_7e8958f0ec9a414ead2e7f92d2ae8b60",
            "value": 190
          }
        },
        "6b9f3e75561b4195aeeccb7a93b098f2": {
          "model_module": "@jupyter-widgets/controls",
          "model_module_version": "1.5.0",
          "model_name": "HTMLModel",
          "state": {
            "_dom_classes": [],
            "_model_module": "@jupyter-widgets/controls",
            "_model_module_version": "1.5.0",
            "_model_name": "HTMLModel",
            "_view_count": null,
            "_view_module": "@jupyter-widgets/controls",
            "_view_module_version": "1.5.0",
            "_view_name": "HTMLView",
            "description": "",
            "description_tooltip": null,
            "layout": "IPY_MODEL_b2b8d7a4b9224080b2321cf9191248d4",
            "placeholder": "​",
            "style": "IPY_MODEL_aa90fce3efb5431483646c93f556350c",
            "value": " 13.2k/13.2k [00:00&lt;00:00, 308kB/s]"
          }
        },
        "6d8965105f3e4c818cc20f417b8aa584": {
          "model_module": "@jupyter-widgets/controls",
          "model_module_version": "1.5.0",
          "model_name": "HTMLModel",
          "state": {
            "_dom_classes": [],
            "_model_module": "@jupyter-widgets/controls",
            "_model_module_version": "1.5.0",
            "_model_name": "HTMLModel",
            "_view_count": null,
            "_view_module": "@jupyter-widgets/controls",
            "_view_module_version": "1.5.0",
            "_view_name": "HTMLView",
            "description": "",
            "description_tooltip": null,
            "layout": "IPY_MODEL_00991d3106cc472a98be1cd681efcd27",
            "placeholder": "​",
            "style": "IPY_MODEL_7ff16260754a49e280648302a4abfcef",
            "value": "Downloading: 100%"
          }
        },
        "7024af0642e545259e5cab6cb524927f": {
          "model_module": "@jupyter-widgets/base",
          "model_module_version": "1.2.0",
          "model_name": "LayoutModel",
          "state": {
            "_model_module": "@jupyter-widgets/base",
            "_model_module_version": "1.2.0",
            "_model_name": "LayoutModel",
            "_view_count": null,
            "_view_module": "@jupyter-widgets/base",
            "_view_module_version": "1.2.0",
            "_view_name": "LayoutView",
            "align_content": null,
            "align_items": null,
            "align_self": null,
            "border": null,
            "bottom": null,
            "display": null,
            "flex": null,
            "flex_flow": null,
            "grid_area": null,
            "grid_auto_columns": null,
            "grid_auto_flow": null,
            "grid_auto_rows": null,
            "grid_column": null,
            "grid_gap": null,
            "grid_row": null,
            "grid_template_areas": null,
            "grid_template_columns": null,
            "grid_template_rows": null,
            "height": null,
            "justify_content": null,
            "justify_items": null,
            "left": null,
            "margin": null,
            "max_height": null,
            "max_width": null,
            "min_height": null,
            "min_width": null,
            "object_fit": null,
            "object_position": null,
            "order": null,
            "overflow": null,
            "overflow_x": null,
            "overflow_y": null,
            "padding": null,
            "right": null,
            "top": null,
            "visibility": null,
            "width": null
          }
        },
        "74a3d60cea694b549f6fe66c509084db": {
          "model_module": "@jupyter-widgets/base",
          "model_module_version": "1.2.0",
          "model_name": "LayoutModel",
          "state": {
            "_model_module": "@jupyter-widgets/base",
            "_model_module_version": "1.2.0",
            "_model_name": "LayoutModel",
            "_view_count": null,
            "_view_module": "@jupyter-widgets/base",
            "_view_module_version": "1.2.0",
            "_view_name": "LayoutView",
            "align_content": null,
            "align_items": null,
            "align_self": null,
            "border": null,
            "bottom": null,
            "display": null,
            "flex": null,
            "flex_flow": null,
            "grid_area": null,
            "grid_auto_columns": null,
            "grid_auto_flow": null,
            "grid_auto_rows": null,
            "grid_column": null,
            "grid_gap": null,
            "grid_row": null,
            "grid_template_areas": null,
            "grid_template_columns": null,
            "grid_template_rows": null,
            "height": null,
            "justify_content": null,
            "justify_items": null,
            "left": null,
            "margin": null,
            "max_height": null,
            "max_width": null,
            "min_height": null,
            "min_width": null,
            "object_fit": null,
            "object_position": null,
            "order": null,
            "overflow": null,
            "overflow_x": null,
            "overflow_y": null,
            "padding": null,
            "right": null,
            "top": null,
            "visibility": null,
            "width": null
          }
        },
        "76586b798fc349c7a2c615de51161192": {
          "model_module": "@jupyter-widgets/controls",
          "model_module_version": "1.5.0",
          "model_name": "HBoxModel",
          "state": {
            "_dom_classes": [],
            "_model_module": "@jupyter-widgets/controls",
            "_model_module_version": "1.5.0",
            "_model_name": "HBoxModel",
            "_view_count": null,
            "_view_module": "@jupyter-widgets/controls",
            "_view_module_version": "1.5.0",
            "_view_name": "HBoxView",
            "box_style": "",
            "children": [
              "IPY_MODEL_a53d2d587f2a4b93a3685ec966e8ecf7",
              "IPY_MODEL_e48b2327805949dfb39846e147fde586",
              "IPY_MODEL_86591c03c73b498c9d2515c3cf20f4a5"
            ],
            "layout": "IPY_MODEL_ae5f03afe310441cbbeed475851ddb3f"
          }
        },
        "76d8c543f9cb42a6a52e4a7c1d16cf11": {
          "model_module": "@jupyter-widgets/base",
          "model_module_version": "1.2.0",
          "model_name": "LayoutModel",
          "state": {
            "_model_module": "@jupyter-widgets/base",
            "_model_module_version": "1.2.0",
            "_model_name": "LayoutModel",
            "_view_count": null,
            "_view_module": "@jupyter-widgets/base",
            "_view_module_version": "1.2.0",
            "_view_name": "LayoutView",
            "align_content": null,
            "align_items": null,
            "align_self": null,
            "border": null,
            "bottom": null,
            "display": null,
            "flex": null,
            "flex_flow": null,
            "grid_area": null,
            "grid_auto_columns": null,
            "grid_auto_flow": null,
            "grid_auto_rows": null,
            "grid_column": null,
            "grid_gap": null,
            "grid_row": null,
            "grid_template_areas": null,
            "grid_template_columns": null,
            "grid_template_rows": null,
            "height": null,
            "justify_content": null,
            "justify_items": null,
            "left": null,
            "margin": null,
            "max_height": null,
            "max_width": null,
            "min_height": null,
            "min_width": null,
            "object_fit": null,
            "object_position": null,
            "order": null,
            "overflow": null,
            "overflow_x": null,
            "overflow_y": null,
            "padding": null,
            "right": null,
            "top": null,
            "visibility": null,
            "width": null
          }
        },
        "7b2b433f5ae04df0b729777503e9fba3": {
          "model_module": "@jupyter-widgets/base",
          "model_module_version": "1.2.0",
          "model_name": "LayoutModel",
          "state": {
            "_model_module": "@jupyter-widgets/base",
            "_model_module_version": "1.2.0",
            "_model_name": "LayoutModel",
            "_view_count": null,
            "_view_module": "@jupyter-widgets/base",
            "_view_module_version": "1.2.0",
            "_view_name": "LayoutView",
            "align_content": null,
            "align_items": null,
            "align_self": null,
            "border": null,
            "bottom": null,
            "display": null,
            "flex": null,
            "flex_flow": null,
            "grid_area": null,
            "grid_auto_columns": null,
            "grid_auto_flow": null,
            "grid_auto_rows": null,
            "grid_column": null,
            "grid_gap": null,
            "grid_row": null,
            "grid_template_areas": null,
            "grid_template_columns": null,
            "grid_template_rows": null,
            "height": null,
            "justify_content": null,
            "justify_items": null,
            "left": null,
            "margin": null,
            "max_height": null,
            "max_width": null,
            "min_height": null,
            "min_width": null,
            "object_fit": null,
            "object_position": null,
            "order": null,
            "overflow": null,
            "overflow_x": null,
            "overflow_y": null,
            "padding": null,
            "right": null,
            "top": null,
            "visibility": null,
            "width": null
          }
        },
        "7df014e64f3c4bbd96892821d4985397": {
          "model_module": "@jupyter-widgets/base",
          "model_module_version": "1.2.0",
          "model_name": "LayoutModel",
          "state": {
            "_model_module": "@jupyter-widgets/base",
            "_model_module_version": "1.2.0",
            "_model_name": "LayoutModel",
            "_view_count": null,
            "_view_module": "@jupyter-widgets/base",
            "_view_module_version": "1.2.0",
            "_view_name": "LayoutView",
            "align_content": null,
            "align_items": null,
            "align_self": null,
            "border": null,
            "bottom": null,
            "display": null,
            "flex": null,
            "flex_flow": null,
            "grid_area": null,
            "grid_auto_columns": null,
            "grid_auto_flow": null,
            "grid_auto_rows": null,
            "grid_column": null,
            "grid_gap": null,
            "grid_row": null,
            "grid_template_areas": null,
            "grid_template_columns": null,
            "grid_template_rows": null,
            "height": null,
            "justify_content": null,
            "justify_items": null,
            "left": null,
            "margin": null,
            "max_height": null,
            "max_width": null,
            "min_height": null,
            "min_width": null,
            "object_fit": null,
            "object_position": null,
            "order": null,
            "overflow": null,
            "overflow_x": null,
            "overflow_y": null,
            "padding": null,
            "right": null,
            "top": null,
            "visibility": null,
            "width": null
          }
        },
        "7e8958f0ec9a414ead2e7f92d2ae8b60": {
          "model_module": "@jupyter-widgets/controls",
          "model_module_version": "1.5.0",
          "model_name": "ProgressStyleModel",
          "state": {
            "_model_module": "@jupyter-widgets/controls",
            "_model_module_version": "1.5.0",
            "_model_name": "ProgressStyleModel",
            "_view_count": null,
            "_view_module": "@jupyter-widgets/base",
            "_view_module_version": "1.2.0",
            "_view_name": "StyleView",
            "bar_color": null,
            "description_width": ""
          }
        },
        "7f8a51ea8ac34865b8da8995158c0cec": {
          "model_module": "@jupyter-widgets/controls",
          "model_module_version": "1.5.0",
          "model_name": "HBoxModel",
          "state": {
            "_dom_classes": [],
            "_model_module": "@jupyter-widgets/controls",
            "_model_module_version": "1.5.0",
            "_model_name": "HBoxModel",
            "_view_count": null,
            "_view_module": "@jupyter-widgets/controls",
            "_view_module_version": "1.5.0",
            "_view_name": "HBoxView",
            "box_style": "",
            "children": [
              "IPY_MODEL_23d24498b73343258e5e8ec4540bbac3",
              "IPY_MODEL_bf87357364a448ee934be679a2409c10",
              "IPY_MODEL_f03aff72677c45eea8e672ac158325ab"
            ],
            "layout": "IPY_MODEL_1adba0ca0d32436385a61fab2b51cada"
          }
        },
        "7ff16260754a49e280648302a4abfcef": {
          "model_module": "@jupyter-widgets/controls",
          "model_module_version": "1.5.0",
          "model_name": "DescriptionStyleModel",
          "state": {
            "_model_module": "@jupyter-widgets/controls",
            "_model_module_version": "1.5.0",
            "_model_name": "DescriptionStyleModel",
            "_view_count": null,
            "_view_module": "@jupyter-widgets/base",
            "_view_module_version": "1.2.0",
            "_view_name": "StyleView",
            "description_width": ""
          }
        },
        "80cabc5701064450b3b67b0fb45a9123": {
          "model_module": "@jupyter-widgets/base",
          "model_module_version": "1.2.0",
          "model_name": "LayoutModel",
          "state": {
            "_model_module": "@jupyter-widgets/base",
            "_model_module_version": "1.2.0",
            "_model_name": "LayoutModel",
            "_view_count": null,
            "_view_module": "@jupyter-widgets/base",
            "_view_module_version": "1.2.0",
            "_view_name": "LayoutView",
            "align_content": null,
            "align_items": null,
            "align_self": null,
            "border": null,
            "bottom": null,
            "display": null,
            "flex": null,
            "flex_flow": null,
            "grid_area": null,
            "grid_auto_columns": null,
            "grid_auto_flow": null,
            "grid_auto_rows": null,
            "grid_column": null,
            "grid_gap": null,
            "grid_row": null,
            "grid_template_areas": null,
            "grid_template_columns": null,
            "grid_template_rows": null,
            "height": null,
            "justify_content": null,
            "justify_items": null,
            "left": null,
            "margin": null,
            "max_height": null,
            "max_width": null,
            "min_height": null,
            "min_width": null,
            "object_fit": null,
            "object_position": null,
            "order": null,
            "overflow": null,
            "overflow_x": null,
            "overflow_y": null,
            "padding": null,
            "right": null,
            "top": null,
            "visibility": null,
            "width": null
          }
        },
        "82b9602a041947f28d24e6bf1ecfd7be": {
          "model_module": "@jupyter-widgets/base",
          "model_module_version": "1.2.0",
          "model_name": "LayoutModel",
          "state": {
            "_model_module": "@jupyter-widgets/base",
            "_model_module_version": "1.2.0",
            "_model_name": "LayoutModel",
            "_view_count": null,
            "_view_module": "@jupyter-widgets/base",
            "_view_module_version": "1.2.0",
            "_view_name": "LayoutView",
            "align_content": null,
            "align_items": null,
            "align_self": null,
            "border": null,
            "bottom": null,
            "display": null,
            "flex": null,
            "flex_flow": null,
            "grid_area": null,
            "grid_auto_columns": null,
            "grid_auto_flow": null,
            "grid_auto_rows": null,
            "grid_column": null,
            "grid_gap": null,
            "grid_row": null,
            "grid_template_areas": null,
            "grid_template_columns": null,
            "grid_template_rows": null,
            "height": null,
            "justify_content": null,
            "justify_items": null,
            "left": null,
            "margin": null,
            "max_height": null,
            "max_width": null,
            "min_height": null,
            "min_width": null,
            "object_fit": null,
            "object_position": null,
            "order": null,
            "overflow": null,
            "overflow_x": null,
            "overflow_y": null,
            "padding": null,
            "right": null,
            "top": null,
            "visibility": null,
            "width": null
          }
        },
        "83d85d5ad0dc49ffb084f58aae395f54": {
          "model_module": "@jupyter-widgets/controls",
          "model_module_version": "1.5.0",
          "model_name": "DescriptionStyleModel",
          "state": {
            "_model_module": "@jupyter-widgets/controls",
            "_model_module_version": "1.5.0",
            "_model_name": "DescriptionStyleModel",
            "_view_count": null,
            "_view_module": "@jupyter-widgets/base",
            "_view_module_version": "1.2.0",
            "_view_name": "StyleView",
            "description_width": ""
          }
        },
        "8564a652e51f48c28706bd6c3f077550": {
          "model_module": "@jupyter-widgets/controls",
          "model_module_version": "1.5.0",
          "model_name": "HTMLModel",
          "state": {
            "_dom_classes": [],
            "_model_module": "@jupyter-widgets/controls",
            "_model_module_version": "1.5.0",
            "_model_name": "HTMLModel",
            "_view_count": null,
            "_view_module": "@jupyter-widgets/controls",
            "_view_module_version": "1.5.0",
            "_view_name": "HTMLView",
            "description": "",
            "description_tooltip": null,
            "layout": "IPY_MODEL_5fe3f1b978634219a2bf6a61d3d4d9dd",
            "placeholder": "​",
            "style": "IPY_MODEL_1f40fc5c79284024bd51fa8f86a760e6",
            "value": "Downloading: 100%"
          }
        },
        "85cd7e0e5d724f478bf71f17633dd87f": {
          "model_module": "@jupyter-widgets/controls",
          "model_module_version": "1.5.0",
          "model_name": "DescriptionStyleModel",
          "state": {
            "_model_module": "@jupyter-widgets/controls",
            "_model_module_version": "1.5.0",
            "_model_name": "DescriptionStyleModel",
            "_view_count": null,
            "_view_module": "@jupyter-widgets/base",
            "_view_module_version": "1.2.0",
            "_view_name": "StyleView",
            "description_width": ""
          }
        },
        "8630253b78e0487bbe88a982f2d55ec2": {
          "model_module": "@jupyter-widgets/base",
          "model_module_version": "1.2.0",
          "model_name": "LayoutModel",
          "state": {
            "_model_module": "@jupyter-widgets/base",
            "_model_module_version": "1.2.0",
            "_model_name": "LayoutModel",
            "_view_count": null,
            "_view_module": "@jupyter-widgets/base",
            "_view_module_version": "1.2.0",
            "_view_name": "LayoutView",
            "align_content": null,
            "align_items": null,
            "align_self": null,
            "border": null,
            "bottom": null,
            "display": null,
            "flex": null,
            "flex_flow": null,
            "grid_area": null,
            "grid_auto_columns": null,
            "grid_auto_flow": null,
            "grid_auto_rows": null,
            "grid_column": null,
            "grid_gap": null,
            "grid_row": null,
            "grid_template_areas": null,
            "grid_template_columns": null,
            "grid_template_rows": null,
            "height": null,
            "justify_content": null,
            "justify_items": null,
            "left": null,
            "margin": null,
            "max_height": null,
            "max_width": null,
            "min_height": null,
            "min_width": null,
            "object_fit": null,
            "object_position": null,
            "order": null,
            "overflow": null,
            "overflow_x": null,
            "overflow_y": null,
            "padding": null,
            "right": null,
            "top": null,
            "visibility": null,
            "width": null
          }
        },
        "86591c03c73b498c9d2515c3cf20f4a5": {
          "model_module": "@jupyter-widgets/controls",
          "model_module_version": "1.5.0",
          "model_name": "HTMLModel",
          "state": {
            "_dom_classes": [],
            "_model_module": "@jupyter-widgets/controls",
            "_model_module_version": "1.5.0",
            "_model_name": "HTMLModel",
            "_view_count": null,
            "_view_module": "@jupyter-widgets/controls",
            "_view_module_version": "1.5.0",
            "_view_name": "HTMLView",
            "description": "",
            "description_tooltip": null,
            "layout": "IPY_MODEL_5ca7a84b68c4486581180409425d9de9",
            "placeholder": "​",
            "style": "IPY_MODEL_1e214594792d492989f6ed06e257f2b5",
            "value": " 1.18k/1.18k [00:00&lt;00:00, 24.5kB/s]"
          }
        },
        "8684d08454bd450586f8fd7f8381e1a1": {
          "model_module": "@jupyter-widgets/controls",
          "model_module_version": "1.5.0",
          "model_name": "DescriptionStyleModel",
          "state": {
            "_model_module": "@jupyter-widgets/controls",
            "_model_module_version": "1.5.0",
            "_model_name": "DescriptionStyleModel",
            "_view_count": null,
            "_view_module": "@jupyter-widgets/base",
            "_view_module_version": "1.2.0",
            "_view_name": "StyleView",
            "description_width": ""
          }
        },
        "8946fd5746e248a2a4245ab7d7c77fed": {
          "model_module": "@jupyter-widgets/base",
          "model_module_version": "1.2.0",
          "model_name": "LayoutModel",
          "state": {
            "_model_module": "@jupyter-widgets/base",
            "_model_module_version": "1.2.0",
            "_model_name": "LayoutModel",
            "_view_count": null,
            "_view_module": "@jupyter-widgets/base",
            "_view_module_version": "1.2.0",
            "_view_name": "LayoutView",
            "align_content": null,
            "align_items": null,
            "align_self": null,
            "border": null,
            "bottom": null,
            "display": null,
            "flex": null,
            "flex_flow": null,
            "grid_area": null,
            "grid_auto_columns": null,
            "grid_auto_flow": null,
            "grid_auto_rows": null,
            "grid_column": null,
            "grid_gap": null,
            "grid_row": null,
            "grid_template_areas": null,
            "grid_template_columns": null,
            "grid_template_rows": null,
            "height": null,
            "justify_content": null,
            "justify_items": null,
            "left": null,
            "margin": null,
            "max_height": null,
            "max_width": null,
            "min_height": null,
            "min_width": null,
            "object_fit": null,
            "object_position": null,
            "order": null,
            "overflow": null,
            "overflow_x": null,
            "overflow_y": null,
            "padding": null,
            "right": null,
            "top": null,
            "visibility": null,
            "width": null
          }
        },
        "8bb24c339e3a470b97b692b73fb62d2a": {
          "model_module": "@jupyter-widgets/controls",
          "model_module_version": "1.5.0",
          "model_name": "DescriptionStyleModel",
          "state": {
            "_model_module": "@jupyter-widgets/controls",
            "_model_module_version": "1.5.0",
            "_model_name": "DescriptionStyleModel",
            "_view_count": null,
            "_view_module": "@jupyter-widgets/base",
            "_view_module_version": "1.2.0",
            "_view_name": "StyleView",
            "description_width": ""
          }
        },
        "8bcc19cb81a844caa72a32cc7b3bdcf6": {
          "model_module": "@jupyter-widgets/controls",
          "model_module_version": "1.5.0",
          "model_name": "DescriptionStyleModel",
          "state": {
            "_model_module": "@jupyter-widgets/controls",
            "_model_module_version": "1.5.0",
            "_model_name": "DescriptionStyleModel",
            "_view_count": null,
            "_view_module": "@jupyter-widgets/base",
            "_view_module_version": "1.2.0",
            "_view_name": "StyleView",
            "description_width": ""
          }
        },
        "8fdff6d74f5148ffaf882fff69493039": {
          "model_module": "@jupyter-widgets/controls",
          "model_module_version": "1.5.0",
          "model_name": "DescriptionStyleModel",
          "state": {
            "_model_module": "@jupyter-widgets/controls",
            "_model_module_version": "1.5.0",
            "_model_name": "DescriptionStyleModel",
            "_view_count": null,
            "_view_module": "@jupyter-widgets/base",
            "_view_module_version": "1.2.0",
            "_view_name": "StyleView",
            "description_width": ""
          }
        },
        "9228693615c44771901424e1a6d84eef": {
          "model_module": "@jupyter-widgets/controls",
          "model_module_version": "1.5.0",
          "model_name": "DescriptionStyleModel",
          "state": {
            "_model_module": "@jupyter-widgets/controls",
            "_model_module_version": "1.5.0",
            "_model_name": "DescriptionStyleModel",
            "_view_count": null,
            "_view_module": "@jupyter-widgets/base",
            "_view_module_version": "1.2.0",
            "_view_name": "StyleView",
            "description_width": ""
          }
        },
        "92f9cc2d70ee459b80fbd25b1bd3e6de": {
          "model_module": "@jupyter-widgets/controls",
          "model_module_version": "1.5.0",
          "model_name": "DescriptionStyleModel",
          "state": {
            "_model_module": "@jupyter-widgets/controls",
            "_model_module_version": "1.5.0",
            "_model_name": "DescriptionStyleModel",
            "_view_count": null,
            "_view_module": "@jupyter-widgets/base",
            "_view_module_version": "1.2.0",
            "_view_name": "StyleView",
            "description_width": ""
          }
        },
        "9437ba62596c4ec79e49093bc870cc6f": {
          "model_module": "@jupyter-widgets/base",
          "model_module_version": "1.2.0",
          "model_name": "LayoutModel",
          "state": {
            "_model_module": "@jupyter-widgets/base",
            "_model_module_version": "1.2.0",
            "_model_name": "LayoutModel",
            "_view_count": null,
            "_view_module": "@jupyter-widgets/base",
            "_view_module_version": "1.2.0",
            "_view_name": "LayoutView",
            "align_content": null,
            "align_items": null,
            "align_self": null,
            "border": null,
            "bottom": null,
            "display": null,
            "flex": null,
            "flex_flow": null,
            "grid_area": null,
            "grid_auto_columns": null,
            "grid_auto_flow": null,
            "grid_auto_rows": null,
            "grid_column": null,
            "grid_gap": null,
            "grid_row": null,
            "grid_template_areas": null,
            "grid_template_columns": null,
            "grid_template_rows": null,
            "height": null,
            "justify_content": null,
            "justify_items": null,
            "left": null,
            "margin": null,
            "max_height": null,
            "max_width": null,
            "min_height": null,
            "min_width": null,
            "object_fit": null,
            "object_position": null,
            "order": null,
            "overflow": null,
            "overflow_x": null,
            "overflow_y": null,
            "padding": null,
            "right": null,
            "top": null,
            "visibility": null,
            "width": null
          }
        },
        "95559afac12e4f0f9802aa64791384ea": {
          "model_module": "@jupyter-widgets/controls",
          "model_module_version": "1.5.0",
          "model_name": "ProgressStyleModel",
          "state": {
            "_model_module": "@jupyter-widgets/controls",
            "_model_module_version": "1.5.0",
            "_model_name": "ProgressStyleModel",
            "_view_count": null,
            "_view_module": "@jupyter-widgets/base",
            "_view_module_version": "1.2.0",
            "_view_name": "StyleView",
            "bar_color": null,
            "description_width": ""
          }
        },
        "95b1b66a1888465b9baf2cea3f2d7b65": {
          "model_module": "@jupyter-widgets/controls",
          "model_module_version": "1.5.0",
          "model_name": "ProgressStyleModel",
          "state": {
            "_model_module": "@jupyter-widgets/controls",
            "_model_module_version": "1.5.0",
            "_model_name": "ProgressStyleModel",
            "_view_count": null,
            "_view_module": "@jupyter-widgets/base",
            "_view_module_version": "1.2.0",
            "_view_name": "StyleView",
            "bar_color": null,
            "description_width": ""
          }
        },
        "98d675d9a76e44f5b056ee023d398c83": {
          "model_module": "@jupyter-widgets/controls",
          "model_module_version": "1.5.0",
          "model_name": "DescriptionStyleModel",
          "state": {
            "_model_module": "@jupyter-widgets/controls",
            "_model_module_version": "1.5.0",
            "_model_name": "DescriptionStyleModel",
            "_view_count": null,
            "_view_module": "@jupyter-widgets/base",
            "_view_module_version": "1.2.0",
            "_view_name": "StyleView",
            "description_width": ""
          }
        },
        "a0caf7cb2d6f46a7bd58d4d18d041272": {
          "model_module": "@jupyter-widgets/controls",
          "model_module_version": "1.5.0",
          "model_name": "ProgressStyleModel",
          "state": {
            "_model_module": "@jupyter-widgets/controls",
            "_model_module_version": "1.5.0",
            "_model_name": "ProgressStyleModel",
            "_view_count": null,
            "_view_module": "@jupyter-widgets/base",
            "_view_module_version": "1.2.0",
            "_view_name": "StyleView",
            "bar_color": null,
            "description_width": ""
          }
        },
        "a1ab3e9511114c23816cb7daadacaba2": {
          "model_module": "@jupyter-widgets/base",
          "model_module_version": "1.2.0",
          "model_name": "LayoutModel",
          "state": {
            "_model_module": "@jupyter-widgets/base",
            "_model_module_version": "1.2.0",
            "_model_name": "LayoutModel",
            "_view_count": null,
            "_view_module": "@jupyter-widgets/base",
            "_view_module_version": "1.2.0",
            "_view_name": "LayoutView",
            "align_content": null,
            "align_items": null,
            "align_self": null,
            "border": null,
            "bottom": null,
            "display": null,
            "flex": null,
            "flex_flow": null,
            "grid_area": null,
            "grid_auto_columns": null,
            "grid_auto_flow": null,
            "grid_auto_rows": null,
            "grid_column": null,
            "grid_gap": null,
            "grid_row": null,
            "grid_template_areas": null,
            "grid_template_columns": null,
            "grid_template_rows": null,
            "height": null,
            "justify_content": null,
            "justify_items": null,
            "left": null,
            "margin": null,
            "max_height": null,
            "max_width": null,
            "min_height": null,
            "min_width": null,
            "object_fit": null,
            "object_position": null,
            "order": null,
            "overflow": null,
            "overflow_x": null,
            "overflow_y": null,
            "padding": null,
            "right": null,
            "top": null,
            "visibility": null,
            "width": null
          }
        },
        "a1abd43b334a49948f7186322953f06c": {
          "model_module": "@jupyter-widgets/controls",
          "model_module_version": "1.5.0",
          "model_name": "DescriptionStyleModel",
          "state": {
            "_model_module": "@jupyter-widgets/controls",
            "_model_module_version": "1.5.0",
            "_model_name": "DescriptionStyleModel",
            "_view_count": null,
            "_view_module": "@jupyter-widgets/base",
            "_view_module_version": "1.2.0",
            "_view_name": "StyleView",
            "description_width": ""
          }
        },
        "a3634942715b4f90a5ac5c6717f61eac": {
          "model_module": "@jupyter-widgets/controls",
          "model_module_version": "1.5.0",
          "model_name": "DescriptionStyleModel",
          "state": {
            "_model_module": "@jupyter-widgets/controls",
            "_model_module_version": "1.5.0",
            "_model_name": "DescriptionStyleModel",
            "_view_count": null,
            "_view_module": "@jupyter-widgets/base",
            "_view_module_version": "1.2.0",
            "_view_name": "StyleView",
            "description_width": ""
          }
        },
        "a53d2d587f2a4b93a3685ec966e8ecf7": {
          "model_module": "@jupyter-widgets/controls",
          "model_module_version": "1.5.0",
          "model_name": "HTMLModel",
          "state": {
            "_dom_classes": [],
            "_model_module": "@jupyter-widgets/controls",
            "_model_module_version": "1.5.0",
            "_model_name": "HTMLModel",
            "_view_count": null,
            "_view_module": "@jupyter-widgets/controls",
            "_view_module_version": "1.5.0",
            "_view_name": "HTMLView",
            "description": "",
            "description_tooltip": null,
            "layout": "IPY_MODEL_3cd919cae9e5452ab79caddf963eb8bf",
            "placeholder": "​",
            "style": "IPY_MODEL_b8212441c622451dae887e060062132e",
            "value": "Downloading: 100%"
          }
        },
        "aa90fce3efb5431483646c93f556350c": {
          "model_module": "@jupyter-widgets/controls",
          "model_module_version": "1.5.0",
          "model_name": "DescriptionStyleModel",
          "state": {
            "_model_module": "@jupyter-widgets/controls",
            "_model_module_version": "1.5.0",
            "_model_name": "DescriptionStyleModel",
            "_view_count": null,
            "_view_module": "@jupyter-widgets/base",
            "_view_module_version": "1.2.0",
            "_view_name": "StyleView",
            "description_width": ""
          }
        },
        "abea7a3bae854e6bb2a7561cae657f0d": {
          "model_module": "@jupyter-widgets/controls",
          "model_module_version": "1.5.0",
          "model_name": "HBoxModel",
          "state": {
            "_dom_classes": [],
            "_model_module": "@jupyter-widgets/controls",
            "_model_module_version": "1.5.0",
            "_model_name": "HBoxModel",
            "_view_count": null,
            "_view_module": "@jupyter-widgets/controls",
            "_view_module_version": "1.5.0",
            "_view_name": "HBoxView",
            "box_style": "",
            "children": [
              "IPY_MODEL_fb44a9f47966490f9667b6fe3d96a8f1",
              "IPY_MODEL_fecf96caeec84012839adeecb0074447",
              "IPY_MODEL_b10a21b58b6c49d49e30efdf83bbf94c"
            ],
            "layout": "IPY_MODEL_cddfd92ffcfd4854a8c19c5e214d8ae9"
          }
        },
        "ac3ca94d838b49bdaa1ac14c9c23e000": {
          "model_module": "@jupyter-widgets/controls",
          "model_module_version": "1.5.0",
          "model_name": "HBoxModel",
          "state": {
            "_dom_classes": [],
            "_model_module": "@jupyter-widgets/controls",
            "_model_module_version": "1.5.0",
            "_model_name": "HBoxModel",
            "_view_count": null,
            "_view_module": "@jupyter-widgets/controls",
            "_view_module_version": "1.5.0",
            "_view_name": "HBoxView",
            "box_style": "",
            "children": [
              "IPY_MODEL_35a7e140b73c499e95a3e7765658a6a3",
              "IPY_MODEL_5c02a6984b4b434fa4012845a185964c",
              "IPY_MODEL_d5d2434393c74c59b86ab84d3d89b1a2"
            ],
            "layout": "IPY_MODEL_100d79d6c1544c948db015021e739c30"
          }
        },
        "ae5f03afe310441cbbeed475851ddb3f": {
          "model_module": "@jupyter-widgets/base",
          "model_module_version": "1.2.0",
          "model_name": "LayoutModel",
          "state": {
            "_model_module": "@jupyter-widgets/base",
            "_model_module_version": "1.2.0",
            "_model_name": "LayoutModel",
            "_view_count": null,
            "_view_module": "@jupyter-widgets/base",
            "_view_module_version": "1.2.0",
            "_view_name": "LayoutView",
            "align_content": null,
            "align_items": null,
            "align_self": null,
            "border": null,
            "bottom": null,
            "display": null,
            "flex": null,
            "flex_flow": null,
            "grid_area": null,
            "grid_auto_columns": null,
            "grid_auto_flow": null,
            "grid_auto_rows": null,
            "grid_column": null,
            "grid_gap": null,
            "grid_row": null,
            "grid_template_areas": null,
            "grid_template_columns": null,
            "grid_template_rows": null,
            "height": null,
            "justify_content": null,
            "justify_items": null,
            "left": null,
            "margin": null,
            "max_height": null,
            "max_width": null,
            "min_height": null,
            "min_width": null,
            "object_fit": null,
            "object_position": null,
            "order": null,
            "overflow": null,
            "overflow_x": null,
            "overflow_y": null,
            "padding": null,
            "right": null,
            "top": null,
            "visibility": null,
            "width": null
          }
        },
        "b10a21b58b6c49d49e30efdf83bbf94c": {
          "model_module": "@jupyter-widgets/controls",
          "model_module_version": "1.5.0",
          "model_name": "HTMLModel",
          "state": {
            "_dom_classes": [],
            "_model_module": "@jupyter-widgets/controls",
            "_model_module_version": "1.5.0",
            "_model_name": "HTMLModel",
            "_view_count": null,
            "_view_module": "@jupyter-widgets/controls",
            "_view_module_version": "1.5.0",
            "_view_name": "HTMLView",
            "description": "",
            "description_tooltip": null,
            "layout": "IPY_MODEL_078b6c6a33c241ca8804649f36a562b1",
            "placeholder": "​",
            "style": "IPY_MODEL_8fdff6d74f5148ffaf882fff69493039",
            "value": " 90.9M/90.9M [00:01&lt;00:00, 64.5MB/s]"
          }
        },
        "b2b8d7a4b9224080b2321cf9191248d4": {
          "model_module": "@jupyter-widgets/base",
          "model_module_version": "1.2.0",
          "model_name": "LayoutModel",
          "state": {
            "_model_module": "@jupyter-widgets/base",
            "_model_module_version": "1.2.0",
            "_model_name": "LayoutModel",
            "_view_count": null,
            "_view_module": "@jupyter-widgets/base",
            "_view_module_version": "1.2.0",
            "_view_name": "LayoutView",
            "align_content": null,
            "align_items": null,
            "align_self": null,
            "border": null,
            "bottom": null,
            "display": null,
            "flex": null,
            "flex_flow": null,
            "grid_area": null,
            "grid_auto_columns": null,
            "grid_auto_flow": null,
            "grid_auto_rows": null,
            "grid_column": null,
            "grid_gap": null,
            "grid_row": null,
            "grid_template_areas": null,
            "grid_template_columns": null,
            "grid_template_rows": null,
            "height": null,
            "justify_content": null,
            "justify_items": null,
            "left": null,
            "margin": null,
            "max_height": null,
            "max_width": null,
            "min_height": null,
            "min_width": null,
            "object_fit": null,
            "object_position": null,
            "order": null,
            "overflow": null,
            "overflow_x": null,
            "overflow_y": null,
            "padding": null,
            "right": null,
            "top": null,
            "visibility": null,
            "width": null
          }
        },
        "b4584fbef5ed49bca61afc7fec89ab85": {
          "model_module": "@jupyter-widgets/controls",
          "model_module_version": "1.5.0",
          "model_name": "HTMLModel",
          "state": {
            "_dom_classes": [],
            "_model_module": "@jupyter-widgets/controls",
            "_model_module_version": "1.5.0",
            "_model_name": "HTMLModel",
            "_view_count": null,
            "_view_module": "@jupyter-widgets/controls",
            "_view_module_version": "1.5.0",
            "_view_name": "HTMLView",
            "description": "",
            "description_tooltip": null,
            "layout": "IPY_MODEL_b89c568aba274d42b43ff2627c0b7d54",
            "placeholder": "​",
            "style": "IPY_MODEL_22934e6590d24750b18c85dc4b426df4",
            "value": "Downloading: 100%"
          }
        },
        "b5744e9c57a442b5a387041b19fba962": {
          "model_module": "@jupyter-widgets/controls",
          "model_module_version": "1.5.0",
          "model_name": "HTMLModel",
          "state": {
            "_dom_classes": [],
            "_model_module": "@jupyter-widgets/controls",
            "_model_module_version": "1.5.0",
            "_model_name": "HTMLModel",
            "_view_count": null,
            "_view_module": "@jupyter-widgets/controls",
            "_view_module_version": "1.5.0",
            "_view_name": "HTMLView",
            "description": "",
            "description_tooltip": null,
            "layout": "IPY_MODEL_2d23b0d08cd44754bd7f247f3b9a6b34",
            "placeholder": "​",
            "style": "IPY_MODEL_98d675d9a76e44f5b056ee023d398c83",
            "value": " 350/350 [00:00&lt;00:00, 11.3kB/s]"
          }
        },
        "b8212441c622451dae887e060062132e": {
          "model_module": "@jupyter-widgets/controls",
          "model_module_version": "1.5.0",
          "model_name": "DescriptionStyleModel",
          "state": {
            "_model_module": "@jupyter-widgets/controls",
            "_model_module_version": "1.5.0",
            "_model_name": "DescriptionStyleModel",
            "_view_count": null,
            "_view_module": "@jupyter-widgets/base",
            "_view_module_version": "1.2.0",
            "_view_name": "StyleView",
            "description_width": ""
          }
        },
        "b89c568aba274d42b43ff2627c0b7d54": {
          "model_module": "@jupyter-widgets/base",
          "model_module_version": "1.2.0",
          "model_name": "LayoutModel",
          "state": {
            "_model_module": "@jupyter-widgets/base",
            "_model_module_version": "1.2.0",
            "_model_name": "LayoutModel",
            "_view_count": null,
            "_view_module": "@jupyter-widgets/base",
            "_view_module_version": "1.2.0",
            "_view_name": "LayoutView",
            "align_content": null,
            "align_items": null,
            "align_self": null,
            "border": null,
            "bottom": null,
            "display": null,
            "flex": null,
            "flex_flow": null,
            "grid_area": null,
            "grid_auto_columns": null,
            "grid_auto_flow": null,
            "grid_auto_rows": null,
            "grid_column": null,
            "grid_gap": null,
            "grid_row": null,
            "grid_template_areas": null,
            "grid_template_columns": null,
            "grid_template_rows": null,
            "height": null,
            "justify_content": null,
            "justify_items": null,
            "left": null,
            "margin": null,
            "max_height": null,
            "max_width": null,
            "min_height": null,
            "min_width": null,
            "object_fit": null,
            "object_position": null,
            "order": null,
            "overflow": null,
            "overflow_x": null,
            "overflow_y": null,
            "padding": null,
            "right": null,
            "top": null,
            "visibility": null,
            "width": null
          }
        },
        "b9da12965cc14c4898a61d91b88fec78": {
          "model_module": "@jupyter-widgets/controls",
          "model_module_version": "1.5.0",
          "model_name": "ProgressStyleModel",
          "state": {
            "_model_module": "@jupyter-widgets/controls",
            "_model_module_version": "1.5.0",
            "_model_name": "ProgressStyleModel",
            "_view_count": null,
            "_view_module": "@jupyter-widgets/base",
            "_view_module_version": "1.2.0",
            "_view_name": "StyleView",
            "bar_color": null,
            "description_width": ""
          }
        },
        "ba4fabbd16a0449d9c2ef2a95cca0261": {
          "model_module": "@jupyter-widgets/controls",
          "model_module_version": "1.5.0",
          "model_name": "HBoxModel",
          "state": {
            "_dom_classes": [],
            "_model_module": "@jupyter-widgets/controls",
            "_model_module_version": "1.5.0",
            "_model_name": "HBoxModel",
            "_view_count": null,
            "_view_module": "@jupyter-widgets/controls",
            "_view_module_version": "1.5.0",
            "_view_name": "HBoxView",
            "box_style": "",
            "children": [
              "IPY_MODEL_f0c3bb5156ba4786aa25d5b2b09f29b2",
              "IPY_MODEL_df236725097e42f9acb939c13875b92c",
              "IPY_MODEL_cab02217b34c493386fa407fcbac33ec"
            ],
            "layout": "IPY_MODEL_dfd54d817fab49a6826103ff3de10068"
          }
        },
        "bb858611a26d4e469d5e7a481915cb45": {
          "model_module": "@jupyter-widgets/base",
          "model_module_version": "1.2.0",
          "model_name": "LayoutModel",
          "state": {
            "_model_module": "@jupyter-widgets/base",
            "_model_module_version": "1.2.0",
            "_model_name": "LayoutModel",
            "_view_count": null,
            "_view_module": "@jupyter-widgets/base",
            "_view_module_version": "1.2.0",
            "_view_name": "LayoutView",
            "align_content": null,
            "align_items": null,
            "align_self": null,
            "border": null,
            "bottom": null,
            "display": null,
            "flex": null,
            "flex_flow": null,
            "grid_area": null,
            "grid_auto_columns": null,
            "grid_auto_flow": null,
            "grid_auto_rows": null,
            "grid_column": null,
            "grid_gap": null,
            "grid_row": null,
            "grid_template_areas": null,
            "grid_template_columns": null,
            "grid_template_rows": null,
            "height": null,
            "justify_content": null,
            "justify_items": null,
            "left": null,
            "margin": null,
            "max_height": null,
            "max_width": null,
            "min_height": null,
            "min_width": null,
            "object_fit": null,
            "object_position": null,
            "order": null,
            "overflow": null,
            "overflow_x": null,
            "overflow_y": null,
            "padding": null,
            "right": null,
            "top": null,
            "visibility": null,
            "width": null
          }
        },
        "be59e4862be1424aab439b4703e52431": {
          "model_module": "@jupyter-widgets/controls",
          "model_module_version": "1.5.0",
          "model_name": "ProgressStyleModel",
          "state": {
            "_model_module": "@jupyter-widgets/controls",
            "_model_module_version": "1.5.0",
            "_model_name": "ProgressStyleModel",
            "_view_count": null,
            "_view_module": "@jupyter-widgets/base",
            "_view_module_version": "1.2.0",
            "_view_name": "StyleView",
            "bar_color": null,
            "description_width": ""
          }
        },
        "bf87357364a448ee934be679a2409c10": {
          "model_module": "@jupyter-widgets/controls",
          "model_module_version": "1.5.0",
          "model_name": "FloatProgressModel",
          "state": {
            "_dom_classes": [],
            "_model_module": "@jupyter-widgets/controls",
            "_model_module_version": "1.5.0",
            "_model_name": "FloatProgressModel",
            "_view_count": null,
            "_view_module": "@jupyter-widgets/controls",
            "_view_module_version": "1.5.0",
            "_view_name": "ProgressView",
            "bar_style": "success",
            "description": "",
            "description_tooltip": null,
            "layout": "IPY_MODEL_8946fd5746e248a2a4245ab7d7c77fed",
            "max": 116,
            "min": 0,
            "orientation": "horizontal",
            "style": "IPY_MODEL_29e6f44b668342a9aff2124be5d39f47",
            "value": 116
          }
        },
        "c11c1762f1974edaac1127ec5a7f7583": {
          "model_module": "@jupyter-widgets/base",
          "model_module_version": "1.2.0",
          "model_name": "LayoutModel",
          "state": {
            "_model_module": "@jupyter-widgets/base",
            "_model_module_version": "1.2.0",
            "_model_name": "LayoutModel",
            "_view_count": null,
            "_view_module": "@jupyter-widgets/base",
            "_view_module_version": "1.2.0",
            "_view_name": "LayoutView",
            "align_content": null,
            "align_items": null,
            "align_self": null,
            "border": null,
            "bottom": null,
            "display": null,
            "flex": null,
            "flex_flow": null,
            "grid_area": null,
            "grid_auto_columns": null,
            "grid_auto_flow": null,
            "grid_auto_rows": null,
            "grid_column": null,
            "grid_gap": null,
            "grid_row": null,
            "grid_template_areas": null,
            "grid_template_columns": null,
            "grid_template_rows": null,
            "height": null,
            "justify_content": null,
            "justify_items": null,
            "left": null,
            "margin": null,
            "max_height": null,
            "max_width": null,
            "min_height": null,
            "min_width": null,
            "object_fit": null,
            "object_position": null,
            "order": null,
            "overflow": null,
            "overflow_x": null,
            "overflow_y": null,
            "padding": null,
            "right": null,
            "top": null,
            "visibility": null,
            "width": null
          }
        },
        "c14b1ce293034b2d87375297f7140930": {
          "model_module": "@jupyter-widgets/controls",
          "model_module_version": "1.5.0",
          "model_name": "DescriptionStyleModel",
          "state": {
            "_model_module": "@jupyter-widgets/controls",
            "_model_module_version": "1.5.0",
            "_model_name": "DescriptionStyleModel",
            "_view_count": null,
            "_view_module": "@jupyter-widgets/base",
            "_view_module_version": "1.2.0",
            "_view_name": "StyleView",
            "description_width": ""
          }
        },
        "c4aa094922134da9a56455ee4acd9517": {
          "model_module": "@jupyter-widgets/base",
          "model_module_version": "1.2.0",
          "model_name": "LayoutModel",
          "state": {
            "_model_module": "@jupyter-widgets/base",
            "_model_module_version": "1.2.0",
            "_model_name": "LayoutModel",
            "_view_count": null,
            "_view_module": "@jupyter-widgets/base",
            "_view_module_version": "1.2.0",
            "_view_name": "LayoutView",
            "align_content": null,
            "align_items": null,
            "align_self": null,
            "border": null,
            "bottom": null,
            "display": null,
            "flex": null,
            "flex_flow": null,
            "grid_area": null,
            "grid_auto_columns": null,
            "grid_auto_flow": null,
            "grid_auto_rows": null,
            "grid_column": null,
            "grid_gap": null,
            "grid_row": null,
            "grid_template_areas": null,
            "grid_template_columns": null,
            "grid_template_rows": null,
            "height": null,
            "justify_content": null,
            "justify_items": null,
            "left": null,
            "margin": null,
            "max_height": null,
            "max_width": null,
            "min_height": null,
            "min_width": null,
            "object_fit": null,
            "object_position": null,
            "order": null,
            "overflow": null,
            "overflow_x": null,
            "overflow_y": null,
            "padding": null,
            "right": null,
            "top": null,
            "visibility": null,
            "width": null
          }
        },
        "cab02217b34c493386fa407fcbac33ec": {
          "model_module": "@jupyter-widgets/controls",
          "model_module_version": "1.5.0",
          "model_name": "HTMLModel",
          "state": {
            "_dom_classes": [],
            "_model_module": "@jupyter-widgets/controls",
            "_model_module_version": "1.5.0",
            "_model_name": "HTMLModel",
            "_view_count": null,
            "_view_module": "@jupyter-widgets/controls",
            "_view_module_version": "1.5.0",
            "_view_name": "HTMLView",
            "description": "",
            "description_tooltip": null,
            "layout": "IPY_MODEL_dfdd9d704c1d4f188b6e29b73a0ace81",
            "placeholder": "​",
            "style": "IPY_MODEL_85cd7e0e5d724f478bf71f17633dd87f",
            "value": " 466k/466k [00:00&lt;00:00, 597kB/s]"
          }
        },
        "cac57b33302f4f9388784d65ad9be8df": {
          "model_module": "@jupyter-widgets/controls",
          "model_module_version": "1.5.0",
          "model_name": "ProgressStyleModel",
          "state": {
            "_model_module": "@jupyter-widgets/controls",
            "_model_module_version": "1.5.0",
            "_model_name": "ProgressStyleModel",
            "_view_count": null,
            "_view_module": "@jupyter-widgets/base",
            "_view_module_version": "1.2.0",
            "_view_name": "StyleView",
            "bar_color": null,
            "description_width": ""
          }
        },
        "cca99cddb6b04c419e9a47fb110dadff": {
          "model_module": "@jupyter-widgets/controls",
          "model_module_version": "1.5.0",
          "model_name": "DescriptionStyleModel",
          "state": {
            "_model_module": "@jupyter-widgets/controls",
            "_model_module_version": "1.5.0",
            "_model_name": "DescriptionStyleModel",
            "_view_count": null,
            "_view_module": "@jupyter-widgets/base",
            "_view_module_version": "1.2.0",
            "_view_name": "StyleView",
            "description_width": ""
          }
        },
        "cddfd92ffcfd4854a8c19c5e214d8ae9": {
          "model_module": "@jupyter-widgets/base",
          "model_module_version": "1.2.0",
          "model_name": "LayoutModel",
          "state": {
            "_model_module": "@jupyter-widgets/base",
            "_model_module_version": "1.2.0",
            "_model_name": "LayoutModel",
            "_view_count": null,
            "_view_module": "@jupyter-widgets/base",
            "_view_module_version": "1.2.0",
            "_view_name": "LayoutView",
            "align_content": null,
            "align_items": null,
            "align_self": null,
            "border": null,
            "bottom": null,
            "display": null,
            "flex": null,
            "flex_flow": null,
            "grid_area": null,
            "grid_auto_columns": null,
            "grid_auto_flow": null,
            "grid_auto_rows": null,
            "grid_column": null,
            "grid_gap": null,
            "grid_row": null,
            "grid_template_areas": null,
            "grid_template_columns": null,
            "grid_template_rows": null,
            "height": null,
            "justify_content": null,
            "justify_items": null,
            "left": null,
            "margin": null,
            "max_height": null,
            "max_width": null,
            "min_height": null,
            "min_width": null,
            "object_fit": null,
            "object_position": null,
            "order": null,
            "overflow": null,
            "overflow_x": null,
            "overflow_y": null,
            "padding": null,
            "right": null,
            "top": null,
            "visibility": null,
            "width": null
          }
        },
        "cfb3d89b22324b08bcd3a7c5ee5018b7": {
          "model_module": "@jupyter-widgets/controls",
          "model_module_version": "1.5.0",
          "model_name": "HBoxModel",
          "state": {
            "_dom_classes": [],
            "_model_module": "@jupyter-widgets/controls",
            "_model_module_version": "1.5.0",
            "_model_name": "HBoxModel",
            "_view_count": null,
            "_view_module": "@jupyter-widgets/controls",
            "_view_module_version": "1.5.0",
            "_view_name": "HBoxView",
            "box_style": "",
            "children": [
              "IPY_MODEL_65b3921c61d840edb0c4957f72ee4bee",
              "IPY_MODEL_d3f4268babb747d98c7246fcc731d1f9",
              "IPY_MODEL_0736892f741e4a3a81cc4d1bb8e10dd2"
            ],
            "layout": "IPY_MODEL_82b9602a041947f28d24e6bf1ecfd7be"
          }
        },
        "d1e4b49a991a44f7bbca748ae96fd40e": {
          "model_module": "@jupyter-widgets/base",
          "model_module_version": "1.2.0",
          "model_name": "LayoutModel",
          "state": {
            "_model_module": "@jupyter-widgets/base",
            "_model_module_version": "1.2.0",
            "_model_name": "LayoutModel",
            "_view_count": null,
            "_view_module": "@jupyter-widgets/base",
            "_view_module_version": "1.2.0",
            "_view_name": "LayoutView",
            "align_content": null,
            "align_items": null,
            "align_self": null,
            "border": null,
            "bottom": null,
            "display": null,
            "flex": null,
            "flex_flow": null,
            "grid_area": null,
            "grid_auto_columns": null,
            "grid_auto_flow": null,
            "grid_auto_rows": null,
            "grid_column": null,
            "grid_gap": null,
            "grid_row": null,
            "grid_template_areas": null,
            "grid_template_columns": null,
            "grid_template_rows": null,
            "height": null,
            "justify_content": null,
            "justify_items": null,
            "left": null,
            "margin": null,
            "max_height": null,
            "max_width": null,
            "min_height": null,
            "min_width": null,
            "object_fit": null,
            "object_position": null,
            "order": null,
            "overflow": null,
            "overflow_x": null,
            "overflow_y": null,
            "padding": null,
            "right": null,
            "top": null,
            "visibility": null,
            "width": null
          }
        },
        "d26d59564af44451bced8013cdf13b52": {
          "model_module": "@jupyter-widgets/base",
          "model_module_version": "1.2.0",
          "model_name": "LayoutModel",
          "state": {
            "_model_module": "@jupyter-widgets/base",
            "_model_module_version": "1.2.0",
            "_model_name": "LayoutModel",
            "_view_count": null,
            "_view_module": "@jupyter-widgets/base",
            "_view_module_version": "1.2.0",
            "_view_name": "LayoutView",
            "align_content": null,
            "align_items": null,
            "align_self": null,
            "border": null,
            "bottom": null,
            "display": null,
            "flex": null,
            "flex_flow": null,
            "grid_area": null,
            "grid_auto_columns": null,
            "grid_auto_flow": null,
            "grid_auto_rows": null,
            "grid_column": null,
            "grid_gap": null,
            "grid_row": null,
            "grid_template_areas": null,
            "grid_template_columns": null,
            "grid_template_rows": null,
            "height": null,
            "justify_content": null,
            "justify_items": null,
            "left": null,
            "margin": null,
            "max_height": null,
            "max_width": null,
            "min_height": null,
            "min_width": null,
            "object_fit": null,
            "object_position": null,
            "order": null,
            "overflow": null,
            "overflow_x": null,
            "overflow_y": null,
            "padding": null,
            "right": null,
            "top": null,
            "visibility": null,
            "width": null
          }
        },
        "d3f4268babb747d98c7246fcc731d1f9": {
          "model_module": "@jupyter-widgets/controls",
          "model_module_version": "1.5.0",
          "model_name": "FloatProgressModel",
          "state": {
            "_dom_classes": [],
            "_model_module": "@jupyter-widgets/controls",
            "_model_module_version": "1.5.0",
            "_model_name": "FloatProgressModel",
            "_view_count": null,
            "_view_module": "@jupyter-widgets/controls",
            "_view_module_version": "1.5.0",
            "_view_name": "ProgressView",
            "bar_style": "success",
            "description": "",
            "description_tooltip": null,
            "layout": "IPY_MODEL_e1d5842198404e75b28d9f35d66ce660",
            "max": 112,
            "min": 0,
            "orientation": "horizontal",
            "style": "IPY_MODEL_cac57b33302f4f9388784d65ad9be8df",
            "value": 112
          }
        },
        "d51b4a7806c746a19bd80da28a8af272": {
          "model_module": "@jupyter-widgets/controls",
          "model_module_version": "1.5.0",
          "model_name": "FloatProgressModel",
          "state": {
            "_dom_classes": [],
            "_model_module": "@jupyter-widgets/controls",
            "_model_module_version": "1.5.0",
            "_model_name": "FloatProgressModel",
            "_view_count": null,
            "_view_module": "@jupyter-widgets/controls",
            "_view_module_version": "1.5.0",
            "_view_name": "ProgressView",
            "bar_style": "success",
            "description": "",
            "description_tooltip": null,
            "layout": "IPY_MODEL_7b2b433f5ae04df0b729777503e9fba3",
            "max": 612,
            "min": 0,
            "orientation": "horizontal",
            "style": "IPY_MODEL_fc31b9d179eb4871bc308708cdb44db3",
            "value": 612
          }
        },
        "d5d2434393c74c59b86ab84d3d89b1a2": {
          "model_module": "@jupyter-widgets/controls",
          "model_module_version": "1.5.0",
          "model_name": "HTMLModel",
          "state": {
            "_dom_classes": [],
            "_model_module": "@jupyter-widgets/controls",
            "_model_module_version": "1.5.0",
            "_model_name": "HTMLModel",
            "_view_count": null,
            "_view_module": "@jupyter-widgets/controls",
            "_view_module_version": "1.5.0",
            "_view_name": "HTMLView",
            "description": "",
            "description_tooltip": null,
            "layout": "IPY_MODEL_4f9d185afd6643669b2c27904f05e104",
            "placeholder": "​",
            "style": "IPY_MODEL_5d8c1d7f570f479cbe52f32abd5c0bfd",
            "value": " 349/349 [00:00&lt;00:00, 9.03kB/s]"
          }
        },
        "d7d4fe0bc8234ae0b3fba39131975503": {
          "model_module": "@jupyter-widgets/controls",
          "model_module_version": "1.5.0",
          "model_name": "HTMLModel",
          "state": {
            "_dom_classes": [],
            "_model_module": "@jupyter-widgets/controls",
            "_model_module_version": "1.5.0",
            "_model_name": "HTMLModel",
            "_view_count": null,
            "_view_module": "@jupyter-widgets/controls",
            "_view_module_version": "1.5.0",
            "_view_name": "HTMLView",
            "description": "",
            "description_tooltip": null,
            "layout": "IPY_MODEL_51c34ae7052e496c9762a998a1acedd6",
            "placeholder": "​",
            "style": "IPY_MODEL_0c24bd204504444982769403f7925ace",
            "value": " 39.3k/39.3k [00:00&lt;00:00, 455kB/s]"
          }
        },
        "da0a6e69899b48da90c374f63be8ec43": {
          "model_module": "@jupyter-widgets/base",
          "model_module_version": "1.2.0",
          "model_name": "LayoutModel",
          "state": {
            "_model_module": "@jupyter-widgets/base",
            "_model_module_version": "1.2.0",
            "_model_name": "LayoutModel",
            "_view_count": null,
            "_view_module": "@jupyter-widgets/base",
            "_view_module_version": "1.2.0",
            "_view_name": "LayoutView",
            "align_content": null,
            "align_items": null,
            "align_self": null,
            "border": null,
            "bottom": null,
            "display": null,
            "flex": null,
            "flex_flow": null,
            "grid_area": null,
            "grid_auto_columns": null,
            "grid_auto_flow": null,
            "grid_auto_rows": null,
            "grid_column": null,
            "grid_gap": null,
            "grid_row": null,
            "grid_template_areas": null,
            "grid_template_columns": null,
            "grid_template_rows": null,
            "height": null,
            "justify_content": null,
            "justify_items": null,
            "left": null,
            "margin": null,
            "max_height": null,
            "max_width": null,
            "min_height": null,
            "min_width": null,
            "object_fit": null,
            "object_position": null,
            "order": null,
            "overflow": null,
            "overflow_x": null,
            "overflow_y": null,
            "padding": null,
            "right": null,
            "top": null,
            "visibility": null,
            "width": null
          }
        },
        "da8ad09a26994501896339e6c0eaaced": {
          "model_module": "@jupyter-widgets/controls",
          "model_module_version": "1.5.0",
          "model_name": "HTMLModel",
          "state": {
            "_dom_classes": [],
            "_model_module": "@jupyter-widgets/controls",
            "_model_module_version": "1.5.0",
            "_model_name": "HTMLModel",
            "_view_count": null,
            "_view_module": "@jupyter-widgets/controls",
            "_view_module_version": "1.5.0",
            "_view_name": "HTMLView",
            "description": "",
            "description_tooltip": null,
            "layout": "IPY_MODEL_63f9f7f7325046a89c742f5f2a477a76",
            "placeholder": "​",
            "style": "IPY_MODEL_2591d37a62544f9badcf300ed23dfa6a",
            "value": "Downloading: 100%"
          }
        },
        "dc761798361b4034b895345a868b9881": {
          "model_module": "@jupyter-widgets/base",
          "model_module_version": "1.2.0",
          "model_name": "LayoutModel",
          "state": {
            "_model_module": "@jupyter-widgets/base",
            "_model_module_version": "1.2.0",
            "_model_name": "LayoutModel",
            "_view_count": null,
            "_view_module": "@jupyter-widgets/base",
            "_view_module_version": "1.2.0",
            "_view_name": "LayoutView",
            "align_content": null,
            "align_items": null,
            "align_self": null,
            "border": null,
            "bottom": null,
            "display": null,
            "flex": null,
            "flex_flow": null,
            "grid_area": null,
            "grid_auto_columns": null,
            "grid_auto_flow": null,
            "grid_auto_rows": null,
            "grid_column": null,
            "grid_gap": null,
            "grid_row": null,
            "grid_template_areas": null,
            "grid_template_columns": null,
            "grid_template_rows": null,
            "height": null,
            "justify_content": null,
            "justify_items": null,
            "left": null,
            "margin": null,
            "max_height": null,
            "max_width": null,
            "min_height": null,
            "min_width": null,
            "object_fit": null,
            "object_position": null,
            "order": null,
            "overflow": null,
            "overflow_x": null,
            "overflow_y": null,
            "padding": null,
            "right": null,
            "top": null,
            "visibility": null,
            "width": null
          }
        },
        "df236725097e42f9acb939c13875b92c": {
          "model_module": "@jupyter-widgets/controls",
          "model_module_version": "1.5.0",
          "model_name": "FloatProgressModel",
          "state": {
            "_dom_classes": [],
            "_model_module": "@jupyter-widgets/controls",
            "_model_module_version": "1.5.0",
            "_model_name": "FloatProgressModel",
            "_view_count": null,
            "_view_module": "@jupyter-widgets/controls",
            "_view_module_version": "1.5.0",
            "_view_name": "ProgressView",
            "bar_style": "success",
            "description": "",
            "description_tooltip": null,
            "layout": "IPY_MODEL_1e993be318c84460a132cfc9e43204a0",
            "max": 466247,
            "min": 0,
            "orientation": "horizontal",
            "style": "IPY_MODEL_fa05bea8a799479e86a073075d38aebb",
            "value": 466247
          }
        },
        "dfd54d817fab49a6826103ff3de10068": {
          "model_module": "@jupyter-widgets/base",
          "model_module_version": "1.2.0",
          "model_name": "LayoutModel",
          "state": {
            "_model_module": "@jupyter-widgets/base",
            "_model_module_version": "1.2.0",
            "_model_name": "LayoutModel",
            "_view_count": null,
            "_view_module": "@jupyter-widgets/base",
            "_view_module_version": "1.2.0",
            "_view_name": "LayoutView",
            "align_content": null,
            "align_items": null,
            "align_self": null,
            "border": null,
            "bottom": null,
            "display": null,
            "flex": null,
            "flex_flow": null,
            "grid_area": null,
            "grid_auto_columns": null,
            "grid_auto_flow": null,
            "grid_auto_rows": null,
            "grid_column": null,
            "grid_gap": null,
            "grid_row": null,
            "grid_template_areas": null,
            "grid_template_columns": null,
            "grid_template_rows": null,
            "height": null,
            "justify_content": null,
            "justify_items": null,
            "left": null,
            "margin": null,
            "max_height": null,
            "max_width": null,
            "min_height": null,
            "min_width": null,
            "object_fit": null,
            "object_position": null,
            "order": null,
            "overflow": null,
            "overflow_x": null,
            "overflow_y": null,
            "padding": null,
            "right": null,
            "top": null,
            "visibility": null,
            "width": null
          }
        },
        "dfdd9d704c1d4f188b6e29b73a0ace81": {
          "model_module": "@jupyter-widgets/base",
          "model_module_version": "1.2.0",
          "model_name": "LayoutModel",
          "state": {
            "_model_module": "@jupyter-widgets/base",
            "_model_module_version": "1.2.0",
            "_model_name": "LayoutModel",
            "_view_count": null,
            "_view_module": "@jupyter-widgets/base",
            "_view_module_version": "1.2.0",
            "_view_name": "LayoutView",
            "align_content": null,
            "align_items": null,
            "align_self": null,
            "border": null,
            "bottom": null,
            "display": null,
            "flex": null,
            "flex_flow": null,
            "grid_area": null,
            "grid_auto_columns": null,
            "grid_auto_flow": null,
            "grid_auto_rows": null,
            "grid_column": null,
            "grid_gap": null,
            "grid_row": null,
            "grid_template_areas": null,
            "grid_template_columns": null,
            "grid_template_rows": null,
            "height": null,
            "justify_content": null,
            "justify_items": null,
            "left": null,
            "margin": null,
            "max_height": null,
            "max_width": null,
            "min_height": null,
            "min_width": null,
            "object_fit": null,
            "object_position": null,
            "order": null,
            "overflow": null,
            "overflow_x": null,
            "overflow_y": null,
            "padding": null,
            "right": null,
            "top": null,
            "visibility": null,
            "width": null
          }
        },
        "dfff12e097c14c7f9f2a703ed7284dbd": {
          "model_module": "@jupyter-widgets/controls",
          "model_module_version": "1.5.0",
          "model_name": "HBoxModel",
          "state": {
            "_dom_classes": [],
            "_model_module": "@jupyter-widgets/controls",
            "_model_module_version": "1.5.0",
            "_model_name": "HBoxModel",
            "_view_count": null,
            "_view_module": "@jupyter-widgets/controls",
            "_view_module_version": "1.5.0",
            "_view_name": "HBoxView",
            "box_style": "",
            "children": [
              "IPY_MODEL_6d8965105f3e4c818cc20f417b8aa584",
              "IPY_MODEL_f46bfd4832df471cad3a0d5d8adbad4f",
              "IPY_MODEL_d7d4fe0bc8234ae0b3fba39131975503"
            ],
            "layout": "IPY_MODEL_c4aa094922134da9a56455ee4acd9517"
          }
        },
        "e1d5842198404e75b28d9f35d66ce660": {
          "model_module": "@jupyter-widgets/base",
          "model_module_version": "1.2.0",
          "model_name": "LayoutModel",
          "state": {
            "_model_module": "@jupyter-widgets/base",
            "_model_module_version": "1.2.0",
            "_model_name": "LayoutModel",
            "_view_count": null,
            "_view_module": "@jupyter-widgets/base",
            "_view_module_version": "1.2.0",
            "_view_name": "LayoutView",
            "align_content": null,
            "align_items": null,
            "align_self": null,
            "border": null,
            "bottom": null,
            "display": null,
            "flex": null,
            "flex_flow": null,
            "grid_area": null,
            "grid_auto_columns": null,
            "grid_auto_flow": null,
            "grid_auto_rows": null,
            "grid_column": null,
            "grid_gap": null,
            "grid_row": null,
            "grid_template_areas": null,
            "grid_template_columns": null,
            "grid_template_rows": null,
            "height": null,
            "justify_content": null,
            "justify_items": null,
            "left": null,
            "margin": null,
            "max_height": null,
            "max_width": null,
            "min_height": null,
            "min_width": null,
            "object_fit": null,
            "object_position": null,
            "order": null,
            "overflow": null,
            "overflow_x": null,
            "overflow_y": null,
            "padding": null,
            "right": null,
            "top": null,
            "visibility": null,
            "width": null
          }
        },
        "e48b2327805949dfb39846e147fde586": {
          "model_module": "@jupyter-widgets/controls",
          "model_module_version": "1.5.0",
          "model_name": "FloatProgressModel",
          "state": {
            "_dom_classes": [],
            "_model_module": "@jupyter-widgets/controls",
            "_model_module_version": "1.5.0",
            "_model_name": "FloatProgressModel",
            "_view_count": null,
            "_view_module": "@jupyter-widgets/controls",
            "_view_module_version": "1.5.0",
            "_view_name": "ProgressView",
            "bar_style": "success",
            "description": "",
            "description_tooltip": null,
            "layout": "IPY_MODEL_37665b39ed5d4d2ba9508474bb7093a4",
            "max": 1175,
            "min": 0,
            "orientation": "horizontal",
            "style": "IPY_MODEL_95b1b66a1888465b9baf2cea3f2d7b65",
            "value": 1175
          }
        },
        "e6268fecda9c4c76989637284444727f": {
          "model_module": "@jupyter-widgets/controls",
          "model_module_version": "1.5.0",
          "model_name": "HTMLModel",
          "state": {
            "_dom_classes": [],
            "_model_module": "@jupyter-widgets/controls",
            "_model_module_version": "1.5.0",
            "_model_name": "HTMLModel",
            "_view_count": null,
            "_view_module": "@jupyter-widgets/controls",
            "_view_module_version": "1.5.0",
            "_view_name": "HTMLView",
            "description": "",
            "description_tooltip": null,
            "layout": "IPY_MODEL_e62703f92a0241569cb2ba6ac34614a4",
            "placeholder": "​",
            "style": "IPY_MODEL_9228693615c44771901424e1a6d84eef",
            "value": " 6024/6024 [00:56&lt;00:00, 129.47it/s]"
          }
        },
        "e62703f92a0241569cb2ba6ac34614a4": {
          "model_module": "@jupyter-widgets/base",
          "model_module_version": "1.2.0",
          "model_name": "LayoutModel",
          "state": {
            "_model_module": "@jupyter-widgets/base",
            "_model_module_version": "1.2.0",
            "_model_name": "LayoutModel",
            "_view_count": null,
            "_view_module": "@jupyter-widgets/base",
            "_view_module_version": "1.2.0",
            "_view_name": "LayoutView",
            "align_content": null,
            "align_items": null,
            "align_self": null,
            "border": null,
            "bottom": null,
            "display": null,
            "flex": null,
            "flex_flow": null,
            "grid_area": null,
            "grid_auto_columns": null,
            "grid_auto_flow": null,
            "grid_auto_rows": null,
            "grid_column": null,
            "grid_gap": null,
            "grid_row": null,
            "grid_template_areas": null,
            "grid_template_columns": null,
            "grid_template_rows": null,
            "height": null,
            "justify_content": null,
            "justify_items": null,
            "left": null,
            "margin": null,
            "max_height": null,
            "max_width": null,
            "min_height": null,
            "min_width": null,
            "object_fit": null,
            "object_position": null,
            "order": null,
            "overflow": null,
            "overflow_x": null,
            "overflow_y": null,
            "padding": null,
            "right": null,
            "top": null,
            "visibility": null,
            "width": null
          }
        },
        "e73452593014424e91257f17c248fcb8": {
          "model_module": "@jupyter-widgets/controls",
          "model_module_version": "1.5.0",
          "model_name": "FloatProgressModel",
          "state": {
            "_dom_classes": [],
            "_model_module": "@jupyter-widgets/controls",
            "_model_module_version": "1.5.0",
            "_model_name": "FloatProgressModel",
            "_view_count": null,
            "_view_module": "@jupyter-widgets/controls",
            "_view_module_version": "1.5.0",
            "_view_name": "ProgressView",
            "bar_style": "success",
            "description": "",
            "description_tooltip": null,
            "layout": "IPY_MODEL_c11c1762f1974edaac1127ec5a7f7583",
            "max": 10610,
            "min": 0,
            "orientation": "horizontal",
            "style": "IPY_MODEL_65f65093f8f743faa8fab916fb7fd882",
            "value": 10610
          }
        },
        "eb230cc8c6e24580a2f3636a1577af82": {
          "model_module": "@jupyter-widgets/controls",
          "model_module_version": "1.5.0",
          "model_name": "HTMLModel",
          "state": {
            "_dom_classes": [],
            "_model_module": "@jupyter-widgets/controls",
            "_model_module_version": "1.5.0",
            "_model_name": "HTMLModel",
            "_view_count": null,
            "_view_module": "@jupyter-widgets/controls",
            "_view_module_version": "1.5.0",
            "_view_name": "HTMLView",
            "description": "",
            "description_tooltip": null,
            "layout": "IPY_MODEL_3d649fecd315491b97ad3d8393da7874",
            "placeholder": "​",
            "style": "IPY_MODEL_55be13939ee1436c976c72fc8aeddef0",
            "value": "Downloading: 100%"
          }
        },
        "eda49769720c4d41a949e81dafc05406": {
          "model_module": "@jupyter-widgets/base",
          "model_module_version": "1.2.0",
          "model_name": "LayoutModel",
          "state": {
            "_model_module": "@jupyter-widgets/base",
            "_model_module_version": "1.2.0",
            "_model_name": "LayoutModel",
            "_view_count": null,
            "_view_module": "@jupyter-widgets/base",
            "_view_module_version": "1.2.0",
            "_view_name": "LayoutView",
            "align_content": null,
            "align_items": null,
            "align_self": null,
            "border": null,
            "bottom": null,
            "display": null,
            "flex": null,
            "flex_flow": null,
            "grid_area": null,
            "grid_auto_columns": null,
            "grid_auto_flow": null,
            "grid_auto_rows": null,
            "grid_column": null,
            "grid_gap": null,
            "grid_row": null,
            "grid_template_areas": null,
            "grid_template_columns": null,
            "grid_template_rows": null,
            "height": null,
            "justify_content": null,
            "justify_items": null,
            "left": null,
            "margin": null,
            "max_height": null,
            "max_width": null,
            "min_height": null,
            "min_width": null,
            "object_fit": null,
            "object_position": null,
            "order": null,
            "overflow": null,
            "overflow_x": null,
            "overflow_y": null,
            "padding": null,
            "right": null,
            "top": null,
            "visibility": null,
            "width": null
          }
        },
        "eff4911d40a543928412877bb7af7738": {
          "model_module": "@jupyter-widgets/base",
          "model_module_version": "1.2.0",
          "model_name": "LayoutModel",
          "state": {
            "_model_module": "@jupyter-widgets/base",
            "_model_module_version": "1.2.0",
            "_model_name": "LayoutModel",
            "_view_count": null,
            "_view_module": "@jupyter-widgets/base",
            "_view_module_version": "1.2.0",
            "_view_name": "LayoutView",
            "align_content": null,
            "align_items": null,
            "align_self": null,
            "border": null,
            "bottom": null,
            "display": null,
            "flex": null,
            "flex_flow": null,
            "grid_area": null,
            "grid_auto_columns": null,
            "grid_auto_flow": null,
            "grid_auto_rows": null,
            "grid_column": null,
            "grid_gap": null,
            "grid_row": null,
            "grid_template_areas": null,
            "grid_template_columns": null,
            "grid_template_rows": null,
            "height": null,
            "justify_content": null,
            "justify_items": null,
            "left": null,
            "margin": null,
            "max_height": null,
            "max_width": null,
            "min_height": null,
            "min_width": null,
            "object_fit": null,
            "object_position": null,
            "order": null,
            "overflow": null,
            "overflow_x": null,
            "overflow_y": null,
            "padding": null,
            "right": null,
            "top": null,
            "visibility": null,
            "width": null
          }
        },
        "f03aff72677c45eea8e672ac158325ab": {
          "model_module": "@jupyter-widgets/controls",
          "model_module_version": "1.5.0",
          "model_name": "HTMLModel",
          "state": {
            "_dom_classes": [],
            "_model_module": "@jupyter-widgets/controls",
            "_model_module_version": "1.5.0",
            "_model_name": "HTMLModel",
            "_view_count": null,
            "_view_module": "@jupyter-widgets/controls",
            "_view_module_version": "1.5.0",
            "_view_name": "HTMLView",
            "description": "",
            "description_tooltip": null,
            "layout": "IPY_MODEL_da0a6e69899b48da90c374f63be8ec43",
            "placeholder": "​",
            "style": "IPY_MODEL_3ab91bd2d4a849eea7b49d30b4a4357c",
            "value": " 116/116 [00:00&lt;00:00, 3.91kB/s]"
          }
        },
        "f0c3bb5156ba4786aa25d5b2b09f29b2": {
          "model_module": "@jupyter-widgets/controls",
          "model_module_version": "1.5.0",
          "model_name": "HTMLModel",
          "state": {
            "_dom_classes": [],
            "_model_module": "@jupyter-widgets/controls",
            "_model_module_version": "1.5.0",
            "_model_name": "HTMLModel",
            "_view_count": null,
            "_view_module": "@jupyter-widgets/controls",
            "_view_module_version": "1.5.0",
            "_view_name": "HTMLView",
            "description": "",
            "description_tooltip": null,
            "layout": "IPY_MODEL_fae05af9824b4b958e62a117caeaa91b",
            "placeholder": "​",
            "style": "IPY_MODEL_fbd1b967d43a433186311b42e1c9208e",
            "value": "Downloading: 100%"
          }
        },
        "f16b0522f3084d37b3cd80eee730ba32": {
          "model_module": "@jupyter-widgets/base",
          "model_module_version": "1.2.0",
          "model_name": "LayoutModel",
          "state": {
            "_model_module": "@jupyter-widgets/base",
            "_model_module_version": "1.2.0",
            "_model_name": "LayoutModel",
            "_view_count": null,
            "_view_module": "@jupyter-widgets/base",
            "_view_module_version": "1.2.0",
            "_view_name": "LayoutView",
            "align_content": null,
            "align_items": null,
            "align_self": null,
            "border": null,
            "bottom": null,
            "display": null,
            "flex": null,
            "flex_flow": null,
            "grid_area": null,
            "grid_auto_columns": null,
            "grid_auto_flow": null,
            "grid_auto_rows": null,
            "grid_column": null,
            "grid_gap": null,
            "grid_row": null,
            "grid_template_areas": null,
            "grid_template_columns": null,
            "grid_template_rows": null,
            "height": null,
            "justify_content": null,
            "justify_items": null,
            "left": null,
            "margin": null,
            "max_height": null,
            "max_width": null,
            "min_height": null,
            "min_width": null,
            "object_fit": null,
            "object_position": null,
            "order": null,
            "overflow": null,
            "overflow_x": null,
            "overflow_y": null,
            "padding": null,
            "right": null,
            "top": null,
            "visibility": null,
            "width": null
          }
        },
        "f2b0ba5d393047118f71bcf99419a507": {
          "model_module": "@jupyter-widgets/base",
          "model_module_version": "1.2.0",
          "model_name": "LayoutModel",
          "state": {
            "_model_module": "@jupyter-widgets/base",
            "_model_module_version": "1.2.0",
            "_model_name": "LayoutModel",
            "_view_count": null,
            "_view_module": "@jupyter-widgets/base",
            "_view_module_version": "1.2.0",
            "_view_name": "LayoutView",
            "align_content": null,
            "align_items": null,
            "align_self": null,
            "border": null,
            "bottom": null,
            "display": null,
            "flex": null,
            "flex_flow": null,
            "grid_area": null,
            "grid_auto_columns": null,
            "grid_auto_flow": null,
            "grid_auto_rows": null,
            "grid_column": null,
            "grid_gap": null,
            "grid_row": null,
            "grid_template_areas": null,
            "grid_template_columns": null,
            "grid_template_rows": null,
            "height": null,
            "justify_content": null,
            "justify_items": null,
            "left": null,
            "margin": null,
            "max_height": null,
            "max_width": null,
            "min_height": null,
            "min_width": null,
            "object_fit": null,
            "object_position": null,
            "order": null,
            "overflow": null,
            "overflow_x": null,
            "overflow_y": null,
            "padding": null,
            "right": null,
            "top": null,
            "visibility": null,
            "width": null
          }
        },
        "f46bfd4832df471cad3a0d5d8adbad4f": {
          "model_module": "@jupyter-widgets/controls",
          "model_module_version": "1.5.0",
          "model_name": "FloatProgressModel",
          "state": {
            "_dom_classes": [],
            "_model_module": "@jupyter-widgets/controls",
            "_model_module_version": "1.5.0",
            "_model_name": "FloatProgressModel",
            "_view_count": null,
            "_view_module": "@jupyter-widgets/controls",
            "_view_module_version": "1.5.0",
            "_view_name": "ProgressView",
            "bar_style": "success",
            "description": "",
            "description_tooltip": null,
            "layout": "IPY_MODEL_9437ba62596c4ec79e49093bc870cc6f",
            "max": 39265,
            "min": 0,
            "orientation": "horizontal",
            "style": "IPY_MODEL_031ca9c08d6242c8b11333a8aa85f821",
            "value": 39265
          }
        },
        "f4ba42e243c34372ad1aaa79792a25a8": {
          "model_module": "@jupyter-widgets/base",
          "model_module_version": "1.2.0",
          "model_name": "LayoutModel",
          "state": {
            "_model_module": "@jupyter-widgets/base",
            "_model_module_version": "1.2.0",
            "_model_name": "LayoutModel",
            "_view_count": null,
            "_view_module": "@jupyter-widgets/base",
            "_view_module_version": "1.2.0",
            "_view_name": "LayoutView",
            "align_content": null,
            "align_items": null,
            "align_self": null,
            "border": null,
            "bottom": null,
            "display": null,
            "flex": null,
            "flex_flow": null,
            "grid_area": null,
            "grid_auto_columns": null,
            "grid_auto_flow": null,
            "grid_auto_rows": null,
            "grid_column": null,
            "grid_gap": null,
            "grid_row": null,
            "grid_template_areas": null,
            "grid_template_columns": null,
            "grid_template_rows": null,
            "height": null,
            "justify_content": null,
            "justify_items": null,
            "left": null,
            "margin": null,
            "max_height": null,
            "max_width": null,
            "min_height": null,
            "min_width": null,
            "object_fit": null,
            "object_position": null,
            "order": null,
            "overflow": null,
            "overflow_x": null,
            "overflow_y": null,
            "padding": null,
            "right": null,
            "top": null,
            "visibility": null,
            "width": null
          }
        },
        "f808124010a14eb9afd4c206813a1630": {
          "model_module": "@jupyter-widgets/base",
          "model_module_version": "1.2.0",
          "model_name": "LayoutModel",
          "state": {
            "_model_module": "@jupyter-widgets/base",
            "_model_module_version": "1.2.0",
            "_model_name": "LayoutModel",
            "_view_count": null,
            "_view_module": "@jupyter-widgets/base",
            "_view_module_version": "1.2.0",
            "_view_name": "LayoutView",
            "align_content": null,
            "align_items": null,
            "align_self": null,
            "border": null,
            "bottom": null,
            "display": null,
            "flex": null,
            "flex_flow": null,
            "grid_area": null,
            "grid_auto_columns": null,
            "grid_auto_flow": null,
            "grid_auto_rows": null,
            "grid_column": null,
            "grid_gap": null,
            "grid_row": null,
            "grid_template_areas": null,
            "grid_template_columns": null,
            "grid_template_rows": null,
            "height": null,
            "justify_content": null,
            "justify_items": null,
            "left": null,
            "margin": null,
            "max_height": null,
            "max_width": null,
            "min_height": null,
            "min_width": null,
            "object_fit": null,
            "object_position": null,
            "order": null,
            "overflow": null,
            "overflow_x": null,
            "overflow_y": null,
            "padding": null,
            "right": null,
            "top": null,
            "visibility": null,
            "width": null
          }
        },
        "f9b551835779499fac5b8b38d5654558": {
          "model_module": "@jupyter-widgets/controls",
          "model_module_version": "1.5.0",
          "model_name": "HTMLModel",
          "state": {
            "_dom_classes": [],
            "_model_module": "@jupyter-widgets/controls",
            "_model_module_version": "1.5.0",
            "_model_name": "HTMLModel",
            "_view_count": null,
            "_view_module": "@jupyter-widgets/controls",
            "_view_module_version": "1.5.0",
            "_view_name": "HTMLView",
            "description": "",
            "description_tooltip": null,
            "layout": "IPY_MODEL_7024af0642e545259e5cab6cb524927f",
            "placeholder": "​",
            "style": "IPY_MODEL_1efd3979cbda44f493906ced332aee35",
            "value": "Batches: 100%"
          }
        },
        "f9b8f8974dba43d4a071bccc625f0bde": {
          "model_module": "@jupyter-widgets/base",
          "model_module_version": "1.2.0",
          "model_name": "LayoutModel",
          "state": {
            "_model_module": "@jupyter-widgets/base",
            "_model_module_version": "1.2.0",
            "_model_name": "LayoutModel",
            "_view_count": null,
            "_view_module": "@jupyter-widgets/base",
            "_view_module_version": "1.2.0",
            "_view_name": "LayoutView",
            "align_content": null,
            "align_items": null,
            "align_self": null,
            "border": null,
            "bottom": null,
            "display": null,
            "flex": null,
            "flex_flow": null,
            "grid_area": null,
            "grid_auto_columns": null,
            "grid_auto_flow": null,
            "grid_auto_rows": null,
            "grid_column": null,
            "grid_gap": null,
            "grid_row": null,
            "grid_template_areas": null,
            "grid_template_columns": null,
            "grid_template_rows": null,
            "height": null,
            "justify_content": null,
            "justify_items": null,
            "left": null,
            "margin": null,
            "max_height": null,
            "max_width": null,
            "min_height": null,
            "min_width": null,
            "object_fit": null,
            "object_position": null,
            "order": null,
            "overflow": null,
            "overflow_x": null,
            "overflow_y": null,
            "padding": null,
            "right": null,
            "top": null,
            "visibility": null,
            "width": null
          }
        },
        "fa05bea8a799479e86a073075d38aebb": {
          "model_module": "@jupyter-widgets/controls",
          "model_module_version": "1.5.0",
          "model_name": "ProgressStyleModel",
          "state": {
            "_model_module": "@jupyter-widgets/controls",
            "_model_module_version": "1.5.0",
            "_model_name": "ProgressStyleModel",
            "_view_count": null,
            "_view_module": "@jupyter-widgets/base",
            "_view_module_version": "1.2.0",
            "_view_name": "StyleView",
            "bar_color": null,
            "description_width": ""
          }
        },
        "fae05af9824b4b958e62a117caeaa91b": {
          "model_module": "@jupyter-widgets/base",
          "model_module_version": "1.2.0",
          "model_name": "LayoutModel",
          "state": {
            "_model_module": "@jupyter-widgets/base",
            "_model_module_version": "1.2.0",
            "_model_name": "LayoutModel",
            "_view_count": null,
            "_view_module": "@jupyter-widgets/base",
            "_view_module_version": "1.2.0",
            "_view_name": "LayoutView",
            "align_content": null,
            "align_items": null,
            "align_self": null,
            "border": null,
            "bottom": null,
            "display": null,
            "flex": null,
            "flex_flow": null,
            "grid_area": null,
            "grid_auto_columns": null,
            "grid_auto_flow": null,
            "grid_auto_rows": null,
            "grid_column": null,
            "grid_gap": null,
            "grid_row": null,
            "grid_template_areas": null,
            "grid_template_columns": null,
            "grid_template_rows": null,
            "height": null,
            "justify_content": null,
            "justify_items": null,
            "left": null,
            "margin": null,
            "max_height": null,
            "max_width": null,
            "min_height": null,
            "min_width": null,
            "object_fit": null,
            "object_position": null,
            "order": null,
            "overflow": null,
            "overflow_x": null,
            "overflow_y": null,
            "padding": null,
            "right": null,
            "top": null,
            "visibility": null,
            "width": null
          }
        },
        "fb44a9f47966490f9667b6fe3d96a8f1": {
          "model_module": "@jupyter-widgets/controls",
          "model_module_version": "1.5.0",
          "model_name": "HTMLModel",
          "state": {
            "_dom_classes": [],
            "_model_module": "@jupyter-widgets/controls",
            "_model_module_version": "1.5.0",
            "_model_name": "HTMLModel",
            "_view_count": null,
            "_view_module": "@jupyter-widgets/controls",
            "_view_module_version": "1.5.0",
            "_view_name": "HTMLView",
            "description": "",
            "description_tooltip": null,
            "layout": "IPY_MODEL_dc761798361b4034b895345a868b9881",
            "placeholder": "​",
            "style": "IPY_MODEL_c14b1ce293034b2d87375297f7140930",
            "value": "Downloading: 100%"
          }
        },
        "fbd1b967d43a433186311b42e1c9208e": {
          "model_module": "@jupyter-widgets/controls",
          "model_module_version": "1.5.0",
          "model_name": "DescriptionStyleModel",
          "state": {
            "_model_module": "@jupyter-widgets/controls",
            "_model_module_version": "1.5.0",
            "_model_name": "DescriptionStyleModel",
            "_view_count": null,
            "_view_module": "@jupyter-widgets/base",
            "_view_module_version": "1.2.0",
            "_view_name": "StyleView",
            "description_width": ""
          }
        },
        "fc31b9d179eb4871bc308708cdb44db3": {
          "model_module": "@jupyter-widgets/controls",
          "model_module_version": "1.5.0",
          "model_name": "ProgressStyleModel",
          "state": {
            "_model_module": "@jupyter-widgets/controls",
            "_model_module_version": "1.5.0",
            "_model_name": "ProgressStyleModel",
            "_view_count": null,
            "_view_module": "@jupyter-widgets/base",
            "_view_module_version": "1.2.0",
            "_view_name": "StyleView",
            "bar_color": null,
            "description_width": ""
          }
        },
        "fecf96caeec84012839adeecb0074447": {
          "model_module": "@jupyter-widgets/controls",
          "model_module_version": "1.5.0",
          "model_name": "FloatProgressModel",
          "state": {
            "_dom_classes": [],
            "_model_module": "@jupyter-widgets/controls",
            "_model_module_version": "1.5.0",
            "_model_name": "FloatProgressModel",
            "_view_count": null,
            "_view_module": "@jupyter-widgets/controls",
            "_view_module_version": "1.5.0",
            "_view_name": "ProgressView",
            "bar_style": "success",
            "description": "",
            "description_tooltip": null,
            "layout": "IPY_MODEL_33a9d6d1fd9644238e57f095f2c7c27e",
            "max": 90888945,
            "min": 0,
            "orientation": "horizontal",
            "style": "IPY_MODEL_b9da12965cc14c4898a61d91b88fec78",
            "value": 90888945
          }
        }
      }
    },
    "gpuClass": "standard"
  },
  "nbformat": 4,
  "nbformat_minor": 0
}